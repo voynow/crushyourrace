{
 "cells": [
  {
   "cell_type": "code",
   "execution_count": 1,
   "metadata": {},
   "outputs": [],
   "source": [
    "%load_ext autoreload\n",
    "%autoreload 2"
   ]
  },
  {
   "cell_type": "code",
   "execution_count": 2,
   "metadata": {},
   "outputs": [],
   "source": [
    "import os\n",
    "import json\n",
    "from pprint import pprint\n",
    "\n",
    "from src.supabase_client import get_user, list_users\n",
    "from tests.common import run_new_training_week_process_wrapped, run_mid_week_update_process_wrapped\n"
   ]
  },
  {
   "cell_type": "markdown",
   "metadata": {},
   "source": [
    "# Test: One Offs"
   ]
  },
  {
   "cell_type": "code",
   "execution_count": null,
   "metadata": {},
   "outputs": [],
   "source": [
    "# mock_user = get_user(105359460)\n",
    "# response = run_new_training_week_process_wrapped(mock_user)\n",
    "# print(response)"
   ]
  },
  {
   "cell_type": "code",
   "execution_count": null,
   "metadata": {},
   "outputs": [],
   "source": [
    "# mock_user = get_user(os.environ[\"JAMIES_ATHLETE_ID\"])\n",
    "# response = run_mid_week_update_process_wrapped(mock_user)\n",
    "# print(response)"
   ]
  },
  {
   "cell_type": "markdown",
   "metadata": {},
   "source": [
    "# Evals: New Training Week"
   ]
  },
  {
   "cell_type": "code",
   "execution_count": null,
   "metadata": {},
   "outputs": [],
   "source": [
    "path = 'tests/artifacts/new_training_week_errors'\n",
    "files = os.listdir(path)\n",
    "\n",
    "for file in sorted(files):\n",
    "    print(f\"Loading {file}\")\n",
    "    with open(os.path.join(path, file), \"r\") as f:\n",
    "        results = json.load(f)\n",
    "    print(sum(result['error'] for result in results) / len(results))"
   ]
  },
  {
   "cell_type": "code",
   "execution_count": null,
   "metadata": {},
   "outputs": [],
   "source": [
    "for result in results:\n",
    "    print(result['user']['email'])\n",
    "    print(\"target:\", result['recommended_weekly_mileage'])\n",
    "    print(\"actual:\", result['generated_weekly_mileage'])\n",
    "    print(\"error:\", result['error'])\n",
    "    print(result['planning'])\n",
    "    print(\".\" * 100)"
   ]
  },
  {
   "cell_type": "markdown",
   "metadata": {},
   "source": [
    "# Manual: New Training Week"
   ]
  },
  {
   "cell_type": "code",
   "execution_count": 13,
   "metadata": {},
   "outputs": [
    {
     "name": "stdout",
     "output_type": "stream",
     "text": [
      "voynow99@gmail.com\n",
      "athlete_id=98390356 token still valid until 2024-09-06 04:41:50+00:00\n",
      "TrainingWeekWithCoaching(typical_week_training_review=Your current training week shows a clear preference for key workouts on Wednesdays, with a moderate mileage at a pace of 9 minutes 18 seconds per mile, and long runs on Saturdays, averaging 12.65 miles at a pace of 9 minutes 31 seconds per mile. You effectively rest or have a recovery day on Sundays, and there's potential to incorporate speed work on Mondays, where you already have a moderate mileage and a slightly faster pace., weekly_mileage_target=Based on your recent training history, it seems like you've been steadily increasing your weekly mileage and long run distances. For next week, aim for a slight increase in total mileage, targeting around 46-47 miles. For your long run, focus on a range between 18-19 miles, gradually progressing from your previous long run of 18.02 miles. This slight increment will maintain your momentum while ensuring a safe and manageable increase in training volume., planning=Planning(weekly_mileage_target=47 miles, long_run_distance=18.5, remaining_weekly_mileage=47 - 18.5 = 28.5 miles, remaining_weekly_mileage_planning=With 47 miles total and an 18.5 mile long run planned for Saturday, we have 28.5 miles to distribute over the remaining 6 days: One speed workout on Wednesday: 8 miles (28.5 - 8 = 20.5 miles remaining). Two easy runs of 5 miles each on Thursday and Friday (20.5 - 10 = 10.5 miles remaining). A moderate run of 5 miles on Monday (10.5 - 5 = 5.5 miles remaining). One easy run of 3 miles on Tuesday (5.5 - 3 = 2.5 miles remaining). Two rest days on Sunday and an active rest day with 2.5 miles on those rest days (2.5 - 2.5 = 0 miles remaining).), training_week=[TrainingSession(day=<Day.MON: 'mon'>, session_type=<SessionType.MODERATE: 'moderate run'>, distance=5.0, notes='Run at a moderate pace, around 8:45 per mile'), TrainingSession(day=<Day.TUES: 'tues'>, session_type=<SessionType.EASY: 'easy run'>, distance=3.0, notes='Run at an easy pace, around 9:18 per mile'), TrainingSession(day=<Day.WED: 'wed'>, session_type=<SessionType.SPEED: 'speed workout'>, distance=8.0, notes='4x1mi @ 7:30 pace with 400m recovery jog'), TrainingSession(day=<Day.THURS: 'thurs'>, session_type=<SessionType.EASY: 'easy run'>, distance=5.0, notes='Maintain easy pace, around 9:18 per mile'), TrainingSession(day=<Day.FRI: 'fri'>, session_type=<SessionType.EASY: 'easy run'>, distance=5.0, notes='Keep the pace comfortable, around 9:18 per mile'), TrainingSession(day=<Day.SAT: 'sat'>, session_type=<SessionType.LONG: 'long run'>, distance=18.5, notes='Maintain long run pace, around 9:31 per mile'), TrainingSession(day=<Day.SUN: 'sun'>, session_type=<SessionType.REST: 'rest day'>, distance=2.5, notes='Active rest day, light jog or brisk walk')])\n"
     ]
    }
   ],
   "source": [
    "from freezegun import freeze_time\n",
    "from src.activities import get_activities_df, get_day_of_week_summaries, get_weekly_summaries\n",
    "from src.auth_manager import get_strava_client\n",
    "from src.constants import COACH_ROLE\n",
    "from src.new_training_week import generate_training_week_with_coaching\n",
    "from src.supabase_client import list_users\n",
    "\n",
    "@freeze_time(\"2024-09-01\")\n",
    "def gen_training_week_wrapper(sysmsg_base, strava_client):\n",
    "    activities_df = get_activities_df(strava_client)\n",
    "    day_of_week_summaries = get_day_of_week_summaries(activities_df)\n",
    "    weekly_summaries = get_weekly_summaries(activities_df)\n",
    "    return generate_training_week_with_coaching(\n",
    "        sysmsg_base=sysmsg_base,\n",
    "        weekly_summaries=weekly_summaries,\n",
    "        day_of_week_summaries=day_of_week_summaries,\n",
    "    )\n",
    "\n",
    "# \"voynow99@gmail.com\", \"jaredpalek8@gmail.com\", \"laurenbrooks01@gmail.com\", \"raytrip.curtis@gmail.com\"\n",
    "for user in list_users():\n",
    "    if user.email == \"voynow99@gmail.com\":\n",
    "        print(user.email)\n",
    "        sysmsg_base = f\"{COACH_ROLE}\\nYour client has included the following preferences: {user.preferences}\\n\"\n",
    "        strava_client = get_strava_client(user.athlete_id)\n",
    "        training_week_with_coaching = gen_training_week_wrapper(sysmsg_base, strava_client)\n",
    "        print(training_week_with_coaching)\n",
    "        break"
   ]
  },
  {
   "cell_type": "code",
   "execution_count": 14,
   "metadata": {},
   "outputs": [
    {
     "name": "stdout",
     "output_type": "stream",
     "text": [
      "47.0\n",
      "Based on your recent training history, it seems like you've been steadily increasing your weekly mileage and long run distances. For next week, aim for a slight increase in total mileage, targeting around 46-47 miles. For your long run, focus on a range between 18-19 miles, gradually progressing from your previous long run of 18.02 miles. This slight increment will maintain your momentum while ensuring a safe and manageable increase in training volume.\n"
     ]
    },
    {
     "data": {
      "text/plain": [
       "[TrainingSession(day=<Day.MON: 'mon'>, session_type=<SessionType.MODERATE: 'moderate run'>, distance=5.0, notes='Run at a moderate pace, around 8:45 per mile'),\n",
       " TrainingSession(day=<Day.TUES: 'tues'>, session_type=<SessionType.EASY: 'easy run'>, distance=3.0, notes='Run at an easy pace, around 9:18 per mile'),\n",
       " TrainingSession(day=<Day.WED: 'wed'>, session_type=<SessionType.SPEED: 'speed workout'>, distance=8.0, notes='4x1mi @ 7:30 pace with 400m recovery jog'),\n",
       " TrainingSession(day=<Day.THURS: 'thurs'>, session_type=<SessionType.EASY: 'easy run'>, distance=5.0, notes='Maintain easy pace, around 9:18 per mile'),\n",
       " TrainingSession(day=<Day.FRI: 'fri'>, session_type=<SessionType.EASY: 'easy run'>, distance=5.0, notes='Keep the pace comfortable, around 9:18 per mile'),\n",
       " TrainingSession(day=<Day.SAT: 'sat'>, session_type=<SessionType.LONG: 'long run'>, distance=18.5, notes='Maintain long run pace, around 9:31 per mile'),\n",
       " TrainingSession(day=<Day.SUN: 'sun'>, session_type=<SessionType.REST: 'rest day'>, distance=2.5, notes='Active rest day, light jog or brisk walk')]"
      ]
     },
     "execution_count": 14,
     "metadata": {},
     "output_type": "execute_result"
    }
   ],
   "source": [
    "print(training_week_with_coaching.total_weekly_mileage)\n",
    "print(training_week_with_coaching.weekly_mileage_target)\n",
    "training_week_with_coaching.training_week"
   ]
  },
  {
   "cell_type": "code",
   "execution_count": 15,
   "metadata": {},
   "outputs": [
    {
     "data": {
      "text/plain": [
       "APIResponse(data=[{'id': 73, 'athlete_id': 98390356, 'training_week': '[{\"day\": \"mon\", \"session_type\": \"moderate run\", \"distance\": 5.0, \"notes\": \"Run at a moderate pace, around 8:45 per mile\"}, {\"day\": \"tues\", \"session_type\": \"easy run\", \"distance\": 3.0, \"notes\": \"Run at an easy pace, around 9:18 per mile\"}, {\"day\": \"wed\", \"session_type\": \"speed workout\", \"distance\": 8.0, \"notes\": \"4x1mi @ 7:30 pace with 400m recovery jog\"}, {\"day\": \"thurs\", \"session_type\": \"easy run\", \"distance\": 5.0, \"notes\": \"Maintain easy pace, around 9:18 per mile\"}, {\"day\": \"fri\", \"session_type\": \"easy run\", \"distance\": 5.0, \"notes\": \"Keep the pace comfortable, around 9:18 per mile\"}, {\"day\": \"sat\", \"session_type\": \"long run\", \"distance\": 18.5, \"notes\": \"Maintain long run pace, around 9:31 per mile\"}, {\"day\": \"sun\", \"session_type\": \"rest day\", \"distance\": 2.5, \"notes\": \"Active rest day, light jog or brisk walk\"}]', 'typical_week_training_review': \"Your current training week shows a clear preference for key workouts on Wednesdays, with a moderate mileage at a pace of 9 minutes 18 seconds per mile, and long runs on Saturdays, averaging 12.65 miles at a pace of 9 minutes 31 seconds per mile. You effectively rest or have a recovery day on Sundays, and there's potential to incorporate speed work on Mondays, where you already have a moderate mileage and a slightly faster pace.\", 'weekly_mileage_target': \"Based on your recent training history, it seems like you've been steadily increasing your weekly mileage and long run distances. For next week, aim for a slight increase in total mileage, targeting around 46-47 miles. For your long run, focus on a range between 18-19 miles, gradually progressing from your previous long run of 18.02 miles. This slight increment will maintain your momentum while ensuring a safe and manageable increase in training volume.\", 'created_at': '2024-09-05T22:43:40.239066+00:00', 'planning': 'Planning(weekly_mileage_target=47 miles, long_run_distance=18.5, remaining_weekly_mileage=47 - 18.5 = 28.5 miles, remaining_weekly_mileage_planning=With 47 miles total and an 18.5 mile long run planned for Saturday, we have 28.5 miles to distribute over the remaining 6 days: One speed workout on Wednesday: 8 miles (28.5 - 8 = 20.5 miles remaining). Two easy runs of 5 miles each on Thursday and Friday (20.5 - 10 = 10.5 miles remaining). A moderate run of 5 miles on Monday (10.5 - 5 = 5.5 miles remaining). One easy run of 3 miles on Tuesday (5.5 - 3 = 2.5 miles remaining). Two rest days on Sunday and an active rest day with 2.5 miles on those rest days (2.5 - 2.5 = 0 miles remaining).)'}], count=None)"
      ]
     },
     "execution_count": 15,
     "metadata": {},
     "output_type": "execute_result"
    }
   ],
   "source": [
    "# from src.supabase_client import upsert_training_week_with_coaching\n",
    "\n",
    "# upsert_training_week_with_coaching(user.athlete_id, training_week_with_coaching)"
   ]
  },
  {
   "cell_type": "code",
   "execution_count": null,
   "metadata": {},
   "outputs": [],
   "source": [
    "# from src.email_manager import new_training_week_to_html, send_email\n",
    "# from src.lambda_function import get_athlete_full_name\n",
    "\n",
    "\n",
    "# send_email(\n",
    "#     to={\"email\": user.email, \"name\": get_athlete_full_name(strava_client)},\n",
    "#     subject=\"🏃‍♂️🎯 Just Fixed Your Jawn 🫡\",\n",
    "#     html_content=new_training_week_to_html(training_week_with_coaching),\n",
    "# )"
   ]
  },
  {
   "cell_type": "code",
   "execution_count": null,
   "metadata": {},
   "outputs": [],
   "source": []
  }
 ],
 "metadata": {
  "kernelspec": {
   "display_name": ".venv",
   "language": "python",
   "name": "python3"
  },
  "language_info": {
   "codemirror_mode": {
    "name": "ipython",
    "version": 3
   },
   "file_extension": ".py",
   "mimetype": "text/x-python",
   "name": "python",
   "nbconvert_exporter": "python",
   "pygments_lexer": "ipython3",
   "version": "3.11.9"
  }
 },
 "nbformat": 4,
 "nbformat_minor": 2
}
