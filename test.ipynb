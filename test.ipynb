{
 "cells": [
  {
   "cell_type": "code",
   "execution_count": 2,
   "metadata": {},
   "outputs": [],
   "source": [
    "%load_ext autoreload\n",
    "%autoreload 2"
   ]
  },
  {
   "cell_type": "code",
   "execution_count": 3,
   "metadata": {},
   "outputs": [],
   "source": [
    "import os\n",
    "import json\n",
    "from pprint import pprint\n",
    "\n",
    "from src.supabase_client import get_user\n",
    "from tests.common import run_new_training_week_process_wrapped, run_mid_week_update_process_wrapped\n"
   ]
  },
  {
   "cell_type": "markdown",
   "metadata": {},
   "source": [
    "# Test with Jamie"
   ]
  },
  {
   "cell_type": "code",
   "execution_count": 5,
   "metadata": {},
   "outputs": [
    {
     "name": "stdout",
     "output_type": "stream",
     "text": [
      "athlete_id=98390356 token still valid until 2024-08-30 23:49:42+00:00\n",
      "athlete_id=98390356 token still valid until 2024-08-30 23:49:42+00:00\n",
      "TrainingWeekWithCoaching(typical_week_training_review=Your current training schedule effectively incorporates long runs on Saturdays, which aligns well with your stated preference. Wednesdays appear to be ideal for your workouts as you log higher mileage with a pace of 9m 20s per mile, suggesting potential for speed work on this day. Your lighter runs and potential rest days could be on Sundays, allowing for recovery post long runs., weekly_mileage_target=For the upcoming week, let's aim for a target weekly mileage of around 47 miles. Your longest run should range between 16 to 17 miles, ensuring a gradual increase without overexertion. Over recent weeks, you've successfully handled increasing mileage and can now focus on building endurance for your next marathon. Be attentive to your body's feedback, especially since you've had a consistent training routine., planning=Planning(weekly_mileage_target=47 miles, long_run_distance=17.0, remaining_weekly_mileage=47 - 17 = 30 miles, remaining_weekly_mileage_planning=We have 30 miles left for the week after accounting for the long run of 17 miles. Here's a possible distribution: \n",
      "- Monday (Easy Run): 5 miles at an easy pace to start the week on a lighter note, helping with recovery from the weekend long run.\n",
      "- Tuesday (Rest Day): No running, allowing muscles to recover and adapt.\n",
      "- Wednesday (Speed Workout): 8 miles, including 2 miles warm-up, then 3x1 mile repeats at 10k pace with 400m recovery jogs, then 2 miles cooldown. This adds volume and builds speed endurance.\n",
      "- Thursday (Moderate Run): 6 miles at a steady, moderate pace to balance intensity and mileage.\n",
      "- Friday (Easy Run): 5 miles easy to keep the legs fresh for the long run.\n",
      "- Saturday (Long Run): 17 miles at a long run pace, focusing on endurance and sustaining a slow, steady effort.\n",
      "- Sunday (Rest Day): Complete rest or a very easy jogging recovery of choice for 1-2 miles at a conversational pace.), training_week=[TrainingSession(day=<Day.MON: 'mon'>, session_type=<SessionType.EASY: 'easy run'>, distance=5.0, notes='Easy pace'), TrainingSession(day=<Day.TUES: 'tues'>, session_type=<SessionType.REST: 'rest day'>, distance=0.0, notes='Rest'), TrainingSession(day=<Day.WED: 'wed'>, session_type=<SessionType.SPEED: 'speed workout'>, distance=8.0, notes='2 miles warm-up, 3x1 mile @ 10k pace with 400m recovery jogs, 2 miles cooldown'), TrainingSession(day=<Day.THURS: 'thurs'>, session_type=<SessionType.MODERATE: 'moderate run'>, distance=6.0, notes='Moderate pace'), TrainingSession(day=<Day.FRI: 'fri'>, session_type=<SessionType.EASY: 'easy run'>, distance=5.0, notes='Easy pace'), TrainingSession(day=<Day.SAT: 'sat'>, session_type=<SessionType.LONG: 'long run'>, distance=17.0, notes='Long run pace'), TrainingSession(day=<Day.SUN: 'sun'>, session_type=<SessionType.REST: 'rest day'>, distance=0.0, notes='Rest or very easy jogging recovery')])\n"
     ]
    }
   ],
   "source": [
    "mock_user = get_user(os.environ[\"JAMIES_ATHLETE_ID\"])\n",
    "response = run_new_training_week_process_wrapped(mock_user)\n",
    "print(response)"
   ]
  },
  {
   "cell_type": "code",
   "execution_count": 4,
   "metadata": {},
   "outputs": [
    {
     "name": "stdout",
     "output_type": "stream",
     "text": [
      "athlete_id=98390356 token still valid until 2024-08-30 23:49:42+00:00\n",
      "athlete_id=98390356 token still valid until 2024-08-30 23:49:42+00:00\n",
      "TrainingWeekWithPlanning(planning=Planning(weekly_mileage_target=47.0, long_run_distance=16.0, remaining_weekly_mileage=47.0 - 10.04 = 36.96, remaining_weekly_mileage_planning=To achieve a total of 36.96 miles remaining for this week, while keeping the long run at 16.0 miles, we'll adjust the rest of the week's schedule: \n",
      "\n",
      "- Wednesday (Speed workout): Keep the planned 7.0 miles. \n",
      "- Thursday (Easy run): We'll adjust this to 4.0 miles for better mileage distribution. \n",
      "- Friday (Moderate run): Reduce from 6.0 to 5.0 miles to adjust total mileage.\n",
      "- Saturday (Long run): Keep as planned at 16.0 miles. \n",
      "- Sunday (Easy run): Change this from 4.0 miles to 4.96 miles to reach the exact mileage target. \n",
      "\n",
      "Calculating total adjusted mileage: 7.0 (Wed) + 4.0 (Thu) + 5.0 (Fri) + 16.0 (Sat) + 4.96 (Sun) = 36.96 miles, precisely matching the required mileage.), training_week=[TrainingSession(day=<Day.WED: 'wed'>, session_type=<SessionType.SPEED: 'speed workout'>, distance=7.0, notes='Warm-up 1 mile, 4x800m at 8:00 min/mile pace with 400m rest, cool-down 1 mile'), TrainingSession(day=<Day.THURS: 'thurs'>, session_type=<SessionType.EASY: 'easy run'>, distance=4.0, notes='Run at an easy pace for recovery'), TrainingSession(day=<Day.FRI: 'fri'>, session_type=<SessionType.MODERATE: 'moderate run'>, distance=5.0, notes='Include some pickups, holding a moderate pace of around 9:00 min/mile'), TrainingSession(day=<Day.SAT: 'sat'>, session_type=<SessionType.LONG: 'long run'>, distance=16.0, notes='Long run at a conversational pace, around 9:20 min/mile'), TrainingSession(day=<Day.SUN: 'sun'>, session_type=<SessionType.EASY: 'easy run'>, distance=4.96, notes=\"Recovery run to aid in recovery after yesterday's long run\")])\n"
     ]
    }
   ],
   "source": [
    "mock_user = get_user(os.environ[\"JAMIES_ATHLETE_ID\"])\n",
    "response = run_mid_week_update_process_wrapped(mock_user)\n",
    "print(response)"
   ]
  },
  {
   "cell_type": "code",
   "execution_count": 6,
   "metadata": {},
   "outputs": [
    {
     "name": "stdout",
     "output_type": "stream",
     "text": [
      "athlete_id=98390356 token still valid until 2024-08-30 23:49:42+00:00\n"
     ]
    }
   ],
   "source": [
    "from src.activities import get_activity_summaries\n",
    "from src.auth_manager import get_strava_client\n",
    "from src.constants import COACH_ROLE\n",
    "from src.supabase_client import get_training_week_with_coaching\n",
    "from src.training_week_update import get_updated_training_week\n",
    "from src.types.mid_week_analysis import MidWeekAnalysis\n",
    "\n",
    "\n",
    "user = get_user(os.environ[\"JAMIES_ATHLETE_ID\"])\n",
    "\n",
    "sysmsg_base = f\"{COACH_ROLE}\\nYour client has included the following preferences: {user.preferences}\\n\"\n",
    "strava_client = get_strava_client(user.athlete_id)\n",
    "\n",
    "training_week_with_coaching = get_training_week_with_coaching(user.athlete_id)\n",
    "current_weeks_activity_summaries = get_activity_summaries(\n",
    "    strava_client, num_weeks=1\n",
    ")\n",
    "mid_week_analysis = MidWeekAnalysis(\n",
    "    activities=current_weeks_activity_summaries,\n",
    "    training_week=training_week_with_coaching.training_week,\n",
    ")\n",
    "training_week_update_with_planning = get_updated_training_week(\n",
    "    sysmsg_base=sysmsg_base, mid_week_analysis=mid_week_analysis\n",
    ")"
   ]
  },
  {
   "cell_type": "code",
   "execution_count": 15,
   "metadata": {},
   "outputs": [
    {
     "data": {
      "text/plain": [
       "nan"
      ]
     },
     "execution_count": 15,
     "metadata": {},
     "output_type": "execute_result"
    }
   ],
   "source": [
    "mid_week_analysis.activities[0].pace_minutes_per_mile\n",
    "# Training week accuracy"
   ]
  },
  {
   "cell_type": "markdown",
   "metadata": {},
   "source": [
    "# Training week accuracy"
   ]
  },
  {
   "cell_type": "code",
   "execution_count": 24,
   "metadata": {},
   "outputs": [
    {
     "name": "stdout",
     "output_type": "stream",
     "text": [
      "Loading 2024-08-28_16-47-43.json\n",
      "1.97\n",
      "Loading 2024-08-28_17-27-11.json\n",
      "1.95\n",
      "Loading 2024-08-28_17-41-17.json\n",
      "1.95\n",
      "Loading 2024-08-29_17-37-07.json\n",
      "0.75\n",
      "Loading 2024-08-29_17-45-21.json\n",
      "0.95\n",
      "Loading 2024-08-29_17-54-20.json\n",
      "0.425\n",
      "Loading 2024-08-29_18-09-32.json\n",
      "0.475\n",
      "Loading 2024-08-30_17-57-20.json\n",
      "0.85\n",
      "Loading 2024-08-30_18-17-10.json\n",
      "0.7885\n",
      "Loading 2024-08-30_18-28-10.json\n",
      "0.6125\n",
      "Loading 2024-08-30_19-16-03.json\n",
      "0.34550000000000003\n",
      "Loading 2024-08-30_19-21-24.json\n",
      "0.2\n",
      "Loading 2024-08-30_19-34-15.json\n",
      "0.6\n",
      "Loading 2024-08-30_19-42-10.json\n",
      "0.4\n",
      "Loading 2024-08-30_19-48-21.json\n",
      "0.4\n"
     ]
    }
   ],
   "source": [
    "path = 'tests/artifacts/new_training_week_errors'\n",
    "files = os.listdir(path)\n",
    "\n",
    "for file in sorted(files):\n",
    "    print(f\"Loading {file}\")\n",
    "    with open(os.path.join(path, file), \"r\") as f:\n",
    "        results = json.load(f)\n",
    "    print(sum(result['error'] for result in results) / len(results))"
   ]
  },
  {
   "cell_type": "code",
   "execution_count": 25,
   "metadata": {},
   "outputs": [
    {
     "name": "stdout",
     "output_type": "stream",
     "text": [
      "rlefkee00@gmail.com\n",
      "target: 30-32\n",
      "actual: 32.0\n",
      "error: 0.0\n",
      "Planning(weekly_mileage_target=30-32 miles, long_run_distance=15.0, remaining_weekly_mileage=32 - 15 = 17 miles or 30 - 15 = 15 miles, remaining_weekly_mileage_planning=To distribute the remaining 17 miles over the 6 other days, let's plan as follows: Two days with easy 5 mile runs (17 - 10 = 7 miles remaining). One moderate run of 5 miles (7 - 5 = 2 miles remaining). One day with a short 2-mile recovery run (2 - 2 = 0 miles remaining). Plus 2 rest days.)\n",
      "....................................................................................................\n",
      "voynow99@gmail.com\n",
      "target: 47-48\n",
      "actual: 47.0\n",
      "error: 0.0\n",
      "Planning(weekly_mileage_target=47-48 miles, long_run_distance=17.0, remaining_weekly_mileage=47 - 17 = 30 miles, remaining_weekly_mileage_planning=To distribute 30 miles over the remaining 6 days: One session of 8 miles (30 - 8 = 22 miles remaining). One session of 7 miles (22 - 7 = 15 miles remaining). One session of 6 miles (15 - 6 = 9 miles remaining). One session of 5 miles (9 - 5 = 4 miles remaining). One session of 4 miles (4 - 4 = 0 miles remaining). Plus 1 rest day.)\n",
      "....................................................................................................\n",
      "bconnolly04@gmail.com\n",
      "target: 17 miles\n",
      "actual: 17.0\n",
      "error: 0.0\n",
      "Planning(weekly_mileage_target=17 miles, long_run_distance=13.5, remaining_weekly_mileage=17 - 13.5 = 3.5 miles remaining, remaining_weekly_mileage_planning=With 3.5 miles remaining for the week after a 13.5-mile long run, let's distribute the remaining miles as follows: One session of 2 miles on Tuesday (3.5 - 2 = 1.5 miles remaining) and one session of 1.5 miles on Wednesday (1.5 - 1.5 = 0 miles remaining). Include rest days on Thursday and Friday.)\n",
      "....................................................................................................\n",
      "rachel.decker122@gmail.com\n",
      "target: 25-26 miles\n",
      "actual: 25.0\n",
      "error: 0.0\n",
      "Planning(weekly_mileage_target=25-26 miles, long_run_distance=12.0, remaining_weekly_mileage=25 - 12 = 13 miles remaining, remaining_weekly_mileage_planning=With 13 miles remaining after the 12-mile long run on Saturday, let's distribute them throughout the weekdays: Two sessions of 3 miles (13 - 6 = 7 miles remaining). Two sessions of 2.5 miles (7 - 5 = 2 miles remaining). One session of 2 miles (2 - 2 = 0 miles remaining). This distribution also allows for speed workout integration.)\n",
      "....................................................................................................\n",
      "rlefkee00@gmail.com\n",
      "target: 30-32\n",
      "actual: 30.0\n",
      "error: 0.0\n",
      "Planning(weekly_mileage_target=30-32 miles, long_run_distance=15.0, remaining_weekly_mileage=30 - 15 = 15 miles, remaining_weekly_mileage_planning=Starting with 30 miles total, after removing the 15 mile long run on Saturday, 15 miles remain for the other 6 days. We can distribute this as follows: Monday - 3 miles (15 - 3 = 12 miles remaining), Tuesday - 4 miles (12 - 4 = 8 miles remaining), Wednesday - rest day, Thursday - 5 miles (8 - 5 = 3 miles remaining), which will be a speed workout, Friday - 3 miles (3 - 3 = 0 miles remaining), and Sunday - rest or active recovery.)\n",
      "....................................................................................................\n",
      "rlefkee00@gmail.com\n",
      "target: 28-30 miles\n",
      "actual: 28.0\n",
      "error: 0.0\n",
      "Planning(weekly_mileage_target=28-30 miles, long_run_distance=12.0, remaining_weekly_mileage=28 - 12 = 16 miles, remaining_weekly_mileage_planning=To distribute 16 miles over the remaining 6 days: A speed workout of 5 miles on Tuesday (16 - 5 = 11 miles remaining). Two easy runs of 4 miles each on Monday and Thursday (11 - 8 = 3 miles remaining). A moderate run of 3 miles on Friday (3 - 3 = 0 miles remaining). Rest days on Wednesday and Sunday.)\n",
      "....................................................................................................\n",
      "jaredpalek8@gmail.com\n",
      "target: 26-28 miles\n",
      "actual: 27.0\n",
      "error: 0.0\n",
      "Planning(weekly_mileage_target=27 miles, long_run_distance=17.0, remaining_weekly_mileage=27 - 17 = 10 miles remaining, remaining_weekly_mileage_planning=With 10 miles remaining, let's spread it out over 6 days: Monday (5 miles), Wednesday (3 miles), Friday (2 miles), with Tuesday, Thursday, and Sunday as rest days. This provides a good balance between running and recovery throughout the week.)\n",
      "....................................................................................................\n",
      "jaredpalek8@gmail.com\n",
      "target: 28-30 miles\n",
      "actual: 28.0\n",
      "error: 0.0\n",
      "Planning(weekly_mileage_target=28-30 miles, long_run_distance=17.0, remaining_weekly_mileage=28 - 17 = 11 miles remaining, remaining_weekly_mileage_planning=Starting with a target of 28 miles for the week and subtracting the 17 miles for the long run, we have 11 miles remaining. With 6 other days, a practical distribution could be: Two sessions of 4 miles each (8 miles total), leaving 3 miles. One easy 3-mile run. Plus 3 rest days.)\n",
      "....................................................................................................\n",
      "jaredpalek8@gmail.com\n",
      "target: 28-30 miles\n",
      "actual: 28.0\n",
      "error: 0.0\n",
      "Planning(weekly_mileage_target=28-30 miles, long_run_distance=17.0, remaining_weekly_mileage=28-17 = 11 miles, remaining_weekly_mileage_planning=Given 28 miles total target - 17 mile long run = 11 miles remaining. Let's distribute 11 miles over the remaining 6 days: One session of 5 miles on Monday (11 - 5 = 6 miles remaining). Two sessions of 3 miles each on Tuesday and Thursday (6 - 6 = 0 miles remaining). With Wednesday as a speed workout day without extra distance and two rest days on Friday and Sunday.)\n",
      "....................................................................................................\n",
      "bconnolly04@gmail.com\n",
      "target: 17-18\n",
      "actual: 17.0\n",
      "error: 0.0\n",
      "Planning(weekly_mileage_target=17-18 miles, long_run_distance=13.0, remaining_weekly_mileage=17 - 13 = 4 miles remaining for the week, remaining_weekly_mileage_planning=With 4 miles remaining after the long run, distribute as follows: A 2 mile easy run on Tuesday, and a 2 mile easy run on Wednesday. The remaining days will be rest or light activity days to ensure recovery. Additional cross-training or a light jog can be included as active recovery on Sunday to maintain activity without adding too much stress.)\n",
      "....................................................................................................\n",
      "bconnolly04@gmail.com\n",
      "target: 17 to 18 miles\n",
      "actual: 20.5\n",
      "error: 2.5\n",
      "Planning(weekly_mileage_target=17 to 18 miles, long_run_distance=13.0, remaining_weekly_mileage=18 - 13 = 5 miles, remaining_weekly_mileage_planning=With 5 miles remaining, let's plan the rest of the week. We'll do a 3-mile run on Wednesday (5 - 3 = 2 miles remaining). Then a 2-mile easy run on Tuesday (2 - 2 = 0 miles remaining). Monday, Thursday, and Friday will be rest days. Sunday will include a speed workout with 2.5 miles at varying paces to improve speed.)\n",
      "....................................................................................................\n",
      "bconnolly04@gmail.com\n",
      "target: 17-18\n",
      "actual: 17.5\n",
      "error: 0.0\n",
      "Planning(weekly_mileage_target=17-18 miles, long_run_distance=12.5, remaining_weekly_mileage=17.5 - 12.5 = 5 miles, remaining_weekly_mileage_planning=To distribute the remaining 5 miles over the week, we will plan one short session of 3 miles on Tuesday and another shorter session of 2 miles on Thursday, leaving Monday, Friday, and Sunday as rest days.)\n",
      "....................................................................................................\n",
      "voynow99@gmail.com\n",
      "target: 46-47 miles\n",
      "actual: 46.0\n",
      "error: 0.0\n",
      "Planning(weekly_mileage_target=46 miles, long_run_distance=17.0, remaining_weekly_mileage=46 - 17 = 29 miles, remaining_weekly_mileage_planning=Distribute 29 miles over the remaining 6 days: Wednesday: 8 miles (29 - 8 = 21 miles remaining). Thursday: 6 miles (21 - 6 = 15 miles remaining). Friday: 6 miles (15 - 6 = 9 miles remaining). Monday: 7 miles (9 - 7 = 2 miles remaining). Tuesday: 2 miles (2 - 2 = 0 miles remaining). Sunday: Rest day. This includes 3 workouts and 2 rest days.)\n",
      "....................................................................................................\n",
      "rachel.decker122@gmail.com\n",
      "target: 25-26 miles\n",
      "actual: 25.0\n",
      "error: 0.0\n",
      "Planning(weekly_mileage_target=25-26 miles, long_run_distance=13.0, remaining_weekly_mileage=25 - 13 = 12 miles or 26 - 13 = 13 miles, remaining_weekly_mileage_planning=With a target of 26 miles and a 13-mile long run, 13 miles remain for the week. We will divide this into 4 short weekday runs: One session of 4 miles (13 - 4 = 9 miles remaining), two sessions of 3 miles each (9 - 6 = 3 miles remaining), and one session of 2 miles (3 - 2 = 0 miles remaining). With Sunday as a rest day, this distributes the mileage evenly and allows for recovery.)\n",
      "....................................................................................................\n",
      "voynow99@gmail.com\n",
      "target: 46-47 miles\n",
      "actual: 47.0\n",
      "error: 0.0\n",
      "Planning(weekly_mileage_target=46-47 miles, long_run_distance=16.0, remaining_weekly_mileage=47 - 16 = 31 miles remaining, remaining_weekly_mileage_planning=Given a weekly mileage target of 47 miles and a long run of 16 miles, we have 31 miles remaining to distribute over the remaining 6 days. Let's distribute this mileage: Wednesday is a key workout day with a speed workout of 8 miles (31 - 8 = 23 miles remaining). Monday will be an easy 5 miles (23 - 5 = 18 miles remaining). Tuesday will have a moderate 6-mile run (18 - 6 = 12 miles remaining). Thursday will include an easy 5-mile run (12 - 5 = 7 miles remaining). Friday will include a moderate 4-mile run (7 - 4 = 3 miles remaining). Finally, a short 3-mile recovery run will be done on Sunday (3 - 3 = 0 miles remaining). This plan includes 1 rest day.)\n",
      "....................................................................................................\n",
      "voynow99@gmail.com\n",
      "target: 46-48\n",
      "actual: 42.0\n",
      "error: 4.0\n",
      "Planning(weekly_mileage_target=46-48 miles, long_run_distance=17.0, remaining_weekly_mileage=46-17 = 29; 48-17 = 31 miles, remaining_weekly_mileage_planning=Given a range of 46-48 miles total with a 17 mile long run, we have 29-31 miles remaining for the week. Distribute this remaining mileage over the remaining 6 days: One speed workout session of 7 miles on Wednesday (31 - 7 = 24). Two easy runs of 5 miles each (24 - 10 = 14 miles remaining), one moderate run of 5 miles (14 - 5 = 9 miles remaining), one easy run of 4 miles (9 - 4 = 5 miles remaining), and one easy run of 4 miles (5 - 4 = 1 mile remaining). Plus 1 rest day on Sunday.)\n",
      "....................................................................................................\n",
      "rachel.decker122@gmail.com\n",
      "target: 24-26 miles\n",
      "actual: 24.0\n",
      "error: 0.0\n",
      "Planning(weekly_mileage_target=24-26 miles, long_run_distance=11.0, remaining_weekly_mileage=24-11 = 13 miles, remaining_weekly_mileage_planning=Given a target of 24 miles and a long run of 11 miles, we have 13 miles remaining for Monday to Friday. Let's distribute these 13 miles evenly: Monday: 3 miles easy run (13 - 3 = 10 miles remaining), Tuesday: 3 miles easy run (10 - 3 = 7 miles remaining), Wednesday: 3 miles easy run (7 - 3 = 4 miles remaining), Thursday: 3 miles with speed workout (4 - 3 = 1 mile remaining), and rest on Friday (1 mile that we can allocate as a short cooldown jog).)\n",
      "....................................................................................................\n",
      "rachel.decker122@gmail.com\n",
      "target: 26-28 miles\n",
      "actual: 28.0\n",
      "error: 0.0\n",
      "Planning(weekly_mileage_target=28 miles, long_run_distance=14.0, remaining_weekly_mileage=28 - 14 = 14 miles, remaining_weekly_mileage_planning=With 14 miles allocated for the long run, we have 14 miles remaining. Distribute these over 4 running days (Monday to Thursday) since Friday can be a rest or light recovery day. Aim for sessions like: two runs of 4 miles each on Monday and Tuesday (14 - 8 = 6 miles remaining), one session of 3 miles on Wednesday (6 - 3 = 3 miles remaining), and one session of 3 miles on Thursday (3 - 3 = 0 miles remaining). Friday could focus on flexibility and light strength, and Sunday remains a rest day.)\n",
      "....................................................................................................\n",
      "rlefkee00@gmail.com\n",
      "target: 28-30\n",
      "actual: 28.0\n",
      "error: 0.0\n",
      "Planning(weekly_mileage_target=28-30 miles, long_run_distance=14.0, remaining_weekly_mileage=28 - 14 = 14 miles, remaining_weekly_mileage_planning=With 28 miles total and a 14 mile long run, we have 14 miles remaining. Let's distribute these 14 miles over the remaining 6 days: One session of 5 miles (14 - 5 = 9 miles remaining). One session of 4 miles (9 - 4 = 5 miles remaining). One session of 3 miles (5 - 3 = 2 miles remaining). One session of 2 miles (2 - 2 = 0 miles remaining). Plus 2 rest days.)\n",
      "....................................................................................................\n",
      "bconnolly04@gmail.com\n",
      "target: 17-18 miles\n",
      "actual: 19.5\n",
      "error: 1.5\n",
      "Planning(weekly_mileage_target=17-18 miles, long_run_distance=13.5, remaining_weekly_mileage=17 - 13.5 = 3.5 miles or 18 - 13.5 = 4.5 miles, remaining_weekly_mileage_planning=The long run is set for Saturday with a distance of up to 13.5 miles. For the remaining days, distribute 3.5 to 4.5 miles as follows: On Tuesday, conduct a speed workout session of 1.5 miles (start with a warm-up, 4x400m at 5k pace, with recoveries), leaving 2-3 miles. On Wednesday, have an easy run of 2 miles if targeting 17 miles in total weekly mileage, or 3 miles if targeting 18 miles. Monday and Thursday are rest days to allow for recovery. A moderate run of 2 miles can be scheduled for Sunday to complete the mileage. Saturday's long run caps the week.)\n",
      "....................................................................................................\n"
     ]
    }
   ],
   "source": [
    "for result in results:\n",
    "    print(result['user']['email'])\n",
    "    print(\"target:\", result['recommended_weekly_mileage'])\n",
    "    print(\"actual:\", result['generated_weekly_mileage'])\n",
    "    print(\"error:\", result['error'])\n",
    "    print(result['planning'])\n",
    "    print(\".\" * 100)"
   ]
  },
  {
   "cell_type": "code",
   "execution_count": null,
   "metadata": {},
   "outputs": [],
   "source": []
  }
 ],
 "metadata": {
  "kernelspec": {
   "display_name": ".venv",
   "language": "python",
   "name": "python3"
  },
  "language_info": {
   "codemirror_mode": {
    "name": "ipython",
    "version": 3
   },
   "file_extension": ".py",
   "mimetype": "text/x-python",
   "name": "python",
   "nbconvert_exporter": "python",
   "pygments_lexer": "ipython3",
   "version": "3.12.3"
  }
 },
 "nbformat": 4,
 "nbformat_minor": 2
}
