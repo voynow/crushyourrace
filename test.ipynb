{
 "cells": [
  {
   "cell_type": "code",
   "execution_count": 1,
   "metadata": {},
   "outputs": [],
   "source": [
    "%load_ext autoreload\n",
    "%autoreload 2"
   ]
  },
  {
   "cell_type": "code",
   "execution_count": 2,
   "metadata": {},
   "outputs": [],
   "source": [
    "import os\n",
    "\n",
    "from src.supabase_client import get_user\n",
    "from tests.common import run_new_training_week_process_wrapped, run_mid_week_update_process_wrapped\n"
   ]
  },
  {
   "cell_type": "markdown",
   "metadata": {},
   "source": [
    "# Test with Jamie"
   ]
  },
  {
   "cell_type": "code",
   "execution_count": 7,
   "metadata": {},
   "outputs": [
    {
     "name": "stdout",
     "output_type": "stream",
     "text": [
      "athlete_id=98390356 token still valid until 2024-08-28 20:18:36+00:00\n",
      "athlete_id=98390356 token still valid until 2024-08-28 20:18:36+00:00\n",
      "TrainingWeekWithCoaching(typical_week_training_review=Your current training schedule shows a preference for workouts on Wednesdays and long runs on Saturdays, aligning well with your goals. You typically include rest or lighter running days on Sundays and incorporate moderate pacing throughout the week. To enhance marathon preparation, incorporating specific speed work on Wednesdays and ensuring a consistent long run on Saturdays will be beneficial., weekly_mileage_target=For Week 35, let's aim to slightly increase your mileage while still maintaining a conservative approach to ensure you're building safely. Target a total weekly mileage of around 46-47 miles, with your long run being approximately 16.5-17 miles. This progression aligns closely with your recent training pattern, allowing for a small but manageable increase that should keep you on track and help avoid injuries. Make sure to listen to your body and adjust as needed to stay healthy and strong on your journey to the marathon., planning=To create a balanced training plan for the week, we need to distribute the 46-47 miles over the days while focusing on a long run of 16.5-17 miles on Saturday and a speed workout on Wednesday. We will have the following breakdown: Monday is an easy run day to recover from the weekend's long run; Tuesday will be a moderate run; Wednesday is the primary workout day with speed work; Thursday will be an easy run to recover from the workout; Friday is another easy run to allow for recovery before the long run; Saturday will be the long run of 16.5-17 miles; finally, Sunday will be a rest day. Let's allocate: Monday - 5 miles easy, Tuesday - 7 miles moderate, Wednesday - 8 miles speed workout, Thursday - 5 miles easy, Friday - 4 miles easy, Saturday - 17 miles long run, and Sunday - rest day. This distribution gives us exactly 46 miles, meeting the target range. Wednesday's workout will focus on marathon pace and tempo intervals., training_week=[TrainingSession(day=<Day.MON: 'mon'>, session_type=<SessionType.EASY: 'easy run'>, distance=5.0, notes=\"Run at an easy pace to recover from the previous week's work.\"), TrainingSession(day=<Day.TUES: 'tues'>, session_type=<SessionType.MODERATE: 'moderate run'>, distance=7.0, notes='Moderate pacing throughout the run, slightly faster than easy pace.'), TrainingSession(day=<Day.WED: 'wed'>, session_type=<SessionType.SPEED: 'speed workout'>, distance=8.0, notes='Include tempo intervals: 2 miles warm-up, 3x1.5 miles at marathon pace with 0.5-mile recovery, 2 miles cool-down.'), TrainingSession(day=<Day.THURS: 'thurs'>, session_type=<SessionType.EASY: 'easy run'>, distance=5.0, notes='Run at an easy pace to recover from the speed workout.'), TrainingSession(day=<Day.FRI: 'fri'>, session_type=<SessionType.EASY: 'easy run'>, distance=4.0, notes='Easy pace to prepare for the long run.'), TrainingSession(day=<Day.SAT: 'sat'>, session_type=<SessionType.LONG: 'long run'>, distance=17.0, notes='Steady long run at an easy to moderate pace, maintain hydration and nutrition.'), TrainingSession(day=<Day.SUN: 'sun'>, session_type=<SessionType.REST: 'rest day'>, distance=0.0, notes='Complete rest day for recovery.')])\n"
     ]
    }
   ],
   "source": [
    "mock_user = get_user(os.environ[\"JAMIES_ATHLETE_ID\"])\n",
    "response = run_new_training_week_process_wrapped(mock_user)\n",
    "print(response)"
   ]
  },
  {
   "cell_type": "code",
   "execution_count": 8,
   "metadata": {},
   "outputs": [
    {
     "name": "stdout",
     "output_type": "stream",
     "text": [
      "athlete_id=98390356 token still valid until 2024-08-28 20:18:36+00:00\n",
      "athlete_id=98390356 token still valid until 2024-08-28 20:18:36+00:00\n",
      "TrainingWeekWithPlanning(planning=The target for the week is to run a total of 46.0 miles. The client has already run 10.04 miles, leaving 35.96 miles to cover. The current plan adds up to 34.0 miles, which means we need to add 1.96 miles to the plan. There are five sessions left: a speed workout on Wednesday, a rest day on Thursday, an easy run on Friday, a long run on Saturday, and an easy run on Sunday. The rest day on Thursday does not contribute mileage. To distribute the extra mileage, we can slightly extend the length of the Friday easy run and the Sunday easy run, as the client may prefer not to add to the speed workout or long run. Currently, the Friday run is planned at 5.0 miles and the Sunday run at 4.0 miles. We will add 1.0 mile to the Friday run and 0.96 miles to the Sunday run. The adjusted plan is as follows: Wednesday speed workout at 8.0 miles remains unchanged; Thursday rest day; Friday easy run increased to 6.0 miles; Saturday long run remains at 17.0 miles; Sunday easy run increased to 4.96 miles. This adjustment brings the total planned mileage to exactly 35.96 miles., training_week=[TrainingSession(day=<Day.WED: 'wed'>, session_type=<SessionType.SPEED: 'speed workout'>, distance=8.0, notes='5x1 mile repeats at 9:20 pace with 1-mile warm-up and cool-down.'), TrainingSession(day=<Day.THURS: 'thurs'>, session_type=<SessionType.REST: 'rest day'>, distance=0.0, notes='Full rest to recover and prepare for the remainder of the training week.'), TrainingSession(day=<Day.FRI: 'fri'>, session_type=<SessionType.EASY: 'easy run'>, distance=6.0, notes='Easy pace to keep legs fresh.'), TrainingSession(day=<Day.SAT: 'sat'>, session_type=<SessionType.LONG: 'long run'>, distance=17.0, notes='Long endurance run, keep a steady pace. Hydrate well.'), TrainingSession(day=<Day.SUN: 'sun'>, session_type=<SessionType.EASY: 'easy run'>, distance=4.96, notes='Recovery pace, relax and enjoy the run.')])\n"
     ]
    }
   ],
   "source": [
    "mock_user = get_user(os.environ[\"JAMIES_ATHLETE_ID\"])\n",
    "response = run_mid_week_update_process_wrapped(mock_user)\n",
    "print(response)"
   ]
  },
  {
   "cell_type": "code",
   "execution_count": null,
   "metadata": {},
   "outputs": [],
   "source": []
  }
 ],
 "metadata": {
  "kernelspec": {
   "display_name": ".venv",
   "language": "python",
   "name": "python3"
  },
  "language_info": {
   "codemirror_mode": {
    "name": "ipython",
    "version": 3
   },
   "file_extension": ".py",
   "mimetype": "text/x-python",
   "name": "python",
   "nbconvert_exporter": "python",
   "pygments_lexer": "ipython3",
   "version": "3.12.3"
  }
 },
 "nbformat": 4,
 "nbformat_minor": 2
}
