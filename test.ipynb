{
 "cells": [
  {
   "cell_type": "code",
   "execution_count": 1,
   "metadata": {},
   "outputs": [],
   "source": [
    "%load_ext autoreload\n",
    "%autoreload 2"
   ]
  },
  {
   "cell_type": "code",
   "execution_count": 2,
   "metadata": {},
   "outputs": [],
   "source": [
    "import os\n",
    "\n",
    "from src.activities import get_activities_df, get_day_of_week_summaries, get_weekly_summaries\n",
    "from src.auth_manager import get_strava_client\n",
    "from src.training_week import generate_training_week"
   ]
  },
  {
   "cell_type": "code",
   "execution_count": 3,
   "metadata": {},
   "outputs": [
    {
     "name": "stderr",
     "output_type": "stream",
     "text": [
      "No rates present in response headers\n"
     ]
    },
    {
     "name": "stdout",
     "output_type": "stream",
     "text": [
      "athlete_id='98390356' token expired at 2024-08-04 23:01:46.253697+00:00, refreshing token...\n"
     ]
    }
   ],
   "source": [
    "athlete_id = os.environ[\"JAMIES_ATHLETE_ID\"]\n",
    "strava_client = get_strava_client(athlete_id)\n",
    "activities_df = get_activities_df(strava_client)"
   ]
  },
  {
   "cell_type": "code",
   "execution_count": 10,
   "metadata": {},
   "outputs": [],
   "source": [
    "day_of_week_summaries = get_day_of_week_summaries(activities_df)\n",
    "weekly_summaries = get_weekly_summaries(activities_df)"
   ]
  },
  {
   "cell_type": "code",
   "execution_count": 17,
   "metadata": {},
   "outputs": [
    {
     "data": {
      "text/plain": [
       "mon: rest day, 0.0 miles, Rest day to recover from the previous week's load. Optional light stretching or yoga.\n",
       "tues: easy run, 5.5 miles, Keep the pace conversational. Focus on maintaining a relaxed form.\n",
       "wed: speed workout, 6.0 miles, Include intervals like 6x800m at 5K pace with 400m jog recoveries. Warm-up and cool-down for 1 mile each.\n",
       "thurs: moderate run, 5.0 miles, Run at a steady pace, slightly faster than an easy run but still comfortable.\n",
       "fri: rest day, 0.0 miles, Rest day to ensure recovery. Focus on hydration and nutrition.\n",
       "sat: moderate run, 8.5 miles, Slightly longer moderate run. Maintain a consistent pace throughout.\n",
       "sun: long run, 12.0 miles, Long, slow distance run. Aim for a pace that is sustainable for the entire distance."
      ]
     },
     "execution_count": 17,
     "metadata": {},
     "output_type": "execute_result"
    }
   ],
   "source": [
    "training_week = generate_training_week(weekly_summaries, day_of_week_summaries)\n",
    "training_week"
   ]
  },
  {
   "cell_type": "code",
   "execution_count": 33,
   "metadata": {},
   "outputs": [],
   "source": [
    "import sib_api_v3_sdk\n",
    "from dotenv import load_dotenv\n",
    "load_dotenv()\n",
    "\n",
    "configuration = sib_api_v3_sdk.Configuration()\n",
    "configuration.api_key['api-key'] = os.environ[\"EMAIL_API_KEY\"]\n",
    "\n",
    "\n",
    "api_instance = sib_api_v3_sdk.TransactionalEmailsApi(sib_api_v3_sdk.ApiClient(configuration))\n",
    "subject = \"Its bed time!\"\n",
    "html_content = \"<html><body><h1>Goodnight!</h1></body></html>\"\n",
    "sender = {\"name\":\"Jamie Voynow\",\"email\":\"voynow99@gmail.com\"}\n",
    "to = [{\"email\":\"Rachel.decker122@gmail.com\",\"name\":\"Rachel Decker\"}]\n",
    "send_smtp_email = sib_api_v3_sdk.SendSmtpEmail(to=to, html_content=html_content, sender=sender, subject=subject)\n",
    "api_response = api_instance.send_transac_email(send_smtp_email)"
   ]
  },
  {
   "cell_type": "code",
   "execution_count": null,
   "metadata": {},
   "outputs": [],
   "source": []
  }
 ],
 "metadata": {
  "kernelspec": {
   "display_name": ".venv",
   "language": "python",
   "name": "python3"
  },
  "language_info": {
   "codemirror_mode": {
    "name": "ipython",
    "version": 3
   },
   "file_extension": ".py",
   "mimetype": "text/x-python",
   "name": "python",
   "nbconvert_exporter": "python",
   "pygments_lexer": "ipython3",
   "version": "3.12.3"
  }
 },
 "nbformat": 4,
 "nbformat_minor": 2
}
