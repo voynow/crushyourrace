{
 "cells": [
  {
   "cell_type": "code",
   "execution_count": null,
   "metadata": {},
   "outputs": [],
   "source": [
    "%load_ext autoreload\n",
    "%autoreload 2"
   ]
  },
  {
   "cell_type": "code",
   "execution_count": null,
   "metadata": {},
   "outputs": [],
   "source": [
    "import os\n",
    "import json\n",
    "from pprint import pprint\n",
    "\n",
    "from src.supabase_client import get_user\n",
    "from tests.test_full_week import walk_through_week\n"
   ]
  },
  {
   "cell_type": "markdown",
   "metadata": {},
   "source": [
    "# Test: Full Week"
   ]
  },
  {
   "cell_type": "code",
   "execution_count": null,
   "metadata": {},
   "outputs": [],
   "source": [
    "# mock_user = get_user(os.environ[\"JAREDS_ATHLETE_ID\"])\n",
    "# response = walk_through_week(mock_user, \"2024-09-01\")\n",
    "\n",
    "# for training_week in response:\n",
    "#     print(training_week.total_mileage)"
   ]
  },
  {
   "cell_type": "markdown",
   "metadata": {},
   "source": [
    "# Test: One Off"
   ]
  },
  {
   "cell_type": "code",
   "execution_count": null,
   "metadata": {},
   "outputs": [],
   "source": [
    "# from src.daily_pipeline import new_training_week_pipeline, mid_week_update_pipeline\n",
    "# from tests.test_full_week import gen_helper\n",
    "\n",
    "# mock_user = get_user(os.environ[\"JAMIES_ATHLETE_ID\"])\n",
    "# response = gen_helper(\n",
    "#     mock_user=mock_user,\n",
    "#     date_str=\"2024-09-09\",\n",
    "#     func=mid_week_update_pipeline,\n",
    "# )\n",
    "# pprint(response.sessions)"
   ]
  },
  {
   "cell_type": "markdown",
   "metadata": {},
   "source": [
    "# Evals: New Training Week"
   ]
  },
  {
   "cell_type": "code",
   "execution_count": null,
   "metadata": {},
   "outputs": [],
   "source": [
    "# path = 'tests/artifacts/new_training_week_errors'\n",
    "# files = os.listdir(path)\n",
    "\n",
    "# for file in sorted(files):\n",
    "#     print(f\"Loading {file}\")\n",
    "#     with open(os.path.join(path, file), \"r\") as f:\n",
    "#         results = json.load(f)\n",
    "#     print(sum(result['error'] for result in results) / len(results))"
   ]
  },
  {
   "cell_type": "code",
   "execution_count": null,
   "metadata": {},
   "outputs": [],
   "source": [
    "# for result in results:\n",
    "#     print(result['user']['email'])\n",
    "#     print(\"target:\", result['recommended_weekly_mileage'])\n",
    "#     print(\"actual:\", result['generated_weekly_mileage'])\n",
    "#     print(\"error:\", result['error'])\n",
    "#     print(\".\" * 100)"
   ]
  },
  {
   "cell_type": "markdown",
   "metadata": {},
   "source": [
    "# Analytics"
   ]
  },
  {
   "cell_type": "code",
   "execution_count": null,
   "metadata": {},
   "outputs": [],
   "source": [
    "# from src.supabase_client import list_users, get_training_week\n",
    "\n",
    "# for user in list_users():\n",
    "#     training_week = get_training_week(user.athlete_id)\n",
    "#     print(user.email)\n",
    "#     for session in training_week.sessions:\n",
    "#         print(session)\n",
    "#     print(training_week.total_mileage)\n",
    "#     print(\"-\" * 100)"
   ]
  },
  {
   "cell_type": "markdown",
   "metadata": {},
   "source": [
    "# Manual New Training Week"
   ]
  },
  {
   "cell_type": "code",
   "execution_count": null,
   "metadata": {},
   "outputs": [],
   "source": [
    "# from src.activities import get_activities_df, get_day_of_week_summaries, get_weekly_summaries\n",
    "# from src.auth_manager import get_strava_client\n",
    "# from src.constants import COACH_ROLE\n",
    "# from src.new_training_week import generate_new_training_week\n",
    "# import os\n",
    "\n",
    "# strava_client = get_strava_client(os.environ[\"DANNYS_ATHLETE_ID\"])\n",
    "# sysmsg_base = f\"{COACH_ROLE}\\nYour client has included the following preferences: {user.preferences} (required: half marathon on Monday and long run of 20 miles on Saturday, this is peak week)\\n\"\n",
    "# activities_df = get_activities_df(strava_client)\n",
    "# day_of_week_summaries = get_day_of_week_summaries(activities_df)\n",
    "# weekly_summaries = get_weekly_summaries(activities_df)\n",
    "# response = generate_new_training_week(\n",
    "#     sysmsg_base=sysmsg_base,\n",
    "#     weekly_summaries=weekly_summaries,\n",
    "#     day_of_week_summaries=day_of_week_summaries,\n",
    "# )"
   ]
  },
  {
   "cell_type": "code",
   "execution_count": null,
   "metadata": {},
   "outputs": [],
   "source": [
    "# from src.supabase_client import upsert_training_week\n",
    "\n",
    "\n",
    "# upsert_training_week(os.environ[\"DANNYS_ATHLETE_ID\"], response)"
   ]
  },
  {
   "cell_type": "code",
   "execution_count": 23,
   "metadata": {},
   "outputs": [
    {
     "name": "stdout",
     "output_type": "stream",
     "text": [
      "firstname: Jamie\n",
      "lastname: Voynow\n",
      "email: voynow99@gmail.com\n",
      "preferences: Training for a marathon, prefer workouts on wed and long runs on sat\n",
      "profile: https://dgalywyr863hv.cloudfront.net/pictures/athletes/98390356/23289449/16/large.jpg\n",
      "is_active: True\n"
     ]
    }
   ],
   "source": [
    "from src.auth_manager import get_strava_client\n",
    "from src.supabase_client import get_user\n",
    "\n",
    "user = get_user(98390356)\n",
    "athlete = get_strava_client(98390356).get_athlete()\n",
    "\n",
    "print(\"firstname:\", athlete.firstname)\n",
    "print(\"lastname:\", athlete.lastname)\n",
    "print(\"email:\", user.email)\n",
    "print(\"preferences:\", user.preferences)\n",
    "print(\"profile:\", athlete.profile)\n",
    "print(\"is_active:\", user.is_active)\n",
    "\n"
   ]
  },
  {
   "cell_type": "code",
   "execution_count": 16,
   "metadata": {},
   "outputs": [
    {
     "name": "stdout",
     "output_type": "stream",
     "text": [
      "Jamie\n",
      "Voynow\n",
      "https://dgalywyr863hv.cloudfront.net/pictures/athletes/98390356/23289449/16/large.jpg\n"
     ]
    }
   ],
   "source": []
  },
  {
   "cell_type": "code",
   "execution_count": null,
   "metadata": {},
   "outputs": [],
   "source": []
  }
 ],
 "metadata": {
  "kernelspec": {
   "display_name": ".venv",
   "language": "python",
   "name": "python3"
  },
  "language_info": {
   "codemirror_mode": {
    "name": "ipython",
    "version": 3
   },
   "file_extension": ".py",
   "mimetype": "text/x-python",
   "name": "python",
   "nbconvert_exporter": "python",
   "pygments_lexer": "ipython3",
   "version": "3.11.9"
  }
 },
 "nbformat": 4,
 "nbformat_minor": 2
}
