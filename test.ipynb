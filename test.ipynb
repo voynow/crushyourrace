{
 "cells": [
  {
   "cell_type": "code",
   "execution_count": 1,
   "metadata": {},
   "outputs": [],
   "source": [
    "%load_ext autoreload\n",
    "%autoreload 2"
   ]
  },
  {
   "cell_type": "code",
   "execution_count": 92,
   "metadata": {},
   "outputs": [],
   "source": [
    "import os\n",
    "from datetime import datetime\n",
    "\n",
    "import polars as pl\n",
    "from freezegun import freeze_time\n",
    "\n",
    "from src.activities import (\n",
    "    get_activities_df,\n",
    "    get_day_of_week_summaries,\n",
    "    get_weekly_summaries,\n",
    ")\n",
    "from pydantic import BaseModel\n",
    "from src.constants import COACH_ROLE\n",
    "from typing import List\n",
    "from src.auth_manager import get_strava_client\n",
    "from src.email_manager import send_email, training_week_to_html\n",
    "from src.supabase_client import upsert_training_week_with_coaching, get_training_week_with_coaching\n",
    "from src.training_week_generation.training_week import generate_training_week\n",
    "from src.types.training_week import TrainingSession"
   ]
  },
  {
   "cell_type": "markdown",
   "metadata": {},
   "source": [
    "# Sunday Night Training Week Message"
   ]
  },
  {
   "cell_type": "code",
   "execution_count": 62,
   "metadata": {},
   "outputs": [
    {
     "name": "stdout",
     "output_type": "stream",
     "text": [
      "athlete_id='98390356' token still valid until 2024-08-17 05:16:28+00:00\n"
     ]
    },
    {
     "data": {
      "text/plain": [
       "{'message_id': '<202408162339.82734117080@smtp-relay.mailin.fr>',\n",
       " 'message_ids': None}"
      ]
     },
     "execution_count": 62,
     "metadata": {},
     "output_type": "execute_result"
    }
   ],
   "source": [
    "@freeze_time(\"2024-08-11 20:00:00\")\n",
    "def get_activities_df_wrapper(strava_client):\n",
    "    return get_activities_df(strava_client)\n",
    "\n",
    "client_preferences = \"A) Training for a marathon B) This will be my second marathon C) Prefer workouts on Wednesdays and long runs on Saturdays\"\n",
    "sysmsg_base = f\"{COACH_ROLE}\\nYour client has included the following preferenced: {client_preferences}\\n\"\n",
    "\n",
    "# activities setup\n",
    "athlete_id = os.environ[\"JAMIES_ATHLETE_ID\"]\n",
    "strava_client = get_strava_client(athlete_id)\n",
    "activities_df = get_activities_df_wrapper(strava_client)\n",
    "\n",
    "# gen training week pipeline\n",
    "day_of_week_summaries = get_day_of_week_summaries(activities_df)\n",
    "weekly_summaries = get_weekly_summaries(activities_df)\n",
    "training_week_with_coaching = generate_training_week(\n",
    "    sysmsg_base=sysmsg_base,\n",
    "    weekly_summaries=weekly_summaries,\n",
    "    day_of_week_summaries=day_of_week_summaries,\n",
    ")\n",
    "\n",
    "# save data to db and trigger email\n",
    "upsert_training_week_with_coaching(\n",
    "    athlete_id=athlete_id, training_week_with_coaching=training_week_with_coaching\n",
    ")\n",
    "send_email(\n",
    "    subject=\"Training Schedule Just Dropped 🏃\",\n",
    "    html_content=training_week_to_html(training_week_with_coaching),\n",
    ")"
   ]
  },
  {
   "cell_type": "markdown",
   "metadata": {},
   "source": [
    "# Mid-Week Update"
   ]
  },
  {
   "cell_type": "code",
   "execution_count": 59,
   "metadata": {},
   "outputs": [],
   "source": [
    "@freeze_time(\"2024-08-13 20:00:00\")\n",
    "def mock_get_activities_df(strava_client, num_weeks=8):\n",
    "    return get_activities_df(strava_client, num_weeks)\n",
    "\n",
    "\n",
    "@freeze_time(\"2024-08-13 20:00:00\")\n",
    "def mock_time_now():\n",
    "    return datetime.now()\n",
    "\n",
    "\n",
    "def get_day_of_week():\n",
    "    return mock_time_now().strftime(\"%A\")\n",
    "\n",
    "\n",
    "def get_weekday_num():\n",
    "    return mock_time_now().weekday()\n",
    "\n",
    "\n",
    "class ActivitySummary(BaseModel):\n",
    "    date_and_time: str\n",
    "    \"\"\"Datetime formatted as 'Monday, August 13, 2024 08:00 PM'\"\"\"\n",
    "\n",
    "    distance_in_miles: float\n",
    "    elevation_gain_in_feet: float\n",
    "    pace_minutes_per_mile: float\n",
    "\n",
    "\n",
    "def get_activity_summaries(strava_client, num_weeks=8) -> pl.DataFrame:\n",
    "    df = mock_get_activities_df(strava_client, num_weeks)\n",
    "    concise_activities_df = df.with_columns(\n",
    "        pl.col('start_date_local').apply(lambda x: x.strftime(\"%A, %B %d, %Y %I:%M %p\")).alias('date_and_time'),\n",
    "        pl.col('distance_in_miles').apply(lambda x: round(x, 2)),\n",
    "        pl.col('elevation_gain_in_feet').apply(lambda x: round(x, 2)),\n",
    "        pl.col('pace_minutes_per_mile').apply(lambda x: round(x, 2)),\n",
    "    ).drop('id', 'name', 'day_of_week', 'week_of_year', 'year', 'moving_time_in_minutes', 'start_date_local')    \n",
    "    return [ActivitySummary(**row) for row in concise_activities_df.rows(named=True)]"
   ]
  },
  {
   "cell_type": "code",
   "execution_count": 47,
   "metadata": {},
   "outputs": [
    {
     "name": "stdout",
     "output_type": "stream",
     "text": [
      "athlete_id='98390356' token still valid until 2024-08-17 22:38:15+00:00\n"
     ]
    }
   ],
   "source": [
    "athlete_id = os.environ[\"JAMIES_ATHLETE_ID\"]\n",
    "strava_client = get_strava_client(athlete_id)\n",
    "training_week_with_coaching = get_training_week_with_coaching(athlete_id)\n",
    "activities = get_activity_summaries(strava_client, num_weeks=1)"
   ]
  },
  {
   "cell_type": "code",
   "execution_count": 77,
   "metadata": {},
   "outputs": [],
   "source": [
    "\n",
    "class MidWeekAnalysis(BaseModel):\n",
    "    activities: list[ActivitySummary]\n",
    "    training_week: List[TrainingSession]\n",
    "    \n",
    "    @property\n",
    "    def training_week_future(self):\n",
    "        return self.training_week[get_weekday_num() + 1:]\n",
    "    \n",
    "    @property\n",
    "    def miles_ran(self):\n",
    "        return sum(activity.distance_in_miles for activity in self.activities)\n",
    "    \n",
    "    @property\n",
    "    def miles_target(self):\n",
    "        return sum(session.distance for session in self.training_week)\n",
    "    \n",
    "    @property\n",
    "    def miles_remaining(self):\n",
    "        return self.miles_target - self.miles_ran\n",
    "    \n",
    "    @property\n",
    "    def future_miles_planned(self):\n",
    "        return sum(session.distance for session in self.training_week_future)"
   ]
  },
  {
   "cell_type": "code",
   "execution_count": 80,
   "metadata": {},
   "outputs": [],
   "source": [
    "mid_week_analysis = MidWeekAnalysis(activities=activities, training_week=training_week_with_coaching.training_week)"
   ]
  },
  {
   "cell_type": "code",
   "execution_count": 94,
   "metadata": {},
   "outputs": [],
   "source": [
    "from src.llm import get_completion_json\n",
    "from src.types.training_week import TrainingWeekWithPlanning\n",
    "\n",
    "client_preferences = \"A) Training for a marathon B) This will be my second marathon C) Prefer workouts on Wednesdays and long runs on Saturdays\"\n",
    "sysmsg_base = f\"{COACH_ROLE}\\nYour client has included the following preferenced: {client_preferences}\\n\"\n",
    "\n",
    "msg = sysmsg_base + f\"\"\"\\nThe original plan for this week targeted {mid_week_analysis.miles_target} miles. Your client has run {mid_week_analysis.miles_ran} miles so far (and they have {mid_week_analysis.miles_remaining} miles left to run this week), but the plan for the rest of the week includes {mid_week_analysis.future_miles_planned} miles. Adjust the plan accordingly given the following information:\n",
    "\n",
    "Here is your client's progress so far this week:\n",
    "{mid_week_analysis.activities}\n",
    "\n",
    "Here is the plan for the rest of the week:\n",
    "{mid_week_analysis.training_week_future}\n",
    "\n",
    "What changes need to be made so that your client runs {mid_week_analysis.miles_remaining} more miles this week?\"\"\"\n",
    "\n",
    "response = get_completion_json(\n",
    "        message=msg,\n",
    "        response_model=TrainingWeekWithPlanning,\n",
    "    )"
   ]
  },
  {
   "cell_type": "code",
   "execution_count": null,
   "metadata": {},
   "outputs": [],
   "source": []
  }
 ],
 "metadata": {
  "kernelspec": {
   "display_name": ".venv",
   "language": "python",
   "name": "python3"
  },
  "language_info": {
   "codemirror_mode": {
    "name": "ipython",
    "version": 3
   },
   "file_extension": ".py",
   "mimetype": "text/x-python",
   "name": "python",
   "nbconvert_exporter": "python",
   "pygments_lexer": "ipython3",
   "version": "3.12.3"
  }
 },
 "nbformat": 4,
 "nbformat_minor": 2
}
