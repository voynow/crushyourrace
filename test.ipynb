{
 "cells": [
  {
   "cell_type": "code",
   "execution_count": 1,
   "metadata": {},
   "outputs": [],
   "source": [
    "%load_ext autoreload\n",
    "%autoreload 2"
   ]
  },
  {
   "cell_type": "code",
   "execution_count": 2,
   "metadata": {},
   "outputs": [],
   "source": [
    "import os\n",
    "import json\n",
    "from pprint import pprint\n",
    "\n",
    "from src.supabase_client import get_user\n",
    "from tests.test_full_week import walk_through_week\n"
   ]
  },
  {
   "cell_type": "markdown",
   "metadata": {},
   "source": [
    "# Test: Full Week"
   ]
  },
  {
   "cell_type": "code",
   "execution_count": null,
   "metadata": {},
   "outputs": [],
   "source": [
    "# mock_user = get_user(os.environ[\"JAREDS_ATHLETE_ID\"])\n",
    "# response = walk_through_week(mock_user, \"2024-09-01\")\n",
    "\n",
    "# for training_week in response:\n",
    "#     print(training_week.total_mileage)"
   ]
  },
  {
   "cell_type": "markdown",
   "metadata": {},
   "source": [
    "# Test: One Off"
   ]
  },
  {
   "cell_type": "code",
   "execution_count": 3,
   "metadata": {},
   "outputs": [
    {
     "name": "stdout",
     "output_type": "stream",
     "text": [
      "2024 - Week 29: 20.05 miles, longest run: 8.0 miles\n",
      "2024 - Week 30: 32.48 miles, longest run: 13.25 miles\n",
      "2024 - Week 31: 35.65 miles, longest run: 13.54 miles\n",
      "2024 - Week 32: 39.32 miles, longest run: 15.7 miles\n",
      "2024 - Week 33: 40.86 miles, longest run: 17.01 miles\n",
      "2024 - Week 34: 40.23 miles, longest run: 13.19 miles\n",
      "2024 - Week 35: 35.29 miles, longest run: 13.11 miles\n",
      "2024 - Week 36: 26.1 miles, longest run: 13.48 miles\n",
      "Based on your recent training trends, it seems you've been building a solid mileage base, peaking at 40.86 miles with a longest run of 17.01 miles in Week 33. The last three weeks have seen a reduction in both total mileage and long run distance, likely indicating a taper or recovery phase. For next week, aim to increase your weekly mileage back towards 38-42 miles, focusing on rebuilding without overstraining. Target a long run of 15-17 miles to resume your endurance build-up in preparation for the marathon, aligning with speed workouts on Wednesday to maintain balanced training.\n",
      "Gen week attempt 1/3: total_mileage=45.0, weekly_mileage_target=40.0, difference=5.0\n",
      "Gen week attempt 2/3: total_mileage=42.0, weekly_mileage_target=40.0, difference=2.0\n",
      "TrainingWeek(sessions=[TrainingSession(day=<Day.MON: 'mon'>, session_type=<SessionType.LONG: 'long run'>, distance=10.0, notes='Start the week with a solid long run, focus on endurance.', completed=False), TrainingSession(day=<Day.TUES: 'tues'>, session_type=<SessionType.EASY: 'easy run'>, distance=6.5, notes='Recovery run at an easy pace, stay relaxed.', completed=False), TrainingSession(day=<Day.WED: 'wed'>, session_type=<SessionType.SPEED: 'speed workout'>, distance=6.5, notes='Speed intervals: 4x1 mile @ 8m 45s with 400m recovery jogs.', completed=False), TrainingSession(day=<Day.THURS: 'thurs'>, session_type=<SessionType.MODERATE: 'moderate run'>, distance=7.0, notes='Moderate pace, maintain a steady effort.', completed=False), TrainingSession(day=<Day.FRI: 'fri'>, session_type=<SessionType.REST: 'rest day'>, distance=0.0, notes='Rest and recover, allow your body to rebuild.', completed=False), TrainingSession(day=<Day.SAT: 'sat'>, session_type=<SessionType.LONG: 'long run'>, distance=10.0, notes='Gradual increase in long run distance for endurance.', completed=False), TrainingSession(day=<Day.SUN: 'sun'>, session_type=<SessionType.REST: 'rest day'>, distance=0.0, notes='Complete rest, perhaps some light stretching.', completed=False)])\n"
     ]
    }
   ],
   "source": [
    "from src.daily_pipeline import new_training_week_pipeline\n",
    "from tests.test_full_week import gen_helper\n",
    "\n",
    "mock_user = get_user(os.environ[\"DANNYS_ATHLETE_ID\"])\n",
    "response = gen_helper(\n",
    "    mock_user=mock_user,\n",
    "    date_str=\"2024-09-08\",\n",
    "    func=new_training_week_pipeline,\n",
    ")\n",
    "pprint(response)"
   ]
  },
  {
   "cell_type": "markdown",
   "metadata": {},
   "source": [
    "# Evals: New Training Week"
   ]
  },
  {
   "cell_type": "code",
   "execution_count": 232,
   "metadata": {},
   "outputs": [
    {
     "name": "stdout",
     "output_type": "stream",
     "text": [
      "Loading 2024-09-08_15-32-51.json\n",
      "1.225\n",
      "Loading 2024-09-08_16-12-51.json\n",
      "1.1666666666666667\n",
      "Loading 2024-09-08_16-23-43.json\n",
      "0.8333333333333334\n",
      "Loading 2024-09-08_16-28-42.json\n",
      "2.6666666666666665\n",
      "Loading 2024-09-08_16-45-52.json\n",
      "0.0\n",
      "Loading 2024-09-08_16-51-42.json\n",
      "1.3\n",
      "Loading 2024-09-08_16-59-33.json\n",
      "1.9299999999999997\n",
      "Loading 2024-09-08_17-08-48.json\n",
      "0.25\n",
      "Loading 2024-09-08_17-27-39.json\n",
      "2.375\n",
      "Loading 2024-09-08_17-35-56.json\n",
      "0.7\n"
     ]
    }
   ],
   "source": [
    "path = 'tests/artifacts/new_training_week_errors'\n",
    "files = os.listdir(path)\n",
    "\n",
    "for file in sorted(files):\n",
    "    print(f\"Loading {file}\")\n",
    "    with open(os.path.join(path, file), \"r\") as f:\n",
    "        results = json.load(f)\n",
    "    print(sum(result['error'] for result in results) / len(results))"
   ]
  },
  {
   "cell_type": "code",
   "execution_count": 233,
   "metadata": {},
   "outputs": [
    {
     "name": "stdout",
     "output_type": "stream",
     "text": [
      "rlefkee00@gmail.com\n",
      "target: 29.0\n",
      "actual: 32.5\n",
      "error: 3.5\n",
      "....................................................................................................\n",
      "bconnolly04@gmail.com\n",
      "target: 9.0\n",
      "actual: 9.0\n",
      "error: 0.0\n",
      "....................................................................................................\n",
      "jaredpalek8@gmail.com\n",
      "target: 29.0\n",
      "actual: 29.0\n",
      "error: 0.0\n",
      "....................................................................................................\n",
      "samikhan56@gmail.com\n",
      "target: 4.0\n",
      "actual: 4.0\n",
      "error: 0.0\n",
      "....................................................................................................\n",
      "rachel.decker122@gmail.com\n",
      "target: 26.0\n",
      "actual: 26.0\n",
      "error: 0.0\n",
      "....................................................................................................\n",
      "bconnolly04@gmail.com\n",
      "target: 7.0\n",
      "actual: 8.0\n",
      "error: 1.0\n",
      "....................................................................................................\n",
      "Danny061296@gmail.com\n",
      "target: 31.0\n",
      "actual: 30.0\n",
      "error: 1.0\n",
      "....................................................................................................\n",
      "voynow99@gmail.com\n",
      "target: 51.0\n",
      "actual: 51.0\n",
      "error: 0.0\n",
      "....................................................................................................\n",
      "raytrip.curtis@gmail.com\n",
      "target: 62.0\n",
      "actual: 59.0\n",
      "error: 3.0\n",
      "....................................................................................................\n",
      "rlefkee00@gmail.com\n",
      "target: 29.0\n",
      "actual: 29.0\n",
      "error: 0.0\n",
      "....................................................................................................\n",
      "JOSHUA.NGUYEN@UTEXAS.EDU\n",
      "target: 36.0\n",
      "actual: 36.0\n",
      "error: 0.0\n",
      "....................................................................................................\n",
      "raytrip.curtis@gmail.com\n",
      "target: 63.0\n",
      "actual: 63.0\n",
      "error: 0.0\n",
      "....................................................................................................\n",
      "laurenbrooks01@gmail.com\n",
      "target: 47.0\n",
      "actual: 47.0\n",
      "error: 0.0\n",
      "....................................................................................................\n",
      "laurenbrooks01@gmail.com\n",
      "target: 46.0\n",
      "actual: 46.0\n",
      "error: 0.0\n",
      "....................................................................................................\n",
      "laurenbrooks01@gmail.com\n",
      "target: 45.0\n",
      "actual: 45.0\n",
      "error: 0.0\n",
      "....................................................................................................\n",
      "jaredpalek8@gmail.com\n",
      "target: 19.0\n",
      "actual: 23.5\n",
      "error: 4.5\n",
      "....................................................................................................\n",
      "raytrip.curtis@gmail.com\n",
      "target: 66.0\n",
      "actual: 66.0\n",
      "error: 0.0\n",
      "....................................................................................................\n",
      "bconnolly04@gmail.com\n",
      "target: 9.0\n",
      "actual: 9.5\n",
      "error: 0.5\n",
      "....................................................................................................\n",
      "bconnolly04@gmail.com\n",
      "target: 11.0\n",
      "actual: 11.5\n",
      "error: 0.5\n",
      "....................................................................................................\n",
      "Danny061296@gmail.com\n",
      "target: 32.0\n",
      "actual: 32.0\n",
      "error: 0.0\n",
      "....................................................................................................\n"
     ]
    }
   ],
   "source": [
    "for result in results:\n",
    "    print(result['user']['email'])\n",
    "    print(\"target:\", result['recommended_weekly_mileage'])\n",
    "    print(\"actual:\", result['generated_weekly_mileage'])\n",
    "    print(\"error:\", result['error'])\n",
    "    print(\".\" * 100)"
   ]
  },
  {
   "cell_type": "code",
   "execution_count": null,
   "metadata": {},
   "outputs": [],
   "source": []
  }
 ],
 "metadata": {
  "kernelspec": {
   "display_name": ".venv",
   "language": "python",
   "name": "python3"
  },
  "language_info": {
   "codemirror_mode": {
    "name": "ipython",
    "version": 3
   },
   "file_extension": ".py",
   "mimetype": "text/x-python",
   "name": "python",
   "nbconvert_exporter": "python",
   "pygments_lexer": "ipython3",
   "version": "3.11.9"
  }
 },
 "nbformat": 4,
 "nbformat_minor": 2
}
