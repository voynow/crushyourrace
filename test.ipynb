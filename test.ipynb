{
 "cells": [
  {
   "cell_type": "code",
   "execution_count": 1,
   "metadata": {},
   "outputs": [],
   "source": [
    "%load_ext autoreload\n",
    "%autoreload 2"
   ]
  },
  {
   "cell_type": "code",
   "execution_count": 2,
   "metadata": {},
   "outputs": [],
   "source": [
    "import os\n",
    "import json\n",
    "from pprint import pprint\n",
    "\n",
    "from src.supabase_client import get_user\n",
    "from tests.test_full_week import walk_through_week\n"
   ]
  },
  {
   "cell_type": "markdown",
   "metadata": {},
   "source": [
    "# Test: Full Week"
   ]
  },
  {
   "cell_type": "code",
   "execution_count": null,
   "metadata": {},
   "outputs": [],
   "source": [
    "# mock_user = get_user(os.environ[\"JAREDS_ATHLETE_ID\"])\n",
    "# response = walk_through_week(mock_user, \"2024-09-01\")\n",
    "\n",
    "# for training_week in response:\n",
    "#     print(training_week.total_mileage)"
   ]
  },
  {
   "cell_type": "markdown",
   "metadata": {},
   "source": [
    "# Test: One Off"
   ]
  },
  {
   "cell_type": "code",
   "execution_count": null,
   "metadata": {},
   "outputs": [],
   "source": [
    "# from src.daily_pipeline import new_training_week_pipeline, mid_week_update_pipeline\n",
    "# from tests.test_full_week import gen_helper\n",
    "\n",
    "# mock_user = get_user(os.environ[\"JAMIES_ATHLETE_ID\"])\n",
    "# response = gen_helper(\n",
    "#     mock_user=mock_user,\n",
    "#     date_str=\"2024-09-09\",\n",
    "#     func=mid_week_update_pipeline,\n",
    "# )\n",
    "# pprint(response.sessions)"
   ]
  },
  {
   "cell_type": "markdown",
   "metadata": {},
   "source": [
    "# Evals: New Training Week"
   ]
  },
  {
   "cell_type": "code",
   "execution_count": null,
   "metadata": {},
   "outputs": [],
   "source": [
    "# path = 'tests/artifacts/new_training_week_errors'\n",
    "# files = os.listdir(path)\n",
    "\n",
    "# for file in sorted(files):\n",
    "#     print(f\"Loading {file}\")\n",
    "#     with open(os.path.join(path, file), \"r\") as f:\n",
    "#         results = json.load(f)\n",
    "#     print(sum(result['error'] for result in results) / len(results))"
   ]
  },
  {
   "cell_type": "code",
   "execution_count": null,
   "metadata": {},
   "outputs": [],
   "source": [
    "# for result in results:\n",
    "#     print(result['user']['email'])\n",
    "#     print(\"target:\", result['recommended_weekly_mileage'])\n",
    "#     print(\"actual:\", result['generated_weekly_mileage'])\n",
    "#     print(\"error:\", result['error'])\n",
    "#     print(\".\" * 100)"
   ]
  },
  {
   "cell_type": "markdown",
   "metadata": {},
   "source": [
    "# Analytics"
   ]
  },
  {
   "cell_type": "code",
   "execution_count": null,
   "metadata": {},
   "outputs": [],
   "source": [
    "# from src.supabase_client import list_users, get_training_week\n",
    "\n",
    "# for user in list_users():\n",
    "#     training_week = get_training_week(user.athlete_id)\n",
    "#     print(user.email)\n",
    "#     for session in training_week.sessions:\n",
    "#         print(session)\n",
    "#     print(training_week.total_mileage)\n",
    "#     print(\"-\" * 100)"
   ]
  },
  {
   "cell_type": "markdown",
   "metadata": {},
   "source": [
    "# Manual New Training Week"
   ]
  },
  {
   "cell_type": "code",
   "execution_count": 4,
   "metadata": {},
   "outputs": [],
   "source": [
    "# from src.supabase_client import list_users\n",
    "\n",
    "# list_users()"
   ]
  },
  {
   "cell_type": "code",
   "execution_count": null,
   "metadata": {},
   "outputs": [],
   "source": [
    "# from src.activities import get_activities_df, get_day_of_week_summaries, get_weekly_summaries\n",
    "# from src.auth_manager import get_strava_client\n",
    "# from src.supabase_client import get_user\n",
    "# from src.constants import COACH_ROLE\n",
    "# from src.new_training_week import generate_new_training_week\n",
    "# import os\n",
    "# from pprint import pprint\n",
    "\n",
    "# user = get_user()\n",
    "# strava_client = get_strava_client(user.athlete_id)\n",
    "# sysmsg_base = f\"{COACH_ROLE}\\nYour client has included the following preferences: {user.preferences}\\n\"\n",
    "# activities_df = get_activities_df(strava_client)\n",
    "# day_of_week_summaries = get_day_of_week_summaries(activities_df)\n",
    "# weekly_summaries = get_weekly_summaries(activities_df)\n",
    "# response = generate_new_training_week(\n",
    "#     sysmsg_base=sysmsg_base,\n",
    "#     weekly_summaries=weekly_summaries,\n",
    "#     day_of_week_summaries=day_of_week_summaries,\n",
    "# )\n",
    "\n",
    "# pprint(response.sessions)"
   ]
  },
  {
   "cell_type": "code",
   "execution_count": null,
   "metadata": {},
   "outputs": [],
   "source": [
    "# from src.supabase_client import upsert_training_week\n",
    "\n",
    "# upsert_training_week(user.athlete_id, response)"
   ]
  },
  {
   "cell_type": "markdown",
   "metadata": {},
   "source": [
    "# Trigger Lambda E2E"
   ]
  },
  {
   "cell_type": "code",
   "execution_count": 2,
   "metadata": {},
   "outputs": [],
   "source": [
    "# import requests\n",
    "# import os\n",
    "\n",
    "# url = \"https://lwg77yq7dd.execute-api.us-east-1.amazonaws.com/prod/signup\"\n",
    "\n",
    "# response = requests.post(url, json={\n",
    "#     \"trigger_test_key\": os.environ[\"TRIGGER_TEST_KEY\"]\n",
    "# })\n",
    "\n",
    "# response.json()"
   ]
  },
  {
   "cell_type": "code",
   "execution_count": null,
   "metadata": {},
   "outputs": [],
   "source": []
  },
  {
   "cell_type": "code",
   "execution_count": 6,
   "metadata": {},
   "outputs": [
    {
     "name": "stderr",
     "output_type": "stream",
     "text": [
      "No rates present in response headers\n",
      "No rates present in response headers\n",
      "No rates present in response headers\n",
      "No rates present in response headers\n",
      "No rates present in response headers\n",
      "No rates present in response headers\n",
      "No rates present in response headers\n",
      "No rates present in response headers\n",
      "No rates present in response headers\n",
      "No rates present in response headers\n",
      "No rates present in response headers\n",
      "No rates present in response headers\n"
     ]
    }
   ],
   "source": [
    "from src.auth_manager import get_strava_client\n",
    "from src.email_manager import send_email\n",
    "from src.supabase_client import list_users\n",
    "\n",
    "html = \"\"\"\n",
    "<!DOCTYPE html>\n",
    "<html lang=\"en\">\n",
    "<head>\n",
    "    <meta charset=\"UTF-8\">\n",
    "    <meta name=\"viewport\" content=\"width=device-width, initial-scale=1.0\">\n",
    "    <title>TrackFlow Update</title>\n",
    "    <style>\n",
    "        body {\n",
    "            font-family: Arial, sans-serif;\n",
    "            margin: 0;\n",
    "            padding: 0;\n",
    "            background-color: #f4f4f4;\n",
    "        }\n",
    "        .container {\n",
    "            max-width: 600px;\n",
    "            margin: 40px auto;\n",
    "            background-color: #fff;\n",
    "            border-radius: 10px;\n",
    "            box-shadow: 0 0 15px rgba(0, 0, 0, 0.1);\n",
    "            overflow: hidden;\n",
    "        }\n",
    "        .title {\n",
    "            text-align: center;\n",
    "            font-size: 36px;\n",
    "            color: #333;\n",
    "            padding: 20px;\n",
    "        }\n",
    "        .content {\n",
    "            padding: 20px;\n",
    "            color: #555;\n",
    "            line-height: 1.6;\n",
    "        }\n",
    "        .content p {\n",
    "            margin-bottom: 20px;\n",
    "        }\n",
    "        .highlight {\n",
    "            color: #5A86D5;\n",
    "            font-weight: bold;\n",
    "        }\n",
    "        .footer {\n",
    "            text-align: center;\n",
    "            padding: 20px;\n",
    "            background-color: #5A86D5;\n",
    "            color: white;\n",
    "            font-size: 14px;\n",
    "        }\n",
    "        .footer a {\n",
    "            color: #fff;\n",
    "            text-decoration: none;\n",
    "        }\n",
    "        .footer a:hover {\n",
    "            text-decoration: underline;\n",
    "        }\n",
    "    </style>\n",
    "</head>\n",
    "<body>\n",
    "    <div class=\"container\">\n",
    "        <h1 class=\"title\">TrackFlow 🏃‍♂️🎯</h1>\n",
    "        <div class=\"content\">\n",
    "            <p>Hey friends,</p>\n",
    "            <p>As the fall race season wraps up, I want to thank you all for being early testers of TrackFlow and for letting me spam your inbox with notifications.</p>\n",
    "            <p><span class=\"highlight\">TrackFlow will be going offline — temporarily.</span> You'll no longer receive training plan updates via email, but if you'd like to keep using it through the winter, just let me know.</p>\n",
    "            <p>Good news: I'm planning to re-launch in a few months with a new format (hint: no more email!).</p>\n",
    "            <p>Thanks for all the support,<br>Jamie</p>\n",
    "        </div>\n",
    "        <div class=\"footer\">\n",
    "            <p>TrackFlow 🏃‍♂️🎯 | Powered by the Strava API & OpenAI</p>\n",
    "        </div>\n",
    "    </div>\n",
    "</body>\n",
    "</html>\n",
    "\"\"\"\n",
    "\n",
    "for user in list_users():\n",
    "    strava_client = get_strava_client(user.athlete_id)\n",
    "    athlete = strava_client.get_athlete()\n",
    "    send_email(\n",
    "        subject=\"TrackFlow Offline for the Winter 😴\",\n",
    "        html_content=html,\n",
    "        to={\"email\": user.email, \"name\": f\"{athlete.firstname} {athlete.lastname}\"},\n",
    "    )"
   ]
  },
  {
   "cell_type": "code",
   "execution_count": null,
   "metadata": {},
   "outputs": [],
   "source": []
  }
 ],
 "metadata": {
  "kernelspec": {
   "display_name": ".venv",
   "language": "python",
   "name": "python3"
  },
  "language_info": {
   "codemirror_mode": {
    "name": "ipython",
    "version": 3
   },
   "file_extension": ".py",
   "mimetype": "text/x-python",
   "name": "python",
   "nbconvert_exporter": "python",
   "pygments_lexer": "ipython3",
   "version": "3.11.9"
  }
 },
 "nbformat": 4,
 "nbformat_minor": 2
}
