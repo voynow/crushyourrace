{
 "cells": [
  {
   "cell_type": "code",
   "execution_count": 2,
   "metadata": {},
   "outputs": [],
   "source": [
    "%load_ext autoreload\n",
    "%autoreload 2"
   ]
  },
  {
   "cell_type": "code",
   "execution_count": 3,
   "metadata": {},
   "outputs": [],
   "source": [
    "import os\n",
    "import json\n",
    "from pprint import pprint\n",
    "\n",
    "from src.supabase_client import get_user\n",
    "from tests.common import run_new_training_week_process_wrapped, run_mid_week_update_process_wrapped\n"
   ]
  },
  {
   "cell_type": "markdown",
   "metadata": {},
   "source": [
    "# Test with Jamie"
   ]
  },
  {
   "cell_type": "code",
   "execution_count": 7,
   "metadata": {},
   "outputs": [
    {
     "name": "stdout",
     "output_type": "stream",
     "text": [
      "athlete_id=98390356 token still valid until 2024-08-28 20:18:36+00:00\n",
      "athlete_id=98390356 token still valid until 2024-08-28 20:18:36+00:00\n",
      "TrainingWeekWithCoaching(typical_week_training_review=Your current training schedule shows a preference for workouts on Wednesdays and long runs on Saturdays, aligning well with your goals. You typically include rest or lighter running days on Sundays and incorporate moderate pacing throughout the week. To enhance marathon preparation, incorporating specific speed work on Wednesdays and ensuring a consistent long run on Saturdays will be beneficial., weekly_mileage_target=For Week 35, let's aim to slightly increase your mileage while still maintaining a conservative approach to ensure you're building safely. Target a total weekly mileage of around 46-47 miles, with your long run being approximately 16.5-17 miles. This progression aligns closely with your recent training pattern, allowing for a small but manageable increase that should keep you on track and help avoid injuries. Make sure to listen to your body and adjust as needed to stay healthy and strong on your journey to the marathon., planning=To create a balanced training plan for the week, we need to distribute the 46-47 miles over the days while focusing on a long run of 16.5-17 miles on Saturday and a speed workout on Wednesday. We will have the following breakdown: Monday is an easy run day to recover from the weekend's long run; Tuesday will be a moderate run; Wednesday is the primary workout day with speed work; Thursday will be an easy run to recover from the workout; Friday is another easy run to allow for recovery before the long run; Saturday will be the long run of 16.5-17 miles; finally, Sunday will be a rest day. Let's allocate: Monday - 5 miles easy, Tuesday - 7 miles moderate, Wednesday - 8 miles speed workout, Thursday - 5 miles easy, Friday - 4 miles easy, Saturday - 17 miles long run, and Sunday - rest day. This distribution gives us exactly 46 miles, meeting the target range. Wednesday's workout will focus on marathon pace and tempo intervals., training_week=[TrainingSession(day=<Day.MON: 'mon'>, session_type=<SessionType.EASY: 'easy run'>, distance=5.0, notes=\"Run at an easy pace to recover from the previous week's work.\"), TrainingSession(day=<Day.TUES: 'tues'>, session_type=<SessionType.MODERATE: 'moderate run'>, distance=7.0, notes='Moderate pacing throughout the run, slightly faster than easy pace.'), TrainingSession(day=<Day.WED: 'wed'>, session_type=<SessionType.SPEED: 'speed workout'>, distance=8.0, notes='Include tempo intervals: 2 miles warm-up, 3x1.5 miles at marathon pace with 0.5-mile recovery, 2 miles cool-down.'), TrainingSession(day=<Day.THURS: 'thurs'>, session_type=<SessionType.EASY: 'easy run'>, distance=5.0, notes='Run at an easy pace to recover from the speed workout.'), TrainingSession(day=<Day.FRI: 'fri'>, session_type=<SessionType.EASY: 'easy run'>, distance=4.0, notes='Easy pace to prepare for the long run.'), TrainingSession(day=<Day.SAT: 'sat'>, session_type=<SessionType.LONG: 'long run'>, distance=17.0, notes='Steady long run at an easy to moderate pace, maintain hydration and nutrition.'), TrainingSession(day=<Day.SUN: 'sun'>, session_type=<SessionType.REST: 'rest day'>, distance=0.0, notes='Complete rest day for recovery.')])\n"
     ]
    }
   ],
   "source": [
    "mock_user = get_user(os.environ[\"JAMIES_ATHLETE_ID\"])\n",
    "response = run_new_training_week_process_wrapped(mock_user)\n",
    "print(response)"
   ]
  },
  {
   "cell_type": "code",
   "execution_count": 8,
   "metadata": {},
   "outputs": [
    {
     "name": "stdout",
     "output_type": "stream",
     "text": [
      "athlete_id=98390356 token still valid until 2024-08-28 20:18:36+00:00\n",
      "athlete_id=98390356 token still valid until 2024-08-28 20:18:36+00:00\n",
      "TrainingWeekWithPlanning(planning=The target for the week is to run a total of 46.0 miles. The client has already run 10.04 miles, leaving 35.96 miles to cover. The current plan adds up to 34.0 miles, which means we need to add 1.96 miles to the plan. There are five sessions left: a speed workout on Wednesday, a rest day on Thursday, an easy run on Friday, a long run on Saturday, and an easy run on Sunday. The rest day on Thursday does not contribute mileage. To distribute the extra mileage, we can slightly extend the length of the Friday easy run and the Sunday easy run, as the client may prefer not to add to the speed workout or long run. Currently, the Friday run is planned at 5.0 miles and the Sunday run at 4.0 miles. We will add 1.0 mile to the Friday run and 0.96 miles to the Sunday run. The adjusted plan is as follows: Wednesday speed workout at 8.0 miles remains unchanged; Thursday rest day; Friday easy run increased to 6.0 miles; Saturday long run remains at 17.0 miles; Sunday easy run increased to 4.96 miles. This adjustment brings the total planned mileage to exactly 35.96 miles., training_week=[TrainingSession(day=<Day.WED: 'wed'>, session_type=<SessionType.SPEED: 'speed workout'>, distance=8.0, notes='5x1 mile repeats at 9:20 pace with 1-mile warm-up and cool-down.'), TrainingSession(day=<Day.THURS: 'thurs'>, session_type=<SessionType.REST: 'rest day'>, distance=0.0, notes='Full rest to recover and prepare for the remainder of the training week.'), TrainingSession(day=<Day.FRI: 'fri'>, session_type=<SessionType.EASY: 'easy run'>, distance=6.0, notes='Easy pace to keep legs fresh.'), TrainingSession(day=<Day.SAT: 'sat'>, session_type=<SessionType.LONG: 'long run'>, distance=17.0, notes='Long endurance run, keep a steady pace. Hydrate well.'), TrainingSession(day=<Day.SUN: 'sun'>, session_type=<SessionType.EASY: 'easy run'>, distance=4.96, notes='Recovery pace, relax and enjoy the run.')])\n"
     ]
    }
   ],
   "source": [
    "mock_user = get_user(os.environ[\"JAMIES_ATHLETE_ID\"])\n",
    "response = run_mid_week_update_process_wrapped(mock_user)\n",
    "print(response)"
   ]
  },
  {
   "cell_type": "markdown",
   "metadata": {},
   "source": [
    "# Training week accuracy"
   ]
  },
  {
   "cell_type": "code",
   "execution_count": 6,
   "metadata": {},
   "outputs": [
    {
     "name": "stdout",
     "output_type": "stream",
     "text": [
      "Loading 2024-08-28_16-47-43.json\n",
      "1.97\n",
      "Loading 2024-08-28_17-27-11.json\n",
      "1.95\n",
      "Loading 2024-08-28_17-41-17.json\n",
      "1.95\n",
      "Loading 2024-08-29_17-37-07.json\n",
      "0.75\n",
      "Loading 2024-08-29_17-45-21.json\n",
      "0.95\n",
      "Loading 2024-08-29_17-54-20.json\n",
      "0.425\n",
      "Loading 2024-08-29_18-09-32.json\n",
      "0.475\n"
     ]
    }
   ],
   "source": [
    "path = 'tests/artifacts/new_training_week_errors'\n",
    "files = os.listdir(path)\n",
    "\n",
    "for file in sorted(files):\n",
    "    print(f\"Loading {file}\")\n",
    "    with open(os.path.join(path, file), \"r\") as f:\n",
    "        results = json.load(f)\n",
    "    print(sum(result['error'] for result in results) / len(results))"
   ]
  },
  {
   "cell_type": "code",
   "execution_count": 15,
   "metadata": {},
   "outputs": [
    {
     "name": "stdout",
     "output_type": "stream",
     "text": [
      "voynow99@gmail.com\n",
      "target: 46-47\n",
      "actual: 46.5\n",
      "error: 0.0\n",
      "Planning(weekly_mileage_target=46-47 miles, long_run_distance=17.0, remaining_weekly_mileage=46.5 (midpoint of 46-47 range) - 17 = 29.5, remaining_weekly_mileage_planning=Start by allocating mileage to the key days: Wednesday and Saturday. Since we already have 17 miles on Saturday, we have 29.5 miles left to distribute across the remaining days. Monday: 5 miles (easy pace), Tuesday: 6 miles (moderate pace), Wednesday: 7 miles (speed workout), Thursday: 5 miles (recovery run), Friday: rest day, Sunday: 6.5 miles (easy pace with strides). Double check: 5 + 6 + 7 + 5 + 6.5 = 29.5.)\n",
      "....................................................................................................\n",
      "jaredpalek8@gmail.com\n",
      "target: 20 to 22 miles\n",
      "actual: 23.0\n",
      "error: 1.0\n",
      "Planning(weekly_mileage_target=20 to 22 miles, long_run_distance=10.0, remaining_weekly_mileage=(20 - 10) to (22 - 10), remaining_weekly_mileage_planning=With a total weekly mileage target of 20 to 22 miles and a long run of 10 miles, this leaves 10 to 12 miles to distribute throughout the rest of the week. We will start with short easy runs of 3 miles on Monday and Thursday. On Wednesday, we will do a speed workout, covering a total of 4 miles. On Friday, a moderate run covering 3 miles, and take rest days on Tuesday and Sunday.)\n",
      "....................................................................................................\n",
      "rlefkee00@gmail.com\n",
      "target: 30-32 miles\n",
      "actual: 27.0\n",
      "error: 3.0\n",
      "Planning(weekly_mileage_target=30-32 miles, long_run_distance=14.0, remaining_weekly_mileage=30 - 14 = 16 miles, remaining_weekly_mileage_planning=After the 14-mile long run, there are 16 miles remaining to be distributed across the rest of the week. Let's break it down: \n",
      "- Monday: Speed workout, 4 miles (e.g. intervals), totals 4 miles.\n",
      "- Tuesday: Easy run, 3 miles, totals 7 miles.\n",
      "- Wednesday: Rest day or cross-training, 0 miles, remains 7 miles.\n",
      "- Thursday: Speed workout, 4 miles (e.g. tempo run), totals 11 miles.\n",
      "- Friday: Rest day, 0 miles, remains 11 miles.\n",
      "- Saturday: Long run, 14 miles, totals the week's target.\n",
      "- Sunday: Easy recovery run, 2 miles + cross-training, totals 16 miles. Total mileage hits 32 miles by incorporating cross-training on rest days to enhance recovery.)\n",
      "....................................................................................................\n",
      "rachel.decker122@gmail.com\n",
      "target: 25-27 miles\n",
      "actual: 27.0\n",
      "error: 0.0\n",
      "Planning(weekly_mileage_target=25-27 miles, long_run_distance=13.0, remaining_weekly_mileage=27 (weekly target) - 13 (long run) = 14 miles, remaining_weekly_mileage_planning=With 14 miles remaining to distribute across Monday to Thursday (4 days), and wanting to increase intensity on Wednesday, we will plan as follows: Monday: 3 miles easy, Tuesday: 3 miles easy, Wednesday: 4 miles with speed work focus (e.g., 2x1 mile @ 10k pace with rest in between), Thursday: 4 miles easy. This ensures the total mileage reaches 14 miles by Thursday.)\n",
      "....................................................................................................\n",
      "jaredpalek8@gmail.com\n",
      "target: 27-28\n",
      "actual: 26.0\n",
      "error: 1.0\n",
      "Planning(weekly_mileage_target=27-28 miles, long_run_distance=17.0, remaining_weekly_mileage=28 - 17 = 11 miles, remaining_weekly_mileage_planning=Given the remaining mileage of 11 miles to be distributed across the week outside of the long run, we can plan the week as follows: \n",
      "\n",
      "1. Monday: An easy run of 3 miles at a comfortable pace of around 9m 30s per mile to start the week smoothly.\n",
      "2. Tuesday: Another easy run of 2 miles to continue building base endurance, also at around 9m 30s per mile.\n",
      "3. Wednesday: As this is typically a speed work day, we'll do a speed workout totalling 3 miles: a warm-up of 1 mile, 4x400m intervals at around 8m 30s per mile pace with 400m recovery in between, and a cool-down of 1 mile.\n",
      "4. Thursday: Rest day, crucial for recovery.\n",
      "5. Friday: A very easy jog of 1 mile just to stay loose, maintaining a relaxed pace.\n",
      "6. Saturday: Long run of 17 miles, aiming to hold a steady pace of 9m 50s per mile throughout.\n",
      "7. Sunday: Rest day to allow for full recovery after the long run.\n",
      "\n",
      "This plan totals 17 (long run) + 3 + 2 + 3 + 1 = 26 miles. Since our target is 27-28 miles, we can optionally add an extra short 2-mile run on Thursday (if feeling good) to hit exactly 28 miles, or slightly adjust the long run or mid-week runs by 1 mile as energy allows.)\n",
      "....................................................................................................\n",
      "voynow99@gmail.com\n",
      "target: 46-47 miles\n",
      "actual: 43.5\n",
      "error: 2.5\n",
      "Planning(weekly_mileage_target=46-47 miles, long_run_distance=16.5, remaining_weekly_mileage=46.5 - 16.5 = 30 miles remaining, remaining_weekly_mileage_planning=Monday: 6 miles easy, Tuesday: 5 miles moderate, Wednesday: 8 miles speed workout (4x1 mile repeats), Thursday: 5 miles easy, Friday: 3 miles rest day, Sunday: 3 miles easy. Total = 6 + 5 + 8 + 5 + 3 + 3 = 30 miles.)\n",
      "....................................................................................................\n",
      "rlefkee00@gmail.com\n",
      "target: 30-32\n",
      "actual: 32.0\n",
      "error: 0.0\n",
      "Planning(weekly_mileage_target=30-32 miles, long_run_distance=15.0, remaining_weekly_mileage=30 - 15 = 15 miles, remaining_weekly_mileage_planning=After the long run of 15 miles on Sunday, we have 15 miles remaining to distribute throughout the week. An example distribution could be: \n",
      "- Monday: 3 miles easy, total so far 3 miles\n",
      "- Tuesday: 4 miles moderate, total so far 7 miles\n",
      "- Wednesday: 3 miles speed workout (e.g., intervals or tempo run), total so far 10 miles\n",
      "- Thursday: 5 miles, which includes a mix of easy and 2 miles at a faster pace, total so far 15 miles\n",
      "The planning ensures a balance of intensity and recovery. Incorporating speed work on Wednesday and a strong run on Thursday helps to maintain a balance between endurance and speed.)\n",
      "....................................................................................................\n",
      "rlefkee00@gmail.com\n",
      "target: 30-32 miles\n",
      "actual: 28.0\n",
      "error: 2.0\n",
      "Planning(weekly_mileage_target=30-32 miles, long_run_distance=15.0, remaining_weekly_mileage=30 - 15 = 15 miles, remaining_weekly_mileage_planning=With 15 miles remaining for the week after the long run, we will distribute this evenly across the remaining days. Assume a 7-day running plan, with Wednesday and Sunday as potential easier or rest days. Monday, Tuesday, Thursday, and Saturday will be more substantial. Monday: 4 miles (easy pace); Tuesday: 3 miles (moderate pace); Wednesday: Rest day; Thursday: 4 miles (speed workout, intervals); Friday: 2 miles (easy pace); Saturday: Long run 15 miles (easy pace); Sunday: Rest day or optional recovery 2 miles. Total = 4+3+4+2+15=28 for more rest, 30 with optional Sunday run.)\n",
      "....................................................................................................\n",
      "rachel.decker122@gmail.com\n",
      "target: 24-26 miles\n",
      "actual: 24.0\n",
      "error: 0.0\n",
      "Planning(weekly_mileage_target=24-26, long_run_distance=14.0, remaining_weekly_mileage=24 - 14 = 10, remaining_weekly_mileage_planning=With a weekly target of 24-26 miles and a long run of 14 miles scheduled on Saturday, the remaining mileage for the week stands at 10 miles. Given the preference for short runs Monday through Thursday, we will distribute this mileage as follows: Monday through Thursday will consist of easy runs amounting to 2 miles each. This totals to 8 miles from Monday to Thursday. On Friday, we will incorporate a moderate run of 2 miles to round out the weekly mileage to 24 miles.)\n",
      "....................................................................................................\n",
      "voynow99@gmail.com\n",
      "target: 46-48\n",
      "actual: 47.0\n",
      "error: 0.0\n",
      "Planning(weekly_mileage_target=47 miles, long_run_distance=17.0, remaining_weekly_mileage=47 - 17 = 30, remaining_weekly_mileage_planning=With 30 miles remaining, let's distribute these across the week. We'll rest on Sunday as usual. Monday and Thursday will be easy run days, Tuesday will be a moderate run, Wednesday will be a speed workout, Friday will be another moderate run, and Saturday will be the long run. For easy days, let's allocate 5 miles to Monday and 5 miles to Thursday. For the moderate days, assign 6 miles for Tuesday and 6 miles for Friday. This leaves us with 8 miles for Wednesday. The breakdown is: Mon: 5 miles, Tues: 6 miles, Wed: 8 miles (speed workout), Thurs: 5 miles, Fri: 6 miles, Sat: 17 miles (long run), Sun: rest day.)\n",
      "....................................................................................................\n",
      "jaredpalek8@gmail.com\n",
      "target: 27-28 miles\n",
      "actual: 28.0\n",
      "error: 0.0\n",
      "Planning(weekly_mileage_target=28 miles, long_run_distance=17.5, remaining_weekly_mileage=28 - 17.5 = 10.5 miles, remaining_weekly_mileage_planning=To distribute the remaining 10.5 miles across the week: \n",
      "- Monday: 4 miles at an easy pace\n",
      "- Wednesday: 3 miles speed workout\n",
      "- Friday: 3.5 miles moderate run\n",
      "This sums up to 10.5 miles, ensuring proper distribution and rest days.)\n",
      "....................................................................................................\n",
      "rachel.decker122@gmail.com\n",
      "target: 24-26 miles\n",
      "actual: 24.0\n",
      "error: 0.0\n",
      "Planning(weekly_mileage_target=24-26 miles, long_run_distance=12.0, remaining_weekly_mileage=24 - 12 = 12 miles, remaining_weekly_mileage_planning=We have 12 miles remaining to distribute from Monday to Thursday. To keep things balanced and steady, let's break it down as follows: \n",
      "- Monday: 3 miles, easy pace \n",
      "- Tuesday: 3 miles, easy pace \n",
      "- Wednesday: 3 miles, short speed workout or tempo intervals \n",
      "- Thursday: 3 miles, easy pace \n",
      "This gives us a total of 12 miles during the week, which when added to the 12 miles long run on Saturday totals 24 miles, fitting the weekly target.)\n",
      "....................................................................................................\n",
      "bconnolly04@gmail.com\n",
      "target: 17 to 18 miles\n",
      "actual: 18.0\n",
      "error: 0.0\n",
      "Planning(weekly_mileage_target=17-18 miles, long_run_distance=12.5, remaining_weekly_mileage=18 - 12.5 = 5.5 miles, remaining_weekly_mileage_planning=With 5.5 miles remaining after the long run, plan a 2-mile easy run on Tuesday and a 3.5-mile moderate run on Thursday. This ensures easy mileage distribution, and speed work is considered for quick turnover and leg speed maintenance.)\n",
      "....................................................................................................\n",
      "voynow99@gmail.com\n",
      "target: 47-48 miles\n",
      "actual: 47.0\n",
      "error: 0.0\n",
      "Planning(weekly_mileage_target=47 miles, long_run_distance=16.5, remaining_weekly_mileage=47 miles - 16.5 miles = 30.5 miles, remaining_weekly_mileage_planning=To distribute the remaining 30.5 miles across the week after the long run: Suppose Sunday is a rest or very light recovery day with a 2-mile recovery run. This leaves 28.5 miles. On Monday, run an easy 5 miles to recover from the long run. On Tuesday, plan an easy 5.5-mile run. Wednesday includes a quality speed workout totaling 7 miles, with 2 miles warm-up, 3x1 mile repeats at a 9-minute pace with half-mile recoveries, and a 1.5-mile cool down. Thursday is a moderate run of 6 miles, allowing rest for the end of the week. Friday is an easy 5-mile run. This totals: 2 (Sunday) + 5 (Monday) + 5.5 (Tuesday) + 7 (Wednesday) + 6 (Thursday) + 5 (Friday) + 16.5 (Saturday, long run) = 47 miles.)\n",
      "....................................................................................................\n",
      "bconnolly04@gmail.com\n",
      "target: 17-18\n",
      "actual: 18.0\n",
      "error: 0.0\n",
      "Planning(weekly_mileage_target=17-18 miles, long_run_distance=12.5, remaining_weekly_mileage=17 - 12.5 = 4.5 miles or 18 - 12.5 = 5.5 miles, remaining_weekly_mileage_planning=With 4.5 to 5.5 miles remaining after the long run, plan as follows: Tuesday for a 2.5 mile easy run, focusing on form and cadence; Wednesday for a 3 mile speed workout with intervals, e.g., 4x400m with 400m rest, aiming for a 7-minute mile pace (or around 1:45 per 400m interval). This covers 5.5 miles if both sessions are completed. However, adjust the shorter run to 2 miles if sticking closer to 4.5 miles weekly total, ensuring balance with a focus on recovery.)\n",
      "....................................................................................................\n",
      "jaredpalek8@gmail.com\n",
      "target: 26-28 miles\n",
      "actual: 26.0\n",
      "error: 0.0\n",
      "Planning(weekly_mileage_target=26-28 miles, long_run_distance=17.0, remaining_weekly_mileage=26 - 17 = 9, remaining_weekly_mileage_planning=Given that the long run is 17 miles, there are 9-11 miles left to distribute throughout the remaining days. Let's plan: Monday: 4 miles easy, Wednesday: 3 miles speed workout, and Friday: 2 miles recovery run. This way, we fulfill the target while providing the body with varied stimuli for adaptation.)\n",
      "....................................................................................................\n",
      "rachel.decker122@gmail.com\n",
      "target: 25-27\n",
      "actual: 26.0\n",
      "error: 0.0\n",
      "Planning(weekly_mileage_target=26 miles, long_run_distance=13.0, remaining_weekly_mileage=26 - 13 = 13 miles, remaining_weekly_mileage_planning=With a weekly target of 26 miles and a long run of 13 miles, we have 13 miles remaining for weekday runs. The plan is to distribute these 13 miles over Monday to Thursday with a moderate intensity day on Wednesday. Here is the breakdown: Monday: 3 miles (easy), Tuesday: 2.5 miles (easy), Wednesday: 4 miles (speed workout, 2x800m at 7m 30s pace), Thursday: 3.5 miles (easy).)\n",
      "....................................................................................................\n",
      "rachel.decker122@gmail.com\n",
      "target: 24-26 miles\n",
      "actual: 25.0\n",
      "error: 0.0\n",
      "Planning(weekly_mileage_target=24-26, long_run_distance=13.0, remaining_weekly_mileage=24-13=11, 26-13=13, remaining_weekly_mileage_planning=We have 11 to 13 miles to distribute over 4 days (Mon-Thurs) since Saturday is the long run (13 miles), and Sunday is a rest day. Let's start with 3 miles each on Mon, Tues, and Thurs, accounting for 9 miles, leaving 2-4 miles for Wed.\n",
      "\n",
      "1. Monday: 3 miles (easy pace)\n",
      "2. Tuesday: 3 miles (easy pace)\n",
      "3. Wednesday: 2-4 miles (let's plan for 3 miles with some intervals)\n",
      "4. Thursday: 3 miles (easy pace)\n",
      "5. Saturday: 13 miles (long run)\n",
      "\n",
      "With this plan, we're ensuring a practical and even distribution of mileage while incorporating a slightly increased intensity through intervals on Wednesday.)\n",
      "....................................................................................................\n",
      "voynow99@gmail.com\n",
      "target: 47-49 miles\n",
      "actual: 47.0\n",
      "error: 0.0\n",
      "Planning(weekly_mileage_target=47-49 miles, long_run_distance=16.0, remaining_weekly_mileage=47 - 16 = 31, remaining_weekly_mileage_planning=Start with the remaining mileage of 31 miles after the long run. Distribute it over 5 days (excluding rest day). Typically, prefer a harder workout on Wednesday, so allocate 9 miles for that day. That leaves 22 miles. Allocate moderate runs on Monday and Friday; each can be around 6.5 miles. That leaves 9 miles, which can be gently distributed over Tuesday and Thursday, with an easy 4.5 miles on Tuesday and 4.5 miles on Thursday. Sunday would be a rest day.)\n",
      "....................................................................................................\n",
      "rlefkee00@gmail.com\n",
      "target: 28 to 30 miles\n",
      "actual: 28.0\n",
      "error: 0.0\n",
      "Planning(weekly_mileage_target=28 to 30 miles, long_run_distance=14.0, remaining_weekly_mileage=28 - 14 = 14 miles remaining, remaining_weekly_mileage_planning=Distribute the remaining 14 miles as follows: \n",
      "Monday: Easy run of 4 miles\n",
      "Tuesday: Moderate run of 3 miles\n",
      "Wednesday: Rest day\n",
      "Thursday: Speed workout of 5 miles (with intervals 2x1.5mi @ 7:58 per mile)\n",
      "Friday: Easy run of 2 miles. This totals 14 miles in addition to the 14-mile long run planned for Saturday.)\n",
      "....................................................................................................\n"
     ]
    }
   ],
   "source": [
    "for result in results:\n",
    "    print(result['user']['email'])\n",
    "    print(\"target:\", result['recommended_weekly_mileage'])\n",
    "    print(\"actual:\", result['generated_weekly_mileage'])\n",
    "    print(\"error:\", result['error'])\n",
    "    print(result['planning'])\n",
    "    print(\".\" * 100)"
   ]
  },
  {
   "cell_type": "code",
   "execution_count": null,
   "metadata": {},
   "outputs": [],
   "source": []
  }
 ],
 "metadata": {
  "kernelspec": {
   "display_name": ".venv",
   "language": "python",
   "name": "python3"
  },
  "language_info": {
   "codemirror_mode": {
    "name": "ipython",
    "version": 3
   },
   "file_extension": ".py",
   "mimetype": "text/x-python",
   "name": "python",
   "nbconvert_exporter": "python",
   "pygments_lexer": "ipython3",
   "version": "3.12.3"
  }
 },
 "nbformat": 4,
 "nbformat_minor": 2
}
