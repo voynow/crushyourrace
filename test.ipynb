{
 "cells": [
  {
   "cell_type": "code",
   "execution_count": 40,
   "metadata": {},
   "outputs": [
    {
     "name": "stdout",
     "output_type": "stream",
     "text": [
      "The autoreload extension is already loaded. To reload it, use:\n",
      "  %reload_ext autoreload\n"
     ]
    }
   ],
   "source": [
    "%load_ext autoreload\n",
    "%autoreload 2"
   ]
  },
  {
   "cell_type": "code",
   "execution_count": 41,
   "metadata": {},
   "outputs": [],
   "source": [
    "import os\n",
    "from freezegun import freeze_time\n",
    "\n",
    "from src.email_manager import mock_send_email\n",
    "from src.lambda_function import run_gen_training_week_process, run_update_training_week_process\n",
    "from src.supabase_client import mock_upsert_training_week_update, mock_upsert_training_week_with_coaching\n",
    "from src.supabase_client import list_users"
   ]
  },
  {
   "cell_type": "code",
   "execution_count": 45,
   "metadata": {},
   "outputs": [],
   "source": [
    "def setup_mock_user():\n",
    "    users = list_users()\n",
    "    mock_user_id = int(os.environ[\"JAMIES_ATHLETE_ID\"])\n",
    "\n",
    "    mock_user = None\n",
    "    for user in users:\n",
    "        if user.athlete_id == mock_user_id:\n",
    "            mock_user = user\n",
    "            break\n",
    "\n",
    "    print(f\"Mock user: {mock_user}\")\n",
    "    return mock_user"
   ]
  },
  {
   "cell_type": "code",
   "execution_count": 46,
   "metadata": {},
   "outputs": [
    {
     "name": "stdout",
     "output_type": "stream",
     "text": [
      "Mock user: athlete_id=98390356 email='voynow99@gmail.com' preferences='A) Training for a marathon B) This will be my second marathon C) Prefer workouts on Wednesdays and long runs on Saturdays' created_at=datetime.datetime(2024, 8, 21, 21, 12, 55, 723179, tzinfo=datetime.timezone.utc)\n"
     ]
    }
   ],
   "source": [
    "mock_user = setup_mock_user()\n",
    "\n",
    "@freeze_time(\"2024-08-21 20:00:00\")\n",
    "def mock_mid_week_update():\n",
    "    run_gen_training_week_process(\n",
    "        user=mock_user,\n",
    "        upsert_fn=mock_upsert_training_week_with_coaching,\n",
    "        email_fn=mock_send_email,\n",
    "    )\n",
    "\n",
    "@freeze_time(\"2024-08-18 20:00:00\")\n",
    "def mock_weekly_update():\n",
    "    run_update_training_week_process(\n",
    "        user=mock_user,\n",
    "        upsert_fn=mock_upsert_training_week_update,\n",
    "        email_fn=mock_send_email,\n",
    "    )"
   ]
  },
  {
   "cell_type": "code",
   "execution_count": 50,
   "metadata": {},
   "outputs": [
    {
     "name": "stderr",
     "output_type": "stream",
     "text": [
      "No rates present in response headers\n"
     ]
    },
    {
     "name": "stdout",
     "output_type": "stream",
     "text": [
      "athlete_id=98390356 token still valid until 2024-08-23 20:21:00+00:00\n"
     ]
    },
    {
     "ename": "AccessUnauthorized",
     "evalue": "Unauthorized: Authorization Error: [{'resource': 'Athlete', 'field': 'access_token', 'code': 'invalid'}]",
     "output_type": "error",
     "traceback": [
      "\u001b[0;31m---------------------------------------------------------------------------\u001b[0m",
      "\u001b[0;31mAccessUnauthorized\u001b[0m                        Traceback (most recent call last)",
      "\u001b[1;32m/Users/jamievoynow/Desktop/code/strava/test.ipynb Cell 5\u001b[0m line \u001b[0;36m1\n\u001b[0;32m----> <a href='vscode-notebook-cell:/Users/jamievoynow/Desktop/code/strava/test.ipynb#X21sZmlsZQ%3D%3D?line=0'>1</a>\u001b[0m mock_weekly_update()\n",
      "File \u001b[0;32m~/Desktop/code/strava/.venv/lib/python3.12/site-packages/freezegun/api.py:885\u001b[0m, in \u001b[0;36m_freeze_time.decorate_callable.<locals>.wrapper\u001b[0;34m(*args, **kwargs)\u001b[0m\n\u001b[1;32m    883\u001b[0m         result \u001b[39m=\u001b[39m func(\u001b[39m*\u001b[39margs, \u001b[39m*\u001b[39m\u001b[39m*\u001b[39mkwargs)\n\u001b[1;32m    884\u001b[0m     \u001b[39melse\u001b[39;00m:\n\u001b[0;32m--> 885\u001b[0m         result \u001b[39m=\u001b[39m func(\u001b[39m*\u001b[39;49margs, \u001b[39m*\u001b[39;49m\u001b[39m*\u001b[39;49mkwargs)\n\u001b[1;32m    886\u001b[0m \u001b[39mreturn\u001b[39;00m result\n",
      "\u001b[1;32m/Users/jamievoynow/Desktop/code/strava/test.ipynb Cell 5\u001b[0m line \u001b[0;36m1\n\u001b[1;32m     <a href='vscode-notebook-cell:/Users/jamievoynow/Desktop/code/strava/test.ipynb#X21sZmlsZQ%3D%3D?line=10'>11</a>\u001b[0m \u001b[39m@freeze_time\u001b[39m(\u001b[39m\"\u001b[39m\u001b[39m2024-08-18 20:00:00\u001b[39m\u001b[39m\"\u001b[39m)\n\u001b[1;32m     <a href='vscode-notebook-cell:/Users/jamievoynow/Desktop/code/strava/test.ipynb#X21sZmlsZQ%3D%3D?line=11'>12</a>\u001b[0m \u001b[39mdef\u001b[39;00m \u001b[39mmock_weekly_update\u001b[39m():\n\u001b[0;32m---> <a href='vscode-notebook-cell:/Users/jamievoynow/Desktop/code/strava/test.ipynb#X21sZmlsZQ%3D%3D?line=12'>13</a>\u001b[0m     run_update_training_week_process(\n\u001b[1;32m     <a href='vscode-notebook-cell:/Users/jamievoynow/Desktop/code/strava/test.ipynb#X21sZmlsZQ%3D%3D?line=13'>14</a>\u001b[0m         user\u001b[39m=\u001b[39;49mmock_user,\n\u001b[1;32m     <a href='vscode-notebook-cell:/Users/jamievoynow/Desktop/code/strava/test.ipynb#X21sZmlsZQ%3D%3D?line=14'>15</a>\u001b[0m         upsert_fn\u001b[39m=\u001b[39;49mmock_upsert_training_week_update,\n\u001b[1;32m     <a href='vscode-notebook-cell:/Users/jamievoynow/Desktop/code/strava/test.ipynb#X21sZmlsZQ%3D%3D?line=15'>16</a>\u001b[0m         email_fn\u001b[39m=\u001b[39;49mmock_send_email,\n\u001b[1;32m     <a href='vscode-notebook-cell:/Users/jamievoynow/Desktop/code/strava/test.ipynb#X21sZmlsZQ%3D%3D?line=16'>17</a>\u001b[0m     )\n",
      "File \u001b[0;32m~/Desktop/code/strava/src/lambda_function.py:72\u001b[0m, in \u001b[0;36mrun_update_training_week_process\u001b[0;34m(user, upsert_fn, email_fn)\u001b[0m\n\u001b[1;32m     69\u001b[0m strava_client \u001b[39m=\u001b[39m get_strava_client(user\u001b[39m.\u001b[39mathlete_id)\n\u001b[1;32m     71\u001b[0m training_week_with_coaching \u001b[39m=\u001b[39m get_training_week_with_coaching(user\u001b[39m.\u001b[39mathlete_id)\n\u001b[0;32m---> 72\u001b[0m current_weeks_activity_summaries \u001b[39m=\u001b[39m get_activity_summaries(\n\u001b[1;32m     73\u001b[0m     strava_client, num_weeks\u001b[39m=\u001b[39;49m\u001b[39m1\u001b[39;49m\n\u001b[1;32m     74\u001b[0m )\n\u001b[1;32m     75\u001b[0m mid_week_analysis \u001b[39m=\u001b[39m MidWeekAnalysis(\n\u001b[1;32m     76\u001b[0m     activities\u001b[39m=\u001b[39mcurrent_weeks_activity_summaries,\n\u001b[1;32m     77\u001b[0m     training_week\u001b[39m=\u001b[39mtraining_week_with_coaching\u001b[39m.\u001b[39mtraining_week,\n\u001b[1;32m     78\u001b[0m )\n\u001b[1;32m     79\u001b[0m training_week_update_with_planning \u001b[39m=\u001b[39m get_updated_training_week(\n\u001b[1;32m     80\u001b[0m     sysmsg_base\u001b[39m=\u001b[39msysmsg_base, mid_week_analysis\u001b[39m=\u001b[39mmid_week_analysis\n\u001b[1;32m     81\u001b[0m )\n",
      "File \u001b[0;32m~/Desktop/code/strava/src/activities.py:133\u001b[0m, in \u001b[0;36mget_activity_summaries\u001b[0;34m(strava_client, num_weeks)\u001b[0m\n\u001b[1;32m    125\u001b[0m \u001b[39mdef\u001b[39;00m \u001b[39mget_activity_summaries\u001b[39m(strava_client, num_weeks\u001b[39m=\u001b[39m\u001b[39m8\u001b[39m) \u001b[39m-\u001b[39m\u001b[39m>\u001b[39m List[ActivitySummary]:\n\u001b[1;32m    126\u001b[0m \u001b[39m    \u001b[39m\u001b[39m\"\"\"\u001b[39;00m\n\u001b[1;32m    127\u001b[0m \u001b[39m    Fetches and returns activity summaries for a given athlete ID\u001b[39;00m\n\u001b[1;32m    128\u001b[0m \n\u001b[0;32m   (...)\u001b[0m\n\u001b[1;32m    131\u001b[0m \u001b[39m    :return: A list of ActivitySummary objects, lighter weight than the full get_activities_df DataFrame\u001b[39;00m\n\u001b[1;32m    132\u001b[0m \u001b[39m    \"\"\"\u001b[39;00m\n\u001b[0;32m--> 133\u001b[0m     df \u001b[39m=\u001b[39m get_activities_df(strava_client, num_weeks)\n\u001b[1;32m    134\u001b[0m     concise_activities_df \u001b[39m=\u001b[39m df\u001b[39m.\u001b[39mwith_columns(\n\u001b[1;32m    135\u001b[0m         pl\u001b[39m.\u001b[39mcol(\u001b[39m\"\u001b[39m\u001b[39mdate\u001b[39m\u001b[39m\"\u001b[39m)\u001b[39m.\u001b[39mapply(\n\u001b[1;32m    136\u001b[0m             \u001b[39mlambda\u001b[39;00m x: x\u001b[39m.\u001b[39mstrftime(\u001b[39m\"\u001b[39m\u001b[39m%\u001b[39m\u001b[39mA, \u001b[39m\u001b[39m%\u001b[39m\u001b[39mB \u001b[39m\u001b[39m%d\u001b[39;00m\u001b[39m, \u001b[39m\u001b[39m%\u001b[39m\u001b[39mY\u001b[39m\u001b[39m\"\u001b[39m), return_dtype\u001b[39m=\u001b[39mpl\u001b[39m.\u001b[39mUtf8\n\u001b[0;32m   (...)\u001b[0m\n\u001b[1;32m    147\u001b[0m         \u001b[39m\"\u001b[39m\u001b[39mmoving_time_in_minutes\u001b[39m\u001b[39m\"\u001b[39m,\n\u001b[1;32m    148\u001b[0m     )\n\u001b[1;32m    149\u001b[0m     \u001b[39mreturn\u001b[39;00m [ActivitySummary(\u001b[39m*\u001b[39m\u001b[39m*\u001b[39mrow) \u001b[39mfor\u001b[39;00m row \u001b[39min\u001b[39;00m concise_activities_df\u001b[39m.\u001b[39mrows(named\u001b[39m=\u001b[39m\u001b[39mTrue\u001b[39;00m)]\n",
      "File \u001b[0;32m~/Desktop/code/strava/src/activities.py:118\u001b[0m, in \u001b[0;36mget_activities_df\u001b[0;34m(strava_client, num_weeks)\u001b[0m\n\u001b[1;32m    115\u001b[0m start_date \u001b[39m=\u001b[39m end_date \u001b[39m-\u001b[39m timedelta(weeks\u001b[39m=\u001b[39mnum_weeks)\n\u001b[1;32m    117\u001b[0m activities \u001b[39m=\u001b[39m strava_client\u001b[39m.\u001b[39mget_activities(after\u001b[39m=\u001b[39mstart_date, before\u001b[39m=\u001b[39mend_date)\n\u001b[0;32m--> 118\u001b[0m raw_df \u001b[39m=\u001b[39m activities_to_df(activities)\n\u001b[1;32m    119\u001b[0m all_dates_df \u001b[39m=\u001b[39m add_missing_dates(\n\u001b[1;32m    120\u001b[0m     df\u001b[39m=\u001b[39mraw_df, start_date\u001b[39m=\u001b[39mstart_date, end_date\u001b[39m=\u001b[39mend_date\n\u001b[1;32m    121\u001b[0m )\n\u001b[1;32m    122\u001b[0m \u001b[39mreturn\u001b[39;00m preprocess(all_dates_df)\n",
      "File \u001b[0;32m~/Desktop/code/strava/src/activities.py:34\u001b[0m, in \u001b[0;36mactivities_to_df\u001b[0;34m(activities)\u001b[0m\n\u001b[1;32m     24\u001b[0m df_schema \u001b[39m=\u001b[39m {\n\u001b[1;32m     25\u001b[0m     \u001b[39m\"\u001b[39m\u001b[39mid\u001b[39m\u001b[39m\"\u001b[39m: pl\u001b[39m.\u001b[39mUInt64,\n\u001b[1;32m     26\u001b[0m     \u001b[39m\"\u001b[39m\u001b[39mname\u001b[39m\u001b[39m\"\u001b[39m: pl\u001b[39m.\u001b[39mUtf8,\n\u001b[0;32m   (...)\u001b[0m\n\u001b[1;32m     30\u001b[0m     \u001b[39m\"\u001b[39m\u001b[39mstart_date_local\u001b[39m\u001b[39m\"\u001b[39m: pl\u001b[39m.\u001b[39mDatetime,\n\u001b[1;32m     31\u001b[0m }\n\u001b[1;32m     32\u001b[0m df_builder: Dict[\u001b[39mstr\u001b[39m, List] \u001b[39m=\u001b[39m {}\n\u001b[0;32m---> 34\u001b[0m \u001b[39mfor\u001b[39;49;00m activity \u001b[39min\u001b[39;49;00m activities:\n\u001b[1;32m     35\u001b[0m     \u001b[39mfor\u001b[39;49;00m attribute \u001b[39min\u001b[39;49;00m df_schema:\n\u001b[1;32m     36\u001b[0m         \u001b[39mif\u001b[39;49;00m attribute \u001b[39mnot\u001b[39;49;00m \u001b[39min\u001b[39;49;00m df_builder:\n",
      "File \u001b[0;32m~/Desktop/code/strava/.venv/lib/python3.12/site-packages/stravalib/client.py:2064\u001b[0m, in \u001b[0;36mBatchedResultsIterator.__next__\u001b[0;34m(self)\u001b[0m\n\u001b[1;32m   2063\u001b[0m \u001b[39mdef\u001b[39;00m \u001b[39m__next__\u001b[39m(\u001b[39mself\u001b[39m) \u001b[39m-\u001b[39m\u001b[39m>\u001b[39m T:\n\u001b[0;32m-> 2064\u001b[0m     \u001b[39mreturn\u001b[39;00m \u001b[39mself\u001b[39;49m\u001b[39m.\u001b[39;49mnext()\n",
      "File \u001b[0;32m~/Desktop/code/strava/.venv/lib/python3.12/site-packages/stravalib/client.py:2070\u001b[0m, in \u001b[0;36mBatchedResultsIterator.next\u001b[0;34m(self)\u001b[0m\n\u001b[1;32m   2068\u001b[0m     \u001b[39mself\u001b[39m\u001b[39m.\u001b[39m_eof()\n\u001b[1;32m   2069\u001b[0m \u001b[39mif\u001b[39;00m \u001b[39mnot\u001b[39;00m \u001b[39mself\u001b[39m\u001b[39m.\u001b[39m_buffer:\n\u001b[0;32m-> 2070\u001b[0m     \u001b[39mself\u001b[39;49m\u001b[39m.\u001b[39;49m_fill_buffer()\n\u001b[1;32m   2071\u001b[0m \u001b[39massert\u001b[39;00m \u001b[39mself\u001b[39m\u001b[39m.\u001b[39m_buffer \u001b[39mis\u001b[39;00m \u001b[39mnot\u001b[39;00m \u001b[39mNone\u001b[39;00m\n\u001b[1;32m   2072\u001b[0m \u001b[39mtry\u001b[39;00m:\n",
      "File \u001b[0;32m~/Desktop/code/strava/.venv/lib/python3.12/site-packages/stravalib/client.py:2032\u001b[0m, in \u001b[0;36mBatchedResultsIterator._fill_buffer\u001b[0;34m(self)\u001b[0m\n\u001b[1;32m   2030\u001b[0m \u001b[39mif\u001b[39;00m \u001b[39mself\u001b[39m\u001b[39m.\u001b[39m_all_results_fetched:\n\u001b[1;32m   2031\u001b[0m     \u001b[39mself\u001b[39m\u001b[39m.\u001b[39m_eof()\n\u001b[0;32m-> 2032\u001b[0m raw_results \u001b[39m=\u001b[39m \u001b[39mself\u001b[39;49m\u001b[39m.\u001b[39;49mresult_fetcher(\n\u001b[1;32m   2033\u001b[0m     page\u001b[39m=\u001b[39;49m\u001b[39mself\u001b[39;49m\u001b[39m.\u001b[39;49m_page, per_page\u001b[39m=\u001b[39;49m\u001b[39mself\u001b[39;49m\u001b[39m.\u001b[39;49mper_page\n\u001b[1;32m   2034\u001b[0m )\n\u001b[1;32m   2036\u001b[0m entities \u001b[39m=\u001b[39m []\n\u001b[1;32m   2037\u001b[0m \u001b[39mfor\u001b[39;00m raw \u001b[39min\u001b[39;00m raw_results:\n",
      "File \u001b[0;32m~/Desktop/code/strava/.venv/lib/python3.12/site-packages/stravalib/protocol.py:442\u001b[0m, in \u001b[0;36mApiV3.get\u001b[0;34m(self, url, check_for_errors, **kwargs)\u001b[0m\n\u001b[1;32m    440\u001b[0m url \u001b[39m=\u001b[39m url\u001b[39m.\u001b[39mformat(\u001b[39m*\u001b[39m\u001b[39m*\u001b[39mkwargs)\n\u001b[1;32m    441\u001b[0m params \u001b[39m=\u001b[39m {k: v \u001b[39mfor\u001b[39;00m k, v \u001b[39min\u001b[39;00m kwargs\u001b[39m.\u001b[39mitems() \u001b[39mif\u001b[39;00m k \u001b[39mnot\u001b[39;00m \u001b[39min\u001b[39;00m referenced}\n\u001b[0;32m--> 442\u001b[0m \u001b[39mreturn\u001b[39;00m \u001b[39mself\u001b[39;49m\u001b[39m.\u001b[39;49m_request(\n\u001b[1;32m    443\u001b[0m     url, params\u001b[39m=\u001b[39;49mparams, check_for_errors\u001b[39m=\u001b[39;49mcheck_for_errors\n\u001b[1;32m    444\u001b[0m )\n",
      "File \u001b[0;32m~/Desktop/code/strava/.venv/lib/python3.12/site-packages/stravalib/protocol.py:327\u001b[0m, in \u001b[0;36mApiV3._request\u001b[0;34m(self, url, params, files, method, check_for_errors)\u001b[0m\n\u001b[1;32m    324\u001b[0m \u001b[39mself\u001b[39m\u001b[39m.\u001b[39mrate_limiter(raw\u001b[39m.\u001b[39mheaders, method)\n\u001b[1;32m    326\u001b[0m \u001b[39mif\u001b[39;00m check_for_errors:\n\u001b[0;32m--> 327\u001b[0m     \u001b[39mself\u001b[39;49m\u001b[39m.\u001b[39;49m_handle_protocol_error(raw)\n\u001b[1;32m    329\u001b[0m \u001b[39m# 204 = No content\u001b[39;00m\n\u001b[1;32m    330\u001b[0m \u001b[39mif\u001b[39;00m raw\u001b[39m.\u001b[39mstatus_code \u001b[39min\u001b[39;00m [\u001b[39m204\u001b[39m]:\n",
      "File \u001b[0;32m~/Desktop/code/strava/.venv/lib/python3.12/site-packages/stravalib/protocol.py:371\u001b[0m, in \u001b[0;36mApiV3._handle_protocol_error\u001b[0;34m(self, response)\u001b[0m\n\u001b[1;32m    369\u001b[0m \u001b[39melif\u001b[39;00m response\u001b[39m.\u001b[39mstatus_code \u001b[39m==\u001b[39m \u001b[39m401\u001b[39m:\n\u001b[1;32m    370\u001b[0m     msg \u001b[39m=\u001b[39m \u001b[39m\"\u001b[39m\u001b[39m{}\u001b[39;00m\u001b[39m: \u001b[39m\u001b[39m{}\u001b[39;00m\u001b[39m\"\u001b[39m\u001b[39m.\u001b[39mformat(response\u001b[39m.\u001b[39mreason, error_str)\n\u001b[0;32m--> 371\u001b[0m     \u001b[39mraise\u001b[39;00m exc\u001b[39m.\u001b[39mAccessUnauthorized(msg, response\u001b[39m=\u001b[39mresponse)\n\u001b[1;32m    372\u001b[0m \u001b[39melif\u001b[39;00m \u001b[39m400\u001b[39m \u001b[39m<\u001b[39m\u001b[39m=\u001b[39m response\u001b[39m.\u001b[39mstatus_code \u001b[39m<\u001b[39m \u001b[39m500\u001b[39m:\n\u001b[1;32m    373\u001b[0m     msg \u001b[39m=\u001b[39m \u001b[39m\"\u001b[39m\u001b[39m{}\u001b[39;00m\u001b[39m Client Error: \u001b[39m\u001b[39m{}\u001b[39;00m\u001b[39m [\u001b[39m\u001b[39m{}\u001b[39;00m\u001b[39m]\u001b[39m\u001b[39m\"\u001b[39m\u001b[39m.\u001b[39mformat(\n\u001b[1;32m    374\u001b[0m         response\u001b[39m.\u001b[39mstatus_code,\n\u001b[1;32m    375\u001b[0m         response\u001b[39m.\u001b[39mreason,\n\u001b[1;32m    376\u001b[0m         error_str,\n\u001b[1;32m    377\u001b[0m     )\n",
      "\u001b[0;31mAccessUnauthorized\u001b[0m: Unauthorized: Authorization Error: [{'resource': 'Athlete', 'field': 'access_token', 'code': 'invalid'}]"
     ]
    }
   ],
   "source": [
    "mock_weekly_update()"
   ]
  },
  {
   "cell_type": "code",
   "execution_count": 49,
   "metadata": {},
   "outputs": [
    {
     "name": "stderr",
     "output_type": "stream",
     "text": [
      "No rates present in response headers\n"
     ]
    },
    {
     "name": "stdout",
     "output_type": "stream",
     "text": [
      "athlete_id=98390356 token still valid until 2024-08-23 20:21:00+00:00\n"
     ]
    },
    {
     "ename": "AccessUnauthorized",
     "evalue": "Unauthorized: Authorization Error: [{'resource': 'Athlete', 'field': 'access_token', 'code': 'invalid'}]",
     "output_type": "error",
     "traceback": [
      "\u001b[0;31m---------------------------------------------------------------------------\u001b[0m",
      "\u001b[0;31mAccessUnauthorized\u001b[0m                        Traceback (most recent call last)",
      "\u001b[1;32m/Users/jamievoynow/Desktop/code/strava/test.ipynb Cell 6\u001b[0m line \u001b[0;36m1\n\u001b[0;32m----> <a href='vscode-notebook-cell:/Users/jamievoynow/Desktop/code/strava/test.ipynb#W5sZmlsZQ%3D%3D?line=0'>1</a>\u001b[0m mock_mid_week_update()\n",
      "File \u001b[0;32m~/Desktop/code/strava/.venv/lib/python3.12/site-packages/freezegun/api.py:885\u001b[0m, in \u001b[0;36m_freeze_time.decorate_callable.<locals>.wrapper\u001b[0;34m(*args, **kwargs)\u001b[0m\n\u001b[1;32m    883\u001b[0m         result \u001b[39m=\u001b[39m func(\u001b[39m*\u001b[39margs, \u001b[39m*\u001b[39m\u001b[39m*\u001b[39mkwargs)\n\u001b[1;32m    884\u001b[0m     \u001b[39melse\u001b[39;00m:\n\u001b[0;32m--> 885\u001b[0m         result \u001b[39m=\u001b[39m func(\u001b[39m*\u001b[39;49margs, \u001b[39m*\u001b[39;49m\u001b[39m*\u001b[39;49mkwargs)\n\u001b[1;32m    886\u001b[0m \u001b[39mreturn\u001b[39;00m result\n",
      "\u001b[1;32m/Users/jamievoynow/Desktop/code/strava/test.ipynb Cell 6\u001b[0m line \u001b[0;36m5\n\u001b[1;32m      <a href='vscode-notebook-cell:/Users/jamievoynow/Desktop/code/strava/test.ipynb#W5sZmlsZQ%3D%3D?line=2'>3</a>\u001b[0m \u001b[39m@freeze_time\u001b[39m(\u001b[39m\"\u001b[39m\u001b[39m2024-08-21 20:00:00\u001b[39m\u001b[39m\"\u001b[39m)\n\u001b[1;32m      <a href='vscode-notebook-cell:/Users/jamievoynow/Desktop/code/strava/test.ipynb#W5sZmlsZQ%3D%3D?line=3'>4</a>\u001b[0m \u001b[39mdef\u001b[39;00m \u001b[39mmock_mid_week_update\u001b[39m():\n\u001b[0;32m----> <a href='vscode-notebook-cell:/Users/jamievoynow/Desktop/code/strava/test.ipynb#W5sZmlsZQ%3D%3D?line=4'>5</a>\u001b[0m     run_gen_training_week_process(\n\u001b[1;32m      <a href='vscode-notebook-cell:/Users/jamievoynow/Desktop/code/strava/test.ipynb#W5sZmlsZQ%3D%3D?line=5'>6</a>\u001b[0m         user\u001b[39m=\u001b[39;49mmock_user,\n\u001b[1;32m      <a href='vscode-notebook-cell:/Users/jamievoynow/Desktop/code/strava/test.ipynb#W5sZmlsZQ%3D%3D?line=6'>7</a>\u001b[0m         upsert_fn\u001b[39m=\u001b[39;49mmock_upsert_training_week_with_coaching,\n\u001b[1;32m      <a href='vscode-notebook-cell:/Users/jamievoynow/Desktop/code/strava/test.ipynb#W5sZmlsZQ%3D%3D?line=7'>8</a>\u001b[0m         email_fn\u001b[39m=\u001b[39;49mmock_send_email,\n\u001b[1;32m      <a href='vscode-notebook-cell:/Users/jamievoynow/Desktop/code/strava/test.ipynb#W5sZmlsZQ%3D%3D?line=8'>9</a>\u001b[0m     )\n",
      "File \u001b[0;32m~/Desktop/code/strava/src/lambda_function.py:46\u001b[0m, in \u001b[0;36mrun_gen_training_week_process\u001b[0;34m(user, upsert_fn, email_fn)\u001b[0m\n\u001b[1;32m     43\u001b[0m sysmsg_base \u001b[39m=\u001b[39m \u001b[39mf\u001b[39m\u001b[39m\"\u001b[39m\u001b[39m{\u001b[39;00mCOACH_ROLE\u001b[39m}\u001b[39;00m\u001b[39m\\n\u001b[39;00m\u001b[39mYour client has included the following preferences: \u001b[39m\u001b[39m{\u001b[39;00muser\u001b[39m.\u001b[39mpreferences\u001b[39m}\u001b[39;00m\u001b[39m\\n\u001b[39;00m\u001b[39m\"\u001b[39m\n\u001b[1;32m     44\u001b[0m strava_client \u001b[39m=\u001b[39m get_strava_client(user\u001b[39m.\u001b[39mathlete_id)\n\u001b[0;32m---> 46\u001b[0m activities_df \u001b[39m=\u001b[39m get_activities_df(strava_client)\n\u001b[1;32m     47\u001b[0m day_of_week_summaries \u001b[39m=\u001b[39m get_day_of_week_summaries(activities_df)\n\u001b[1;32m     48\u001b[0m weekly_summaries \u001b[39m=\u001b[39m get_weekly_summaries(activities_df)\n",
      "File \u001b[0;32m~/Desktop/code/strava/src/activities.py:118\u001b[0m, in \u001b[0;36mget_activities_df\u001b[0;34m(strava_client, num_weeks)\u001b[0m\n\u001b[1;32m    115\u001b[0m start_date \u001b[39m=\u001b[39m end_date \u001b[39m-\u001b[39m timedelta(weeks\u001b[39m=\u001b[39mnum_weeks)\n\u001b[1;32m    117\u001b[0m activities \u001b[39m=\u001b[39m strava_client\u001b[39m.\u001b[39mget_activities(after\u001b[39m=\u001b[39mstart_date, before\u001b[39m=\u001b[39mend_date)\n\u001b[0;32m--> 118\u001b[0m raw_df \u001b[39m=\u001b[39m activities_to_df(activities)\n\u001b[1;32m    119\u001b[0m all_dates_df \u001b[39m=\u001b[39m add_missing_dates(\n\u001b[1;32m    120\u001b[0m     df\u001b[39m=\u001b[39mraw_df, start_date\u001b[39m=\u001b[39mstart_date, end_date\u001b[39m=\u001b[39mend_date\n\u001b[1;32m    121\u001b[0m )\n\u001b[1;32m    122\u001b[0m \u001b[39mreturn\u001b[39;00m preprocess(all_dates_df)\n",
      "File \u001b[0;32m~/Desktop/code/strava/src/activities.py:34\u001b[0m, in \u001b[0;36mactivities_to_df\u001b[0;34m(activities)\u001b[0m\n\u001b[1;32m     24\u001b[0m df_schema \u001b[39m=\u001b[39m {\n\u001b[1;32m     25\u001b[0m     \u001b[39m\"\u001b[39m\u001b[39mid\u001b[39m\u001b[39m\"\u001b[39m: pl\u001b[39m.\u001b[39mUInt64,\n\u001b[1;32m     26\u001b[0m     \u001b[39m\"\u001b[39m\u001b[39mname\u001b[39m\u001b[39m\"\u001b[39m: pl\u001b[39m.\u001b[39mUtf8,\n\u001b[0;32m   (...)\u001b[0m\n\u001b[1;32m     30\u001b[0m     \u001b[39m\"\u001b[39m\u001b[39mstart_date_local\u001b[39m\u001b[39m\"\u001b[39m: pl\u001b[39m.\u001b[39mDatetime,\n\u001b[1;32m     31\u001b[0m }\n\u001b[1;32m     32\u001b[0m df_builder: Dict[\u001b[39mstr\u001b[39m, List] \u001b[39m=\u001b[39m {}\n\u001b[0;32m---> 34\u001b[0m \u001b[39mfor\u001b[39;49;00m activity \u001b[39min\u001b[39;49;00m activities:\n\u001b[1;32m     35\u001b[0m     \u001b[39mfor\u001b[39;49;00m attribute \u001b[39min\u001b[39;49;00m df_schema:\n\u001b[1;32m     36\u001b[0m         \u001b[39mif\u001b[39;49;00m attribute \u001b[39mnot\u001b[39;49;00m \u001b[39min\u001b[39;49;00m df_builder:\n",
      "File \u001b[0;32m~/Desktop/code/strava/.venv/lib/python3.12/site-packages/stravalib/client.py:2064\u001b[0m, in \u001b[0;36mBatchedResultsIterator.__next__\u001b[0;34m(self)\u001b[0m\n\u001b[1;32m   2063\u001b[0m \u001b[39mdef\u001b[39;00m \u001b[39m__next__\u001b[39m(\u001b[39mself\u001b[39m) \u001b[39m-\u001b[39m\u001b[39m>\u001b[39m T:\n\u001b[0;32m-> 2064\u001b[0m     \u001b[39mreturn\u001b[39;00m \u001b[39mself\u001b[39;49m\u001b[39m.\u001b[39;49mnext()\n",
      "File \u001b[0;32m~/Desktop/code/strava/.venv/lib/python3.12/site-packages/stravalib/client.py:2070\u001b[0m, in \u001b[0;36mBatchedResultsIterator.next\u001b[0;34m(self)\u001b[0m\n\u001b[1;32m   2068\u001b[0m     \u001b[39mself\u001b[39m\u001b[39m.\u001b[39m_eof()\n\u001b[1;32m   2069\u001b[0m \u001b[39mif\u001b[39;00m \u001b[39mnot\u001b[39;00m \u001b[39mself\u001b[39m\u001b[39m.\u001b[39m_buffer:\n\u001b[0;32m-> 2070\u001b[0m     \u001b[39mself\u001b[39;49m\u001b[39m.\u001b[39;49m_fill_buffer()\n\u001b[1;32m   2071\u001b[0m \u001b[39massert\u001b[39;00m \u001b[39mself\u001b[39m\u001b[39m.\u001b[39m_buffer \u001b[39mis\u001b[39;00m \u001b[39mnot\u001b[39;00m \u001b[39mNone\u001b[39;00m\n\u001b[1;32m   2072\u001b[0m \u001b[39mtry\u001b[39;00m:\n",
      "File \u001b[0;32m~/Desktop/code/strava/.venv/lib/python3.12/site-packages/stravalib/client.py:2032\u001b[0m, in \u001b[0;36mBatchedResultsIterator._fill_buffer\u001b[0;34m(self)\u001b[0m\n\u001b[1;32m   2030\u001b[0m \u001b[39mif\u001b[39;00m \u001b[39mself\u001b[39m\u001b[39m.\u001b[39m_all_results_fetched:\n\u001b[1;32m   2031\u001b[0m     \u001b[39mself\u001b[39m\u001b[39m.\u001b[39m_eof()\n\u001b[0;32m-> 2032\u001b[0m raw_results \u001b[39m=\u001b[39m \u001b[39mself\u001b[39;49m\u001b[39m.\u001b[39;49mresult_fetcher(\n\u001b[1;32m   2033\u001b[0m     page\u001b[39m=\u001b[39;49m\u001b[39mself\u001b[39;49m\u001b[39m.\u001b[39;49m_page, per_page\u001b[39m=\u001b[39;49m\u001b[39mself\u001b[39;49m\u001b[39m.\u001b[39;49mper_page\n\u001b[1;32m   2034\u001b[0m )\n\u001b[1;32m   2036\u001b[0m entities \u001b[39m=\u001b[39m []\n\u001b[1;32m   2037\u001b[0m \u001b[39mfor\u001b[39;00m raw \u001b[39min\u001b[39;00m raw_results:\n",
      "File \u001b[0;32m~/Desktop/code/strava/.venv/lib/python3.12/site-packages/stravalib/protocol.py:442\u001b[0m, in \u001b[0;36mApiV3.get\u001b[0;34m(self, url, check_for_errors, **kwargs)\u001b[0m\n\u001b[1;32m    440\u001b[0m url \u001b[39m=\u001b[39m url\u001b[39m.\u001b[39mformat(\u001b[39m*\u001b[39m\u001b[39m*\u001b[39mkwargs)\n\u001b[1;32m    441\u001b[0m params \u001b[39m=\u001b[39m {k: v \u001b[39mfor\u001b[39;00m k, v \u001b[39min\u001b[39;00m kwargs\u001b[39m.\u001b[39mitems() \u001b[39mif\u001b[39;00m k \u001b[39mnot\u001b[39;00m \u001b[39min\u001b[39;00m referenced}\n\u001b[0;32m--> 442\u001b[0m \u001b[39mreturn\u001b[39;00m \u001b[39mself\u001b[39;49m\u001b[39m.\u001b[39;49m_request(\n\u001b[1;32m    443\u001b[0m     url, params\u001b[39m=\u001b[39;49mparams, check_for_errors\u001b[39m=\u001b[39;49mcheck_for_errors\n\u001b[1;32m    444\u001b[0m )\n",
      "File \u001b[0;32m~/Desktop/code/strava/.venv/lib/python3.12/site-packages/stravalib/protocol.py:327\u001b[0m, in \u001b[0;36mApiV3._request\u001b[0;34m(self, url, params, files, method, check_for_errors)\u001b[0m\n\u001b[1;32m    324\u001b[0m \u001b[39mself\u001b[39m\u001b[39m.\u001b[39mrate_limiter(raw\u001b[39m.\u001b[39mheaders, method)\n\u001b[1;32m    326\u001b[0m \u001b[39mif\u001b[39;00m check_for_errors:\n\u001b[0;32m--> 327\u001b[0m     \u001b[39mself\u001b[39;49m\u001b[39m.\u001b[39;49m_handle_protocol_error(raw)\n\u001b[1;32m    329\u001b[0m \u001b[39m# 204 = No content\u001b[39;00m\n\u001b[1;32m    330\u001b[0m \u001b[39mif\u001b[39;00m raw\u001b[39m.\u001b[39mstatus_code \u001b[39min\u001b[39;00m [\u001b[39m204\u001b[39m]:\n",
      "File \u001b[0;32m~/Desktop/code/strava/.venv/lib/python3.12/site-packages/stravalib/protocol.py:371\u001b[0m, in \u001b[0;36mApiV3._handle_protocol_error\u001b[0;34m(self, response)\u001b[0m\n\u001b[1;32m    369\u001b[0m \u001b[39melif\u001b[39;00m response\u001b[39m.\u001b[39mstatus_code \u001b[39m==\u001b[39m \u001b[39m401\u001b[39m:\n\u001b[1;32m    370\u001b[0m     msg \u001b[39m=\u001b[39m \u001b[39m\"\u001b[39m\u001b[39m{}\u001b[39;00m\u001b[39m: \u001b[39m\u001b[39m{}\u001b[39;00m\u001b[39m\"\u001b[39m\u001b[39m.\u001b[39mformat(response\u001b[39m.\u001b[39mreason, error_str)\n\u001b[0;32m--> 371\u001b[0m     \u001b[39mraise\u001b[39;00m exc\u001b[39m.\u001b[39mAccessUnauthorized(msg, response\u001b[39m=\u001b[39mresponse)\n\u001b[1;32m    372\u001b[0m \u001b[39melif\u001b[39;00m \u001b[39m400\u001b[39m \u001b[39m<\u001b[39m\u001b[39m=\u001b[39m response\u001b[39m.\u001b[39mstatus_code \u001b[39m<\u001b[39m \u001b[39m500\u001b[39m:\n\u001b[1;32m    373\u001b[0m     msg \u001b[39m=\u001b[39m \u001b[39m\"\u001b[39m\u001b[39m{}\u001b[39;00m\u001b[39m Client Error: \u001b[39m\u001b[39m{}\u001b[39;00m\u001b[39m [\u001b[39m\u001b[39m{}\u001b[39;00m\u001b[39m]\u001b[39m\u001b[39m\"\u001b[39m\u001b[39m.\u001b[39mformat(\n\u001b[1;32m    374\u001b[0m         response\u001b[39m.\u001b[39mstatus_code,\n\u001b[1;32m    375\u001b[0m         response\u001b[39m.\u001b[39mreason,\n\u001b[1;32m    376\u001b[0m         error_str,\n\u001b[1;32m    377\u001b[0m     )\n",
      "\u001b[0;31mAccessUnauthorized\u001b[0m: Unauthorized: Authorization Error: [{'resource': 'Athlete', 'field': 'access_token', 'code': 'invalid'}]"
     ]
    }
   ],
   "source": [
    "mock_mid_week_update()"
   ]
  },
  {
   "cell_type": "code",
   "execution_count": null,
   "metadata": {},
   "outputs": [],
   "source": []
  },
  {
   "cell_type": "code",
   "execution_count": null,
   "metadata": {},
   "outputs": [],
   "source": []
  }
 ],
 "metadata": {
  "kernelspec": {
   "display_name": ".venv",
   "language": "python",
   "name": "python3"
  },
  "language_info": {
   "codemirror_mode": {
    "name": "ipython",
    "version": 3
   },
   "file_extension": ".py",
   "mimetype": "text/x-python",
   "name": "python",
   "nbconvert_exporter": "python",
   "pygments_lexer": "ipython3",
   "version": "3.12.3"
  }
 },
 "nbformat": 4,
 "nbformat_minor": 2
}
