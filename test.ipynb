{
 "cells": [
  {
   "cell_type": "code",
   "execution_count": 1,
   "metadata": {},
   "outputs": [],
   "source": [
    "%load_ext autoreload\n",
    "%autoreload 2"
   ]
  },
  {
   "cell_type": "code",
   "execution_count": 134,
   "metadata": {},
   "outputs": [],
   "source": [
    "import os\n",
    "\n",
    "import polars as pl\n",
    "from freezegun import freeze_time\n",
    "\n",
    "from src.activities import (\n",
    "    get_activities_df,\n",
    "    get_day_of_week_summaries,\n",
    "    get_weekly_summaries,\n",
    ")\n",
    "from src.constants import COACH_ROLE\n",
    "from src.auth_manager import get_strava_client\n",
    "from src.email_manager import send_email, training_week_to_html\n",
    "from src.supabase_client import (\n",
    "    upsert_training_week_with_coaching,\n",
    "    get_training_week_with_coaching,\n",
    "    upsert_training_week_update,\n",
    ")\n",
    "from src.training_week_generation.training_week import generate_training_week"
   ]
  },
  {
   "cell_type": "markdown",
   "metadata": {},
   "source": [
    "# Sunday Night Training Week Message"
   ]
  },
  {
   "cell_type": "code",
   "execution_count": 62,
   "metadata": {},
   "outputs": [
    {
     "name": "stdout",
     "output_type": "stream",
     "text": [
      "athlete_id='98390356' token still valid until 2024-08-17 05:16:28+00:00\n"
     ]
    },
    {
     "data": {
      "text/plain": [
       "{'message_id': '<202408162339.82734117080@smtp-relay.mailin.fr>',\n",
       " 'message_ids': None}"
      ]
     },
     "execution_count": 62,
     "metadata": {},
     "output_type": "execute_result"
    }
   ],
   "source": [
    "@freeze_time(\"2024-08-11 20:00:00\")\n",
    "def get_activities_df_wrapper(strava_client):\n",
    "    return get_activities_df(strava_client)\n",
    "\n",
    "client_preferences = \"A) Training for a marathon B) This will be my second marathon C) Prefer workouts on Wednesdays and long runs on Saturdays\"\n",
    "sysmsg_base = f\"{COACH_ROLE}\\nYour client has included the following preferences: {client_preferences}\\n\"\n",
    "\n",
    "# activities setup\n",
    "athlete_id = os.environ[\"JAMIES_ATHLETE_ID\"]\n",
    "strava_client = get_strava_client(athlete_id)\n",
    "activities_df = get_activities_df_wrapper(strava_client)\n",
    "\n",
    "# gen training week pipeline\n",
    "day_of_week_summaries = get_day_of_week_summaries(activities_df)\n",
    "weekly_summaries = get_weekly_summaries(activities_df)\n",
    "training_week_with_coaching = generate_training_week(\n",
    "    sysmsg_base=sysmsg_base,\n",
    "    weekly_summaries=weekly_summaries,\n",
    "    day_of_week_summaries=day_of_week_summaries,\n",
    ")\n",
    "\n",
    "# save data to db and trigger email\n",
    "upsert_training_week_with_coaching(\n",
    "    athlete_id=athlete_id, training_week_with_coaching=training_week_with_coaching\n",
    ")\n",
    "send_email(\n",
    "    subject=\"Training Schedule Just Dropped 🏃\",\n",
    "    html_content=training_week_to_html(training_week_with_coaching),\n",
    ")"
   ]
  },
  {
   "cell_type": "markdown",
   "metadata": {},
   "source": [
    "# Mid-Week Update"
   ]
  },
  {
   "cell_type": "code",
   "execution_count": 135,
   "metadata": {},
   "outputs": [
    {
     "name": "stdout",
     "output_type": "stream",
     "text": [
      "athlete_id='98390356' token still valid until 2024-08-17 22:38:15+00:00\n"
     ]
    },
    {
     "data": {
      "text/plain": [
       "APIResponse(data=[{'id': 1, 'athlete_id': 98390356, 'activities': '[{\"date_and_time\": \"Monday, August 12, 2024 06:06 AM\", \"distance_in_miles\": 8.01, \"elevation_gain_in_feet\": 183.73, \"pace_minutes_per_mile\": 9.43}, {\"date_and_time\": \"Tuesday, August 13, 2024 06:15 AM\", \"distance_in_miles\": 4.01, \"elevation_gain_in_feet\": 52.49, \"pace_minutes_per_mile\": 10.64}]', 'training_week': '[{\"day\": \"mon\", \"session_type\": \"easy run\", \"distance\": 4.0, \"notes\": \"Easy pace\"}, {\"day\": \"tues\", \"session_type\": \"easy run\", \"distance\": 4.0, \"notes\": \"Easy pace, focus on form\"}, {\"day\": \"wed\", \"session_type\": \"speed workout\", \"distance\": 6.0, \"notes\": \"4x1 mile @ 10k pace, with 0.5 mi rest\"}, {\"day\": \"thurs\", \"session_type\": \"rest day\", \"distance\": 0.0, \"notes\": \"Rest and recover\"}, {\"day\": \"fri\", \"session_type\": \"easy run\", \"distance\": 4.0, \"notes\": \"Gentle recovery run\"}, {\"day\": \"sat\", \"session_type\": \"long run\", \"distance\": 15.0, \"notes\": \"Long run at comfortable pace, implement fueling strategy\"}, {\"day\": \"sun\", \"session_type\": \"rest day\", \"distance\": 0.0, \"notes\": \"Complete rest or active recovery\"}]', 'planning': \"The client has run 12.02 miles so far this week. The original mileage target for the week was 33.0 miles, so there are 20.98 miles left to meet the weekly target. The plan for the rest of the week includes 25.0 miles, which exceeds the target by 4.02 miles. \\n\\nHere is the plan for the rest of the week:\\n1. Wednesday: 6 miles speed workout\\n2. Thursday: 0 miles (rest day)\\n3. Friday: 4 miles easy run\\n4. Saturday: 15 miles long run\\n5. Sunday: 0 miles (rest day)\\n\\nTo adjust the weekly mileage to exactly 20.98 miles, I will reduce some mileage from the plan. \\n\\nThe easy run on Friday can be reduced from 4 miles to 2.98 miles to make up for the 4.02 miles that need to be reduced (since 4.0 - 1.02 = 2.98).\\n\\nAdjusted Plan:\\n1. Wednesday: 6 miles speed workout\\n2. Thursday: 0 miles (rest day)\\n3. Friday: 2.98 miles easy run\\n4. Saturday: 15 miles long run\\n5. Sunday: 0 miles (rest day)\\n\\nThis adjustment meets the client's target of an additional 20.98 miles for the week.\", 'training_week_update': '[{\"day\": \"wed\", \"session_type\": \"speed workout\", \"distance\": 6.0, \"notes\": \"4x1 mile @ 10k pace, with 0.5 mi rest\"}, {\"day\": \"thurs\", \"session_type\": \"rest day\", \"distance\": 0.0, \"notes\": \"Rest and recover\"}, {\"day\": \"fri\", \"session_type\": \"easy run\", \"distance\": 2.98, \"notes\": \"Gentle recovery run\"}, {\"day\": \"sat\", \"session_type\": \"long run\", \"distance\": 15.0, \"notes\": \"Long run at comfortable pace, implement fueling strategy\"}, {\"day\": \"sun\", \"session_type\": \"rest day\", \"distance\": 0.0, \"notes\": \"Complete rest or active recovery\"}]', 'created_at': '2024-08-17T21:21:30.524044+00:00'}], count=None)"
      ]
     },
     "execution_count": 135,
     "metadata": {},
     "output_type": "execute_result"
    }
   ],
   "source": [
    "from src.types.activity_summary import ActivitySummary\n",
    "from src.types.mid_week_analysis import MidWeekAnalysis\n",
    "from src.llm import get_completion_json\n",
    "from src.types.training_week import TrainingWeekWithPlanning\n",
    "\n",
    "\n",
    "@freeze_time(\"2024-08-13 20:00:00\")\n",
    "def get_updated_training_week(\n",
    "    mid_week_analysis: MidWeekAnalysis,\n",
    ") -> TrainingWeekWithPlanning:\n",
    "    client_preferences = \"A) Training for a marathon B) This will be my second marathon C) Prefer workouts on Wednesdays and long runs on Saturdays\"\n",
    "    sysmsg_base = f\"{COACH_ROLE}\\nYour client has included the following preferences: {client_preferences}\\n\"\n",
    "\n",
    "    msg = sysmsg_base + f\"\"\"\\nThe original plan for this week targeted {mid_week_analysis.miles_target} miles. Your client has run {mid_week_analysis.miles_ran} miles so far (and they have {mid_week_analysis.miles_remaining} miles left to run this week), but the plan for the rest of the week includes {mid_week_analysis.future_miles_planned} miles. Adjust the plan accordingly given the following information:\n",
    "\n",
    "    Here is your client's progress so far this week:\n",
    "    {mid_week_analysis.activities}\n",
    "\n",
    "    Here is the plan for the rest of the week:\n",
    "    {mid_week_analysis.training_week_future}\n",
    "\n",
    "    What changes need to be made so that your client runs {mid_week_analysis.miles_remaining} more miles this week?\"\"\"\n",
    "\n",
    "    return get_completion_json(\n",
    "            message=msg,\n",
    "            response_model=TrainingWeekWithPlanning,\n",
    "        )\n",
    "\n",
    "\n",
    "@freeze_time(\"2024-08-13 20:00:00\")\n",
    "def mock_get_activities_df(strava_client, num_weeks=8):\n",
    "    return get_activities_df(strava_client, num_weeks)\n",
    "\n",
    "def get_activity_summaries(strava_client, num_weeks=8) -> pl.DataFrame:\n",
    "    df = mock_get_activities_df(strava_client, num_weeks)\n",
    "    concise_activities_df = df.with_columns(\n",
    "        pl.col('start_date_local').apply(lambda x: x.strftime(\"%A, %B %d, %Y %I:%M %p\")).alias('date_and_time'),\n",
    "        pl.col('distance_in_miles').apply(lambda x: round(x, 2)),\n",
    "        pl.col('elevation_gain_in_feet').apply(lambda x: round(x, 2)),\n",
    "        pl.col('pace_minutes_per_mile').apply(lambda x: round(x, 2)),\n",
    "    ).drop('id', 'name', 'day_of_week', 'week_of_year', 'year', 'moving_time_in_minutes', 'start_date_local')    \n",
    "    return [ActivitySummary(**row) for row in concise_activities_df.rows(named=True)]\n",
    "\n",
    "athlete_id = os.environ[\"JAMIES_ATHLETE_ID\"]\n",
    "strava_client = get_strava_client(athlete_id)\n",
    "\n",
    "training_week_with_coaching = get_training_week_with_coaching(athlete_id)\n",
    "current_weeks_activity_summaries = get_activity_summaries(strava_client, num_weeks=1)\n",
    "mid_week_analysis = MidWeekAnalysis(activities=current_weeks_activity_summaries, training_week=training_week_with_coaching.training_week)\n",
    "\n",
    "training_week_update_with_planning = get_updated_training_week(mid_week_analysis)\n",
    "\n",
    "upsert_training_week_update(\n",
    "    athlete_id=athlete_id,\n",
    "    mid_week_analysis=mid_week_analysis,\n",
    "    training_week_update_with_planning=training_week_update_with_planning,\n",
    ")"
   ]
  },
  {
   "cell_type": "code",
   "execution_count": 140,
   "metadata": {},
   "outputs": [
    {
     "data": {
      "text/plain": [
       "{'message_id': '<202408172144.32392761752@smtp-relay.mailin.fr>',\n",
       " 'message_ids': None}"
      ]
     },
     "execution_count": 140,
     "metadata": {},
     "output_type": "execute_result"
    }
   ],
   "source": [
    "from src.email_manager import training_week_update_to_html\n",
    "\n",
    "send_email(\n",
    "    subject=\"Training Schedule Update 🏃\",\n",
    "    html_content=training_week_update_to_html(\n",
    "        mid_week_analysis=mid_week_analysis, \n",
    "        training_week_update_with_planning=training_week_update_with_planning\n",
    "    ),\n",
    ")"
   ]
  },
  {
   "cell_type": "code",
   "execution_count": null,
   "metadata": {},
   "outputs": [],
   "source": []
  }
 ],
 "metadata": {
  "kernelspec": {
   "display_name": ".venv",
   "language": "python",
   "name": "python3"
  },
  "language_info": {
   "codemirror_mode": {
    "name": "ipython",
    "version": 3
   },
   "file_extension": ".py",
   "mimetype": "text/x-python",
   "name": "python",
   "nbconvert_exporter": "python",
   "pygments_lexer": "ipython3",
   "version": "3.12.3"
  }
 },
 "nbformat": 4,
 "nbformat_minor": 2
}
