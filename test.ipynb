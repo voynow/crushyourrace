{
 "cells": [
  {
   "cell_type": "code",
   "execution_count": 1,
   "metadata": {},
   "outputs": [],
   "source": [
    "%load_ext autoreload\n",
    "%autoreload 2"
   ]
  },
  {
   "cell_type": "code",
   "execution_count": 2,
   "metadata": {},
   "outputs": [],
   "source": [
    "import os\n",
    "\n",
    "from src.activities import get_activities_df, get_day_of_week_summaries, get_weekly_summaries\n",
    "from src.auth_manager import get_strava_client\n",
    "from src.training_week import generate_training_week"
   ]
  },
  {
   "cell_type": "code",
   "execution_count": 3,
   "metadata": {},
   "outputs": [
    {
     "name": "stdout",
     "output_type": "stream",
     "text": [
      "athlete_id='98390356' token still valid until 2024-08-09 03:49:42+00:00\n"
     ]
    }
   ],
   "source": [
    "athlete_id = os.environ[\"JAMIES_ATHLETE_ID\"]\n",
    "strava_client = get_strava_client(athlete_id)\n",
    "activities_df = get_activities_df(strava_client)"
   ]
  },
  {
   "cell_type": "code",
   "execution_count": 4,
   "metadata": {},
   "outputs": [],
   "source": [
    "day_of_week_summaries = get_day_of_week_summaries(activities_df)\n",
    "weekly_summaries = get_weekly_summaries(activities_df)"
   ]
  },
  {
   "cell_type": "code",
   "execution_count": 13,
   "metadata": {},
   "outputs": [],
   "source": [
    "client_preferences = \"A) Training for a marathon B) This will be my second marathon C) Prefer workouts on Wednesdays and long runs on Saturdays\"\n",
    "training_week_with_coaching = generate_training_week(\n",
    "    client_preferences=client_preferences, \n",
    "    weekly_summaries=weekly_summaries, \n",
    "    day_of_week_summaries=day_of_week_summaries\n",
    ")"
   ]
  },
  {
   "cell_type": "code",
   "execution_count": 14,
   "metadata": {},
   "outputs": [
    {
     "data": {
      "text/plain": [
       "{'message_id': '<202408090006.72808075952@smtp-relay.mailin.fr>',\n",
       " 'message_ids': None}"
      ]
     },
     "execution_count": 14,
     "metadata": {},
     "output_type": "execute_result"
    }
   ],
   "source": [
    "from src.email_manager import send_email, training_week_to_html\n",
    "\n",
    "send_email(\n",
    "    subject=\"Training Schedule Just Dropped 🏃\",\n",
    "    html_content=training_week_to_html(training_week_with_coaching),\n",
    ")"
   ]
  },
  {
   "cell_type": "code",
   "execution_count": null,
   "metadata": {},
   "outputs": [],
   "source": []
  }
 ],
 "metadata": {
  "kernelspec": {
   "display_name": ".venv",
   "language": "python",
   "name": "python3"
  },
  "language_info": {
   "codemirror_mode": {
    "name": "ipython",
    "version": 3
   },
   "file_extension": ".py",
   "mimetype": "text/x-python",
   "name": "python",
   "nbconvert_exporter": "python",
   "pygments_lexer": "ipython3",
   "version": "3.12.3"
  }
 },
 "nbformat": 4,
 "nbformat_minor": 2
}
