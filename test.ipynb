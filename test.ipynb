{
 "cells": [
  {
   "cell_type": "code",
   "execution_count": 21,
   "metadata": {},
   "outputs": [
    {
     "name": "stdout",
     "output_type": "stream",
     "text": [
      "The autoreload extension is already loaded. To reload it, use:\n",
      "  %reload_ext autoreload\n"
     ]
    }
   ],
   "source": [
    "%load_ext autoreload\n",
    "%autoreload 2"
   ]
  },
  {
   "cell_type": "code",
   "execution_count": 22,
   "metadata": {},
   "outputs": [],
   "source": [
    "import os\n",
    "from freezegun import freeze_time\n",
    "\n",
    "from src.email_manager import mock_send_email\n",
    "from src.lambda_function import run_weekly_update_process, run_mid_week_update_process\n",
    "from src.supabase_client import mock_upsert_training_week_update, mock_upsert_training_week_with_coaching\n",
    "from src.supabase_client import list_users\n",
    "from src.auth_manager import get_strava_client"
   ]
  },
  {
   "cell_type": "code",
   "execution_count": 23,
   "metadata": {},
   "outputs": [],
   "source": [
    "def setup_mock_user():\n",
    "    users = list_users()\n",
    "    mock_user_id = int(os.environ[\"JAMIES_ATHLETE_ID\"])\n",
    "\n",
    "    mock_user = None\n",
    "    for user in users:\n",
    "        if user.athlete_id == mock_user_id:\n",
    "            mock_user = user\n",
    "            break\n",
    "\n",
    "    print(f\"Mock user: {mock_user}\")\n",
    "    return mock_user"
   ]
  },
  {
   "cell_type": "code",
   "execution_count": 32,
   "metadata": {},
   "outputs": [
    {
     "name": "stdout",
     "output_type": "stream",
     "text": [
      "Mock user: athlete_id=98390356 email='voynow99@gmail.com' preferences='A) Training for a marathon B) This will be my second marathon C) Prefer workouts on Wednesdays and long runs on Saturdays' created_at=datetime.datetime(2024, 8, 21, 21, 12, 55, 723179, tzinfo=datetime.timezone.utc)\n",
      "athlete_id=98390356 token still valid until 2024-08-24 23:24:34+00:00\n"
     ]
    }
   ],
   "source": [
    "mock_user = setup_mock_user()\n",
    "\n",
    "# re-authenticate the user if necessary prior to freeze_time\n",
    "get_strava_client(mock_user.athlete_id)\n",
    "\n",
    "@freeze_time(\"2024-08-18 20:00:00\")\n",
    "def mock_weekly_update():\n",
    "    run_weekly_update_process(\n",
    "        user=mock_user,\n",
    "        upsert_fn=mock_upsert_training_week_with_coaching,\n",
    "        email_fn=mock_send_email,\n",
    "    )\n",
    "\n",
    "@freeze_time(\"2024-08-21 20:00:00\")\n",
    "def mock_mid_week_update():\n",
    "    run_mid_week_update_process(\n",
    "        user=mock_user,\n",
    "        upsert_fn=mock_upsert_training_week_update,\n",
    "        email_fn=mock_send_email,\n",
    "    )"
   ]
  },
  {
   "cell_type": "code",
   "execution_count": 36,
   "metadata": {},
   "outputs": [
    {
     "name": "stdout",
     "output_type": "stream",
     "text": [
      "athlete_id=98390356 token still valid until 2024-08-24 23:24:34+00:00\n",
      "{\n",
      "    \"athlete_id\": 98390356,\n",
      "    \"training_week_planning\": \"To distribute the total weekly mileage of 44-46 miles, with a long run of 17-18 miles on Saturday, we can start by planning the rest of the week. If the long run is 18 miles, this leaves us with 26-28 miles for the other sessions. We want to have a speed workout on Wednesday and make Fridays a moderate run to prepare for the Saturday long run. Considering Monday and Thursday as easy runs for recovery, and Tuesday a rest day or a very light session if needed. Sunday is a rest day for full recovery.\\n\\n- Saturday: Long run = 18 miles\\n- Wednesday: Speed workout (such as 5 miles of intervals) = 7 miles total\\n- Monday: Easy run = 5 miles\\n- Thursday: Easy run = 5 miles\\n- Friday: Moderate run = 7 miles\\n\\nThis gives us: 18 (long) + 7 (speed) + 5 (easy) + 5 (easy) + 7 (moderate) = 42 miles, leaving us 2-4 miles to adjust over the week. Let's add another mile to Thursday for a total of 44 miles. \\n\\nTherefore, our total mileage distribution is 45 miles: \\n- Easy runs: Monday and Thursday totaling 11 miles \\n- Moderate run: Friday 7 miles \\n- Speed workout: Wednesday 7 miles \\n- Recovery efforts or rest days: Tuesday and Sunday\\n- Long run: Saturday 18 miles\",\n",
      "    \"training_week\": [\n",
      "        {\n",
      "            \"day\": \"mon\",\n",
      "            \"session_type\": \"easy run\",\n",
      "            \"distance\": 5.0,\n",
      "            \"notes\": \"Easy pace, focus on recovery from the weekend's long run\"\n",
      "        },\n",
      "        {\n",
      "            \"day\": \"tues\",\n",
      "            \"session_type\": \"rest day\",\n",
      "            \"distance\": 0.0,\n",
      "            \"notes\": \"Rest or light cross-training if necessary\"\n",
      "        },\n",
      "        {\n",
      "            \"day\": \"wed\",\n",
      "            \"session_type\": \"speed workout\",\n",
      "            \"distance\": 7.0,\n",
      "            \"notes\": \"2x2mi @ 10k pace with warm-up and cool-down\"\n",
      "        },\n",
      "        {\n",
      "            \"day\": \"thurs\",\n",
      "            \"session_type\": \"easy run\",\n",
      "            \"distance\": 6.0,\n",
      "            \"notes\": \"Easy pace, gentle effort throughout\"\n",
      "        },\n",
      "        {\n",
      "            \"day\": \"fri\",\n",
      "            \"session_type\": \"moderate run\",\n",
      "            \"distance\": 7.0,\n",
      "            \"notes\": \"Steady effort, faster than easy pace but comfortable\"\n",
      "        },\n",
      "        {\n",
      "            \"day\": \"sat\",\n",
      "            \"session_type\": \"long run\",\n",
      "            \"distance\": 18.0,\n",
      "            \"notes\": \"Long slow distance, maintain a steady pace throughout\"\n",
      "        },\n",
      "        {\n",
      "            \"day\": \"sun\",\n",
      "            \"session_type\": \"rest day\",\n",
      "            \"distance\": 0.0,\n",
      "            \"notes\": \"Full rest day to recover from the long run\"\n",
      "        }\n",
      "    ],\n",
      "    \"typical_week_training_review\": \"Your training schedule shows a strong routine with consistency on Wednesdays for more structured workouts and Saturdays for long runs, aligned with your preference for these days. Mondays and Fridays appear to serve as moderate recovery days, while Tuesdays and Thursdays seem lighter, potentially allowing for rest or additional cross-training, with Sundays typically being your rest day or an easy effort.\",\n",
      "    \"weekly_mileage_target\": \"Based on your recent training history, you've been steadily increasing your mileage and long run distances quite well. For Week 34, let's target a total weekly mileage of around 44-46 miles, maintaining a conservative increase to ensure continued progress while reducing injury risk. Aim for a long run of 17-18 miles on Saturday, as you're preparing your body to gradually extend endurance without overexerting yourself. Make sure to continue prioritizing recovery and listening to your body\\u2019s signals to adjust as needed.\"\n",
      "}\n",
      "training_week_with_coaching.total_weekly_mileage=43.0\n",
      "Subject: Training Schedule Just Dropped 🏃\n",
      "To: {'email': 'voynow99@gmail.com', 'name': 'Jamie Voynow'}\n",
      "Sender: {'name': 'Jamie Voynow', 'email': 'voynowtestaddress@gmail.com'}\n",
      "HTML Content: \n",
      "    <html>\n",
      "    <head>\n",
      "        <style>\n",
      "            body {\n",
      "                font-family: Arial, sans-s...\n"
     ]
    }
   ],
   "source": [
    "mock_weekly_update()"
   ]
  },
  {
   "cell_type": "code",
   "execution_count": 37,
   "metadata": {},
   "outputs": [
    {
     "name": "stdout",
     "output_type": "stream",
     "text": [
      "athlete_id=98390356 token still valid until 2024-08-24 23:24:34+00:00\n",
      "{\n",
      "    \"athlete_id\": 98390356,\n",
      "    \"activities\": [\n",
      "        {\n",
      "            \"date\": \"Monday, August 19, 2024\",\n",
      "            \"distance_in_miles\": 13.15,\n",
      "            \"elevation_gain_in_feet\": 1010.5,\n",
      "            \"pace_minutes_per_mile\": 9.71\n",
      "        },\n",
      "        {\n",
      "            \"date\": \"Tuesday, August 20, 2024\",\n",
      "            \"distance_in_miles\": 0.0,\n",
      "            \"elevation_gain_in_feet\": 0.0,\n",
      "            \"pace_minutes_per_mile\": NaN\n",
      "        },\n",
      "        {\n",
      "            \"date\": \"Wednesday, August 21, 2024\",\n",
      "            \"distance_in_miles\": 2.02,\n",
      "            \"elevation_gain_in_feet\": 0.0,\n",
      "            \"pace_minutes_per_mile\": 10.12\n",
      "        }\n",
      "    ],\n",
      "    \"training_week\": [\n",
      "        {\n",
      "            \"day\": \"mon\",\n",
      "            \"session_type\": \"easy run\",\n",
      "            \"distance\": 5.0,\n",
      "            \"notes\": \"Easy pace run to start the week off gently.\"\n",
      "        },\n",
      "        {\n",
      "            \"day\": \"tues\",\n",
      "            \"session_type\": \"easy run\",\n",
      "            \"distance\": 5.0,\n",
      "            \"notes\": \"Continue with an easy run, focusing on form.\"\n",
      "        },\n",
      "        {\n",
      "            \"day\": \"wed\",\n",
      "            \"session_type\": \"speed workout\",\n",
      "            \"distance\": 7.0,\n",
      "            \"notes\": \"Include intervals: 3x1 mile @ 10k pace with 5-minute easy jogs between.\"\n",
      "        },\n",
      "        {\n",
      "            \"day\": \"thurs\",\n",
      "            \"session_type\": \"easy run\",\n",
      "            \"distance\": 5.0,\n",
      "            \"notes\": \"Recovery run at an easy pace.\"\n",
      "        },\n",
      "        {\n",
      "            \"day\": \"fri\",\n",
      "            \"session_type\": \"easy run\",\n",
      "            \"distance\": 5.0,\n",
      "            \"notes\": \"Maintain easy effort, preparing for tomorrow's long run.\"\n",
      "        },\n",
      "        {\n",
      "            \"day\": \"sat\",\n",
      "            \"session_type\": \"long run\",\n",
      "            \"distance\": 17.0,\n",
      "            \"notes\": \"Long run; gradual pace increase; aim to finish strong.\"\n",
      "        },\n",
      "        {\n",
      "            \"day\": \"sun\",\n",
      "            \"session_type\": \"rest day\",\n",
      "            \"distance\": 0.0,\n",
      "            \"notes\": \"Complete rest to allow recovery.\"\n",
      "        }\n",
      "    ],\n",
      "    \"planning\": \"To meet the weekly mileage target of 44.0 miles, and considering the client has already run 15.17 miles, they have 28.83 miles remaining. The current plan for the rest of the week adds up to 27.0 miles (5.0 + 5.0 + 17.0 + 0.0). To achieve the required mileage, we need to add 1.83 miles to the weekly plan. Since the client prefers long runs on Saturdays, we could add this to the long run by extending it to 18.83 miles. Alternatively, we could spread the extra mileage across easy run days. I will choose the option to extend the Saturday long run by 1.83 miles because the client is training for a marathon and it is typical to have more volume on these runs. Additionally, I will redistribute 0.17 miles from either Thursday or Friday to fine-tune the plan so that these adjustments won't cause an excessive leap in effort on any single day.\",\n",
      "    \"training_week_update\": [\n",
      "        {\n",
      "            \"day\": \"thurs\",\n",
      "            \"session_type\": \"easy run\",\n",
      "            \"distance\": 4.83,\n",
      "            \"notes\": \"Recovery run at an easy pace, slightly reduced to adjust weekly mileage.\"\n",
      "        },\n",
      "        {\n",
      "            \"day\": \"fri\",\n",
      "            \"session_type\": \"easy run\",\n",
      "            \"distance\": 5.0,\n",
      "            \"notes\": \"Maintain easy effort, preparing for tomorrow's long run.\"\n",
      "        },\n",
      "        {\n",
      "            \"day\": \"sat\",\n",
      "            \"session_type\": \"long run\",\n",
      "            \"distance\": 19.0,\n",
      "            \"notes\": \"Long run; gradual pace increase; aim to finish strong. Extended run to meet mileage target.\"\n",
      "        },\n",
      "        {\n",
      "            \"day\": \"sun\",\n",
      "            \"session_type\": \"rest day\",\n",
      "            \"distance\": 0.0,\n",
      "            \"notes\": \"Complete rest to allow recovery.\"\n",
      "        }\n",
      "    ]\n",
      "}\n",
      "Subject: Training Schedule Update 🏃\n",
      "To: {'email': 'voynow99@gmail.com', 'name': 'Jamie Voynow'}\n",
      "Sender: {'name': 'Jamie Voynow', 'email': 'voynowtestaddress@gmail.com'}\n",
      "HTML Content: \n",
      "    <html>\n",
      "    <head>\n",
      "        <style>\n",
      "            body {\n",
      "                font-family: Arial, sans-s...\n"
     ]
    }
   ],
   "source": [
    "mock_mid_week_update()"
   ]
  },
  {
   "cell_type": "code",
   "execution_count": 2,
   "metadata": {},
   "outputs": [
    {
     "name": "stdout",
     "output_type": "stream",
     "text": [
      "athlete_id=98390356 email='voynow99@gmail.com' preferences='A) Training for a marathon B) This will be my second marathon C) Prefer workouts on Wednesdays and long runs on Saturdays' created_at=datetime.datetime(2024, 8, 25, 15, 44, 21, 474773)\n"
     ]
    },
    {
     "data": {
      "text/plain": [
       "APIResponse(data=[{'athlete_id': 98390356, 'created_at': '2024-08-25T15:44:21.474773+00:00', 'email': 'voynow99@gmail.com', 'preferences': 'A) Training for a marathon B) This will be my second marathon C) Prefer workouts on Wednesdays and long runs on Saturdays'}], count=None)"
      ]
     },
     "execution_count": 2,
     "metadata": {},
     "output_type": "execute_result"
    }
   ],
   "source": [
    "from src.supabase_client import upsert_user\n",
    "from src.types.user_row import UserRow\n",
    "\n",
    "\n",
    "user = UserRow(\n",
    "        athlete_id=None,\n",
    "        email='voynow99@gmail.com',\n",
    "        preferences=\"A) Training for a marathon B) This will be my second marathon C) Prefer workouts on Wednesdays and long runs on Saturdays\",\n",
    "    )\n",
    "upsert_user(user)"
   ]
  },
  {
   "cell_type": "code",
   "execution_count": null,
   "metadata": {},
   "outputs": [],
   "source": []
  }
 ],
 "metadata": {
  "kernelspec": {
   "display_name": ".venv",
   "language": "python",
   "name": "python3"
  },
  "language_info": {
   "codemirror_mode": {
    "name": "ipython",
    "version": 3
   },
   "file_extension": ".py",
   "mimetype": "text/x-python",
   "name": "python",
   "nbconvert_exporter": "python",
   "pygments_lexer": "ipython3",
   "version": "3.12.3"
  }
 },
 "nbformat": 4,
 "nbformat_minor": 2
}
