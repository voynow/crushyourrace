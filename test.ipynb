{
 "cells": [
  {
   "cell_type": "code",
   "execution_count": 2,
   "metadata": {},
   "outputs": [],
   "source": [
    "%load_ext autoreload\n",
    "%autoreload 2"
   ]
  },
  {
   "cell_type": "markdown",
   "metadata": {},
   "source": [
    "# Trigger Lambda E2E"
   ]
  },
  {
   "cell_type": "code",
   "execution_count": 3,
   "metadata": {},
   "outputs": [],
   "source": [
    "# import requests\n",
    "# import os\n",
    "\n",
    "# url = \"https://lwg77yq7dd.execute-api.us-east-1.amazonaws.com/prod/signup\"\n",
    "\n",
    "# response = requests.post(url, json={\n",
    "#     \"trigger_test_key\": os.environ[\"TRIGGER_TEST_KEY\"]\n",
    "# })\n",
    "\n",
    "# response.json()"
   ]
  },
  {
   "cell_type": "code",
   "execution_count": 1,
   "metadata": {},
   "outputs": [
    {
     "name": "stderr",
     "output_type": "stream",
     "text": [
      "No rates present in response headers\n"
     ]
    }
   ],
   "source": [
    "import os\n",
    "from src.auth_manager import get_strava_client\n",
    "from src.supabase_client import get_user\n",
    "from src.activities import get_activity_summaries\n",
    "\n",
    "user = get_user(os.environ[\"JAMIES_ATHLETE_ID\"])\n",
    "strava_client = get_strava_client(user.athlete_id)\n",
    "summaries = get_activity_summaries(strava_client)"
   ]
  },
  {
   "cell_type": "code",
   "execution_count": 2,
   "metadata": {},
   "outputs": [
    {
     "data": {
      "text/plain": [
       "[ActivitySummary(date='Monday, September 16, 2024', distance_in_miles=0.0, elevation_gain_in_feet=0.0, pace_minutes_per_mile=None),\n",
       " ActivitySummary(date='Tuesday, September 17, 2024', distance_in_miles=0.0, elevation_gain_in_feet=0.0, pace_minutes_per_mile=None),\n",
       " ActivitySummary(date='Wednesday, September 18, 2024', distance_in_miles=0.0, elevation_gain_in_feet=0.0, pace_minutes_per_mile=None),\n",
       " ActivitySummary(date='Thursday, September 19, 2024', distance_in_miles=0.0, elevation_gain_in_feet=0.0, pace_minutes_per_mile=None),\n",
       " ActivitySummary(date='Friday, September 20, 2024', distance_in_miles=0.0, elevation_gain_in_feet=0.0, pace_minutes_per_mile=None),\n",
       " ActivitySummary(date='Saturday, September 21, 2024', distance_in_miles=0.0, elevation_gain_in_feet=0.0, pace_minutes_per_mile=None),\n",
       " ActivitySummary(date='Sunday, September 22, 2024', distance_in_miles=0.0, elevation_gain_in_feet=0.0, pace_minutes_per_mile=None),\n",
       " ActivitySummary(date='Monday, September 23, 2024', distance_in_miles=0.0, elevation_gain_in_feet=0.0, pace_minutes_per_mile=None),\n",
       " ActivitySummary(date='Tuesday, September 24, 2024', distance_in_miles=1.0, elevation_gain_in_feet=26.25, pace_minutes_per_mile=10.32),\n",
       " ActivitySummary(date='Wednesday, September 25, 2024', distance_in_miles=4.56, elevation_gain_in_feet=29.53, pace_minutes_per_mile=9.69),\n",
       " ActivitySummary(date='Thursday, September 26, 2024', distance_in_miles=0.0, elevation_gain_in_feet=0.0, pace_minutes_per_mile=None),\n",
       " ActivitySummary(date='Friday, September 27, 2024', distance_in_miles=5.8, elevation_gain_in_feet=196.85, pace_minutes_per_mile=9.66),\n",
       " ActivitySummary(date='Saturday, September 28, 2024', distance_in_miles=9.01, elevation_gain_in_feet=164.04, pace_minutes_per_mile=9.48),\n",
       " ActivitySummary(date='Sunday, September 29, 2024', distance_in_miles=0.0, elevation_gain_in_feet=0.0, pace_minutes_per_mile=None),\n",
       " ActivitySummary(date='Monday, September 30, 2024', distance_in_miles=0.0, elevation_gain_in_feet=0.0, pace_minutes_per_mile=None),\n",
       " ActivitySummary(date='Tuesday, October 01, 2024', distance_in_miles=9.04, elevation_gain_in_feet=410.11, pace_minutes_per_mile=9.64),\n",
       " ActivitySummary(date='Wednesday, October 02, 2024', distance_in_miles=11.74, elevation_gain_in_feet=259.19, pace_minutes_per_mile=8.98),\n",
       " ActivitySummary(date='Thursday, October 03, 2024', distance_in_miles=4.24, elevation_gain_in_feet=49.21, pace_minutes_per_mile=9.85),\n",
       " ActivitySummary(date='Friday, October 04, 2024', distance_in_miles=0.0, elevation_gain_in_feet=0.0, pace_minutes_per_mile=None),\n",
       " ActivitySummary(date='Saturday, October 05, 2024', distance_in_miles=18.01, elevation_gain_in_feet=551.18, pace_minutes_per_mile=9.68),\n",
       " ActivitySummary(date='Sunday, October 06, 2024', distance_in_miles=2.02, elevation_gain_in_feet=0.0, pace_minutes_per_mile=9.55),\n",
       " ActivitySummary(date='Monday, October 07, 2024', distance_in_miles=8.01, elevation_gain_in_feet=331.36, pace_minutes_per_mile=9.0),\n",
       " ActivitySummary(date='Tuesday, October 08, 2024', distance_in_miles=6.03, elevation_gain_in_feet=88.58, pace_minutes_per_mile=10.03),\n",
       " ActivitySummary(date='Wednesday, October 09, 2024', distance_in_miles=8.5, elevation_gain_in_feet=311.68, pace_minutes_per_mile=8.69),\n",
       " ActivitySummary(date='Thursday, October 10, 2024', distance_in_miles=0.0, elevation_gain_in_feet=0.0, pace_minutes_per_mile=None),\n",
       " ActivitySummary(date='Friday, October 11, 2024', distance_in_miles=7.51, elevation_gain_in_feet=364.17, pace_minutes_per_mile=9.36),\n",
       " ActivitySummary(date='Saturday, October 12, 2024', distance_in_miles=0.0, elevation_gain_in_feet=0.0, pace_minutes_per_mile=None),\n",
       " ActivitySummary(date='Sunday, October 13, 2024', distance_in_miles=20.03, elevation_gain_in_feet=574.15, pace_minutes_per_mile=9.11),\n",
       " ActivitySummary(date='Monday, October 14, 2024', distance_in_miles=4.03, elevation_gain_in_feet=167.32, pace_minutes_per_mile=10.2),\n",
       " ActivitySummary(date='Tuesday, October 15, 2024', distance_in_miles=7.02, elevation_gain_in_feet=308.4, pace_minutes_per_mile=9.59),\n",
       " ActivitySummary(date='Wednesday, October 16, 2024', distance_in_miles=11.57, elevation_gain_in_feet=367.45, pace_minutes_per_mile=9.15),\n",
       " ActivitySummary(date='Thursday, October 17, 2024', distance_in_miles=0.0, elevation_gain_in_feet=0.0, pace_minutes_per_mile=None),\n",
       " ActivitySummary(date='Friday, October 18, 2024', distance_in_miles=2.02, elevation_gain_in_feet=91.86, pace_minutes_per_mile=10.26),\n",
       " ActivitySummary(date='Saturday, October 19, 2024', distance_in_miles=0.0, elevation_gain_in_feet=0.0, pace_minutes_per_mile=None),\n",
       " ActivitySummary(date='Sunday, October 20, 2024', distance_in_miles=20.02, elevation_gain_in_feet=1013.78, pace_minutes_per_mile=9.26),\n",
       " ActivitySummary(date='Monday, October 21, 2024', distance_in_miles=3.06, elevation_gain_in_feet=137.8, pace_minutes_per_mile=11.12),\n",
       " ActivitySummary(date='Tuesday, October 22, 2024', distance_in_miles=7.53, elevation_gain_in_feet=367.45, pace_minutes_per_mile=9.82),\n",
       " ActivitySummary(date='Wednesday, October 23, 2024', distance_in_miles=10.77, elevation_gain_in_feet=531.5, pace_minutes_per_mile=9.05),\n",
       " ActivitySummary(date='Thursday, October 24, 2024', distance_in_miles=0.0, elevation_gain_in_feet=0.0, pace_minutes_per_mile=None),\n",
       " ActivitySummary(date='Friday, October 25, 2024', distance_in_miles=0.0, elevation_gain_in_feet=0.0, pace_minutes_per_mile=None),\n",
       " ActivitySummary(date='Saturday, October 26, 2024', distance_in_miles=20.02, elevation_gain_in_feet=708.66, pace_minutes_per_mile=8.72),\n",
       " ActivitySummary(date='Sunday, October 27, 2024', distance_in_miles=0.0, elevation_gain_in_feet=0.0, pace_minutes_per_mile=None),\n",
       " ActivitySummary(date='Monday, October 28, 2024', distance_in_miles=0.0, elevation_gain_in_feet=0.0, pace_minutes_per_mile=None),\n",
       " ActivitySummary(date='Tuesday, October 29, 2024', distance_in_miles=8.03, elevation_gain_in_feet=360.89, pace_minutes_per_mile=10.0),\n",
       " ActivitySummary(date='Wednesday, October 30, 2024', distance_in_miles=12.21, elevation_gain_in_feet=229.66, pace_minutes_per_mile=8.71),\n",
       " ActivitySummary(date='Thursday, October 31, 2024', distance_in_miles=4.03, elevation_gain_in_feet=180.45, pace_minutes_per_mile=9.96),\n",
       " ActivitySummary(date='Friday, November 01, 2024', distance_in_miles=0.0, elevation_gain_in_feet=0.0, pace_minutes_per_mile=None),\n",
       " ActivitySummary(date='Saturday, November 02, 2024', distance_in_miles=15.81, elevation_gain_in_feet=564.3, pace_minutes_per_mile=8.84),\n",
       " ActivitySummary(date='Sunday, November 03, 2024', distance_in_miles=0.0, elevation_gain_in_feet=0.0, pace_minutes_per_mile=None),\n",
       " ActivitySummary(date='Monday, November 04, 2024', distance_in_miles=8.37, elevation_gain_in_feet=173.88, pace_minutes_per_mile=9.66)]"
      ]
     },
     "execution_count": 2,
     "metadata": {},
     "output_type": "execute_result"
    }
   ],
   "source": [
    "summaries"
   ]
  },
  {
   "cell_type": "code",
   "execution_count": null,
   "metadata": {},
   "outputs": [],
   "source": []
  }
 ],
 "metadata": {
  "kernelspec": {
   "display_name": ".venv",
   "language": "python",
   "name": "python3"
  },
  "language_info": {
   "codemirror_mode": {
    "name": "ipython",
    "version": 3
   },
   "file_extension": ".py",
   "mimetype": "text/x-python",
   "name": "python",
   "nbconvert_exporter": "python",
   "pygments_lexer": "ipython3",
   "version": "3.11.9"
  }
 },
 "nbformat": 4,
 "nbformat_minor": 2
}
