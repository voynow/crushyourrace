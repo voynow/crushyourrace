{
 "cells": [
  {
   "cell_type": "code",
   "execution_count": 3,
   "metadata": {},
   "outputs": [
    {
     "name": "stdout",
     "output_type": "stream",
     "text": [
      "The autoreload extension is already loaded. To reload it, use:\n",
      "  %reload_ext autoreload\n"
     ]
    }
   ],
   "source": [
    "%load_ext autoreload\n",
    "%autoreload 2"
   ]
  },
  {
   "cell_type": "code",
   "execution_count": 4,
   "metadata": {},
   "outputs": [],
   "source": [
    "import os\n",
    "\n",
    "import polars as pl\n",
    "from freezegun import freeze_time\n",
    "\n",
    "from src.activities import (\n",
    "    get_activities_df,\n",
    "    get_activity_summaries,\n",
    "    get_day_of_week_summaries,\n",
    "    get_weekly_summaries,\n",
    ")\n",
    "from src.auth_manager import get_strava_client\n",
    "from src.constants import COACH_ROLE\n",
    "from src.email_manager import (\n",
    "    send_email,\n",
    "    training_week_to_html,\n",
    "    training_week_update_to_html,\n",
    ")\n",
    "from src.supabase_client import (\n",
    "    get_training_week_with_coaching,\n",
    "    upsert_training_week_update,\n",
    "    upsert_training_week_with_coaching,\n",
    ")\n",
    "from src.training_week import generate_training_week\n",
    "from src.training_week_update import get_updated_training_week\n",
    "from src.types.mid_week_analysis import MidWeekAnalysis\n"
   ]
  },
  {
   "cell_type": "markdown",
   "metadata": {},
   "source": [
    "# Sunday Night Training Week Message"
   ]
  },
  {
   "cell_type": "code",
   "execution_count": 3,
   "metadata": {},
   "outputs": [
    {
     "name": "stdout",
     "output_type": "stream",
     "text": [
      "athlete_id='98390356' token still valid until 2024-08-19 02:00:31+00:00\n"
     ]
    },
    {
     "data": {
      "text/plain": [
       "{'message_id': '<202408182143.60797480276@smtp-relay.mailin.fr>',\n",
       " 'message_ids': None}"
      ]
     },
     "execution_count": 3,
     "metadata": {},
     "output_type": "execute_result"
    }
   ],
   "source": [
    "@freeze_time(\"2024-08-11 20:00:00\")\n",
    "def get_activities_df_wrapper(strava_client):\n",
    "    return get_activities_df(strava_client)\n",
    "\n",
    "client_preferences = \"A) Training for a marathon B) This will be my second marathon C) Prefer workouts on Wednesdays and long runs on Saturdays\"\n",
    "sysmsg_base = f\"{COACH_ROLE}\\nYour client has included the following preferences: {client_preferences}\\n\"\n",
    "\n",
    "# activities setup\n",
    "athlete_id = os.environ[\"JAMIES_ATHLETE_ID\"]\n",
    "strava_client = get_strava_client(athlete_id)\n",
    "activities_df = get_activities_df_wrapper(strava_client)\n",
    "\n",
    "# gen training week pipeline\n",
    "day_of_week_summaries = get_day_of_week_summaries(activities_df)\n",
    "weekly_summaries = get_weekly_summaries(activities_df)\n",
    "training_week_with_coaching = generate_training_week(\n",
    "    sysmsg_base=sysmsg_base,\n",
    "    weekly_summaries=weekly_summaries,\n",
    "    day_of_week_summaries=day_of_week_summaries,\n",
    ")\n",
    "\n",
    "# save data to db and trigger email\n",
    "upsert_training_week_with_coaching(\n",
    "    athlete_id=athlete_id, training_week_with_coaching=training_week_with_coaching\n",
    ")\n",
    "send_email(\n",
    "    subject=\"Training Schedule Just Dropped 🏃\",\n",
    "    html_content=training_week_to_html(training_week_with_coaching),\n",
    ")"
   ]
  },
  {
   "cell_type": "markdown",
   "metadata": {},
   "source": [
    "# Mid-Week Update"
   ]
  },
  {
   "cell_type": "code",
   "execution_count": 5,
   "metadata": {},
   "outputs": [
    {
     "name": "stdout",
     "output_type": "stream",
     "text": [
      "athlete_id='98390356' token still valid until 2024-08-19 02:00:31+00:00\n"
     ]
    },
    {
     "data": {
      "text/plain": [
       "APIResponse(data=[{'id': 15, 'athlete_id': 98390356, 'activities': '[{\"date_and_time\": \"Monday, August 12, 2024 06:06 AM\", \"distance_in_miles\": 8.01, \"elevation_gain_in_feet\": 183.73, \"pace_minutes_per_mile\": 9.43}, {\"date_and_time\": \"Tuesday, August 13, 2024 06:15 AM\", \"distance_in_miles\": 4.01, \"elevation_gain_in_feet\": 52.49, \"pace_minutes_per_mile\": 10.64}]', 'training_week': '[{\"day\": \"sat\", \"session_type\": \"long run\", \"distance\": 15.0, \"notes\": \"Long run at easy pace, aiming for 15 miles to build endurance for the marathon.\"}, {\"day\": \"wed\", \"session_type\": \"speed workout\", \"distance\": 6.0, \"notes\": \"Speed workout, including intervals: 2 miles warm-up, 2x1.5 miles at 10k pace (7m 30s), 1 mile cool-down.\"}, {\"day\": \"sun\", \"session_type\": \"easy run\", \"distance\": 5.0, \"notes\": \"Recovery run at easy pace to help recover from long run.\"}, {\"day\": \"mon\", \"session_type\": \"moderate run\", \"distance\": 5.0, \"notes\": \"Moderate pace run, slightly faster than easy pace.\"}, {\"day\": \"tues\", \"session_type\": \"easy run\", \"distance\": 4.0, \"notes\": \"Easy pace run, relaxed effort.\"}, {\"day\": \"fri\", \"session_type\": \"easy run\", \"distance\": 4.0, \"notes\": \"Easy pace run, relaxed effort to stay fresh for the long run.\"}, {\"day\": \"thurs\", \"session_type\": \"rest day\", \"distance\": 0.0, \"notes\": \"Rest day or cross-training, focusing on recovery.\"}]', 'planning': \"The client has already completed 12.02 miles running on Monday and Tuesday. The weekly target is 39.0 miles, so they have 26.98 miles left to run. We must distribute this mileage over the remaining days of the week, keeping their preference for speed workouts on Wednesdays and long runs on Saturdays. Here's a step-by-step plan: Wednesday: As a speed workout day, plan a moderate distance speed session of 5 miles. Thursday: Rest day to recover from the speed workout. Friday: An easy run of 5 miles to keep the legs moving. Saturday: Long run day, where we should plan a long run of 10 miles. Sunday: Another easy run to make up the remainder, 6.98 miles. Let's ensure to spread these runs keeping in mind the training needs and recovery, adjusting if needed.\", 'training_week_update': '[{\"day\": \"wed\", \"session_type\": \"speed workout\", \"distance\": 5.0, \"notes\": \"Tempo run at 7m 30s pace\"}, {\"day\": \"thurs\", \"session_type\": \"rest day\", \"distance\": 0.0, \"notes\": \"Full recovery\"}, {\"day\": \"fri\", \"session_type\": \"easy run\", \"distance\": 5.0, \"notes\": \"Easy pace\"}, {\"day\": \"sat\", \"session_type\": \"long run\", \"distance\": 10.0, \"notes\": \"Steady pace, focus on endurance\"}, {\"day\": \"sun\", \"session_type\": \"easy run\", \"distance\": 6.98, \"notes\": \"Easy pace, enjoy the run\"}]', 'created_at': '2024-08-18T22:24:05.552442+00:00'}], count=None)"
      ]
     },
     "execution_count": 5,
     "metadata": {},
     "output_type": "execute_result"
    }
   ],
   "source": [
    "@freeze_time(\"2024-08-13 20:00:00\")\n",
    "def mock_get_activity_summaries(strava_client, num_weeks=8):\n",
    "    return get_activity_summaries(strava_client, num_weeks)\n",
    "\n",
    "client_preferences = \"A) Training for a marathon B) This will be my second marathon C) Prefer workouts on Wednesdays and long runs on Saturdays\"\n",
    "sysmsg_base = f\"{COACH_ROLE}\\nYour client has included the following preferences: {client_preferences}\\n\"\n",
    "\n",
    "athlete_id = os.environ[\"JAMIES_ATHLETE_ID\"]\n",
    "strava_client = get_strava_client(athlete_id)\n",
    "\n",
    "training_week_with_coaching = get_training_week_with_coaching(athlete_id)\n",
    "current_weeks_activity_summaries = mock_get_activity_summaries(strava_client, num_weeks=1)\n",
    "mid_week_analysis = MidWeekAnalysis(\n",
    "    activities=current_weeks_activity_summaries,\n",
    "    training_week=training_week_with_coaching.training_week,\n",
    ")\n",
    "training_week_update_with_planning = get_updated_training_week(\n",
    "    sysmsg_base=sysmsg_base, \n",
    "    mid_week_analysis=mid_week_analysis\n",
    ")\n",
    "\n",
    "upsert_training_week_update(\n",
    "    athlete_id=athlete_id,\n",
    "    mid_week_analysis=mid_week_analysis,\n",
    "    training_week_update_with_planning=training_week_update_with_planning,\n",
    ")\n",
    "\n",
    "send_email(\n",
    "    subject=\"Training Schedule Update 🏃\",\n",
    "    html_content=training_week_update_to_html(\n",
    "        mid_week_analysis=mid_week_analysis, \n",
    "        training_week_update_with_planning=training_week_update_with_planning\n",
    "    ),\n",
    ")"
   ]
  },
  {
   "cell_type": "code",
   "execution_count": 12,
   "metadata": {},
   "outputs": [
    {
     "name": "stdout",
     "output_type": "stream",
     "text": [
      "athlete_id='98390356' token still valid until 2024-08-19 02:00:31+00:00\n",
      "athlete_id='98390356' token still valid until 2024-08-19 02:00:31+00:00\n"
     ]
    }
   ],
   "source": [
    "from src.lambda_function import lambda_handler\n",
    "\n",
    "@freeze_time(\"2024-08-18 20:00:00\")\n",
    "def test_sunday_workflow():\n",
    "    lambda_handler({}, {})\n",
    "\n",
    "@freeze_time(\"2024-08-13 20:00:00\")\n",
    "def test_mid_week_workflow():\n",
    "    lambda_handler({}, {})\n",
    "\n",
    "test_sunday_workflow()\n",
    "test_mid_week_workflow()"
   ]
  },
  {
   "cell_type": "code",
   "execution_count": null,
   "metadata": {},
   "outputs": [],
   "source": []
  }
 ],
 "metadata": {
  "kernelspec": {
   "display_name": ".venv",
   "language": "python",
   "name": "python3"
  },
  "language_info": {
   "codemirror_mode": {
    "name": "ipython",
    "version": 3
   },
   "file_extension": ".py",
   "mimetype": "text/x-python",
   "name": "python",
   "nbconvert_exporter": "python",
   "pygments_lexer": "ipython3",
   "version": "3.12.3"
  }
 },
 "nbformat": 4,
 "nbformat_minor": 2
}
