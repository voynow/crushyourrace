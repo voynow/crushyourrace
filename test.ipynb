{
 "cells": [
  {
   "cell_type": "code",
   "execution_count": 1,
   "metadata": {},
   "outputs": [],
   "source": [
    "%load_ext autoreload\n",
    "%autoreload 2"
   ]
  },
  {
   "cell_type": "code",
   "execution_count": 21,
   "metadata": {},
   "outputs": [],
   "source": [
    "import os\n",
    "import json\n",
    "from pprint import pprint\n",
    "\n",
    "from src.supabase_client import get_user\n",
    "from tests.common import run_new_training_week_process_wrapped, run_mid_week_update_process_wrapped\n"
   ]
  },
  {
   "cell_type": "markdown",
   "metadata": {},
   "source": [
    "# Test with Jamie"
   ]
  },
  {
   "cell_type": "code",
   "execution_count": 7,
   "metadata": {},
   "outputs": [
    {
     "name": "stdout",
     "output_type": "stream",
     "text": [
      "athlete_id=98390356 token still valid until 2024-08-28 20:18:36+00:00\n",
      "athlete_id=98390356 token still valid until 2024-08-28 20:18:36+00:00\n",
      "TrainingWeekWithCoaching(typical_week_training_review=Your current training schedule shows a preference for workouts on Wednesdays and long runs on Saturdays, aligning well with your goals. You typically include rest or lighter running days on Sundays and incorporate moderate pacing throughout the week. To enhance marathon preparation, incorporating specific speed work on Wednesdays and ensuring a consistent long run on Saturdays will be beneficial., weekly_mileage_target=For Week 35, let's aim to slightly increase your mileage while still maintaining a conservative approach to ensure you're building safely. Target a total weekly mileage of around 46-47 miles, with your long run being approximately 16.5-17 miles. This progression aligns closely with your recent training pattern, allowing for a small but manageable increase that should keep you on track and help avoid injuries. Make sure to listen to your body and adjust as needed to stay healthy and strong on your journey to the marathon., planning=To create a balanced training plan for the week, we need to distribute the 46-47 miles over the days while focusing on a long run of 16.5-17 miles on Saturday and a speed workout on Wednesday. We will have the following breakdown: Monday is an easy run day to recover from the weekend's long run; Tuesday will be a moderate run; Wednesday is the primary workout day with speed work; Thursday will be an easy run to recover from the workout; Friday is another easy run to allow for recovery before the long run; Saturday will be the long run of 16.5-17 miles; finally, Sunday will be a rest day. Let's allocate: Monday - 5 miles easy, Tuesday - 7 miles moderate, Wednesday - 8 miles speed workout, Thursday - 5 miles easy, Friday - 4 miles easy, Saturday - 17 miles long run, and Sunday - rest day. This distribution gives us exactly 46 miles, meeting the target range. Wednesday's workout will focus on marathon pace and tempo intervals., training_week=[TrainingSession(day=<Day.MON: 'mon'>, session_type=<SessionType.EASY: 'easy run'>, distance=5.0, notes=\"Run at an easy pace to recover from the previous week's work.\"), TrainingSession(day=<Day.TUES: 'tues'>, session_type=<SessionType.MODERATE: 'moderate run'>, distance=7.0, notes='Moderate pacing throughout the run, slightly faster than easy pace.'), TrainingSession(day=<Day.WED: 'wed'>, session_type=<SessionType.SPEED: 'speed workout'>, distance=8.0, notes='Include tempo intervals: 2 miles warm-up, 3x1.5 miles at marathon pace with 0.5-mile recovery, 2 miles cool-down.'), TrainingSession(day=<Day.THURS: 'thurs'>, session_type=<SessionType.EASY: 'easy run'>, distance=5.0, notes='Run at an easy pace to recover from the speed workout.'), TrainingSession(day=<Day.FRI: 'fri'>, session_type=<SessionType.EASY: 'easy run'>, distance=4.0, notes='Easy pace to prepare for the long run.'), TrainingSession(day=<Day.SAT: 'sat'>, session_type=<SessionType.LONG: 'long run'>, distance=17.0, notes='Steady long run at an easy to moderate pace, maintain hydration and nutrition.'), TrainingSession(day=<Day.SUN: 'sun'>, session_type=<SessionType.REST: 'rest day'>, distance=0.0, notes='Complete rest day for recovery.')])\n"
     ]
    }
   ],
   "source": [
    "mock_user = get_user(os.environ[\"JAMIES_ATHLETE_ID\"])\n",
    "response = run_new_training_week_process_wrapped(mock_user)\n",
    "print(response)"
   ]
  },
  {
   "cell_type": "code",
   "execution_count": 8,
   "metadata": {},
   "outputs": [
    {
     "name": "stdout",
     "output_type": "stream",
     "text": [
      "athlete_id=98390356 token still valid until 2024-08-28 20:18:36+00:00\n",
      "athlete_id=98390356 token still valid until 2024-08-28 20:18:36+00:00\n",
      "TrainingWeekWithPlanning(planning=The target for the week is to run a total of 46.0 miles. The client has already run 10.04 miles, leaving 35.96 miles to cover. The current plan adds up to 34.0 miles, which means we need to add 1.96 miles to the plan. There are five sessions left: a speed workout on Wednesday, a rest day on Thursday, an easy run on Friday, a long run on Saturday, and an easy run on Sunday. The rest day on Thursday does not contribute mileage. To distribute the extra mileage, we can slightly extend the length of the Friday easy run and the Sunday easy run, as the client may prefer not to add to the speed workout or long run. Currently, the Friday run is planned at 5.0 miles and the Sunday run at 4.0 miles. We will add 1.0 mile to the Friday run and 0.96 miles to the Sunday run. The adjusted plan is as follows: Wednesday speed workout at 8.0 miles remains unchanged; Thursday rest day; Friday easy run increased to 6.0 miles; Saturday long run remains at 17.0 miles; Sunday easy run increased to 4.96 miles. This adjustment brings the total planned mileage to exactly 35.96 miles., training_week=[TrainingSession(day=<Day.WED: 'wed'>, session_type=<SessionType.SPEED: 'speed workout'>, distance=8.0, notes='5x1 mile repeats at 9:20 pace with 1-mile warm-up and cool-down.'), TrainingSession(day=<Day.THURS: 'thurs'>, session_type=<SessionType.REST: 'rest day'>, distance=0.0, notes='Full rest to recover and prepare for the remainder of the training week.'), TrainingSession(day=<Day.FRI: 'fri'>, session_type=<SessionType.EASY: 'easy run'>, distance=6.0, notes='Easy pace to keep legs fresh.'), TrainingSession(day=<Day.SAT: 'sat'>, session_type=<SessionType.LONG: 'long run'>, distance=17.0, notes='Long endurance run, keep a steady pace. Hydrate well.'), TrainingSession(day=<Day.SUN: 'sun'>, session_type=<SessionType.EASY: 'easy run'>, distance=4.96, notes='Recovery pace, relax and enjoy the run.')])\n"
     ]
    }
   ],
   "source": [
    "mock_user = get_user(os.environ[\"JAMIES_ATHLETE_ID\"])\n",
    "response = run_mid_week_update_process_wrapped(mock_user)\n",
    "print(response)"
   ]
  },
  {
   "cell_type": "markdown",
   "metadata": {},
   "source": [
    "# Training week accuracy"
   ]
  },
  {
   "cell_type": "code",
   "execution_count": 13,
   "metadata": {},
   "outputs": [
    {
     "name": "stdout",
     "output_type": "stream",
     "text": [
      "Loading 2024-08-28_16-47-43.json\n"
     ]
    }
   ],
   "source": [
    "\n",
    "\n",
    "\n",
    "path = 'tests/artifacts/new_training_week_errors'\n",
    "files = os.listdir(path)\n",
    "\n",
    "for file in files:\n",
    "    print(f\"Loading {file}\")\n",
    "    with open(os.path.join(path, file), \"r\") as f:\n",
    "        results = json.load(f)"
   ]
  },
  {
   "cell_type": "code",
   "execution_count": 23,
   "metadata": {},
   "outputs": [
    {
     "name": "stdout",
     "output_type": "stream",
     "text": [
      "{'error': 6.0,\n",
      " 'generated_weekly_mileage': 34.0,\n",
      " 'planning': 'To plan a balanced training week increasing to 27-28 miles with '\n",
      "             'a 17-18 mile long run, I will distribute the remaining mileage '\n",
      "             'across the week with one speed workout and efforts on most days '\n",
      "             'for balanced training and recovery. Long run will be scheduled '\n",
      "             \"on Saturday based on client's history, speed work on Wednesday, \"\n",
      "             'and a rest day on Friday. Total planned mileage target is 27-28 '\n",
      "             'miles. Adding an easy run on Mon with 4 miles, Tuesday moderate '\n",
      "             'run of 5 miles, speed workout of 4 miles, rest on Friday (0m), '\n",
      "             'Long run Saturday of 17 miles, and short recovery of 2 miles on '\n",
      "             'Sunday. This totals 4 + 5 + 4 + 4 + 17 + 2 = 36 miles, adjust '\n",
      "             'Thursday’s easy run to 2 miles makes it 27 miles total, within '\n",
      "             'the 27-28 mileage target.',\n",
      " 'recommended_weekly_mileage': '27-28',\n",
      " 'training_week': [{'day': 'mon',\n",
      "                    'distance': 4.0,\n",
      "                    'notes': 'easy pace',\n",
      "                    'session_type': 'easy run'},\n",
      "                   {'day': 'tues',\n",
      "                    'distance': 5.0,\n",
      "                    'notes': 'moderate pace to maintain steady aerobic effort',\n",
      "                    'session_type': 'moderate run'},\n",
      "                   {'day': 'wed',\n",
      "                    'distance': 4.0,\n",
      "                    'notes': '2x2mi @ 10k pace <converted 7.5 pace>',\n",
      "                    'session_type': 'speed workout'},\n",
      "                   {'day': 'thurs',\n",
      "                    'distance': 2.0,\n",
      "                    'notes': 'relaxed recovery pace',\n",
      "                    'session_type': 'easy run'},\n",
      "                   {'day': 'fri',\n",
      "                    'distance': 0.0,\n",
      "                    'notes': 'Rest day, take it easy!',\n",
      "                    'session_type': 'rest day'},\n",
      "                   {'day': 'sat',\n",
      "                    'distance': 17.0,\n",
      "                    'notes': 'long slow distance to build endurance',\n",
      "                    'session_type': 'long run'},\n",
      "                   {'day': 'sun',\n",
      "                    'distance': 2.0,\n",
      "                    'notes': 'easy pace to recover after long run',\n",
      "                    'session_type': 'easy run'}],\n",
      " 'user': {'athlete_id': 71401117,\n",
      "          'created_at': '2024-08-26 16:40:55.246341+00:00',\n",
      "          'email': 'jaredpalek8@gmail.com',\n",
      "          'preferences': 'Marathon '}}\n",
      "---\n",
      "{'error': 5.5,\n",
      " 'generated_weekly_mileage': 40.5,\n",
      " 'planning': 'To create a balanced training week, we need to distribute 46-47 '\n",
      "             'miles strategically over the course of the week, with special '\n",
      "             \"attention to the client's preference for a speed workout on \"\n",
      "             'Wednesday and a long run on Saturday. The long run should be '\n",
      "             'between 16-17 miles. Starting with the long run: \\n'\n",
      "             '- Long run: 16.5 miles on Saturday (midpoint of target range).\\n'\n",
      "             '\\n'\n",
      "             'Now, distribute the remaining mileage:\\n'\n",
      "             '- Weekly target: 46.5 miles (midpoint of target range)\\n'\n",
      "             '- Remaining after long run: 46.5 - 16.5 = 30 miles.\\n'\n",
      "             '\\n'\n",
      "             'Plan:\\n'\n",
      "             '1. Monday: Easy run of 5 miles to start the week comfortably '\n",
      "             \"after Sunday's rest.\\n\"\n",
      "             '2. Tuesday: Moderate run of 6 miles.\\n'\n",
      "             '3. Wednesday: Speed workout, covering 8 miles in total, with '\n",
      "             'intervals (2x2mi @ 10k pace with 1 mile warm-up and cool-down).\\n'\n",
      "             '4. Thursday: Easy recovery run of 5 miles.\\n'\n",
      "             '5. Friday: Rest day to recover before long run.\\n'\n",
      "             '6. Saturday: Long run of 16.5 miles at a pace slightly slower '\n",
      "             'than race pace.\\n'\n",
      "             '7. Sunday: Rest day.\\n'\n",
      "             '\\n'\n",
      "             'This plan provides a balanced approach, allocating 7 training '\n",
      "             'sessions over the week.',\n",
      " 'recommended_weekly_mileage': '46-47',\n",
      " 'training_week': [{'day': 'mon',\n",
      "                    'distance': 5.0,\n",
      "                    'notes': 'easy pace',\n",
      "                    'session_type': 'easy run'},\n",
      "                   {'day': 'tues',\n",
      "                    'distance': 6.0,\n",
      "                    'notes': 'moderate pace',\n",
      "                    'session_type': 'moderate run'},\n",
      "                   {'day': 'wed',\n",
      "                    'distance': 8.0,\n",
      "                    'notes': '2x2mi @ 10k pace with 1 mi warm-up and cool-down',\n",
      "                    'session_type': 'speed workout'},\n",
      "                   {'day': 'thurs',\n",
      "                    'distance': 5.0,\n",
      "                    'notes': 'easy pace',\n",
      "                    'session_type': 'easy run'},\n",
      "                   {'day': 'fri',\n",
      "                    'distance': 0.0,\n",
      "                    'notes': 'rest day',\n",
      "                    'session_type': 'rest day'},\n",
      "                   {'day': 'sat',\n",
      "                    'distance': 16.5,\n",
      "                    'notes': 'steady pace',\n",
      "                    'session_type': 'long run'},\n",
      "                   {'day': 'sun',\n",
      "                    'distance': 0.0,\n",
      "                    'notes': 'rest day',\n",
      "                    'session_type': 'rest day'}],\n",
      " 'user': {'athlete_id': 98390356,\n",
      "          'created_at': '2024-08-27 23:42:04.541678+00:00',\n",
      "          'email': 'voynow99@gmail.com',\n",
      "          'preferences': 'A) Training for a marathon B) This will be my second '\n",
      "                         'marathon C) Prefer workouts on Wednesdays and long '\n",
      "                         'runs on Saturdays'}}\n",
      "---\n",
      "{'error': 6.2,\n",
      " 'generated_weekly_mileage': 23.2,\n",
      " 'planning': 'To plan the training week, we have a weekly target of 17 miles '\n",
      "             'and the long run on Saturday should be between 13 and 13.5 '\n",
      "             \"miles. Let's set the long run to 13.2 miles to stay within this \"\n",
      "             'range. This leaves us with 3.8 miles for the rest of the week. '\n",
      "             'The client prefers shorter runs on Tuesdays or Wednesdays, so a '\n",
      "             \"3.5-mile run on Tuesday would be ideal. We'll keep it easy-paced \"\n",
      "             'to help with recovery from the intensity of the weekend. On '\n",
      "             \"Monday, let's include a speed workout of 2x1 mile at 10k pace, \"\n",
      "             'totaling 3 miles including warm-up and cool-down. This leaves us '\n",
      "             \"with 0.3 miles short of target, so we'll add an easy 0.5-mile \"\n",
      "             'jog on Friday as a warm-up before a rest. Balancing intensity, '\n",
      "             'We can alternate between easy workouts and a moderate run with '\n",
      "             'light mileage on these days to prevent exceeding 17 miles. '\n",
      "             'Wednesday will be a rest day after the speed workout on Monday '\n",
      "             'and short Tuesday recovery. Thursday will be a moderate 3-mile '\n",
      "             'run. No need for more as we hit our week targets.',\n",
      " 'recommended_weekly_mileage': '17 miles',\n",
      " 'training_week': [{'day': 'mon',\n",
      "                    'distance': 3.0,\n",
      "                    'notes': '2x1 mile at 10k pace, include warm-up and '\n",
      "                             'cool-down',\n",
      "                    'session_type': 'speed workout'},\n",
      "                   {'day': 'tues',\n",
      "                    'distance': 3.5,\n",
      "                    'notes': 'recovery run, easy pace',\n",
      "                    'session_type': 'easy run'},\n",
      "                   {'day': 'wed',\n",
      "                    'distance': 0.0,\n",
      "                    'notes': 'Rest and recover',\n",
      "                    'session_type': 'rest day'},\n",
      "                   {'day': 'thurs',\n",
      "                    'distance': 3.0,\n",
      "                    'notes': 'Moderate pace, maintain steady effort',\n",
      "                    'session_type': 'moderate run'},\n",
      "                   {'day': 'fri',\n",
      "                    'distance': 0.5,\n",
      "                    'notes': 'Brief jog, light and easy',\n",
      "                    'session_type': 'easy run'},\n",
      "                   {'day': 'sat',\n",
      "                    'distance': 13.2,\n",
      "                    'notes': 'Long distance run, comfortable but steady pace',\n",
      "                    'session_type': 'long run'},\n",
      "                   {'day': 'sun',\n",
      "                    'distance': 0.0,\n",
      "                    'notes': 'Complete recovery',\n",
      "                    'session_type': 'rest day'}],\n",
      " 'user': {'athlete_id': 105359460,\n",
      "          'created_at': '2024-08-25 20:38:21.843324+00:00',\n",
      "          'email': 'bconnolly04@gmail.com',\n",
      "          'preferences': 'Trying to get faster for half marathon. Run short on '\n",
      "                         'Tuesdays or Wednesday, and long runs Saturdays.'}}\n",
      "---\n"
     ]
    }
   ],
   "source": [
    "# [result for result in results if result['error'] > 5]\n",
    "\n",
    "for result in results:\n",
    "    if result['error'] > 5:\n",
    "        pprint(result)\n",
    "        print(\"---\")"
   ]
  },
  {
   "cell_type": "code",
   "execution_count": null,
   "metadata": {},
   "outputs": [],
   "source": [
    "\"\""
   ]
  }
 ],
 "metadata": {
  "kernelspec": {
   "display_name": ".venv",
   "language": "python",
   "name": "python3"
  },
  "language_info": {
   "codemirror_mode": {
    "name": "ipython",
    "version": 3
   },
   "file_extension": ".py",
   "mimetype": "text/x-python",
   "name": "python",
   "nbconvert_exporter": "python",
   "pygments_lexer": "ipython3",
   "version": "3.12.3"
  }
 },
 "nbformat": 4,
 "nbformat_minor": 2
}
