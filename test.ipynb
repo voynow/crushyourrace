{
 "cells": [
  {
   "cell_type": "code",
   "execution_count": 3,
   "metadata": {},
   "outputs": [],
   "source": [
    "%load_ext autoreload\n",
    "%autoreload 2"
   ]
  },
  {
   "cell_type": "code",
   "execution_count": 4,
   "metadata": {},
   "outputs": [],
   "source": [
    "import os\n",
    "\n",
    "from src.activities import get_activities_df, get_day_of_week_summaries, get_weekly_summaries\n",
    "from src.auth_manager import get_strava_client\n",
    "from src.training_week import generate_training_week"
   ]
  },
  {
   "cell_type": "code",
   "execution_count": 5,
   "metadata": {},
   "outputs": [
    {
     "name": "stdout",
     "output_type": "stream",
     "text": [
      "athlete_id='98390356' token expired at 2024-08-05 21:51:07.862388+00:00, refreshing token...\n"
     ]
    },
    {
     "name": "stderr",
     "output_type": "stream",
     "text": [
      "No rates present in response headers\n"
     ]
    }
   ],
   "source": [
    "athlete_id = os.environ[\"JAMIES_ATHLETE_ID\"]\n",
    "strava_client = get_strava_client(athlete_id)\n",
    "activities_df = get_activities_df(strava_client)"
   ]
  },
  {
   "cell_type": "code",
   "execution_count": 6,
   "metadata": {},
   "outputs": [],
   "source": [
    "day_of_week_summaries = get_day_of_week_summaries(activities_df)\n",
    "weekly_summaries = get_weekly_summaries(activities_df)"
   ]
  },
  {
   "cell_type": "code",
   "execution_count": 7,
   "metadata": {},
   "outputs": [
    {
     "data": {
      "text/plain": [
       "mon: rest day, 0.0 miles, Complete rest day to allow for recovery and muscle repair.\n",
       "tues: moderate run, 7.0 miles, Moderate pace; focus on maintaining steady pace and proper form.\n",
       "wed: speed workout, 6.0 miles, Include interval training: 5x800m at 5K pace with 400m rest intervals.\n",
       "thurs: moderate run, 7.0 miles, Moderate pace; incorporate some rolling hills if possible.\n",
       "fri: easy run, 5.0 miles, Relaxed pace; keep it easy to prepare for the long run ahead.\n",
       "sat: long run, 14.0 miles, Long slow distance; maintain a steady, conversational pace.\n",
       "sun: easy run, 3.0 miles, Short recovery run; keep the pace easy to aid recovery."
      ]
     },
     "execution_count": 7,
     "metadata": {},
     "output_type": "execute_result"
    }
   ],
   "source": [
    "training_week = generate_training_week(weekly_summaries, day_of_week_summaries)"
   ]
  },
  {
   "cell_type": "code",
   "execution_count": 12,
   "metadata": {},
   "outputs": [
    {
     "data": {
      "text/plain": [
       "{'message_id': '<202408052216.57922177966@smtp-relay.mailin.fr>',\n",
       " 'message_ids': None}"
      ]
     },
     "execution_count": 12,
     "metadata": {},
     "output_type": "execute_result"
    }
   ],
   "source": [
    "from src.email_manager import send_email\n",
    "from src.types.training_week import TrainingWeek\n",
    "\n",
    "def format_training_week_to_html(training_week: TrainingWeek) -> str:\n",
    "    html_content = \"\"\"\n",
    "    <html>\n",
    "    <head>\n",
    "        <style>\n",
    "            body {\n",
    "                font-family: Arial, sans-serif;\n",
    "                background-color: #f4f4f4;\n",
    "                color: #333;\n",
    "                margin: 0;\n",
    "                padding: 0;\n",
    "            }\n",
    "            .container {\n",
    "                width: 100%;\n",
    "                max-width: 600px;\n",
    "                margin: 20px auto;\n",
    "                background-color: #ffffff;\n",
    "                border-radius: 10px;\n",
    "                box-shadow: 0 0 10px rgba(0, 0, 0, 0.1);\n",
    "                overflow: hidden;\n",
    "            }\n",
    "            .header {\n",
    "                background-color: #4CAF50;\n",
    "                color: #ffffff;\n",
    "                text-align: center;\n",
    "                padding: 20px;\n",
    "            }\n",
    "            .header h1 {\n",
    "                margin: 0;\n",
    "                font-size: 24px;\n",
    "            }\n",
    "            .content {\n",
    "                padding: 20px;\n",
    "            }\n",
    "            .content h2 {\n",
    "                color: #4CAF50;\n",
    "                font-size: 20px;\n",
    "                margin-bottom: 10px;\n",
    "            }\n",
    "            .content ul {\n",
    "                list-style-type: none;\n",
    "                padding: 0;\n",
    "                margin: 0;\n",
    "            }\n",
    "            .content li {\n",
    "                background-color: #f9f9f9;\n",
    "                margin-bottom: 10px;\n",
    "                padding: 15px;\n",
    "                border-left: 5px solid #4CAF50;\n",
    "                border-radius: 5px;\n",
    "            }\n",
    "            .content li strong {\n",
    "                display: block;\n",
    "                font-size: 16px;\n",
    "                margin-bottom: 5px;\n",
    "            }\n",
    "            .footer {\n",
    "                background-color: #f1f1f1;\n",
    "                text-align: center;\n",
    "                padding: 10px;\n",
    "                font-size: 12px;\n",
    "                color: #777;\n",
    "            }\n",
    "        </style>\n",
    "    </head>\n",
    "    <body>\n",
    "        <div class=\"container\">\n",
    "            <div class=\"header\">\n",
    "                <h1>Your Training Schedule</h1>\n",
    "            </div>\n",
    "            <div class=\"content\">\n",
    "                <h2>Get pumped for this week's training.</h2>\n",
    "                <ul>\n",
    "    \"\"\"\n",
    "    for day, session in training_week.dict().items():\n",
    "        html_content += f\"\"\"\n",
    "                    <li>\n",
    "                        <strong>{day.capitalize()}</strong>\n",
    "                        <span>{session['session_type'].value}</span><br>\n",
    "                        <span>Distance: {session['distance']} miles</span><br>\n",
    "                        <span>Notes: {session['notes']}</span>\n",
    "                    </li>\n",
    "        \"\"\"\n",
    "    html_content += \"\"\"\n",
    "                </ul>\n",
    "            </div>\n",
    "            <div class=\"footer\">\n",
    "                <p>Powered by the Strava API and OpenAI</p>\n",
    "            </div>\n",
    "        </div>\n",
    "    </body>\n",
    "    </html>\n",
    "    \"\"\"\n",
    "    return html_content\n",
    "\n",
    "\n",
    "html_content = format_training_week_to_html(training_week)\n",
    "send_email(\n",
    "    subject=\"This Week's Training Schedule Just Dropped 🏃‍♂️\",\n",
    "    html_content=html_content,\n",
    ")"
   ]
  },
  {
   "cell_type": "code",
   "execution_count": null,
   "metadata": {},
   "outputs": [],
   "source": []
  }
 ],
 "metadata": {
  "kernelspec": {
   "display_name": ".venv",
   "language": "python",
   "name": "python3"
  },
  "language_info": {
   "codemirror_mode": {
    "name": "ipython",
    "version": 3
   },
   "file_extension": ".py",
   "mimetype": "text/x-python",
   "name": "python",
   "nbconvert_exporter": "python",
   "pygments_lexer": "ipython3",
   "version": "3.12.3"
  }
 },
 "nbformat": 4,
 "nbformat_minor": 2
}
