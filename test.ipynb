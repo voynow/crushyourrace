{
 "cells": [
  {
   "cell_type": "code",
   "execution_count": 1,
   "metadata": {},
   "outputs": [],
   "source": [
    "%load_ext autoreload\n",
    "%autoreload 2"
   ]
  },
  {
   "cell_type": "code",
   "execution_count": 2,
   "metadata": {},
   "outputs": [
    {
     "name": "stdout",
     "output_type": "stream",
     "text": [
      "athlete_id='98390356' token still valid until 2024-08-10 22:00:52+00:00\n"
     ]
    }
   ],
   "source": [
    "import os\n",
    "\n",
    "from freezegun import freeze_time\n",
    "\n",
    "from src.activities import get_activities_df, get_day_of_week_summaries, get_weekly_summaries\n",
    "from src.auth_manager import get_strava_client\n",
    "from src.supabase_client import upsert_training_week_with_coaching\n",
    "from src.training_week import generate_training_week\n",
    "from src.email_manager import send_email, training_week_to_html\n",
    "\n",
    "athlete_id = os.environ[\"JAMIES_ATHLETE_ID\"]\n",
    "strava_client = get_strava_client(athlete_id)"
   ]
  },
  {
   "cell_type": "markdown",
   "metadata": {},
   "source": [
    "# Sunday Night Training Week Message"
   ]
  },
  {
   "cell_type": "code",
   "execution_count": 4,
   "metadata": {},
   "outputs": [
    {
     "data": {
      "text/plain": [
       "{'message_id': '<202408101610.79765560078@smtp-relay.mailin.fr>',\n",
       " 'message_ids': None}"
      ]
     },
     "execution_count": 4,
     "metadata": {},
     "output_type": "execute_result"
    }
   ],
   "source": [
    "@freeze_time(\"2024-08-04 20:00:00\")\n",
    "def mock_get_activities_df(strava_client):\n",
    "    return get_activities_df(strava_client)\n",
    "\n",
    "activities_df = mock_get_activities_df(strava_client)\n",
    "\n",
    "day_of_week_summaries = get_day_of_week_summaries(activities_df)\n",
    "weekly_summaries = get_weekly_summaries(activities_df)\n",
    "\n",
    "client_preferences = \"A) Training for a marathon B) This will be my second marathon C) Prefer workouts on Wednesdays and long runs on Saturdays\"\n",
    "training_week = generate_training_week(\n",
    "    client_preferences=client_preferences,\n",
    "    weekly_summaries=weekly_summaries,\n",
    "    day_of_week_summaries=day_of_week_summaries\n",
    ")\n",
    "upsert_training_week_with_coaching(\n",
    "    athlete_id=athlete_id, training_week_with_coaching=training_week\n",
    ")\n",
    "\n",
    "send_email(\n",
    "    subject=\"Training Schedule Just Dropped 🏃\",\n",
    "    html_content=training_week_to_html(training_week),\n",
    ")\n"
   ]
  },
  {
   "cell_type": "code",
   "execution_count": null,
   "metadata": {},
   "outputs": [],
   "source": []
  }
 ],
 "metadata": {
  "kernelspec": {
   "display_name": ".venv",
   "language": "python",
   "name": "python3"
  },
  "language_info": {
   "codemirror_mode": {
    "name": "ipython",
    "version": 3
   },
   "file_extension": ".py",
   "mimetype": "text/x-python",
   "name": "python",
   "nbconvert_exporter": "python",
   "pygments_lexer": "ipython3",
   "version": "3.12.3"
  }
 },
 "nbformat": 4,
 "nbformat_minor": 2
}
