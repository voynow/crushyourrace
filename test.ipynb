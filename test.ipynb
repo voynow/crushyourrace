{
 "cells": [
  {
   "cell_type": "code",
   "execution_count": 22,
   "metadata": {},
   "outputs": [
    {
     "name": "stdout",
     "output_type": "stream",
     "text": [
      "The autoreload extension is already loaded. To reload it, use:\n",
      "  %reload_ext autoreload\n"
     ]
    }
   ],
   "source": [
    "%load_ext autoreload\n",
    "%autoreload 2"
   ]
  },
  {
   "cell_type": "code",
   "execution_count": 86,
   "metadata": {},
   "outputs": [],
   "source": [
    "import os\n",
    "\n",
    "from src.activities import get_activities_df, get_day_of_week_summaries, get_weekly_summaries\n",
    "from src.auth_manager import get_strava_client\n",
    "from src.training_week import generate_training_week"
   ]
  },
  {
   "cell_type": "code",
   "execution_count": 30,
   "metadata": {},
   "outputs": [
    {
     "name": "stdout",
     "output_type": "stream",
     "text": [
      "athlete_id='98390356' token still valid until 2024-08-04 22:01:57+00:00\n"
     ]
    }
   ],
   "source": [
    "athlete_id = os.environ[\"JAMIES_ATHLETE_ID\"]\n",
    "strava_client = get_strava_client(athlete_id)\n",
    "activities_df = get_activities_df(strava_client)"
   ]
  },
  {
   "cell_type": "code",
   "execution_count": 99,
   "metadata": {},
   "outputs": [],
   "source": [
    "day_of_week_summaries = get_day_of_week_summaries(activities_df)\n",
    "weekly_summaries = get_weekly_summaries(activities_df)"
   ]
  },
  {
   "cell_type": "code",
   "execution_count": 101,
   "metadata": {},
   "outputs": [
    {
     "data": {
      "text/plain": [
       "mon: rest day, 0.0 miles, Full rest day to recover from the weekend's long run.\n",
       "tues: speed workout, 5.0 miles, Interval training: 1 mile warm-up, 3x1 mile at 10K pace with 3 minutes jog recovery, 1 mile cool-down.\n",
       "wed: moderate run, 5.0 miles, Steady pace run. Aim for a comfortable, conversational pace.\n",
       "thurs: moderate run, 5.0 miles, Similar to Wednesday, focus on a steady and consistent pace.\n",
       "fri: easy run, 4.0 miles, Relaxed pace to prepare for the upcoming long run. Stay comfortable.\n",
       "sat: long run, 10.0 miles, Long run at a relaxed pace. Incorporate a few hills if possible.\n",
       "sun: easy run, 6.0 miles, Recovery run at an easy pace. Take it slow and enjoy."
      ]
     },
     "execution_count": 101,
     "metadata": {},
     "output_type": "execute_result"
    }
   ],
   "source": [
    "trainging_week = generate_training_week(weekly_summaries, day_of_week_summaries)\n",
    "trainging_week"
   ]
  },
  {
   "cell_type": "code",
   "execution_count": null,
   "metadata": {},
   "outputs": [],
   "source": []
  }
 ],
 "metadata": {
  "kernelspec": {
   "display_name": ".venv",
   "language": "python",
   "name": "python3"
  },
  "language_info": {
   "codemirror_mode": {
    "name": "ipython",
    "version": 3
   },
   "file_extension": ".py",
   "mimetype": "text/x-python",
   "name": "python",
   "nbconvert_exporter": "python",
   "pygments_lexer": "ipython3",
   "version": "3.12.3"
  }
 },
 "nbformat": 4,
 "nbformat_minor": 2
}
