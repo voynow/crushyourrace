{
 "cells": [
  {
   "cell_type": "code",
   "execution_count": 1,
   "metadata": {},
   "outputs": [],
   "source": [
    "%load_ext autoreload\n",
    "%autoreload 2"
   ]
  },
  {
   "cell_type": "code",
   "execution_count": 4,
   "metadata": {},
   "outputs": [
    {
     "name": "stdout",
     "output_type": "stream",
     "text": [
      "athlete_id='98390356' token still valid until 2024-08-11 17:48:40+00:00\n"
     ]
    }
   ],
   "source": [
    "import os\n",
    "\n",
    "from freezegun import freeze_time\n",
    "\n",
    "from src.activities import get_activities_df, get_day_of_week_summaries, get_weekly_summaries\n",
    "from src.auth_manager import get_strava_client\n",
    "from src.supabase_client import upsert_training_week_with_coaching, get_training_week_with_coaching\n",
    "from src.training_week import generate_training_week\n",
    "from src.email_manager import send_email, training_week_to_html\n",
    "\n",
    "athlete_id = os.environ[\"JAMIES_ATHLETE_ID\"]\n",
    "strava_client = get_strava_client(athlete_id)"
   ]
  },
  {
   "cell_type": "markdown",
   "metadata": {},
   "source": [
    "# Sunday Night Training Week Message"
   ]
  },
  {
   "cell_type": "code",
   "execution_count": 4,
   "metadata": {},
   "outputs": [
    {
     "data": {
      "text/plain": [
       "{'message_id': '<202408101610.79765560078@smtp-relay.mailin.fr>',\n",
       " 'message_ids': None}"
      ]
     },
     "execution_count": 4,
     "metadata": {},
     "output_type": "execute_result"
    }
   ],
   "source": [
    "@freeze_time(\"2024-08-04 20:00:00\")\n",
    "def mock_get_activities_df(strava_client):\n",
    "    return get_activities_df(strava_client)\n",
    "\n",
    "activities_df = mock_get_activities_df(strava_client)\n",
    "\n",
    "day_of_week_summaries = get_day_of_week_summaries(activities_df)\n",
    "weekly_summaries = get_weekly_summaries(activities_df)\n",
    "\n",
    "client_preferences = \"A) Training for a marathon B) This will be my second marathon C) Prefer workouts on Wednesdays and long runs on Saturdays\"\n",
    "training_week = generate_training_week(\n",
    "    client_preferences=client_preferences,\n",
    "    weekly_summaries=weekly_summaries,\n",
    "    day_of_week_summaries=day_of_week_summaries\n",
    ")\n",
    "\n",
    "# upsert_training_week_with_coaching(\n",
    "#     athlete_id=athlete_id, training_week_with_coaching=training_week\n",
    "# )\n",
    "# send_email(\n",
    "#     subject=\"Training Schedule Just Dropped 🏃\",\n",
    "#     html_content=training_week_to_html(training_week),\n",
    "# )"
   ]
  },
  {
   "cell_type": "code",
   "execution_count": 21,
   "metadata": {},
   "outputs": [
    {
     "data": {
      "text/plain": [
       "mon: speed workout, 6.0 miles, Intervals. 1 mile warm-up, 4x800m at a pace of 7m 30s with 400m recovery, 1 mile cool-down.\n",
       "tues: easy run, 5.0 miles, Pace of around 9 minutes 30 seconds. Flat terrain.\n",
       "wed: speed workout, 7.0 miles, Tempo run. 1 mile warm-up, 5 miles at 8m 15s pace, 1 mile cool-down.\n",
       "thurs: rest day, 0.0 miles, Complete rest to recover from mid-week workout.\n",
       "fri: moderate run, 6.0 miles, Pace of around 9 minutes 15 seconds.\n",
       "sat: long run, 15.0 miles, Keep a steady pace around 9m 45s. Mimic race conditions, include nutrition strategies.\n",
       "sun: easy run, 3.0 miles, Recovery jog. Keep a slow, conversational pace.\n",
       "\n",
       "typical_week_training_review: Based on your recent training data, Wednesdays and Saturdays align well with your preferences for workouts and long runs, respectively. You typically accumulate a higher number of runs on Wednesdays, averaging 4.76 miles at a pace of 9 minutes and 20 seconds, which indicates a solid mid-week workout. Saturdays are marked by your long runs, averaging 10.17 miles at a pace of about 9 minutes and 59 seconds, aligning perfectly with your schedule for endurance building. You tend to rest or have less intense runs on Thursdays, as evidenced by the single run of 1.66 miles with a slower pace of 10 minutes and 58 seconds. Incorporating additional speed work on either Monday, given your moderate mileage and pace (9 minutes and 34 seconds), or Friday, considering your relatively consistent pace (9 minutes and 54 seconds), could further enhance your performance. This balanced approach, combined with strategic rest days, will aid in progressively building the stamina and speed necessary for your upcoming marathon.\n",
       "weekly_mileage_target: Reviewing your past training weeks, it's clear that your mileage has been consistently increasing, a positive trend as you prepare for your marathon. Your mileage has progressed from 28.7 miles in Week 25 to 40.19 miles in Week 31, with your longest runs also showing a strong and steady increase, up to 14.03 miles in the most recent week. Given this steady build-up, for next week, I recommend a slight increase to around 42 miles while incorporating a long run of approximately 15 miles. This will continue to build your endurance while following a sensible progressive overload strategy. Keep your workouts on Wednesdays focused on speed or tempo runs and maintain your long run on Saturday to simulate race conditions efficiently. Great work, and let's keep this momentum going!"
      ]
     },
     "execution_count": 21,
     "metadata": {},
     "output_type": "execute_result"
    }
   ],
   "source": [
    "resp = get_training_week_with_coaching(athlete_id)\n",
    "resp"
   ]
  },
  {
   "cell_type": "code",
   "execution_count": null,
   "metadata": {},
   "outputs": [],
   "source": []
  }
 ],
 "metadata": {
  "kernelspec": {
   "display_name": ".venv",
   "language": "python",
   "name": "python3"
  },
  "language_info": {
   "codemirror_mode": {
    "name": "ipython",
    "version": 3
   },
   "file_extension": ".py",
   "mimetype": "text/x-python",
   "name": "python",
   "nbconvert_exporter": "python",
   "pygments_lexer": "ipython3",
   "version": "3.12.3"
  }
 },
 "nbformat": 4,
 "nbformat_minor": 2
}
