{
 "cells": [
  {
   "cell_type": "code",
   "execution_count": 2,
   "metadata": {},
   "outputs": [],
   "source": [
    "%load_ext autoreload\n",
    "%autoreload 2"
   ]
  },
  {
   "cell_type": "code",
   "execution_count": 3,
   "metadata": {},
   "outputs": [],
   "source": [
    "from freezegun import freeze_time\n",
    "\n",
    "from src import training_week_generation"
   ]
  },
  {
   "cell_type": "markdown",
   "metadata": {},
   "source": [
    "# Sunday Night Training Week Message"
   ]
  },
  {
   "cell_type": "code",
   "execution_count": 6,
   "metadata": {},
   "outputs": [
    {
     "name": "stdout",
     "output_type": "stream",
     "text": [
      "athlete_id='98390356' token still valid until 2024-08-13 04:04:40+00:00\n"
     ]
    },
    {
     "name": "stderr",
     "output_type": "stream",
     "text": [
      "/Users/jamievoynow/Desktop/code/strava/src/activities.py:113: MapWithoutReturnDtypeWarning: Calling `map_elements` without specifying `return_dtype` can lead to unpredictable results. Specify `return_dtype` to silence this warning.\n",
      "  .with_columns(\n"
     ]
    }
   ],
   "source": [
    "@freeze_time(\"2024-08-11 20:00:00\")\n",
    "def trigger_training_week_generation():\n",
    "    return training_week_generation.lambda_handler({}, {})\n",
    "\n",
    "trigger_training_week_generation()"
   ]
  },
  {
   "cell_type": "markdown",
   "metadata": {},
   "source": [
    "# Mid-Week Update"
   ]
  },
  {
   "cell_type": "code",
   "execution_count": 58,
   "metadata": {},
   "outputs": [],
   "source": [
    "from src.types.training_week import TrainingWeek\n",
    "from src.types.training_week_with_coaching import TrainingWeekWithCoaching\n",
    "import polars as pl\n",
    "\n",
    "def calc_weekly_total_mileage(training_week: TrainingWeek) -> float:\n",
    "    \"\"\"\n",
    "    Calculates the total mileage for a given week\n",
    "\n",
    "    :param training_week: instance of TrainingWeek\n",
    "    :return: The total mileage\n",
    "    \"\"\" \n",
    "    return sum(\n",
    "        [\n",
    "            getattr(training_week, attrib).distance \n",
    "            for attrib in training_week.__dict__\n",
    "        ]\n",
    "    )\n",
    "\n",
    "\n",
    "def get_mid_week_delta(\n",
    "    training_week_with_coaching: TrainingWeekWithCoaching,\n",
    "    activities: pl.DataFrame\n",
    ") -> float:\n",
    "    \"\"\"\n",
    "    Assumes that activities is truncated to the current week, calculating the \n",
    "    difference between target mileage and actual mileage thus far this week\n",
    "\n",
    "    :param training_week_with_coaching: instance TrainingWeekWithCoaching\n",
    "    :param activities: DataFrame of activities thus far this week\n",
    "    :return: The mileage delta as a float\n",
    "    \"\"\"\n",
    "    actual_mileage = activities['distance_in_miles'].sum()\n",
    "    weekly_target = calc_weekly_total_mileage(\n",
    "        training_week_with_coaching.training_week\n",
    "    )\n",
    "    mileage_delta = weekly_target - actual_mileage\n",
    "\n",
    "    return mileage_delta"
   ]
  },
  {
   "cell_type": "code",
   "execution_count": 53,
   "metadata": {},
   "outputs": [],
   "source": [
    "@freeze_time(\"2024-08-08 20:00:00\")\n",
    "def mock_get_activities_df(strava_client, num_weeks=8):\n",
    "    return get_activities_df(strava_client, num_weeks)\n",
    "\n",
    "training_week_with_coaching = get_training_week_with_coaching(athlete_id)\n",
    "activities = mock_get_activities_df(strava_client, num_weeks=1)\n",
    "\n",
    "mid_week_detla = get_mid_week_delta(\n",
    "    training_week_with_coaching=training_week_with_coaching,\n",
    "    activities=activities\n",
    ")"
   ]
  },
  {
   "cell_type": "code",
   "execution_count": null,
   "metadata": {},
   "outputs": [],
   "source": []
  }
 ],
 "metadata": {
  "kernelspec": {
   "display_name": ".venv",
   "language": "python",
   "name": "python3"
  },
  "language_info": {
   "codemirror_mode": {
    "name": "ipython",
    "version": 3
   },
   "file_extension": ".py",
   "mimetype": "text/x-python",
   "name": "python",
   "nbconvert_exporter": "python",
   "pygments_lexer": "ipython3",
   "version": "3.12.3"
  }
 },
 "nbformat": 4,
 "nbformat_minor": 2
}
