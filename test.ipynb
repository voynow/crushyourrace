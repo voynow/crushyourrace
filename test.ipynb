{
 "cells": [
  {
   "cell_type": "code",
   "execution_count": 1,
   "metadata": {},
   "outputs": [],
   "source": [
    "%load_ext autoreload\n",
    "%autoreload 2"
   ]
  },
  {
   "cell_type": "code",
   "execution_count": 2,
   "metadata": {},
   "outputs": [],
   "source": [
    "import os\n",
    "\n",
    "import polars as pl\n",
    "from freezegun import freeze_time\n",
    "\n",
    "from src.activities import (\n",
    "    get_activities_df,\n",
    "    get_activity_summaries,\n",
    "    get_day_of_week_summaries,\n",
    "    get_weekly_summaries,\n",
    ")\n",
    "from src.auth_manager import get_strava_client\n",
    "from src.constants import COACH_ROLE\n",
    "from src.email_manager import (\n",
    "    send_email,\n",
    "    training_week_to_html,\n",
    "    training_week_update_to_html,\n",
    ")\n",
    "from src.supabase_client import (\n",
    "    get_training_week_with_coaching,\n",
    "    upsert_training_week_update,\n",
    "    upsert_training_week_with_coaching,\n",
    ")\n",
    "from src.training_week import generate_training_week\n",
    "from src.training_week_update import get_updated_training_week\n",
    "from src.types.mid_week_analysis import MidWeekAnalysis\n"
   ]
  },
  {
   "cell_type": "markdown",
   "metadata": {},
   "source": [
    "# Sunday Night Training Week Message"
   ]
  },
  {
   "cell_type": "code",
   "execution_count": null,
   "metadata": {},
   "outputs": [],
   "source": [
    "client_preferences = \"A) Training for a marathon B) This will be my second marathon C) Prefer workouts on Wednesdays and long runs on Saturdays\"\n",
    "sysmsg_base = f\"{COACH_ROLE}\\nYour client has included the following preferences: {client_preferences}\\n\"\n",
    "\n",
    "# activities setup\n",
    "athlete_id = os.environ[\"JAMIES_ATHLETE_ID\"]\n",
    "strava_client = get_strava_client(athlete_id)\n",
    "activities_df = get_activities_df(strava_client)\n",
    "\n",
    "# gen training week pipeline\n",
    "day_of_week_summaries = get_day_of_week_summaries(activities_df)\n",
    "weekly_summaries = get_weekly_summaries(activities_df)\n",
    "training_week_with_coaching = generate_training_week(\n",
    "    sysmsg_base=sysmsg_base,\n",
    "    weekly_summaries=weekly_summaries,\n",
    "    day_of_week_summaries=day_of_week_summaries,\n",
    ")\n",
    "\n",
    "# save data to db and trigger email\n",
    "upsert_training_week_with_coaching(\n",
    "    athlete_id=athlete_id, training_week_with_coaching=training_week_with_coaching\n",
    ")\n",
    "send_email(\n",
    "    subject=\"Training Schedule Just Dropped 🏃\",\n",
    "    html_content=training_week_to_html(training_week_with_coaching),\n",
    ")"
   ]
  },
  {
   "cell_type": "markdown",
   "metadata": {},
   "source": [
    "# Mid-Week Update"
   ]
  },
  {
   "cell_type": "code",
   "execution_count": null,
   "metadata": {},
   "outputs": [],
   "source": [
    "client_preferences = \"A) Training for a marathon B) This will be my second marathon C) Prefer workouts on Wednesdays and long runs on Saturdays\"\n",
    "sysmsg_base = f\"{COACH_ROLE}\\nYour client has included the following preferences: {client_preferences}\\n\"\n",
    "\n",
    "athlete_id = os.environ[\"JAMIES_ATHLETE_ID\"]\n",
    "strava_client = get_strava_client(athlete_id)\n",
    "\n",
    "training_week_with_coaching = get_training_week_with_coaching(athlete_id)\n",
    "current_weeks_activity_summaries = get_activity_summaries(strava_client, num_weeks=1)\n",
    "mid_week_analysis = MidWeekAnalysis(\n",
    "    activities=current_weeks_activity_summaries,\n",
    "    training_week=training_week_with_coaching.training_week,\n",
    ")\n",
    "training_week_update_with_planning = get_updated_training_week(\n",
    "    sysmsg_base=sysmsg_base, \n",
    "    mid_week_analysis=mid_week_analysis\n",
    ")\n",
    "\n",
    "upsert_training_week_update(\n",
    "    athlete_id=athlete_id,\n",
    "    mid_week_analysis=mid_week_analysis,\n",
    "    training_week_update_with_planning=training_week_update_with_planning,\n",
    ")\n",
    "\n",
    "send_email(\n",
    "    subject=\"Training Schedule Update 🏃\",\n",
    "    html_content=training_week_update_to_html(\n",
    "        mid_week_analysis=mid_week_analysis, \n",
    "        training_week_update_with_planning=training_week_update_with_planning\n",
    "    ),\n",
    ")"
   ]
  },
  {
   "cell_type": "markdown",
   "metadata": {},
   "source": [
    "# freeze time tests"
   ]
  },
  {
   "cell_type": "code",
   "execution_count": 120,
   "metadata": {},
   "outputs": [
    {
     "name": "stdout",
     "output_type": "stream",
     "text": [
      "athlete_id='98390356' token still valid until 2024-08-21 23:22:07+00:00\n",
      "athlete_id='98390356' token still valid until 2024-08-21 23:22:07+00:00\n"
     ]
    }
   ],
   "source": [
    "from src.lambda_function import lambda_handler\n",
    "\n",
    "@freeze_time(\"2024-08-18 20:00:00\")\n",
    "def test_sunday_workflow():\n",
    "    lambda_handler({}, {})\n",
    "\n",
    "@freeze_time(\"2024-08-20 20:00:00\")\n",
    "def test_mid_week_workflow():\n",
    "    lambda_handler({}, {})\n",
    "\n",
    "test_sunday_workflow()\n",
    "test_mid_week_workflow()"
   ]
  },
  {
   "cell_type": "code",
   "execution_count": 5,
   "metadata": {},
   "outputs": [
    {
     "data": {
      "text/plain": [
       "[UserRow(athlete_id=98390356, email='voynow99@gmail.com', preferences='A) Training for a marathon B) This will be my second marathon C) Prefer workouts on Wednesdays and long runs on Saturdays', created_at=datetime.datetime(2024, 8, 21, 21, 12, 55, 723179, tzinfo=datetime.timezone.utc)),\n",
       " UserRow(athlete_id=104454087, email='Rachel.decker122@gmail.com', preferences='A) Training for a marathon B) This will be my first marathon C) Generally more concerned with staying healthy and building up my long run VS doing speed workouts', created_at=datetime.datetime(2024, 8, 21, 21, 14, 35, 885680, tzinfo=datetime.timezone.utc))]"
      ]
     },
     "execution_count": 5,
     "metadata": {},
     "output_type": "execute_result"
    }
   ],
   "source": [
    "from src.supabase_client import list_users\n",
    "\n",
    "users = list_users()\n"
   ]
  },
  {
   "cell_type": "code",
   "execution_count": null,
   "metadata": {},
   "outputs": [],
   "source": []
  }
 ],
 "metadata": {
  "kernelspec": {
   "display_name": ".venv",
   "language": "python",
   "name": "python3"
  },
  "language_info": {
   "codemirror_mode": {
    "name": "ipython",
    "version": 3
   },
   "file_extension": ".py",
   "mimetype": "text/x-python",
   "name": "python",
   "nbconvert_exporter": "python",
   "pygments_lexer": "ipython3",
   "version": "3.12.3"
  }
 },
 "nbformat": 4,
 "nbformat_minor": 2
}
