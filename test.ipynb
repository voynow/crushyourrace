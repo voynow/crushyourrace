{
 "cells": [
  {
   "cell_type": "code",
   "execution_count": 2,
   "metadata": {},
   "outputs": [],
   "source": [
    "%load_ext autoreload\n",
    "%autoreload 2"
   ]
  },
  {
   "cell_type": "code",
   "execution_count": 5,
   "metadata": {},
   "outputs": [
    {
     "name": "stdout",
     "output_type": "stream",
     "text": [
      "race_distance=None ideal_training_week=[]\n",
      "race_distance=None ideal_training_week=[]\n",
      "race_distance=None ideal_training_week=[]\n",
      "race_distance=None ideal_training_week=[]\n",
      "race_distance=None ideal_training_week=[]\n",
      "race_distance=None ideal_training_week=[]\n",
      "race_distance=None ideal_training_week=[]\n",
      "race_distance=None ideal_training_week=[TheoreticalTrainingSession(day=<Day.WED: 'Wed'>, session_type=<SessionType.MODERATE: 'moderate run'>), TheoreticalTrainingSession(day=<Day.SUN: 'Sun'>, session_type=<SessionType.LONG: 'long run'>), TheoreticalTrainingSession(day=<Day.THURS: 'Thurs'>, session_type=<SessionType.MODERATE: 'moderate run'>)]\n",
      "race_distance=None ideal_training_week=[]\n",
      "race_distance=None ideal_training_week=[]\n",
      "race_distance=None ideal_training_week=[]\n",
      "race_distance=None ideal_training_week=[]\n",
      "race_distance=None ideal_training_week=[]\n",
      "race_distance=None ideal_training_week=[]\n",
      "race_distance=None ideal_training_week=[]\n",
      "race_distance=None ideal_training_week=[]\n",
      "race_distance=None ideal_training_week=[]\n",
      "race_distance=<RaceDistance.MARATHON: 'marathon'> ideal_training_week=[TheoreticalTrainingSession(day=<Day.MON: 'Mon'>, session_type=<SessionType.EASY: 'easy run'>), TheoreticalTrainingSession(day=<Day.TUES: 'Tues'>, session_type=<SessionType.EASY: 'easy run'>), TheoreticalTrainingSession(day=<Day.WED: 'Wed'>, session_type=<SessionType.EASY: 'easy run'>), TheoreticalTrainingSession(day=<Day.THURS: 'Thurs'>, session_type=<SessionType.EASY: 'easy run'>), TheoreticalTrainingSession(day=<Day.FRI: 'Fri'>, session_type=<SessionType.REST: 'rest day'>), TheoreticalTrainingSession(day=<Day.SAT: 'Sat'>, session_type=<SessionType.LONG: 'long run'>), TheoreticalTrainingSession(day=<Day.SUN: 'Sun'>, session_type=<SessionType.REST: 'rest day'>)]\n",
      "race_distance=None ideal_training_week=[]\n"
     ]
    }
   ],
   "source": [
    "from src.supabase_client import list_users\n",
    "\n",
    "for user in list_users():\n",
    "    print(user.preferences)"
   ]
  },
  {
   "cell_type": "code",
   "execution_count": null,
   "metadata": {},
   "outputs": [],
   "source": []
  }
 ],
 "metadata": {
  "kernelspec": {
   "display_name": ".venv",
   "language": "python",
   "name": "python3"
  },
  "language_info": {
   "codemirror_mode": {
    "name": "ipython",
    "version": 3
   },
   "file_extension": ".py",
   "mimetype": "text/x-python",
   "name": "python",
   "nbconvert_exporter": "python",
   "pygments_lexer": "ipython3",
   "version": "3.11.9"
  }
 },
 "nbformat": 4,
 "nbformat_minor": 2
}
