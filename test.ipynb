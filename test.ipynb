{
 "cells": [
  {
   "cell_type": "code",
   "execution_count": null,
   "metadata": {},
   "outputs": [],
   "source": [
    "%load_ext autoreload\n",
    "%autoreload 2"
   ]
  },
  {
   "cell_type": "code",
   "execution_count": null,
   "metadata": {},
   "outputs": [],
   "source": [
    "import os\n",
    "import json\n",
    "from pprint import pprint\n",
    "\n",
    "from src.supabase_client import get_user, list_users\n",
    "from tests.common import run_new_training_week_process_wrapped, run_mid_week_update_process_wrapped\n"
   ]
  },
  {
   "cell_type": "markdown",
   "metadata": {},
   "source": [
    "# Test: One Offs"
   ]
  },
  {
   "cell_type": "code",
   "execution_count": null,
   "metadata": {},
   "outputs": [],
   "source": [
    "mock_user = get_user(105359460)\n",
    "response = run_new_training_week_process_wrapped(mock_user)\n",
    "print(response)"
   ]
  },
  {
   "cell_type": "code",
   "execution_count": null,
   "metadata": {},
   "outputs": [],
   "source": [
    "mock_user = get_user(os.environ[\"JAMIES_ATHLETE_ID\"])\n",
    "response = run_mid_week_update_process_wrapped(mock_user)\n",
    "print(response)"
   ]
  },
  {
   "cell_type": "markdown",
   "metadata": {},
   "source": [
    "# Evals: New Training Week"
   ]
  },
  {
   "cell_type": "code",
   "execution_count": null,
   "metadata": {},
   "outputs": [],
   "source": [
    "path = 'tests/artifacts/new_training_week_errors'\n",
    "files = os.listdir(path)\n",
    "\n",
    "for file in sorted(files):\n",
    "    print(f\"Loading {file}\")\n",
    "    with open(os.path.join(path, file), \"r\") as f:\n",
    "        results = json.load(f)\n",
    "    print(sum(result['error'] for result in results) / len(results))"
   ]
  },
  {
   "cell_type": "code",
   "execution_count": null,
   "metadata": {},
   "outputs": [],
   "source": [
    "for result in results:\n",
    "    print(result['user']['email'])\n",
    "    print(\"target:\", result['recommended_weekly_mileage'])\n",
    "    print(\"actual:\", result['generated_weekly_mileage'])\n",
    "    print(\"error:\", result['error'])\n",
    "    print(result['planning'])\n",
    "    print(\".\" * 100)"
   ]
  },
  {
   "cell_type": "markdown",
   "metadata": {},
   "source": [
    "# Manual: New Training Week"
   ]
  },
  {
   "cell_type": "code",
   "execution_count": 11,
   "metadata": {},
   "outputs": [
    {
     "name": "stdout",
     "output_type": "stream",
     "text": [
      "bconnolly04@gmail.com\n",
      "athlete_id=105359460 token still valid until 2024-09-03 04:28:54+00:00\n",
      "TrainingWeekWithCoaching(typical_week_training_review=Your current training schedule shows short runs spread throughout the week, with a longer run on Saturdays averaging 4.87 miles at a pace of about 9 minutes 40 seconds per mile. It seems you rest on Thursdays, and it's advisable to incorporate speed work into your shorter Tuesday or Wednesday runs to improve your half marathon pace., weekly_mileage_target=Based on your recent training history, it seems you're building up nicely, with a peak mileage of 15.86 in Week 34. For the upcoming week, I suggest aiming for a total weekly mileage of around 16-17 miles to maintain consistency without overreaching. Your longest run previously was 12.32 miles, so let's aim for a long run this week of 11-12 miles, scheduled for Saturday. This will help you continue building endurance safely while setting a solid foundation for your half marathon preparation., planning=Planning(weekly_mileage_target=16-17 miles, long_run_distance=11.0, remaining_weekly_mileage=16 - 11 = 5 miles, remaining_weekly_mileage_planning=We have 5 miles remaining after the long run on Saturday. Distribute this over the remaining days with one or two short runs and include speed work. For example, we can have an easy 2-mile run on Monday, a speed workout of 3 miles on Wednesday, and rest on Thursday and Sunday.), training_week=[TrainingSession(day=<Day.MON: 'mon'>, session_type=<SessionType.EASY: 'easy run'>, distance=2.0, notes='Easy pace to start the week'), TrainingSession(day=<Day.TUES: 'tues'>, session_type=<SessionType.SPEED: 'speed workout'>, distance=3.0, notes='1mi warm-up, 2x1mi @ 8m 30s pace with 400m rest in between, cool down.'), TrainingSession(day=<Day.WED: 'wed'>, session_type=<SessionType.REST: 'rest day'>, distance=0.0, notes='Rest and recover for the week'), TrainingSession(day=<Day.THURS: 'thurs'>, session_type=<SessionType.EASY: 'easy run'>, distance=1.5, notes='Light jog, short and easy.'), TrainingSession(day=<Day.FRI: 'fri'>, session_type=<SessionType.REST: 'rest day'>, distance=0.0, notes='Prepare for the long run'), TrainingSession(day=<Day.SAT: 'sat'>, session_type=<SessionType.LONG: 'long run'>, distance=11.0, notes='Complete at a comfortable pace around 10:00 min/mile, focus on endurance'), TrainingSession(day=<Day.SUN: 'sun'>, session_type=<SessionType.REST: 'rest day'>, distance=0.0, notes='Rest and recover')])\n"
     ]
    }
   ],
   "source": [
    "from freezegun import freeze_time\n",
    "from src.activities import get_activities_df, get_day_of_week_summaries, get_weekly_summaries\n",
    "from src.auth_manager import get_strava_client\n",
    "from src.constants import COACH_ROLE\n",
    "from src.new_training_week import generate_training_week_with_coaching\n",
    "from src.supabase_client import list_users\n",
    "\n",
    "@freeze_time(\"2024-09-01\")\n",
    "def gen_training_week_wrapper(sysmsg_base, strava_client):\n",
    "    activities_df = get_activities_df(strava_client)\n",
    "    day_of_week_summaries = get_day_of_week_summaries(activities_df)\n",
    "    weekly_summaries = get_weekly_summaries(activities_df)\n",
    "    return generate_training_week_with_coaching(\n",
    "        sysmsg_base=sysmsg_base,\n",
    "        weekly_summaries=weekly_summaries,\n",
    "        day_of_week_summaries=day_of_week_summaries,\n",
    "    )\n",
    "\n",
    "# \"voynow99@gmail.com\", \"jaredpalek8@gmail.com\", \"laurenbrooks01@gmail.com\", \"raytrip.curtis@gmail.com\"\n",
    "for user in list_users():\n",
    "    if user.email == \"bconnolly04@gmail.com\":\n",
    "        print(user.email)\n",
    "        sysmsg_base = f\"{COACH_ROLE}\\nYour client has included the following preferences: {user.preferences}\\n\"\n",
    "        strava_client = get_strava_client(user.athlete_id)\n",
    "        training_week_with_coaching = gen_training_week_wrapper(sysmsg_base, strava_client)\n",
    "        print(training_week_with_coaching)\n",
    "        break"
   ]
  },
  {
   "cell_type": "code",
   "execution_count": 12,
   "metadata": {},
   "outputs": [
    {
     "name": "stdout",
     "output_type": "stream",
     "text": [
      "17.5\n",
      "Based on your recent training history, it seems you're building up nicely, with a peak mileage of 15.86 in Week 34. For the upcoming week, I suggest aiming for a total weekly mileage of around 16-17 miles to maintain consistency without overreaching. Your longest run previously was 12.32 miles, so let's aim for a long run this week of 11-12 miles, scheduled for Saturday. This will help you continue building endurance safely while setting a solid foundation for your half marathon preparation.\n"
     ]
    },
    {
     "data": {
      "text/plain": [
       "[TrainingSession(day=<Day.MON: 'mon'>, session_type=<SessionType.EASY: 'easy run'>, distance=2.0, notes='Easy pace to start the week'),\n",
       " TrainingSession(day=<Day.TUES: 'tues'>, session_type=<SessionType.SPEED: 'speed workout'>, distance=3.0, notes='1mi warm-up, 2x1mi @ 8m 30s pace with 400m rest in between, cool down.'),\n",
       " TrainingSession(day=<Day.WED: 'wed'>, session_type=<SessionType.REST: 'rest day'>, distance=0.0, notes='Rest and recover for the week'),\n",
       " TrainingSession(day=<Day.THURS: 'thurs'>, session_type=<SessionType.EASY: 'easy run'>, distance=1.5, notes='Light jog, short and easy.'),\n",
       " TrainingSession(day=<Day.FRI: 'fri'>, session_type=<SessionType.REST: 'rest day'>, distance=0.0, notes='Prepare for the long run'),\n",
       " TrainingSession(day=<Day.SAT: 'sat'>, session_type=<SessionType.LONG: 'long run'>, distance=11.0, notes='Complete at a comfortable pace around 10:00 min/mile, focus on endurance'),\n",
       " TrainingSession(day=<Day.SUN: 'sun'>, session_type=<SessionType.REST: 'rest day'>, distance=0.0, notes='Rest and recover')]"
      ]
     },
     "execution_count": 12,
     "metadata": {},
     "output_type": "execute_result"
    }
   ],
   "source": [
    "print(training_week_with_coaching.total_weekly_mileage)\n",
    "print(training_week_with_coaching.weekly_mileage_target)\n",
    "training_week_with_coaching.training_week"
   ]
  },
  {
   "cell_type": "code",
   "execution_count": 13,
   "metadata": {},
   "outputs": [
    {
     "data": {
      "text/plain": [
       "APIResponse(data=[{'id': 70, 'athlete_id': 105359460, 'training_week': '[{\"day\": \"mon\", \"session_type\": \"easy run\", \"distance\": 2.0, \"notes\": \"Easy pace to start the week\"}, {\"day\": \"tues\", \"session_type\": \"speed workout\", \"distance\": 3.0, \"notes\": \"1mi warm-up, 2x1mi @ 8m 30s pace with 400m rest in between, cool down.\"}, {\"day\": \"wed\", \"session_type\": \"rest day\", \"distance\": 0.0, \"notes\": \"Rest and recover for the week\"}, {\"day\": \"thurs\", \"session_type\": \"easy run\", \"distance\": 1.5, \"notes\": \"Light jog, short and easy.\"}, {\"day\": \"fri\", \"session_type\": \"rest day\", \"distance\": 0.0, \"notes\": \"Prepare for the long run\"}, {\"day\": \"sat\", \"session_type\": \"long run\", \"distance\": 11.0, \"notes\": \"Complete at a comfortable pace around 10:00 min/mile, focus on endurance\"}, {\"day\": \"sun\", \"session_type\": \"rest day\", \"distance\": 0.0, \"notes\": \"Rest and recover\"}]', 'typical_week_training_review': \"Your current training schedule shows short runs spread throughout the week, with a longer run on Saturdays averaging 4.87 miles at a pace of about 9 minutes 40 seconds per mile. It seems you rest on Thursdays, and it's advisable to incorporate speed work into your shorter Tuesday or Wednesday runs to improve your half marathon pace.\", 'weekly_mileage_target': \"Based on your recent training history, it seems you're building up nicely, with a peak mileage of 15.86 in Week 34. For the upcoming week, I suggest aiming for a total weekly mileage of around 16-17 miles to maintain consistency without overreaching. Your longest run previously was 12.32 miles, so let's aim for a long run this week of 11-12 miles, scheduled for Saturday. This will help you continue building endurance safely while setting a solid foundation for your half marathon preparation.\", 'created_at': '2024-09-02T22:40:44.101973+00:00', 'planning': 'Planning(weekly_mileage_target=16-17 miles, long_run_distance=11.0, remaining_weekly_mileage=16 - 11 = 5 miles, remaining_weekly_mileage_planning=We have 5 miles remaining after the long run on Saturday. Distribute this over the remaining days with one or two short runs and include speed work. For example, we can have an easy 2-mile run on Monday, a speed workout of 3 miles on Wednesday, and rest on Thursday and Sunday.)'}], count=None)"
      ]
     },
     "execution_count": 13,
     "metadata": {},
     "output_type": "execute_result"
    }
   ],
   "source": [
    "from src.supabase_client import upsert_training_week_with_coaching\n",
    "\n",
    "upsert_training_week_with_coaching(user.athlete_id, training_week_with_coaching)"
   ]
  },
  {
   "cell_type": "code",
   "execution_count": 14,
   "metadata": {},
   "outputs": [
    {
     "data": {
      "text/plain": [
       "{'message_id': '<202409022240.32468387644@smtp-relay.mailin.fr>',\n",
       " 'message_ids': None}"
      ]
     },
     "execution_count": 14,
     "metadata": {},
     "output_type": "execute_result"
    }
   ],
   "source": [
    "from src.email_manager import new_training_week_to_html, send_email\n",
    "from src.lambda_function import get_athlete_full_name\n",
    "\n",
    "\n",
    "send_email(\n",
    "    to={\"email\": user.email, \"name\": get_athlete_full_name(strava_client)},\n",
    "    subject=\"🏃‍♂️🎯 Just Fixed Your Jawn 🫡\",\n",
    "    html_content=new_training_week_to_html(training_week_with_coaching),\n",
    ")"
   ]
  },
  {
   "cell_type": "code",
   "execution_count": null,
   "metadata": {},
   "outputs": [],
   "source": []
  }
 ],
 "metadata": {
  "kernelspec": {
   "display_name": ".venv",
   "language": "python",
   "name": "python3"
  },
  "language_info": {
   "codemirror_mode": {
    "name": "ipython",
    "version": 3
   },
   "file_extension": ".py",
   "mimetype": "text/x-python",
   "name": "python",
   "nbconvert_exporter": "python",
   "pygments_lexer": "ipython3",
   "version": "3.12.3"
  }
 },
 "nbformat": 4,
 "nbformat_minor": 2
}
