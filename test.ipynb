{
 "cells": [
  {
   "cell_type": "code",
   "execution_count": 1,
   "metadata": {},
   "outputs": [],
   "source": [
    "%load_ext autoreload\n",
    "%autoreload 2"
   ]
  },
  {
   "cell_type": "code",
   "execution_count": 2,
   "metadata": {},
   "outputs": [],
   "source": [
    "import os\n",
    "import json\n",
    "from pprint import pprint\n",
    "\n",
    "from src.supabase_client import get_user, list_users\n",
    "from tests.common import run_new_training_week_process_wrapped, run_mid_week_update_process_wrapped\n"
   ]
  },
  {
   "cell_type": "markdown",
   "metadata": {},
   "source": [
    "# Test: One Offs"
   ]
  },
  {
   "cell_type": "code",
   "execution_count": null,
   "metadata": {},
   "outputs": [],
   "source": [
    "mock_user = get_user(105359460)\n",
    "response = run_new_training_week_process_wrapped(mock_user)\n",
    "print(response)"
   ]
  },
  {
   "cell_type": "code",
   "execution_count": null,
   "metadata": {},
   "outputs": [],
   "source": [
    "mock_user = get_user(os.environ[\"JAMIES_ATHLETE_ID\"])\n",
    "response = run_mid_week_update_process_wrapped(mock_user)\n",
    "print(response)"
   ]
  },
  {
   "cell_type": "markdown",
   "metadata": {},
   "source": [
    "# Evals: New Training Week"
   ]
  },
  {
   "cell_type": "code",
   "execution_count": null,
   "metadata": {},
   "outputs": [],
   "source": [
    "path = 'tests/artifacts/new_training_week_errors'\n",
    "files = os.listdir(path)\n",
    "\n",
    "for file in sorted(files):\n",
    "    print(f\"Loading {file}\")\n",
    "    with open(os.path.join(path, file), \"r\") as f:\n",
    "        results = json.load(f)\n",
    "    print(sum(result['error'] for result in results) / len(results))"
   ]
  },
  {
   "cell_type": "code",
   "execution_count": null,
   "metadata": {},
   "outputs": [],
   "source": [
    "for result in results:\n",
    "    print(result['user']['email'])\n",
    "    print(\"target:\", result['recommended_weekly_mileage'])\n",
    "    print(\"actual:\", result['generated_weekly_mileage'])\n",
    "    print(\"error:\", result['error'])\n",
    "    print(result['planning'])\n",
    "    print(\".\" * 100)"
   ]
  },
  {
   "cell_type": "code",
   "execution_count": null,
   "metadata": {},
   "outputs": [],
   "source": []
  },
  {
   "cell_type": "code",
   "execution_count": null,
   "metadata": {},
   "outputs": [],
   "source": []
  }
 ],
 "metadata": {
  "kernelspec": {
   "display_name": ".venv",
   "language": "python",
   "name": "python3"
  },
  "language_info": {
   "codemirror_mode": {
    "name": "ipython",
    "version": 3
   },
   "file_extension": ".py",
   "mimetype": "text/x-python",
   "name": "python",
   "nbconvert_exporter": "python",
   "pygments_lexer": "ipython3",
   "version": "3.11.9"
  }
 },
 "nbformat": 4,
 "nbformat_minor": 2
}
