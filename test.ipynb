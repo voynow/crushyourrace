{
 "cells": [
  {
   "cell_type": "code",
   "execution_count": 1,
   "metadata": {},
   "outputs": [],
   "source": [
    "%load_ext autoreload\n",
    "%autoreload 2"
   ]
  },
  {
   "cell_type": "code",
   "execution_count": 2,
   "metadata": {},
   "outputs": [],
   "source": [
    "import os\n",
    "\n",
    "import polars as pl\n",
    "from freezegun import freeze_time\n",
    "\n",
    "from src.activities import (\n",
    "    get_activities_df,\n",
    "    get_activity_summaries,\n",
    "    get_day_of_week_summaries,\n",
    "    get_weekly_summaries,\n",
    ")\n",
    "from src.auth_manager import get_strava_client\n",
    "from src.constants import COACH_ROLE\n",
    "from src.email_manager import (\n",
    "    send_email,\n",
    "    training_week_to_html,\n",
    "    training_week_update_to_html,\n",
    ")\n",
    "from src.supabase_client import (\n",
    "    get_training_week_with_coaching,\n",
    "    upsert_training_week_update,\n",
    "    upsert_training_week_with_coaching,\n",
    ")\n",
    "from src.training_week import generate_training_week\n",
    "from src.training_week_update import get_updated_training_week\n",
    "from src.types.mid_week_analysis import MidWeekAnalysis\n"
   ]
  },
  {
   "cell_type": "markdown",
   "metadata": {},
   "source": [
    "# Sunday Night Training Week Message"
   ]
  },
  {
   "cell_type": "code",
   "execution_count": 4,
   "metadata": {},
   "outputs": [
    {
     "name": "stdout",
     "output_type": "stream",
     "text": [
      "athlete_id='98390356' token still valid until 2024-08-19 02:00:31+00:00\n"
     ]
    },
    {
     "data": {
      "text/plain": [
       "{'message_id': '<202408182107.75708478271@smtp-relay.mailin.fr>',\n",
       " 'message_ids': None}"
      ]
     },
     "execution_count": 4,
     "metadata": {},
     "output_type": "execute_result"
    }
   ],
   "source": [
    "@freeze_time(\"2024-08-11 20:00:00\")\n",
    "def get_activities_df_wrapper(strava_client):\n",
    "    return get_activities_df(strava_client)\n",
    "\n",
    "client_preferences = \"A) Training for a marathon B) This will be my second marathon C) Prefer workouts on Wednesdays and long runs on Saturdays\"\n",
    "sysmsg_base = f\"{COACH_ROLE}\\nYour client has included the following preferences: {client_preferences}\\n\"\n",
    "\n",
    "# activities setup\n",
    "athlete_id = os.environ[\"JAMIES_ATHLETE_ID\"]\n",
    "strava_client = get_strava_client(athlete_id)\n",
    "activities_df = get_activities_df_wrapper(strava_client)\n",
    "\n",
    "# gen training week pipeline\n",
    "day_of_week_summaries = get_day_of_week_summaries(activities_df)\n",
    "weekly_summaries = get_weekly_summaries(activities_df)\n",
    "training_week_with_coaching = generate_training_week(\n",
    "    sysmsg_base=sysmsg_base,\n",
    "    weekly_summaries=weekly_summaries,\n",
    "    day_of_week_summaries=day_of_week_summaries,\n",
    ")\n",
    "\n",
    "# save data to db and trigger email\n",
    "upsert_training_week_with_coaching(\n",
    "    athlete_id=athlete_id, training_week_with_coaching=training_week_with_coaching\n",
    ")\n",
    "send_email(\n",
    "    subject=\"Training Schedule Just Dropped 🏃\",\n",
    "    html_content=training_week_to_html(training_week_with_coaching),\n",
    ")"
   ]
  },
  {
   "cell_type": "markdown",
   "metadata": {},
   "source": [
    "# Mid-Week Update"
   ]
  },
  {
   "cell_type": "code",
   "execution_count": 5,
   "metadata": {},
   "outputs": [
    {
     "name": "stdout",
     "output_type": "stream",
     "text": [
      "athlete_id='98390356' token still valid until 2024-08-19 02:00:31+00:00\n",
      "shape: (2, 10)\n",
      "┌───────────┬───────────┬───────────┬───────────┬───┬───────────┬───────────┬───────────┬──────────┐\n",
      "│ id        ┆ name      ┆ start_dat ┆ day_of_we ┆ … ┆ distance_ ┆ elevation ┆ moving_ti ┆ pace_min │\n",
      "│ ---       ┆ ---       ┆ e_local   ┆ ek        ┆   ┆ in_miles  ┆ _gain_in_ ┆ me_in_min ┆ utes_per │\n",
      "│ u64       ┆ str       ┆ ---       ┆ ---       ┆   ┆ ---       ┆ feet      ┆ utes      ┆ _mile    │\n",
      "│           ┆           ┆ datetime[ ┆ str       ┆   ┆ f64       ┆ ---       ┆ ---       ┆ ---      │\n",
      "│           ┆           ┆ μs]       ┆           ┆   ┆           ┆ f64       ┆ f64       ┆ f64      │\n",
      "╞═══════════╪═══════════╪═══════════╪═══════════╪═══╪═══════════╪═══════════╪═══════════╪══════════╡\n",
      "│ 121272320 ┆ Yeehaw🤠  ┆ 2024-08-1 ┆ mon       ┆ … ┆ 8.014466  ┆ 183.72704 ┆ 75.566667 ┆ 9.428784 │\n",
      "│ 53        ┆           ┆ 2         ┆           ┆   ┆           ┆           ┆           ┆          │\n",
      "│           ┆           ┆ 06:06:14  ┆           ┆   ┆           ┆           ┆           ┆          │\n",
      "│ 121355978 ┆ Morning   ┆ 2024-08-1 ┆ tue       ┆ … ┆ 4.009967  ┆ 52.49344  ┆ 42.666667 ┆ 10.64015 │\n",
      "│ 82        ┆ Run       ┆ 3         ┆           ┆   ┆           ┆           ┆           ┆ 5        │\n",
      "│           ┆           ┆ 06:15:48  ┆           ┆   ┆           ┆           ┆           ┆          │\n",
      "└───────────┴───────────┴───────────┴───────────┴───┴───────────┴───────────┴───────────┴──────────┘\n"
     ]
    },
    {
     "data": {
      "text/plain": [
       "{'message_id': '<202408182112.52938248021@smtp-relay.mailin.fr>',\n",
       " 'message_ids': None}"
      ]
     },
     "execution_count": 5,
     "metadata": {},
     "output_type": "execute_result"
    }
   ],
   "source": [
    "@freeze_time(\"2024-08-13 20:00:00\")\n",
    "def mock_get_activity_summaries(strava_client, num_weeks=8):\n",
    "    return get_activity_summaries(strava_client, num_weeks)\n",
    "\n",
    "client_preferences = \"A) Training for a marathon B) This will be my second marathon C) Prefer workouts on Wednesdays and long runs on Saturdays\"\n",
    "sysmsg_base = f\"{COACH_ROLE}\\nYour client has included the following preferences: {client_preferences}\\n\"\n",
    "\n",
    "\n",
    "athlete_id = os.environ[\"JAMIES_ATHLETE_ID\"]\n",
    "strava_client = get_strava_client(athlete_id)\n",
    "\n",
    "training_week_with_coaching = get_training_week_with_coaching(athlete_id)\n",
    "current_weeks_activity_summaries = mock_get_activity_summaries(strava_client, num_weeks=1)\n",
    "mid_week_analysis = MidWeekAnalysis(\n",
    "    activities=current_weeks_activity_summaries,\n",
    "    training_week=training_week_with_coaching.training_week,\n",
    ")\n",
    "training_week_update_with_planning = get_updated_training_week(\n",
    "    sysmsg_base=sysmsg_base, \n",
    "    mid_week_analysis=mid_week_analysis\n",
    ")\n",
    "\n",
    "upsert_training_week_update(\n",
    "    athlete_id=athlete_id,\n",
    "    mid_week_analysis=mid_week_analysis,\n",
    "    training_week_update_with_planning=training_week_update_with_planning,\n",
    ")\n",
    "send_email(\n",
    "    subject=\"Training Schedule Update 🏃\",\n",
    "    html_content=training_week_update_to_html(\n",
    "        mid_week_analysis=mid_week_analysis, \n",
    "        training_week_update_with_planning=training_week_update_with_planning\n",
    "    ),\n",
    ")"
   ]
  },
  {
   "cell_type": "code",
   "execution_count": null,
   "metadata": {},
   "outputs": [],
   "source": []
  }
 ],
 "metadata": {
  "kernelspec": {
   "display_name": ".venv",
   "language": "python",
   "name": "python3"
  },
  "language_info": {
   "codemirror_mode": {
    "name": "ipython",
    "version": 3
   },
   "file_extension": ".py",
   "mimetype": "text/x-python",
   "name": "python",
   "nbconvert_exporter": "python",
   "pygments_lexer": "ipython3",
   "version": "3.12.3"
  }
 },
 "nbformat": 4,
 "nbformat_minor": 2
}
