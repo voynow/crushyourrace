{
 "cells": [
  {
   "cell_type": "code",
   "execution_count": 1,
   "metadata": {},
   "outputs": [],
   "source": [
    "%load_ext autoreload\n",
    "%autoreload 2"
   ]
  },
  {
   "cell_type": "code",
   "execution_count": 9,
   "metadata": {},
   "outputs": [],
   "source": [
    "import os\n",
    "import json\n",
    "from pprint import pprint\n",
    "\n",
    "from src.supabase_client import get_user, list_users\n",
    "from tests.common import run_new_training_week_process_wrapped, run_mid_week_update_process_wrapped\n"
   ]
  },
  {
   "cell_type": "markdown",
   "metadata": {},
   "source": [
    "# Test: One Offs"
   ]
  },
  {
   "cell_type": "code",
   "execution_count": null,
   "metadata": {},
   "outputs": [],
   "source": [
    "mock_user = get_user(105359460)\n",
    "response = run_new_training_week_process_wrapped(mock_user)\n",
    "print(response)"
   ]
  },
  {
   "cell_type": "code",
   "execution_count": null,
   "metadata": {},
   "outputs": [],
   "source": [
    "mock_user = get_user(os.environ[\"JAMIES_ATHLETE_ID\"])\n",
    "response = run_mid_week_update_process_wrapped(mock_user)\n",
    "print(response)"
   ]
  },
  {
   "cell_type": "markdown",
   "metadata": {},
   "source": [
    "# Evals: New Training Week"
   ]
  },
  {
   "cell_type": "code",
   "execution_count": null,
   "metadata": {},
   "outputs": [],
   "source": [
    "path = 'tests/artifacts/new_training_week_errors'\n",
    "files = os.listdir(path)\n",
    "\n",
    "for file in sorted(files):\n",
    "    print(f\"Loading {file}\")\n",
    "    with open(os.path.join(path, file), \"r\") as f:\n",
    "        results = json.load(f)\n",
    "    print(sum(result['error'] for result in results) / len(results))"
   ]
  },
  {
   "cell_type": "code",
   "execution_count": null,
   "metadata": {},
   "outputs": [],
   "source": [
    "for result in results:\n",
    "    print(result['user']['email'])\n",
    "    print(\"target:\", result['recommended_weekly_mileage'])\n",
    "    print(\"actual:\", result['generated_weekly_mileage'])\n",
    "    print(\"error:\", result['error'])\n",
    "    print(result['planning'])\n",
    "    print(\".\" * 100)"
   ]
  },
  {
   "cell_type": "markdown",
   "metadata": {},
   "source": [
    "# Manual: New Training Week"
   ]
  },
  {
   "cell_type": "code",
   "execution_count": null,
   "metadata": {},
   "outputs": [],
   "source": [
    "from freezegun import freeze_time\n",
    "from src.activities import get_activities_df, get_day_of_week_summaries, get_weekly_summaries\n",
    "from src.auth_manager import get_strava_client\n",
    "from src.constants import COACH_ROLE\n",
    "from src.new_training_week import generate_training_week_with_coaching\n",
    "from src.supabase_client import list_users\n",
    "\n",
    "@freeze_time(\"2024-09-01\")\n",
    "def gen_training_week_wrapper(sysmsg_base, strava_client):\n",
    "    activities_df = get_activities_df(strava_client)\n",
    "    day_of_week_summaries = get_day_of_week_summaries(activities_df)\n",
    "    weekly_summaries = get_weekly_summaries(activities_df)\n",
    "    return generate_training_week_with_coaching(\n",
    "        sysmsg_base=sysmsg_base,\n",
    "        weekly_summaries=weekly_summaries,\n",
    "        day_of_week_summaries=day_of_week_summaries,\n",
    "    )\n",
    "\n",
    "# \"voynow99@gmail.com\", \"jaredpalek8@gmail.com\", \"laurenbrooks01@gmail.com\", \"raytrip.curtis@gmail.com\"\n",
    "for user in list_users():\n",
    "    if user.email == \"bconnolly04@gmail.com\":\n",
    "        print(user.email)\n",
    "        sysmsg_base = f\"{COACH_ROLE}\\nYour client has included the following preferences: {user.preferences}\\n\"\n",
    "        strava_client = get_strava_client(user.athlete_id)\n",
    "        training_week_with_coaching = gen_training_week_wrapper(sysmsg_base, strava_client)\n",
    "        print(training_week_with_coaching)\n",
    "        break"
   ]
  },
  {
   "cell_type": "code",
   "execution_count": null,
   "metadata": {},
   "outputs": [],
   "source": [
    "print(training_week_with_coaching.total_weekly_mileage)\n",
    "print(training_week_with_coaching.weekly_mileage_target)\n",
    "training_week_with_coaching.training_week"
   ]
  },
  {
   "cell_type": "code",
   "execution_count": null,
   "metadata": {},
   "outputs": [],
   "source": [
    "from src.supabase_client import upsert_training_week_with_coaching\n",
    "\n",
    "upsert_training_week_with_coaching(user.athlete_id, training_week_with_coaching)"
   ]
  },
  {
   "cell_type": "code",
   "execution_count": null,
   "metadata": {},
   "outputs": [],
   "source": [
    "from src.email_manager import new_training_week_to_html, send_email\n",
    "from src.lambda_function import get_athlete_full_name\n",
    "\n",
    "\n",
    "send_email(\n",
    "    to={\"email\": user.email, \"name\": get_athlete_full_name(strava_client)},\n",
    "    subject=\"🏃‍♂️🎯 Just Fixed Your Jawn 🫡\",\n",
    "    html_content=new_training_week_to_html(training_week_with_coaching),\n",
    ")"
   ]
  },
  {
   "cell_type": "code",
   "execution_count": null,
   "metadata": {},
   "outputs": [],
   "source": []
  }
 ],
 "metadata": {
  "kernelspec": {
   "display_name": ".venv",
   "language": "python",
   "name": "python3"
  },
  "language_info": {
   "codemirror_mode": {
    "name": "ipython",
    "version": 3
   },
   "file_extension": ".py",
   "mimetype": "text/x-python",
   "name": "python",
   "nbconvert_exporter": "python",
   "pygments_lexer": "ipython3",
   "version": "3.11.9"
  }
 },
 "nbformat": 4,
 "nbformat_minor": 2
}
