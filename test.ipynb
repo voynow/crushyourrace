{
 "cells": [
  {
   "cell_type": "code",
   "execution_count": 1,
   "metadata": {},
   "outputs": [],
   "source": [
    "%load_ext autoreload\n",
    "%autoreload 2"
   ]
  },
  {
   "cell_type": "code",
   "execution_count": 24,
   "metadata": {},
   "outputs": [],
   "source": [
    "import os\n",
    "from openai import OpenAI\n",
    "import polars as pl\n",
    "\n",
    "from src.activities import get_activities_df, get_day_of_week_summaries\n",
    "from src.auth_manager import get_strava_client"
   ]
  },
  {
   "cell_type": "code",
   "execution_count": 40,
   "metadata": {},
   "outputs": [
    {
     "name": "stdout",
     "output_type": "stream",
     "text": [
      "athlete_id='98390356' token still valid until 2024-08-04 22:01:57+00:00\n"
     ]
    }
   ],
   "source": [
    "athlete_id = os.environ[\"JAMIES_ATHLETE_ID\"]\n",
    "strava_client = get_strava_client(athlete_id)\n",
    "activities_df = get_activities_df(strava_client)"
   ]
  },
  {
   "cell_type": "code",
   "execution_count": 50,
   "metadata": {},
   "outputs": [
    {
     "data": {
      "text/plain": [
       "[DayOfWeekSummary(day_of_week=<DayOfWeek.MON: 'Mon'>, number_of_runs=6, avg_miles=7.59, avg_pace=9.57),\n",
       " DayOfWeekSummary(day_of_week=<DayOfWeek.TUE: 'Tue'>, number_of_runs=7, avg_miles=3.32, avg_pace=10.25),\n",
       " DayOfWeekSummary(day_of_week=<DayOfWeek.WED: 'Wed'>, number_of_runs=11, avg_miles=4.76, avg_pace=9.33),\n",
       " DayOfWeekSummary(day_of_week=<DayOfWeek.THU: 'Thu'>, number_of_runs=1, avg_miles=1.66, avg_pace=10.97),\n",
       " DayOfWeekSummary(day_of_week=<DayOfWeek.FRI: 'Fri'>, number_of_runs=6, avg_miles=4.67, avg_pace=9.9),\n",
       " DayOfWeekSummary(day_of_week=<DayOfWeek.SAT: 'Sat'>, number_of_runs=6, avg_miles=10.17, avg_pace=9.98),\n",
       " DayOfWeekSummary(day_of_week=<DayOfWeek.SUN: 'Sun'>, number_of_runs=2, avg_miles=8.04, avg_pace=9.45)]"
      ]
     },
     "execution_count": 50,
     "metadata": {},
     "output_type": "execute_result"
    }
   ],
   "source": [
    "get_day_of_week_summaries(activities_df) "
   ]
  },
  {
   "cell_type": "code",
   "execution_count": null,
   "metadata": {},
   "outputs": [],
   "source": []
  }
 ],
 "metadata": {
  "kernelspec": {
   "display_name": ".venv",
   "language": "python",
   "name": "python3"
  },
  "language_info": {
   "codemirror_mode": {
    "name": "ipython",
    "version": 3
   },
   "file_extension": ".py",
   "mimetype": "text/x-python",
   "name": "python",
   "nbconvert_exporter": "python",
   "pygments_lexer": "ipython3",
   "version": "3.12.3"
  }
 },
 "nbformat": 4,
 "nbformat_minor": 2
}
