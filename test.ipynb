{
 "cells": [
  {
   "cell_type": "code",
   "execution_count": 2,
   "metadata": {},
   "outputs": [],
   "source": [
    "%load_ext autoreload\n",
    "%autoreload 2"
   ]
  },
  {
   "cell_type": "markdown",
   "metadata": {},
   "source": [
    "# Trigger Lambda E2E"
   ]
  },
  {
   "cell_type": "code",
   "execution_count": 3,
   "metadata": {},
   "outputs": [],
   "source": [
    "import requests\n",
    "import os\n",
    "\n",
    "url = \"https://lwg77yq7dd.execute-api.us-east-1.amazonaws.com/prod/signup\"\n",
    "\n",
    "response = requests.post(url, json={\n",
    "    \"trigger_test_key\": os.environ[\"TRIGGER_TEST_KEY\"]\n",
    "})\n",
    "\n",
    "response.json()"
   ]
  },
  {
   "cell_type": "code",
   "execution_count": 3,
   "metadata": {},
   "outputs": [],
   "source": [
    "import os\n",
    "from src.auth_manager import get_strava_client\n",
    "from src.supabase_client import get_user\n",
    "from src.activities import get_activity_summaries\n",
    "\n",
    "user = get_user(os.environ[\"JAMIES_ATHLETE_ID\"])\n",
    "strava_client = get_strava_client(user.athlete_id)\n",
    "summaries = get_activity_summaries(strava_client)"
   ]
  },
  {
   "cell_type": "code",
   "execution_count": 4,
   "metadata": {},
   "outputs": [
    {
     "data": {
      "text/plain": [
       "{'success': True,\n",
       " 'weekly_summaries': ['{\"year\": 2024, \"week_of_year\": 38, \"week_start_date\": \"2024-09-16\", \"longest_run\": 0.0, \"total_distance\": 0.0}',\n",
       "  '{\"year\": 2024, \"week_of_year\": 39, \"week_start_date\": \"2024-09-23\", \"longest_run\": 9.01, \"total_distance\": 20.38}',\n",
       "  '{\"year\": 2024, \"week_of_year\": 40, \"week_start_date\": \"2024-09-30\", \"longest_run\": 18.01, \"total_distance\": 45.05}',\n",
       "  '{\"year\": 2024, \"week_of_year\": 41, \"week_start_date\": \"2024-10-07\", \"longest_run\": 20.03, \"total_distance\": 50.1}',\n",
       "  '{\"year\": 2024, \"week_of_year\": 42, \"week_start_date\": \"2024-10-14\", \"longest_run\": 20.02, \"total_distance\": 44.66}',\n",
       "  '{\"year\": 2024, \"week_of_year\": 43, \"week_start_date\": \"2024-10-21\", \"longest_run\": 20.02, \"total_distance\": 41.38}',\n",
       "  '{\"year\": 2024, \"week_of_year\": 44, \"week_start_date\": \"2024-10-28\", \"longest_run\": 15.81, \"total_distance\": 40.08}',\n",
       "  '{\"year\": 2024, \"week_of_year\": 45, \"week_start_date\": \"2024-11-04\", \"longest_run\": 8.37, \"total_distance\": 8.37}']}"
      ]
     },
     "execution_count": 4,
     "metadata": {},
     "output_type": "execute_result"
    }
   ],
   "source": [
    "from src.frontend_router import get_weekly_summaries_handler\n",
    "\n",
    "get_weekly_summaries_handler(user.athlete_id, {})"
   ]
  },
  {
   "cell_type": "code",
   "execution_count": null,
   "metadata": {},
   "outputs": [],
   "source": []
  }
 ],
 "metadata": {
  "kernelspec": {
   "display_name": ".venv",
   "language": "python",
   "name": "python3"
  },
  "language_info": {
   "codemirror_mode": {
    "name": "ipython",
    "version": 3
   },
   "file_extension": ".py",
   "mimetype": "text/x-python",
   "name": "python",
   "nbconvert_exporter": "python",
   "pygments_lexer": "ipython3",
   "version": "3.11.9"
  }
 },
 "nbformat": 4,
 "nbformat_minor": 2
}
