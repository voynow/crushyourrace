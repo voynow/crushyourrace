{
 "cells": [
  {
   "cell_type": "code",
   "execution_count": 1,
   "metadata": {},
   "outputs": [],
   "source": [
    "%load_ext autoreload\n",
    "%autoreload 2"
   ]
  },
  {
   "cell_type": "code",
   "execution_count": 6,
   "metadata": {},
   "outputs": [
    {
     "name": "stderr",
     "output_type": "stream",
     "text": [
      "INFO:httpx:HTTP Request: GET https://ehgwtyfhzmnvvxrvyije.supabase.co/rest/v1/user?select=%2A&athlete_id=eq.98390356 \"HTTP/2 200 OK\"\n",
      "INFO:httpx:HTTP Request: GET https://ehgwtyfhzmnvvxrvyije.supabase.co/rest/v1/user_auth?select=%2A&athlete_id=eq.98390356 \"HTTP/2 200 OK\"\n",
      "INFO:httpx:HTTP Request: GET https://ehgwtyfhzmnvvxrvyije.supabase.co/rest/v1/training_week?select=training_week&athlete_id=eq.98390356&order=created_at.desc&limit=1 \"HTTP/2 200 OK\"\n",
      "INFO:stravalib.protocol.ApiV3:GET 'https://www.strava.com/api/v3/athlete/activities' with params {'before': 1730851992, 'after': 1730243592, 'page': 1, 'per_page': 200}\n"
     ]
    },
    {
     "name": "stdout",
     "output_type": "stream",
     "text": [
      "sessions=[TrainingSession(day=<Day.MON: 'Mon'>, session_type=<SessionType.EASY: 'easy run'>, distance=8.37, notes='easy pace', completed=True), TrainingSession(day=<Day.TUES: 'Tues'>, session_type=<SessionType.MODERATE: 'moderate run'>, distance=5.0, notes='Maintain a steady but comfortable pace.', completed=False), TrainingSession(day=<Day.WED: 'Wed'>, session_type=<SessionType.SPEED: 'speed workout'>, distance=6.0, notes='2x2mi at 7m 30s pace with rest intervals.', completed=False), TrainingSession(day=<Day.THURS: 'Thurs'>, session_type=<SessionType.REST: 'rest day'>, distance=0.0, notes='Complete rest to recover.', completed=False), TrainingSession(day=<Day.FRI: 'Fri'>, session_type=<SessionType.EASY: 'easy run'>, distance=5.63, notes='Easy pace, focus on form and breathing.', completed=False), TrainingSession(day=<Day.SAT: 'Sat'>, session_type=<SessionType.REST: 'rest day'>, distance=0.0, notes='Use this day to fully rest before the long run.', completed=False), TrainingSession(day=<Day.SUN: 'Sun'>, session_type=<SessionType.LONG: 'long run'>, distance=13.0, notes='Maintain a comfortable pace, ensure hydration and nutrition.', completed=False)]\n",
      "[ActivitySummary(date='Monday, November 04, 2024', distance_in_miles=8.37, elevation_gain_in_feet=173.88, pace_minutes_per_mile=9.66), ActivitySummary(date='Tuesday, November 05, 2024', distance_in_miles=1.02, elevation_gain_in_feet=0.0, pace_minutes_per_mile=10.02)]\n",
      "You are a talented running coach with years of experience. You have been hired by a client to help them improve their running performance. Note: convert pace values where applicable e.g. 7.5 -> 7m 30s.\n",
      "Client Preferences: race_distance=<RaceDistance.MARATHON: 'marathon'> ideal_training_week=[TheoreticalTrainingSession(day=<Day.SAT: 'Sat'>, session_type=<SessionType.LONG: 'long run'>), TheoreticalTrainingSession(day=<Day.SUN: 'Sun'>, session_type=<SessionType.REST: 'rest day'>)]\n"
     ]
    },
    {
     "name": "stderr",
     "output_type": "stream",
     "text": [
      "INFO:httpx:HTTP Request: POST https://api.openai.com/v1/chat/completions \"HTTP/1.1 200 OK\"\n",
      "INFO:httpx:HTTP Request: POST https://api.openai.com/v1/chat/completions \"HTTP/1.1 200 OK\"\n",
      "INFO:httpx:HTTP Request: POST https://ehgwtyfhzmnvvxrvyije.supabase.co/rest/v1/training_week \"HTTP/2 201 Created\"\n"
     ]
    },
    {
     "name": "stdout",
     "output_type": "stream",
     "text": [
      "sessions=[TrainingSession(day=<Day.MON: 'Mon'>, session_type=<SessionType.EASY: 'easy run'>, distance=8.37, notes='Completed an easy run with an elevation gain of 173.88 feet. Pace was 9m 40s per mile.', completed=True), TrainingSession(day=<Day.TUES: 'Tues'>, session_type=<SessionType.EASY: 'easy run'>, distance=1.02, notes='Short recovery run with no elevation gain. Pace was 10m 1s per mile.', completed=True), TrainingSession(day=<Day.WED: 'Wed'>, session_type=<SessionType.SPEED: 'speed workout'>, distance=7.5, notes='2x2mi at 7m 30s pace with rest intervals, plus an additional 1.5 miles at an easy pace.', completed=False), TrainingSession(day=<Day.THURS: 'Thurs'>, session_type=<SessionType.REST: 'rest day'>, distance=0.0, notes='Complete rest to recover.', completed=False), TrainingSession(day=<Day.FRI: 'Fri'>, session_type=<SessionType.EASY: 'easy run'>, distance=7.11, notes='Easy pace, focus on form and breathing, including an additional 1.48 miles at an easy pace.', completed=False), TrainingSession(day=<Day.SAT: 'Sat'>, session_type=<SessionType.REST: 'rest day'>, distance=0.0, notes='Use this day to fully rest before the long run.', completed=False), TrainingSession(day=<Day.SUN: 'Sun'>, session_type=<SessionType.LONG: 'long run'>, distance=13.0, notes='Maintain a comfortable pace, ensure hydration and nutrition.', completed=False)]\n"
     ]
    },
    {
     "name": "stderr",
     "output_type": "stream",
     "text": [
      "INFO:httpx:HTTP Request: GET https://ehgwtyfhzmnvvxrvyije.supabase.co/rest/v1/user_auth?select=%2A&athlete_id=eq.98390356 \"HTTP/2 200 OK\"\n",
      "INFO:root:Sending push notification with token: ff27dd2c...\n",
      "INFO:httpx:HTTP Request: POST https://api.push.apple.com/3/device/ff27dd2c813efb25194f614c3be1829dce114f288dd03bde0e86169fae8f3d1f \"HTTP/2 200 OK\"\n"
     ]
    },
    {
     "data": {
      "text/plain": [
       "{'success': True}"
      ]
     },
     "execution_count": 6,
     "metadata": {},
     "output_type": "execute_result"
    }
   ],
   "source": [
    "import os\n",
    "\n",
    "from src.update_pipeline import update_training_week\n",
    "from src.types.update_pipeline import ExeType\n",
    "from src.supabase_client import get_user\n",
    "\n",
    "USER = get_user(os.environ[\"JAMIES_ATHLETE_ID\"])\n",
    "update_training_week(USER, ExeType.MID_WEEK)"
   ]
  },
  {
   "cell_type": "code",
   "execution_count": null,
   "metadata": {},
   "outputs": [],
   "source": []
  }
 ],
 "metadata": {
  "kernelspec": {
   "display_name": ".venv",
   "language": "python",
   "name": "python3"
  },
  "language_info": {
   "codemirror_mode": {
    "name": "ipython",
    "version": 3
   },
   "file_extension": ".py",
   "mimetype": "text/x-python",
   "name": "python",
   "nbconvert_exporter": "python",
   "pygments_lexer": "ipython3",
   "version": "3.11.9"
  }
 },
 "nbformat": 4,
 "nbformat_minor": 2
}
