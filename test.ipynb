{
 "cells": [
  {
   "cell_type": "code",
   "execution_count": 1,
   "metadata": {},
   "outputs": [],
   "source": [
    "%load_ext autoreload\n",
    "%autoreload 2"
   ]
  },
  {
   "cell_type": "code",
   "execution_count": 13,
   "metadata": {},
   "outputs": [],
   "source": [
    "import os\n",
    "from typing import List\n",
    "\n",
    "import polars as pl\n",
    "from freezegun import freeze_time\n",
    "\n",
    "from src.activities import (\n",
    "    get_activities_df,\n",
    "    get_day_of_week_summaries,\n",
    "    get_weekly_summaries,\n",
    ")\n",
    "from src.types.training_week import TrainingWeekWithCoaching, TrainingSession\n",
    "from src.auth_manager import get_strava_client\n",
    "from src.email_manager import send_email, training_week_to_html\n",
    "from src.supabase_client import upsert_training_week_with_coaching, get_training_week_with_coaching\n",
    "from src.training_week_generation.training_week import generate_training_week"
   ]
  },
  {
   "cell_type": "markdown",
   "metadata": {},
   "source": [
    "# Sunday Night Training Week Message"
   ]
  },
  {
   "cell_type": "code",
   "execution_count": 62,
   "metadata": {},
   "outputs": [
    {
     "name": "stdout",
     "output_type": "stream",
     "text": [
      "athlete_id='98390356' token still valid until 2024-08-17 05:16:28+00:00\n"
     ]
    },
    {
     "data": {
      "text/plain": [
       "{'message_id': '<202408162339.82734117080@smtp-relay.mailin.fr>',\n",
       " 'message_ids': None}"
      ]
     },
     "execution_count": 62,
     "metadata": {},
     "output_type": "execute_result"
    }
   ],
   "source": [
    "@freeze_time(\"2024-08-11 20:00:00\")\n",
    "def get_activities_df_wrapper(strava_client):\n",
    "    return get_activities_df(strava_client)\n",
    "\n",
    "client_preferences = \"A) Training for a marathon B) This will be my second marathon C) Prefer workouts on Wednesdays and long runs on Saturdays\"\n",
    "\n",
    "# activities setup\n",
    "athlete_id = os.environ[\"JAMIES_ATHLETE_ID\"]\n",
    "strava_client = get_strava_client(athlete_id)\n",
    "activities_df = get_activities_df_wrapper(strava_client)\n",
    "\n",
    "# gen training week pipeline\n",
    "day_of_week_summaries = get_day_of_week_summaries(activities_df)\n",
    "weekly_summaries = get_weekly_summaries(activities_df)\n",
    "training_week_with_coaching = generate_training_week(\n",
    "    client_preferences=client_preferences,\n",
    "    weekly_summaries=weekly_summaries,\n",
    "    day_of_week_summaries=day_of_week_summaries,\n",
    ")\n",
    "\n",
    "# save data to db and trigger email\n",
    "upsert_training_week_with_coaching(\n",
    "    athlete_id=athlete_id, training_week_with_coaching=training_week_with_coaching\n",
    ")\n",
    "send_email(\n",
    "    subject=\"Training Schedule Just Dropped 🏃\",\n",
    "    html_content=training_week_to_html(training_week_with_coaching),\n",
    ")"
   ]
  },
  {
   "cell_type": "markdown",
   "metadata": {},
   "source": [
    "# Mid-Week Update"
   ]
  },
  {
   "cell_type": "code",
   "execution_count": 67,
   "metadata": {},
   "outputs": [],
   "source": [
    "import datetime\n",
    "\n",
    "@freeze_time(\"2024-08-13 20:00:00\")\n",
    "def mock_get_activities_df(strava_client, num_weeks=8):\n",
    "    return get_activities_df(strava_client, num_weeks)\n",
    "\n",
    "@freeze_time(\"2024-08-13 20:00:00\")\n",
    "def mock_time_now():\n",
    "    return datetime.datetime.now()\n",
    "\n",
    "def get_day_of_week():\n",
    "    return mock_time_now().strftime(\"%A\")\n",
    "\n",
    "def get_weekday_num():\n",
    "    return mock_time_now().weekday()\n",
    "\n",
    "\n",
    "def get_concise_activities(strava_client, num_weeks=8) -> pl.DataFrame:\n",
    "    df = mock_get_activities_df(strava_client, num_weeks)\n",
    "    return df.with_columns(\n",
    "        pl.col('start_date_local').apply(lambda x: x.strftime(\"%A, %B %d, %Y %I:%M %p\")),\n",
    "        pl.col('distance_in_miles').apply(lambda x: round(x, 2)),\n",
    "        pl.col('elevation_gain_in_feet').apply(lambda x: round(x, 2)),\n",
    "        pl.col('pace_minutes_per_mile').apply(lambda x: round(x, 2)),\n",
    "    ).drop('id', 'name', 'day_of_week', 'week_of_year', 'year', 'moving_time_in_minutes')\n",
    "\n",
    "\n",
    "def get_mid_week_delta(\n",
    "    training_week_with_coaching: TrainingWeekWithCoaching,\n",
    "    activities: pl.DataFrame\n",
    ") -> float:\n",
    "    \"\"\"\n",
    "    Assumes that activities is truncated to the current week, calculating the \n",
    "    difference between target mileage and actual mileage thus far this week\n",
    "\n",
    "    :param training_week_with_coaching: instance TrainingWeekWithCoaching\n",
    "    :param activities: DataFrame of activities thus far this week\n",
    "    :return: The mileage delta as a float\n",
    "    \"\"\"\n",
    "    actual_mileage = activities['distance_in_miles'].sum()\n",
    "    weekly_target = sum(sess.distance for sess in training_week_with_coaching.training_week)\n",
    "    mileage_delta = weekly_target - actual_mileage\n",
    "\n",
    "    return mileage_delta"
   ]
  },
  {
   "cell_type": "code",
   "execution_count": 68,
   "metadata": {},
   "outputs": [
    {
     "name": "stdout",
     "output_type": "stream",
     "text": [
      "athlete_id='98390356' token still valid until 2024-08-17 05:16:28+00:00\n"
     ]
    }
   ],
   "source": [
    "\n",
    "athlete_id = os.environ[\"JAMIES_ATHLETE_ID\"]\n",
    "strava_client = get_strava_client(athlete_id)\n",
    "training_week_with_coaching = get_training_week_with_coaching(athlete_id)\n",
    "activities = get_concise_activities(strava_client, num_weeks=1)"
   ]
  },
  {
   "cell_type": "code",
   "execution_count": 69,
   "metadata": {},
   "outputs": [
    {
     "data": {
      "text/html": [
       "<div><style>\n",
       ".dataframe > thead > tr,\n",
       ".dataframe > tbody > tr {\n",
       "  text-align: right;\n",
       "  white-space: pre-wrap;\n",
       "}\n",
       "</style>\n",
       "<small>shape: (2, 4)</small><table border=\"1\" class=\"dataframe\"><thead><tr><th>start_date_local</th><th>distance_in_miles</th><th>elevation_gain_in_feet</th><th>pace_minutes_per_mile</th></tr><tr><td>str</td><td>f64</td><td>f64</td><td>f64</td></tr></thead><tbody><tr><td>&quot;Monday, August 12, 2024 06:06 …</td><td>8.01</td><td>183.73</td><td>9.43</td></tr><tr><td>&quot;Tuesday, August 13, 2024 06:15…</td><td>4.01</td><td>52.49</td><td>10.64</td></tr></tbody></table></div>"
      ],
      "text/plain": [
       "shape: (2, 4)\n",
       "┌──────────────────────────┬───────────────────┬────────────────────────┬───────────────────────┐\n",
       "│ start_date_local         ┆ distance_in_miles ┆ elevation_gain_in_feet ┆ pace_minutes_per_mile │\n",
       "│ ---                      ┆ ---               ┆ ---                    ┆ ---                   │\n",
       "│ str                      ┆ f64               ┆ f64                    ┆ f64                   │\n",
       "╞══════════════════════════╪═══════════════════╪════════════════════════╪═══════════════════════╡\n",
       "│ Monday, August 12, 2024  ┆ 8.01              ┆ 183.73                 ┆ 9.43                  │\n",
       "│ 06:06 …                  ┆                   ┆                        ┆                       │\n",
       "│ Tuesday, August 13, 2024 ┆ 4.01              ┆ 52.49                  ┆ 10.64                 │\n",
       "│ 06:15…                   ┆                   ┆                        ┆                       │\n",
       "└──────────────────────────┴───────────────────┴────────────────────────┴───────────────────────┘"
      ]
     },
     "execution_count": 69,
     "metadata": {},
     "output_type": "execute_result"
    }
   ],
   "source": [
    "activities"
   ]
  },
  {
   "cell_type": "code",
   "execution_count": null,
   "metadata": {},
   "outputs": [],
   "source": []
  }
 ],
 "metadata": {
  "kernelspec": {
   "display_name": ".venv",
   "language": "python",
   "name": "python3"
  },
  "language_info": {
   "codemirror_mode": {
    "name": "ipython",
    "version": 3
   },
   "file_extension": ".py",
   "mimetype": "text/x-python",
   "name": "python",
   "nbconvert_exporter": "python",
   "pygments_lexer": "ipython3",
   "version": "3.12.3"
  }
 },
 "nbformat": 4,
 "nbformat_minor": 2
}
