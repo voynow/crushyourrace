{
 "cells": [
  {
   "cell_type": "code",
   "execution_count": 1,
   "metadata": {},
   "outputs": [],
   "source": [
    "%load_ext autoreload\n",
    "%autoreload 2"
   ]
  },
  {
   "cell_type": "code",
   "execution_count": 13,
   "metadata": {},
   "outputs": [],
   "source": [
    "import os\n",
    "from openai import OpenAI\n",
    "\n",
    "from activities import get_activities_df, group_by_weeks"
   ]
  },
  {
   "cell_type": "code",
   "execution_count": 15,
   "metadata": {},
   "outputs": [
    {
     "name": "stdout",
     "output_type": "stream",
     "text": [
      "athlete_id='98390356' token still valid until 2024-06-22 15:32:09+00:00\n"
     ]
    }
   ],
   "source": [
    "activities_df = get_activities_df(os.environ[\"JAMIES_ATHLETE_ID\"])\n",
    "agg_df = group_by_weeks(activities_df)"
   ]
  },
  {
   "cell_type": "code",
   "execution_count": 16,
   "metadata": {},
   "outputs": [
    {
     "data": {
      "text/html": [
       "<div><style>\n",
       ".dataframe > thead > tr,\n",
       ".dataframe > tbody > tr {\n",
       "  text-align: right;\n",
       "  white-space: pre-wrap;\n",
       "}\n",
       "</style>\n",
       "<small>shape: (6, 7)</small><table border=\"1\" class=\"dataframe\"><thead><tr><th>week_num</th><th>num_runs</th><th>total_distance_miles</th><th>total_moving_time_minutes</th><th>total_elevation_gain_feet</th><th>avg_pace_minutes_per_mile</th><th>percent_change_total_miles</th></tr><tr><td>u32</td><td>u32</td><td>f64</td><td>f64</td><td>f64</td><td>f64</td><td>f64</td></tr></thead><tbody><tr><td>6</td><td>4</td><td>24.44</td><td>228.85</td><td>636.48</td><td>9.36</td><td>20.157325</td></tr><tr><td>5</td><td>4</td><td>20.34</td><td>198.07</td><td>410.1</td><td>9.74</td><td>-4.997665</td></tr><tr><td>4</td><td>6</td><td>21.41</td><td>212.42</td><td>971.13</td><td>9.92</td><td>-10.530715</td></tr><tr><td>3</td><td>7</td><td>23.93</td><td>246.1</td><td>646.33</td><td>10.28</td><td>4.224739</td></tr><tr><td>2</td><td>6</td><td>22.96</td><td>226.27</td><td>433.07</td><td>9.85</td><td>14.628058</td></tr><tr><td>1</td><td>4</td><td>20.03</td><td>209.97</td><td>357.61</td><td>10.48</td><td>-19.912035</td></tr></tbody></table></div>"
      ],
      "text/plain": [
       "shape: (6, 7)\n",
       "┌──────────┬──────────┬───────────────┬───────────────┬──────────────┬──────────────┬──────────────┐\n",
       "│ week_num ┆ num_runs ┆ total_distanc ┆ total_moving_ ┆ total_elevat ┆ avg_pace_min ┆ percent_chan │\n",
       "│ ---      ┆ ---      ┆ e_miles       ┆ time_minutes  ┆ ion_gain_fee ┆ utes_per_mil ┆ ge_total_mil │\n",
       "│ u32      ┆ u32      ┆ ---           ┆ ---           ┆ t            ┆ e            ┆ es           │\n",
       "│          ┆          ┆ f64           ┆ f64           ┆ ---          ┆ ---          ┆ ---          │\n",
       "│          ┆          ┆               ┆               ┆ f64          ┆ f64          ┆ f64          │\n",
       "╞══════════╪══════════╪═══════════════╪═══════════════╪══════════════╪══════════════╪══════════════╡\n",
       "│ 6        ┆ 4        ┆ 24.44         ┆ 228.85        ┆ 636.48       ┆ 9.36         ┆ 20.157325    │\n",
       "│ 5        ┆ 4        ┆ 20.34         ┆ 198.07        ┆ 410.1        ┆ 9.74         ┆ -4.997665    │\n",
       "│ 4        ┆ 6        ┆ 21.41         ┆ 212.42        ┆ 971.13       ┆ 9.92         ┆ -10.530715   │\n",
       "│ 3        ┆ 7        ┆ 23.93         ┆ 246.1         ┆ 646.33       ┆ 10.28        ┆ 4.224739     │\n",
       "│ 2        ┆ 6        ┆ 22.96         ┆ 226.27        ┆ 433.07       ┆ 9.85         ┆ 14.628058    │\n",
       "│ 1        ┆ 4        ┆ 20.03         ┆ 209.97        ┆ 357.61       ┆ 10.48        ┆ -19.912035   │\n",
       "└──────────┴──────────┴───────────────┴───────────────┴──────────────┴──────────────┴──────────────┘"
      ]
     },
     "execution_count": 16,
     "metadata": {},
     "output_type": "execute_result"
    }
   ],
   "source": [
    "agg_df"
   ]
  },
  {
   "cell_type": "code",
   "execution_count": 17,
   "metadata": {},
   "outputs": [],
   "source": [
    "client = OpenAI(api_key=os.environ[\"OPENAI_API_KEY\"])\n",
    "\n",
    "content = f\"Six weeks of training data:\\n{str(agg_df)}\\n\\nProvide a thorough analysis of the athlete's training. Your job is to translate this data into english so that your team can understand the athlete's progress. Responf in markdown format.\"\n",
    "resp = client.chat.completions.create(\n",
    "    model=\"gpt-4-turbo-2024-04-09\",\n",
    "    messages=[\n",
    "        {\"role\": \"system\", \"content\": \"You are an expert running coach.\"},\n",
    "        {\"role\": \"user\", \"content\": content},\n",
    "    ],\n",
    ")"
   ]
  },
  {
   "cell_type": "code",
   "execution_count": 18,
   "metadata": {},
   "outputs": [
    {
     "name": "stdout",
     "output_type": "stream",
     "text": [
      "## Athlete's Training Analysis - 6 Weeks Overview\n",
      "\n",
      "The following table summarises the athlete’s training regimen over a six-week period, capturing essential metrics like the number of runs, total distance, total moving time, elevation gain, average pace, and week-over-week percentage change in mileage:\n",
      "\n",
      "| Week | Num of Runs | Total Distance (miles) | Total Moving Time (minutes) | Elevation Gain (feet) | Average Pace (minutes per mile) | % Change in Mileage |\n",
      "|------|-------------|------------------------|-----------------------------|----------------------|---------------------------------|---------------------|\n",
      "| 6    | 4           | 24.44                  | 228.85                      | 636.48               | 9.36                            | +20.16%             |\n",
      "| 5    | 4           | 20.34                  | 198.07                      | 410.10               | 9.74                            | -5.00%              |\n",
      "| 4    | 6           | 21.41                  | 212.42                      | 971.13               | 9.92                            | -10.53%             |\n",
      "| 3    | 7           | 23.93                  | 246.10                      | 646.33               | 10.28                           | +4.22%              |\n",
      "| 2    | 6           | 22.96                  | 226.27                      | 433.07               | 9.85                            | +14.63%             |\n",
      "| 1    | 4           | 20.03                  | 209.97                      | 357.61               | 10.48                           | -19.91%             |\n",
      "\n",
      "### Key Observations and Recommendations:\n",
      "\n",
      "1. **Consistency and Progress in Distance**: The athlete shows a general positive trend in their distance progression, especially notable in weeks 6, 3, and 2. This increasing trend should be enhanced with a more structured plan to avoid declines observed in weeks 5 and 4.\n",
      "\n",
      "2. **Variability in Number of Runs**: Although the total number of runs vary week-to-week from 4 to 7, stabilizing this number would likely assist in making predictable gains in both pace and distance. The recommendation is to target at least 5-6 consistent runs each week.\n",
      "\n",
      "3. **Elevation Challenge**: There's a significant spike in elevation gain during week 4 (971.13 feet), which likely contributed to the slower pace and the subsequent reduction in distance the following week. Balancing challenging terrains with flatter, faster runs can aid in maintaining a consistent training load while still developing strength and endurance.\n",
      "\n",
      "4. **Pacing Analysis**: The fastest average pace recorded was 9.36 minutes per mile on Week 6 and the slowest was 10.48 minutes per mile on Week 1. Despite fluctuations, there’s a slight overall improvement in pace. Pacing strategies should be tailored to different training sessions (e.g., long slow runs vs. tempo runs) in order to optimize speed and endurance capabilities.\n",
      "\n",
      "5. **Elevation and Pace Correlation**: Elevation seems to impact pace, as seen in weeks 4 and 3 with higher elevation gains correlating to slower paces. Incorporating more hill-specific training could help the athlete adapt better to elevation changes, improving the pace over varied terrains.\n",
      "\n",
      "6. **Recovery and Adaptation**: The percentage change in mileage indicates sharp increases and decreases, suggesting variability in training load which might not allow adequate recovery. Implementing a more gradual progression model could avoid overtraining and promote consistent improvement.\n",
      "\n",
      "### Conclusion:\n",
      "\n",
      "The athlete displays strong potential given their ability to handle varied training intensities and volumes. With targeted modifications in the training plan to ensure consistency in the number of weekly runs, better handling of elevation changes, and improvements in pacing strategy, it is expected that the athlete will continue to enhance endurance, speed, and overall performance. Overall, a focus on stability, recovery, and specific training adaptations will provide a robust foundation for future training cycles.\n"
     ]
    }
   ],
   "source": [
    "print(resp.choices[0].message.content)"
   ]
  },
  {
   "cell_type": "code",
   "execution_count": null,
   "metadata": {},
   "outputs": [],
   "source": []
  }
 ],
 "metadata": {
  "kernelspec": {
   "display_name": ".venv",
   "language": "python",
   "name": "python3"
  },
  "language_info": {
   "codemirror_mode": {
    "name": "ipython",
    "version": 3
   },
   "file_extension": ".py",
   "mimetype": "text/x-python",
   "name": "python",
   "nbconvert_exporter": "python",
   "pygments_lexer": "ipython3",
   "version": "3.12.3"
  }
 },
 "nbformat": 4,
 "nbformat_minor": 2
}
