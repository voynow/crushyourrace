{
 "cells": [
  {
   "cell_type": "code",
   "execution_count": 12,
   "metadata": {},
   "outputs": [
    {
     "name": "stdout",
     "output_type": "stream",
     "text": [
      "The autoreload extension is already loaded. To reload it, use:\n",
      "  %reload_ext autoreload\n"
     ]
    }
   ],
   "source": [
    "%load_ext autoreload\n",
    "%autoreload 2"
   ]
  },
  {
   "cell_type": "code",
   "execution_count": 42,
   "metadata": {},
   "outputs": [],
   "source": [
    "import os\n",
    "from openai import OpenAI\n",
    "import polars as pl\n",
    "\n",
    "from activities import get_activities_df, get_days_of_week_summary, get_weekly_summary\n",
    "from auth_manager import get_strava_client"
   ]
  },
  {
   "cell_type": "code",
   "execution_count": 43,
   "metadata": {},
   "outputs": [
    {
     "name": "stdout",
     "output_type": "stream",
     "text": [
      "athlete_id='98390356' token still valid until 2024-08-04 01:53:39+00:00\n"
     ]
    }
   ],
   "source": [
    "athlete_id = os.environ[\"JAMIES_ATHLETE_ID\"]\n",
    "strava_client = get_strava_client(athlete_id)\n",
    "activities_df = get_activities_df(strava_client)"
   ]
  },
  {
   "cell_type": "code",
   "execution_count": 44,
   "metadata": {},
   "outputs": [
    {
     "data": {
      "text/html": [
       "<div><style>\n",
       ".dataframe > thead > tr,\n",
       ".dataframe > tbody > tr {\n",
       "  text-align: right;\n",
       "  white-space: pre-wrap;\n",
       "}\n",
       "</style>\n",
       "<small>shape: (7, 5)</small><table border=\"1\" class=\"dataframe\"><thead><tr><th>day_of_week</th><th>number_of_runs</th><th>avg_miles</th><th>avg_minutes</th><th>avg_pace</th></tr><tr><td>str</td><td>u32</td><td>f64</td><td>f64</td><td>f64</td></tr></thead><tbody><tr><td>&quot;Mon&quot;</td><td>6</td><td>7.585097</td><td>7.2053e7</td><td>9.5744e6</td></tr><tr><td>&quot;Tue&quot;</td><td>7</td><td>3.317314</td><td>3.4145e7</td><td>1.0248e7</td></tr><tr><td>&quot;Wed&quot;</td><td>11</td><td>4.759337</td><td>4.3180e7</td><td>9.3330e6</td></tr><tr><td>&quot;Thu&quot;</td><td>1</td><td>1.658506</td><td>1.82e7</td><td>1.0974e7</td></tr><tr><td>&quot;Fri&quot;</td><td>6</td><td>4.671636</td><td>4.6753e7</td><td>9.8967e6</td></tr><tr><td>&quot;Sat&quot;</td><td>6</td><td>10.173197</td><td>1.0087e8</td><td>9.9766e6</td></tr><tr><td>&quot;Sun&quot;</td><td>1</td><td>2.046678</td><td>1.91e7</td><td>9.3322e6</td></tr></tbody></table></div>"
      ],
      "text/plain": [
       "shape: (7, 5)\n",
       "┌─────────────┬────────────────┬───────────┬─────────────┬──────────┐\n",
       "│ day_of_week ┆ number_of_runs ┆ avg_miles ┆ avg_minutes ┆ avg_pace │\n",
       "│ ---         ┆ ---            ┆ ---       ┆ ---         ┆ ---      │\n",
       "│ str         ┆ u32            ┆ f64       ┆ f64         ┆ f64      │\n",
       "╞═════════════╪════════════════╪═══════════╪═════════════╪══════════╡\n",
       "│ Mon         ┆ 6              ┆ 7.585097  ┆ 7.2053e7    ┆ 9.5744e6 │\n",
       "│ Tue         ┆ 7              ┆ 3.317314  ┆ 3.4145e7    ┆ 1.0248e7 │\n",
       "│ Wed         ┆ 11             ┆ 4.759337  ┆ 4.3180e7    ┆ 9.3330e6 │\n",
       "│ Thu         ┆ 1              ┆ 1.658506  ┆ 1.82e7      ┆ 1.0974e7 │\n",
       "│ Fri         ┆ 6              ┆ 4.671636  ┆ 4.6753e7    ┆ 9.8967e6 │\n",
       "│ Sat         ┆ 6              ┆ 10.173197 ┆ 1.0087e8    ┆ 9.9766e6 │\n",
       "│ Sun         ┆ 1              ┆ 2.046678  ┆ 1.91e7      ┆ 9.3322e6 │\n",
       "└─────────────┴────────────────┴───────────┴─────────────┴──────────┘"
      ]
     },
     "execution_count": 44,
     "metadata": {},
     "output_type": "execute_result"
    }
   ],
   "source": [
    "get_days_of_week_summary(activities_df)"
   ]
  },
  {
   "cell_type": "code",
   "execution_count": 45,
   "metadata": {},
   "outputs": [
    {
     "data": {
      "text/html": [
       "<div><style>\n",
       ".dataframe > thead > tr,\n",
       ".dataframe > tbody > tr {\n",
       "  text-align: right;\n",
       "  white-space: pre-wrap;\n",
       "}\n",
       "</style>\n",
       "<small>shape: (7, 3)</small><table border=\"1\" class=\"dataframe\"><thead><tr><th>year</th><th>week_of_year</th><th>total_distance</th></tr><tr><td>i32</td><td>i8</td><td>f64</td></tr></thead><tbody><tr><td>2024</td><td>31</td><td>26.164142</td></tr><tr><td>2024</td><td>30</td><td>36.674786</td></tr><tr><td>2024</td><td>29</td><td>34.008413</td></tr><tr><td>2024</td><td>28</td><td>32.124225</td></tr><tr><td>2024</td><td>27</td><td>29.027552</td></tr><tr><td>2024</td><td>26</td><td>27.154734</td></tr><tr><td>2024</td><td>25</td><td>28.704811</td></tr></tbody></table></div>"
      ],
      "text/plain": [
       "shape: (7, 3)\n",
       "┌──────┬──────────────┬────────────────┐\n",
       "│ year ┆ week_of_year ┆ total_distance │\n",
       "│ ---  ┆ ---          ┆ ---            │\n",
       "│ i32  ┆ i8           ┆ f64            │\n",
       "╞══════╪══════════════╪════════════════╡\n",
       "│ 2024 ┆ 31           ┆ 26.164142      │\n",
       "│ 2024 ┆ 30           ┆ 36.674786      │\n",
       "│ 2024 ┆ 29           ┆ 34.008413      │\n",
       "│ 2024 ┆ 28           ┆ 32.124225      │\n",
       "│ 2024 ┆ 27           ┆ 29.027552      │\n",
       "│ 2024 ┆ 26           ┆ 27.154734      │\n",
       "│ 2024 ┆ 25           ┆ 28.704811      │\n",
       "└──────┴──────────────┴────────────────┘"
      ]
     },
     "execution_count": 45,
     "metadata": {},
     "output_type": "execute_result"
    }
   ],
   "source": [
    "get_weekly_summary(activities_df)"
   ]
  },
  {
   "cell_type": "code",
   "execution_count": null,
   "metadata": {},
   "outputs": [],
   "source": []
  }
 ],
 "metadata": {
  "kernelspec": {
   "display_name": ".venv",
   "language": "python",
   "name": "python3"
  },
  "language_info": {
   "codemirror_mode": {
    "name": "ipython",
    "version": 3
   },
   "file_extension": ".py",
   "mimetype": "text/x-python",
   "name": "python",
   "nbconvert_exporter": "python",
   "pygments_lexer": "ipython3",
   "version": "3.12.3"
  }
 },
 "nbformat": 4,
 "nbformat_minor": 2
}
