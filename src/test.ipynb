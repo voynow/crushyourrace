{
 "cells": [
  {
   "cell_type": "code",
   "execution_count": 1,
   "metadata": {},
   "outputs": [],
   "source": [
    "%load_ext autoreload\n",
    "%autoreload 2"
   ]
  },
  {
   "cell_type": "code",
   "execution_count": 139,
   "metadata": {},
   "outputs": [],
   "source": [
    "import os\n",
    "from activities import get_activities_df, group_by_weeks"
   ]
  },
  {
   "cell_type": "code",
   "execution_count": 140,
   "metadata": {},
   "outputs": [
    {
     "name": "stdout",
     "output_type": "stream",
     "text": [
      "athlete_id='98390356' token still valid until 2024-06-20 01:37:12+00:00\n"
     ]
    }
   ],
   "source": [
    "activities_df = get_activities_df(os.environ[\"JAMIES_ATHLETE_ID\"])\n",
    "agg_df = group_by_weeks(activities_df)"
   ]
  },
  {
   "cell_type": "code",
   "execution_count": 141,
   "metadata": {},
   "outputs": [
    {
     "data": {
      "text/html": [
       "<div><style>\n",
       ".dataframe > thead > tr,\n",
       ".dataframe > tbody > tr {\n",
       "  text-align: right;\n",
       "  white-space: pre-wrap;\n",
       "}\n",
       "</style>\n",
       "<small>shape: (6, 6)</small><table border=\"1\" class=\"dataframe\"><thead><tr><th>week_num</th><th>total_distance_miles</th><th>avg_distance_miles</th><th>avg_elevation_gain_feet</th><th>avg_pace_minutes_per_mile</th><th>percent_change_total_miles</th></tr><tr><td>u32</td><td>f64</td><td>f64</td><td>f64</td><td>f64</td><td>f64</td></tr></thead><tbody><tr><td>6</td><td>14.24</td><td>4.75</td><td>153.11</td><td>9.58</td><td>-34.947465</td></tr><tr><td>5</td><td>21.89</td><td>3.65</td><td>91.86</td><td>9.91</td><td>-17.240076</td></tr><tr><td>4</td><td>26.45</td><td>4.41</td><td>175.52</td><td>9.4</td><td>20.391443</td></tr><tr><td>3</td><td>21.97</td><td>3.14</td><td>65.62</td><td>10.8</td><td>31.951952</td></tr><tr><td>2</td><td>16.65</td><td>4.16</td><td>77.92</td><td>10.28</td><td>-37.640449</td></tr><tr><td>1</td><td>26.7</td><td>5.34</td><td>122.05</td><td>10.29</td><td>17.880795</td></tr></tbody></table></div>"
      ],
      "text/plain": [
       "shape: (6, 6)\n",
       "┌──────────┬─────────────────┬─────────────────┬─────────────────┬────────────────┬────────────────┐\n",
       "│ week_num ┆ total_distance_ ┆ avg_distance_mi ┆ avg_elevation_g ┆ avg_pace_minut ┆ percent_change │\n",
       "│ ---      ┆ miles           ┆ les             ┆ ain_feet        ┆ es_per_mile    ┆ _total_miles   │\n",
       "│ u32      ┆ ---             ┆ ---             ┆ ---             ┆ ---            ┆ ---            │\n",
       "│          ┆ f64             ┆ f64             ┆ f64             ┆ f64            ┆ f64            │\n",
       "╞══════════╪═════════════════╪═════════════════╪═════════════════╪════════════════╪════════════════╡\n",
       "│ 6        ┆ 14.24           ┆ 4.75            ┆ 153.11          ┆ 9.58           ┆ -34.947465     │\n",
       "│ 5        ┆ 21.89           ┆ 3.65            ┆ 91.86           ┆ 9.91           ┆ -17.240076     │\n",
       "│ 4        ┆ 26.45           ┆ 4.41            ┆ 175.52          ┆ 9.4            ┆ 20.391443      │\n",
       "│ 3        ┆ 21.97           ┆ 3.14            ┆ 65.62           ┆ 10.8           ┆ 31.951952      │\n",
       "│ 2        ┆ 16.65           ┆ 4.16            ┆ 77.92           ┆ 10.28          ┆ -37.640449     │\n",
       "│ 1        ┆ 26.7            ┆ 5.34            ┆ 122.05          ┆ 10.29          ┆ 17.880795      │\n",
       "└──────────┴─────────────────┴─────────────────┴─────────────────┴────────────────┴────────────────┘"
      ]
     },
     "execution_count": 141,
     "metadata": {},
     "output_type": "execute_result"
    }
   ],
   "source": [
    "agg_df"
   ]
  },
  {
   "cell_type": "code",
   "execution_count": null,
   "metadata": {},
   "outputs": [],
   "source": []
  }
 ],
 "metadata": {
  "kernelspec": {
   "display_name": ".venv",
   "language": "python",
   "name": "python3"
  },
  "language_info": {
   "codemirror_mode": {
    "name": "ipython",
    "version": 3
   },
   "file_extension": ".py",
   "mimetype": "text/x-python",
   "name": "python",
   "nbconvert_exporter": "python",
   "pygments_lexer": "ipython3",
   "version": "3.12.3"
  }
 },
 "nbformat": 4,
 "nbformat_minor": 2
}
