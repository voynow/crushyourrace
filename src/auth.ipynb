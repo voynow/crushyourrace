{
 "cells": [
  {
   "cell_type": "code",
   "execution_count": null,
   "metadata": {},
   "outputs": [],
   "source": [
    "%load_ext autoreload\n",
    "%autoreload 2"
   ]
  },
  {
   "cell_type": "code",
   "execution_count": null,
   "metadata": {},
   "outputs": [],
   "source": [
    "import os\n",
    "import os\n",
    "\n",
    "from dotenv import load_dotenv\n",
    "from supabase_client import upsert_user_auth\n",
    "from supabase_models import UserAuthRow\n",
    "from dotenv import load_dotenv\n",
    "from stravalib.client import Client\n"
   ]
  },
  {
   "cell_type": "code",
   "execution_count": null,
   "metadata": {},
   "outputs": [],
   "source": [
    "\n",
    "load_dotenv()\n",
    "strava_client = Client()"
   ]
  },
  {
   "cell_type": "code",
   "execution_count": null,
   "metadata": {},
   "outputs": [],
   "source": [
    "url = strava_client.authorization_url(\n",
    "    client_id=os.environ[\"STRAVA_CLIENT_ID\"],\n",
    "    redirect_uri=\"http://localhost:8000/notimplemented\",\n",
    "    scope=[\"read_all\", \"profile:read_all\", \"activity:read_all\"],\n",
    ")\n",
    "\n",
    "# Go to this link, authorize the app, and retrieve the code from the URL\n",
    "print(url)"
   ]
  },
  {
   "cell_type": "code",
   "execution_count": null,
   "metadata": {},
   "outputs": [],
   "source": [
    "code = \"<code>\"\n",
    "token = strava_client.exchange_code_for_token(\n",
    "    client_id=os.environ[\"STRAVA_CLIENT_ID\"],\n",
    "    client_secret=os.environ[\"STRAVA_CLIENT_SECRET\"],\n",
    "    code=code,\n",
    ")\n",
    "strava_client.access_token = token[\"access_token\"]\n",
    "strava_client.refresh_token = token[\"refresh_token\"]\n",
    "strava_client.token_expires_at = token[\"expires_at\"]\n",
    "\n",
    "athlete = strava_client.get_athlete()"
   ]
  },
  {
   "cell_type": "code",
   "execution_count": null,
   "metadata": {},
   "outputs": [],
   "source": [
    "user_auth_row = UserAuthRow(\n",
    "    athlete_id=athlete.id,\n",
    "    access_token=strava_client.access_token,\n",
    "    refresh_token=strava_client.refresh_token,\n",
    "    expires_at=strava_client.token_expires_at,\n",
    ")\n",
    "upser_user_auth_response = upsert_user_auth(user_auth_row)"
   ]
  },
  {
   "cell_type": "code",
   "execution_count": null,
   "metadata": {},
   "outputs": [],
   "source": []
  }
 ],
 "metadata": {
  "kernelspec": {
   "display_name": ".venv",
   "language": "python",
   "name": "python3"
  },
  "language_info": {
   "codemirror_mode": {
    "name": "ipython",
    "version": 3
   },
   "file_extension": ".py",
   "mimetype": "text/x-python",
   "name": "python",
   "nbconvert_exporter": "python",
   "pygments_lexer": "ipython3",
   "version": "3.12.3"
  }
 },
 "nbformat": 4,
 "nbformat_minor": 2
}
