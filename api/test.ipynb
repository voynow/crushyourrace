{
 "cells": [
  {
   "cell_type": "code",
   "execution_count": 2,
   "metadata": {},
   "outputs": [],
   "source": [
    "%load_ext autoreload\n",
    "%autoreload 2"
   ]
  },
  {
   "cell_type": "code",
   "execution_count": 3,
   "metadata": {},
   "outputs": [],
   "source": [
    "from src import supabase_client\n",
    "from src.update_pipeline import update_training_week\n",
    "from src.types.update_pipeline import ExeType\n",
    "from src import auth_manager\n",
    "from src.utils import datetime_now_est, get_last_sunday\n",
    "\n",
    "import os"
   ]
  },
  {
   "cell_type": "markdown",
   "metadata": {},
   "source": [
    "# New Week Update"
   ]
  },
  {
   "cell_type": "code",
   "execution_count": null,
   "metadata": {},
   "outputs": [],
   "source": [
    "user = supabase_client.get_user(os.environ[\"JAMIES_ATHLETE_ID\"])\n",
    "auth_manager.authenticate_athlete(user.athlete_id)\n",
    "update_training_week(user, ExeType.NEW_WEEK, dt=get_last_sunday())"
   ]
  },
  {
   "cell_type": "markdown",
   "metadata": {},
   "source": [
    "# Mid Week Update"
   ]
  },
  {
   "cell_type": "code",
   "execution_count": null,
   "metadata": {},
   "outputs": [],
   "source": [
    "user = supabase_client.get_user(os.environ[\"JAMIES_ATHLETE_ID\"])\n",
    "auth_manager.authenticate_athlete(user.athlete_id)\n",
    "update_training_week(user, ExeType.MID_WEEK, dt=datetime_now_est())"
   ]
  },
  {
   "cell_type": "code",
   "execution_count": null,
   "metadata": {},
   "outputs": [],
   "source": []
  },
  {
   "cell_type": "code",
   "execution_count": null,
   "metadata": {},
   "outputs": [],
   "source": []
  },
  {
   "cell_type": "markdown",
   "metadata": {},
   "source": [
    "# Observability"
   ]
  },
  {
   "cell_type": "code",
   "execution_count": 1,
   "metadata": {},
   "outputs": [
    {
     "data": {
      "text/html": [
       "<div><style>\n",
       ".dataframe > thead > tr,\n",
       ".dataframe > tbody > tr {\n",
       "  text-align: right;\n",
       "  white-space: pre-wrap;\n",
       "}\n",
       "</style>\n",
       "<small>shape: (8, 7)</small><table border=\"1\" class=\"dataframe\"><thead><tr><th>generation_name</th><th>response_id</th><th>model</th><th>completion_tokens</th><th>prompt_tokens</th><th>total_tokens</th><th>duration</th></tr><tr><td>str</td><td>str</td><td>str</td><td>i64</td><td>i64</td><td>i64</td><td>f64</td></tr></thead><tbody><tr><td>&quot;gen_training_plan&quot;</td><td>&quot;chatcmpl-AvmV5n2ymD6LSN4bMmyCP…</td><td>&quot;gpt-4o-2024-08-06&quot;</td><td>437</td><td>1873</td><td>2310</td><td>6.560403</td></tr><tr><td>&quot;gen_coaches_notes&quot;</td><td>&quot;chatcmpl-AvmVFwECpx0DXIURhlWkr…</td><td>&quot;gpt-4o-2024-08-06&quot;</td><td>38</td><td>746</td><td>784</td><td>0.87857</td></tr><tr><td>&quot;gen_coaches_notes&quot;</td><td>&quot;chatcmpl-AvmVGthCHdwYKJKI9R5IT…</td><td>&quot;gpt-4o-2024-08-06&quot;</td><td>99</td><td>746</td><td>845</td><td>5.195081</td></tr><tr><td>&quot;gen_coaches_notes&quot;</td><td>&quot;chatcmpl-AvmVNtvZqpnTmjrNhknxm…</td><td>&quot;gpt-4o-2024-08-06&quot;</td><td>105</td><td>749</td><td>854</td><td>2.254943</td></tr><tr><td>&quot;gen_coaches_notes&quot;</td><td>&quot;chatcmpl-AvmVQkHzVqMBeSOW4u8ws…</td><td>&quot;gpt-4o-2024-08-06&quot;</td><td>47</td><td>754</td><td>801</td><td>1.229121</td></tr><tr><td>&quot;gen_coaches_notes&quot;</td><td>&quot;chatcmpl-AvmVSukdhFPz3Y00pcwBZ…</td><td>&quot;gpt-4o-2024-08-06&quot;</td><td>89</td><td>754</td><td>843</td><td>6.45575</td></tr><tr><td>&quot;gen_pseudo_training_week&quot;</td><td>&quot;chatcmpl-AvmVZDRFMaqzjernTHAEe…</td><td>&quot;gpt-4o-2024-08-06&quot;</td><td>52</td><td>1911</td><td>1963</td><td>3.222042</td></tr><tr><td>&quot;gen_training_week&quot;</td><td>&quot;chatcmpl-AvmVc8GqttGClF8mitUBA…</td><td>&quot;gpt-4o-2024-08-06&quot;</td><td>128</td><td>545</td><td>673</td><td>2.359972</td></tr></tbody></table></div>"
      ],
      "text/plain": [
       "shape: (8, 7)\n",
       "┌──────────────┬──────────────┬──────────────┬──────────────┬─────────────┬─────────────┬──────────┐\n",
       "│ generation_n ┆ response_id  ┆ model        ┆ completion_t ┆ prompt_toke ┆ total_token ┆ duration │\n",
       "│ ame          ┆ ---          ┆ ---          ┆ okens        ┆ ns          ┆ s           ┆ ---      │\n",
       "│ ---          ┆ str          ┆ str          ┆ ---          ┆ ---         ┆ ---         ┆ f64      │\n",
       "│ str          ┆              ┆              ┆ i64          ┆ i64         ┆ i64         ┆          │\n",
       "╞══════════════╪══════════════╪══════════════╪══════════════╪═════════════╪═════════════╪══════════╡\n",
       "│ gen_training ┆ chatcmpl-Avm ┆ gpt-4o-2024- ┆ 437          ┆ 1873        ┆ 2310        ┆ 6.560403 │\n",
       "│ _plan        ┆ V5n2ymD6LSN4 ┆ 08-06        ┆              ┆             ┆             ┆          │\n",
       "│              ┆ bMmyCP…      ┆              ┆              ┆             ┆             ┆          │\n",
       "│ gen_coaches_ ┆ chatcmpl-Avm ┆ gpt-4o-2024- ┆ 38           ┆ 746         ┆ 784         ┆ 0.87857  │\n",
       "│ notes        ┆ VFwECpx0DXIU ┆ 08-06        ┆              ┆             ┆             ┆          │\n",
       "│              ┆ RhlWkr…      ┆              ┆              ┆             ┆             ┆          │\n",
       "│ gen_coaches_ ┆ chatcmpl-Avm ┆ gpt-4o-2024- ┆ 99           ┆ 746         ┆ 845         ┆ 5.195081 │\n",
       "│ notes        ┆ VGthCHdwYKJK ┆ 08-06        ┆              ┆             ┆             ┆          │\n",
       "│              ┆ I9R5IT…      ┆              ┆              ┆             ┆             ┆          │\n",
       "│ gen_coaches_ ┆ chatcmpl-Avm ┆ gpt-4o-2024- ┆ 105          ┆ 749         ┆ 854         ┆ 2.254943 │\n",
       "│ notes        ┆ VNtvZqpnTmjr ┆ 08-06        ┆              ┆             ┆             ┆          │\n",
       "│              ┆ Nhknxm…      ┆              ┆              ┆             ┆             ┆          │\n",
       "│ gen_coaches_ ┆ chatcmpl-Avm ┆ gpt-4o-2024- ┆ 47           ┆ 754         ┆ 801         ┆ 1.229121 │\n",
       "│ notes        ┆ VQkHzVqMBeSO ┆ 08-06        ┆              ┆             ┆             ┆          │\n",
       "│              ┆ W4u8ws…      ┆              ┆              ┆             ┆             ┆          │\n",
       "│ gen_coaches_ ┆ chatcmpl-Avm ┆ gpt-4o-2024- ┆ 89           ┆ 754         ┆ 843         ┆ 6.45575  │\n",
       "│ notes        ┆ VSukdhFPz3Y0 ┆ 08-06        ┆              ┆             ┆             ┆          │\n",
       "│              ┆ 0pcwBZ…      ┆              ┆              ┆             ┆             ┆          │\n",
       "│ gen_pseudo_t ┆ chatcmpl-Avm ┆ gpt-4o-2024- ┆ 52           ┆ 1911        ┆ 1963        ┆ 3.222042 │\n",
       "│ raining_week ┆ VZDRFMaqzjer ┆ 08-06        ┆              ┆             ┆             ┆          │\n",
       "│              ┆ nTHAEe…      ┆              ┆              ┆             ┆             ┆          │\n",
       "│ gen_training ┆ chatcmpl-Avm ┆ gpt-4o-2024- ┆ 128          ┆ 545         ┆ 673         ┆ 2.359972 │\n",
       "│ _week        ┆ Vc8GqttGClF8 ┆ 08-06        ┆              ┆             ┆             ┆          │\n",
       "│              ┆ mitUBA…      ┆              ┆              ┆             ┆             ┆          │\n",
       "└──────────────┴──────────────┴──────────────┴──────────────┴─────────────┴─────────────┴──────────┘"
      ]
     },
     "execution_count": 1,
     "metadata": {},
     "output_type": "execute_result"
    }
   ],
   "source": [
    "import json\n",
    "import polars as pl\n",
    "\n",
    "with open(\"observe.jsonl\", \"r\") as file:\n",
    "    data = [json.loads(line) for line in file]\n",
    "\n",
    "df = pl.DataFrame(data).drop([pl.col(\"messages\"), pl.col(\"content\")])\n",
    "\n",
    "df"
   ]
  },
  {
   "cell_type": "code",
   "execution_count": 2,
   "metadata": {},
   "outputs": [
    {
     "data": {
      "text/html": [
       "<div><style>\n",
       ".dataframe > thead > tr,\n",
       ".dataframe > tbody > tr {\n",
       "  text-align: right;\n",
       "  white-space: pre-wrap;\n",
       "}\n",
       "</style>\n",
       "<small>shape: (4, 2)</small><table border=\"1\" class=\"dataframe\"><thead><tr><th>generation_name</th><th>duration</th></tr><tr><td>str</td><td>f64</td></tr></thead><tbody><tr><td>&quot;gen_coaches_notes&quot;</td><td>16.013466</td></tr><tr><td>&quot;gen_training_week&quot;</td><td>2.359972</td></tr><tr><td>&quot;gen_pseudo_training_week&quot;</td><td>3.222042</td></tr><tr><td>&quot;gen_training_plan&quot;</td><td>6.560403</td></tr></tbody></table></div>"
      ],
      "text/plain": [
       "shape: (4, 2)\n",
       "┌──────────────────────────┬───────────┐\n",
       "│ generation_name          ┆ duration  │\n",
       "│ ---                      ┆ ---       │\n",
       "│ str                      ┆ f64       │\n",
       "╞══════════════════════════╪═══════════╡\n",
       "│ gen_coaches_notes        ┆ 16.013466 │\n",
       "│ gen_training_week        ┆ 2.359972  │\n",
       "│ gen_pseudo_training_week ┆ 3.222042  │\n",
       "│ gen_training_plan        ┆ 6.560403  │\n",
       "└──────────────────────────┴───────────┘"
      ]
     },
     "execution_count": 2,
     "metadata": {},
     "output_type": "execute_result"
    }
   ],
   "source": [
    "df.group_by(pl.col(\"generation_name\")).agg(pl.col('duration').sum())"
   ]
  },
  {
   "cell_type": "code",
   "execution_count": 3,
   "metadata": {},
   "outputs": [
    {
     "data": {
      "text/html": [
       "<div><style>\n",
       ".dataframe > thead > tr,\n",
       ".dataframe > tbody > tr {\n",
       "  text-align: right;\n",
       "  white-space: pre-wrap;\n",
       "}\n",
       "</style>\n",
       "<small>shape: (1, 1)</small><table border=\"1\" class=\"dataframe\"><thead><tr><th>duration</th></tr><tr><td>f64</td></tr></thead><tbody><tr><td>28.155882</td></tr></tbody></table></div>"
      ],
      "text/plain": [
       "shape: (1, 1)\n",
       "┌───────────┐\n",
       "│ duration  │\n",
       "│ ---       │\n",
       "│ f64       │\n",
       "╞═══════════╡\n",
       "│ 28.155882 │\n",
       "└───────────┘"
      ]
     },
     "execution_count": 3,
     "metadata": {},
     "output_type": "execute_result"
    }
   ],
   "source": [
    "df.sum().select(pl.col(\"duration\"))"
   ]
  },
  {
   "cell_type": "code",
   "execution_count": null,
   "metadata": {},
   "outputs": [],
   "source": []
  }
 ],
 "metadata": {
  "kernelspec": {
   "display_name": ".venv",
   "language": "python",
   "name": "python3"
  },
  "language_info": {
   "codemirror_mode": {
    "name": "ipython",
    "version": 3
   },
   "file_extension": ".py",
   "mimetype": "text/x-python",
   "name": "python",
   "nbconvert_exporter": "python",
   "pygments_lexer": "ipython3",
   "version": "3.11.9"
  }
 },
 "nbformat": 4,
 "nbformat_minor": 2
}
