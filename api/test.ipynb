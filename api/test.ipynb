{
 "cells": [
  {
   "cell_type": "code",
   "execution_count": 4,
   "metadata": {},
   "outputs": [],
   "source": [
    "%load_ext autoreload\n",
    "%autoreload 2"
   ]
  },
  {
   "cell_type": "code",
   "execution_count": 5,
   "metadata": {},
   "outputs": [],
   "source": [
    "from src import supabase_client\n",
    "from src.update_pipeline import update_training_week\n",
    "from src.types.update_pipeline import ExeType\n",
    "from src.utils import get_last_sunday\n",
    "from src import auth_manager\n",
    "from src.activities import get_weekly_summaries, get_daily_activity\n",
    "from src.auth_manager import get_strava_client\n",
    "from src.llm import get_completion_json\n",
    "from src.constants import COACH_ROLE\n",
    "from src.utils import datetime_now_est\n",
    "\n",
    "from enum import StrEnum\n",
    "from freezegun import freeze_time\n",
    "import os\n",
    "import numpy as np\n",
    "from pydantic import BaseModel, Field\n",
    "from datetime import timedelta\n",
    "import matplotlib.pyplot as plt\n",
    "\n",
    "plt.style.use(\"seaborn-v0_8\")"
   ]
  },
  {
   "cell_type": "markdown",
   "metadata": {},
   "source": [
    "# Update Jamie's Training Plan"
   ]
  },
  {
   "cell_type": "code",
   "execution_count": 6,
   "metadata": {},
   "outputs": [
    {
     "name": "stderr",
     "output_type": "stream",
     "text": [
      "INFO:root:Sending push notification with token: b19664f8...\n",
      "INFO:httpx:HTTP Request: POST https://api.push.apple.com/3/device/b19664f8a44962efa4ff49057377f565f77111310d3600e8ed26c7877ff0ca3b \"HTTP/2 403 Forbidden\"\n",
      "ERROR:root:APNs error: 403, {'reason': 'ExpiredProviderToken'}\n",
      "ERROR:root:Failed to send push notification to user 98390356: APNs rejected the request: {'reason': 'ExpiredProviderToken'}\n",
      "ERROR:root:Traceback (most recent call last):\n",
      "  File \"/Users/jamievoynow/Desktop/code/trackflow/api/src/apn.py\", line 79, in send_push_notification\n",
      "    response.raise_for_status()\n",
      "  File \"/Users/jamievoynow/Desktop/code/trackflow/api/.venv/lib/python3.11/site-packages/httpx/_models.py\", line 763, in raise_for_status\n",
      "    raise HTTPStatusError(message, request=request, response=self)\n",
      "httpx.HTTPStatusError: Client error '403 Forbidden' for url 'https://api.push.apple.com/3/device/b19664f8a44962efa4ff49057377f565f77111310d3600e8ed26c7877ff0ca3b'\n",
      "For more information check: https://developer.mozilla.org/en-US/docs/Web/HTTP/Status/403\n",
      "\n",
      "During handling of the above exception, another exception occurred:\n",
      "\n",
      "Traceback (most recent call last):\n",
      "  File \"/Users/jamievoynow/Desktop/code/trackflow/api/src/apn.py\", line 101, in send_push_notif_wrapper\n",
      "    send_push_notification(\n",
      "  File \"/Users/jamievoynow/Desktop/code/trackflow/api/src/apn.py\", line 88, in send_push_notification\n",
      "    raise ValueError(f\"APNs rejected the request: {error_payload}\")\n",
      "ValueError: APNs rejected the request: {'reason': 'ExpiredProviderToken'}\n",
      "\n"
     ]
    },
    {
     "name": "stdout",
     "output_type": "stream",
     "text": [
      "{'week_of_year': 50, 'year': 2024, 'thoughts': \"This week aims to continue the client's adaptation to higher mileage, maximizing their aerobic base. Given the recent history, the aim is to consolidate around the upper percentiles of recent mileage.\", 'total_volume': 50, 'long_run': 10, 'athlete_id': 98390356, 'created_at': '2024-12-10T14:15:00.446181'}\n"
     ]
    },
    {
     "ename": "ValueError",
     "evalue": "APNs rejected the request: {'reason': 'ExpiredProviderToken'}",
     "output_type": "error",
     "traceback": [
      "\u001b[0;31m---------------------------------------------------------------------------\u001b[0m",
      "\u001b[0;31mHTTPStatusError\u001b[0m                           Traceback (most recent call last)",
      "File \u001b[0;32m~/Desktop/code/trackflow/api/src/apn.py:79\u001b[0m, in \u001b[0;36msend_push_notification\u001b[0;34m(device_token, title, body)\u001b[0m\n\u001b[1;32m     78\u001b[0m response \u001b[38;5;241m=\u001b[39m client\u001b[38;5;241m.\u001b[39mpost(url, json\u001b[38;5;241m=\u001b[39mpayload, headers\u001b[38;5;241m=\u001b[39mheaders)\n\u001b[0;32m---> 79\u001b[0m \u001b[43mresponse\u001b[49m\u001b[38;5;241;43m.\u001b[39;49m\u001b[43mraise_for_status\u001b[49m\u001b[43m(\u001b[49m\u001b[43m)\u001b[49m\n\u001b[1;32m     80\u001b[0m client\u001b[38;5;241m.\u001b[39mclose()\n",
      "File \u001b[0;32m~/Desktop/code/trackflow/api/.venv/lib/python3.11/site-packages/httpx/_models.py:763\u001b[0m, in \u001b[0;36mResponse.raise_for_status\u001b[0;34m(self)\u001b[0m\n\u001b[1;32m    762\u001b[0m message \u001b[38;5;241m=\u001b[39m message\u001b[38;5;241m.\u001b[39mformat(\u001b[38;5;28mself\u001b[39m, error_type\u001b[38;5;241m=\u001b[39merror_type)\n\u001b[0;32m--> 763\u001b[0m \u001b[38;5;28;01mraise\u001b[39;00m HTTPStatusError(message, request\u001b[38;5;241m=\u001b[39mrequest, response\u001b[38;5;241m=\u001b[39m\u001b[38;5;28mself\u001b[39m)\n",
      "\u001b[0;31mHTTPStatusError\u001b[0m: Client error '403 Forbidden' for url 'https://api.push.apple.com/3/device/b19664f8a44962efa4ff49057377f565f77111310d3600e8ed26c7877ff0ca3b'\nFor more information check: https://developer.mozilla.org/en-US/docs/Web/HTTP/Status/403",
      "\nDuring handling of the above exception, another exception occurred:\n",
      "\u001b[0;31mValueError\u001b[0m                                Traceback (most recent call last)",
      "Cell \u001b[0;32mIn[6], line 9\u001b[0m\n\u001b[1;32m      5\u001b[0m \u001b[38;5;129m@freeze_time\u001b[39m(\u001b[38;5;124mf\u001b[39m\u001b[38;5;124m\"\u001b[39m\u001b[38;5;132;01m{\u001b[39;00mget_last_sunday()\u001b[38;5;132;01m}\u001b[39;00m\u001b[38;5;124m 18:00:00\u001b[39m\u001b[38;5;124m\"\u001b[39m)\n\u001b[1;32m      6\u001b[0m \u001b[38;5;28;01mdef\u001b[39;00m \u001b[38;5;21mfrozen_update_training_week_new_week\u001b[39m():\n\u001b[1;32m      7\u001b[0m     \u001b[38;5;28;01mreturn\u001b[39;00m update_training_week(user, ExeType\u001b[38;5;241m.\u001b[39mNEW_WEEK)\n\u001b[0;32m----> 9\u001b[0m response \u001b[38;5;241m=\u001b[39m \u001b[43mfrozen_update_training_week_new_week\u001b[49m\u001b[43m(\u001b[49m\u001b[43m)\u001b[49m\n",
      "File \u001b[0;32m~/Desktop/code/trackflow/api/.venv/lib/python3.11/site-packages/freezegun/api.py:885\u001b[0m, in \u001b[0;36m_freeze_time.decorate_callable.<locals>.wrapper\u001b[0;34m(*args, **kwargs)\u001b[0m\n\u001b[1;32m    883\u001b[0m         result \u001b[38;5;241m=\u001b[39m func(\u001b[38;5;241m*\u001b[39margs, \u001b[38;5;241m*\u001b[39m\u001b[38;5;241m*\u001b[39mkwargs)\n\u001b[1;32m    884\u001b[0m     \u001b[38;5;28;01melse\u001b[39;00m:\n\u001b[0;32m--> 885\u001b[0m         result \u001b[38;5;241m=\u001b[39m \u001b[43mfunc\u001b[49m\u001b[43m(\u001b[49m\u001b[38;5;241;43m*\u001b[39;49m\u001b[43margs\u001b[49m\u001b[43m,\u001b[49m\u001b[43m \u001b[49m\u001b[38;5;241;43m*\u001b[39;49m\u001b[38;5;241;43m*\u001b[39;49m\u001b[43mkwargs\u001b[49m\u001b[43m)\u001b[49m\n\u001b[1;32m    886\u001b[0m \u001b[38;5;28;01mreturn\u001b[39;00m result\n",
      "Cell \u001b[0;32mIn[6], line 7\u001b[0m, in \u001b[0;36mfrozen_update_training_week_new_week\u001b[0;34m()\u001b[0m\n\u001b[1;32m      5\u001b[0m \u001b[38;5;129m@freeze_time\u001b[39m(\u001b[38;5;124mf\u001b[39m\u001b[38;5;124m\"\u001b[39m\u001b[38;5;132;01m{\u001b[39;00mget_last_sunday()\u001b[38;5;132;01m}\u001b[39;00m\u001b[38;5;124m 18:00:00\u001b[39m\u001b[38;5;124m\"\u001b[39m)\n\u001b[1;32m      6\u001b[0m \u001b[38;5;28;01mdef\u001b[39;00m \u001b[38;5;21mfrozen_update_training_week_new_week\u001b[39m():\n\u001b[0;32m----> 7\u001b[0m     \u001b[38;5;28;01mreturn\u001b[39;00m \u001b[43mupdate_training_week\u001b[49m\u001b[43m(\u001b[49m\u001b[43muser\u001b[49m\u001b[43m,\u001b[49m\u001b[43m \u001b[49m\u001b[43mExeType\u001b[49m\u001b[38;5;241;43m.\u001b[39;49m\u001b[43mNEW_WEEK\u001b[49m\u001b[43m)\u001b[49m\n",
      "File \u001b[0;32m~/Desktop/code/trackflow/api/src/update_pipeline.py:59\u001b[0m, in \u001b[0;36mupdate_training_week\u001b[0;34m(user, exe_type)\u001b[0m\n\u001b[1;32m     53\u001b[0m training_week \u001b[38;5;241m=\u001b[39m _update_training_week(user\u001b[38;5;241m=\u001b[39muser, exe_type\u001b[38;5;241m=\u001b[39mexe_type)\n\u001b[1;32m     54\u001b[0m supabase_client\u001b[38;5;241m.\u001b[39mupsert_training_week(\n\u001b[1;32m     55\u001b[0m     athlete_id\u001b[38;5;241m=\u001b[39muser\u001b[38;5;241m.\u001b[39mathlete_id,\n\u001b[1;32m     56\u001b[0m     future_training_week\u001b[38;5;241m=\u001b[39mtraining_week\u001b[38;5;241m.\u001b[39mfuture_training_week,\n\u001b[1;32m     57\u001b[0m     past_training_week\u001b[38;5;241m=\u001b[39mtraining_week\u001b[38;5;241m.\u001b[39mpast_training_week,\n\u001b[1;32m     58\u001b[0m )\n\u001b[0;32m---> 59\u001b[0m \u001b[43mapn\u001b[49m\u001b[38;5;241;43m.\u001b[39;49m\u001b[43msend_push_notif_wrapper\u001b[49m\u001b[43m(\u001b[49m\u001b[43muser\u001b[49m\u001b[43m)\u001b[49m\n\u001b[1;32m     60\u001b[0m \u001b[38;5;28;01mreturn\u001b[39;00m {\u001b[38;5;124m\"\u001b[39m\u001b[38;5;124msuccess\u001b[39m\u001b[38;5;124m\"\u001b[39m: \u001b[38;5;28;01mTrue\u001b[39;00m}\n",
      "File \u001b[0;32m~/Desktop/code/trackflow/api/src/apn.py:101\u001b[0m, in \u001b[0;36msend_push_notif_wrapper\u001b[0;34m(user)\u001b[0m\n\u001b[1;32m     98\u001b[0m     \u001b[38;5;28;01mreturn\u001b[39;00m\n\u001b[1;32m    100\u001b[0m \u001b[38;5;28;01mtry\u001b[39;00m:\n\u001b[0;32m--> 101\u001b[0m     \u001b[43msend_push_notification\u001b[49m\u001b[43m(\u001b[49m\n\u001b[1;32m    102\u001b[0m \u001b[43m        \u001b[49m\u001b[43mdevice_token\u001b[49m\u001b[38;5;241;43m=\u001b[39;49m\u001b[43muser_auth\u001b[49m\u001b[38;5;241;43m.\u001b[39;49m\u001b[43mdevice_token\u001b[49m\u001b[43m,\u001b[49m\n\u001b[1;32m    103\u001b[0m \u001b[43m        \u001b[49m\u001b[43mtitle\u001b[49m\u001b[38;5;241;43m=\u001b[39;49m\u001b[38;5;124;43m\"\u001b[39;49m\u001b[38;5;124;43mTrackFlow 🏃‍♂️🎯\u001b[39;49m\u001b[38;5;124;43m\"\u001b[39;49m\u001b[43m,\u001b[49m\n\u001b[1;32m    104\u001b[0m \u001b[43m        \u001b[49m\u001b[43mbody\u001b[49m\u001b[38;5;241;43m=\u001b[39;49m\u001b[38;5;124;43m\"\u001b[39;49m\u001b[38;5;124;43mYour training week has been updated!\u001b[39;49m\u001b[38;5;124;43m\"\u001b[39;49m\u001b[43m,\u001b[49m\n\u001b[1;32m    105\u001b[0m \u001b[43m    \u001b[49m\u001b[43m)\u001b[49m\n\u001b[1;32m    106\u001b[0m \u001b[38;5;28;01mexcept\u001b[39;00m \u001b[38;5;167;01mException\u001b[39;00m \u001b[38;5;28;01mas\u001b[39;00m e:\n\u001b[1;32m    107\u001b[0m     logger\u001b[38;5;241m.\u001b[39merror(\u001b[38;5;124mf\u001b[39m\u001b[38;5;124m\"\u001b[39m\u001b[38;5;124mFailed to send push notification to user \u001b[39m\u001b[38;5;132;01m{\u001b[39;00muser\u001b[38;5;241m.\u001b[39mathlete_id\u001b[38;5;132;01m}\u001b[39;00m\u001b[38;5;124m: \u001b[39m\u001b[38;5;132;01m{\u001b[39;00me\u001b[38;5;132;01m}\u001b[39;00m\u001b[38;5;124m\"\u001b[39m)\n",
      "File \u001b[0;32m~/Desktop/code/trackflow/api/src/apn.py:88\u001b[0m, in \u001b[0;36msend_push_notification\u001b[0;34m(device_token, title, body)\u001b[0m\n\u001b[1;32m     86\u001b[0m     error_payload \u001b[38;5;241m=\u001b[39m response\u001b[38;5;241m.\u001b[39mjson() \u001b[38;5;28;01mif\u001b[39;00m response\u001b[38;5;241m.\u001b[39mcontent \u001b[38;5;28;01melse\u001b[39;00m \u001b[38;5;124m\"\u001b[39m\u001b[38;5;124mNo error details\u001b[39m\u001b[38;5;124m\"\u001b[39m\n\u001b[1;32m     87\u001b[0m     logging\u001b[38;5;241m.\u001b[39merror(\u001b[38;5;124mf\u001b[39m\u001b[38;5;124m\"\u001b[39m\u001b[38;5;124mAPNs error: \u001b[39m\u001b[38;5;132;01m{\u001b[39;00mresponse\u001b[38;5;241m.\u001b[39mstatus_code\u001b[38;5;132;01m}\u001b[39;00m\u001b[38;5;124m, \u001b[39m\u001b[38;5;132;01m{\u001b[39;00merror_payload\u001b[38;5;132;01m}\u001b[39;00m\u001b[38;5;124m\"\u001b[39m)\n\u001b[0;32m---> 88\u001b[0m     \u001b[38;5;28;01mraise\u001b[39;00m \u001b[38;5;167;01mValueError\u001b[39;00m(\u001b[38;5;124mf\u001b[39m\u001b[38;5;124m\"\u001b[39m\u001b[38;5;124mAPNs rejected the request: \u001b[39m\u001b[38;5;132;01m{\u001b[39;00merror_payload\u001b[38;5;132;01m}\u001b[39;00m\u001b[38;5;124m\"\u001b[39m)\n\u001b[1;32m     90\u001b[0m \u001b[38;5;28;01mreturn\u001b[39;00m response\n",
      "\u001b[0;31mValueError\u001b[0m: APNs rejected the request: {'reason': 'ExpiredProviderToken'}"
     ]
    }
   ],
   "source": [
    "user = supabase_client.get_user(os.environ[\"JAMIES_ATHLETE_ID\"])\n",
    "assert user.preferences.race_date is not None\n",
    "assert user.preferences.race_distance is not None\n",
    "\n",
    "@freeze_time(f\"{get_last_sunday()} 18:00:00\")\n",
    "def frozen_update_training_week_new_week():\n",
    "    return update_training_week(user, ExeType.NEW_WEEK)\n",
    "\n",
    "response = frozen_update_training_week_new_week()"
   ]
  },
  {
   "cell_type": "markdown",
   "metadata": {},
   "source": [
    "# New Week Update Training Week with Side Effects"
   ]
  },
  {
   "cell_type": "code",
   "execution_count": null,
   "metadata": {},
   "outputs": [],
   "source": [
    "@freeze_time(f\"{get_last_sunday()} 18:00:00\")\n",
    "def frozen_update_training_week_new_week(user):\n",
    "    return update_training_week(user, ExeType.NEW_WEEK)\n",
    "\n",
    "for user in supabase_client.list_users(debug=True):\n",
    "    auth_manager.authenticate_athlete(user.athlete_id)\n",
    "    try:\n",
    "        response = frozen_update_training_week_new_week(user)\n",
    "        print(response)\n",
    "    except Exception as e:\n",
    "        print(e)"
   ]
  },
  {
   "cell_type": "markdown",
   "metadata": {},
   "source": [
    "# Mid Week Update Training Week with Side Effects"
   ]
  },
  {
   "cell_type": "code",
   "execution_count": null,
   "metadata": {},
   "outputs": [],
   "source": [
    "user = supabase_client.get_user(os.environ[\"JAMIES_ATHLETE_ID\"])\n",
    "auth_manager.authenticate_athlete(user.athlete_id)\n",
    "response = update_training_week(user, ExeType.MID_WEEK)\n",
    "print(response)"
   ]
  },
  {
   "cell_type": "code",
   "execution_count": null,
   "metadata": {},
   "outputs": [],
   "source": []
  }
 ],
 "metadata": {
  "kernelspec": {
   "display_name": ".venv",
   "language": "python",
   "name": "python3"
  },
  "language_info": {
   "codemirror_mode": {
    "name": "ipython",
    "version": 3
   },
   "file_extension": ".py",
   "mimetype": "text/x-python",
   "name": "python",
   "nbconvert_exporter": "python",
   "pygments_lexer": "ipython3",
   "version": "3.11.9"
  }
 },
 "nbformat": 4,
 "nbformat_minor": 2
}
