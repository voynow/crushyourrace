{
 "cells": [
  {
   "cell_type": "code",
   "execution_count": 1,
   "metadata": {},
   "outputs": [],
   "source": [
    "%load_ext autoreload\n",
    "%autoreload 2"
   ]
  },
  {
   "cell_type": "code",
   "execution_count": 2,
   "metadata": {},
   "outputs": [],
   "source": [
    "from src import supabase_client\n",
    "from src.update_pipeline import update_training_week\n",
    "from src.types.update_pipeline import ExeType\n",
    "from src import auth_manager\n",
    "from src.utils import datetime_now_est, get_last_sunday\n",
    "\n",
    "import os"
   ]
  },
  {
   "cell_type": "markdown",
   "metadata": {},
   "source": [
    "# New Week Update"
   ]
  },
  {
   "cell_type": "code",
   "execution_count": null,
   "metadata": {},
   "outputs": [],
   "source": [
    "user = supabase_client.get_user(os.environ[\"JAMIES_ATHLETE_ID\"])\n",
    "auth_manager.authenticate_athlete(user.athlete_id)\n",
    "update_training_week(user, ExeType.NEW_WEEK, dt=get_last_sunday())"
   ]
  },
  {
   "cell_type": "markdown",
   "metadata": {},
   "source": [
    "# Mid Week Update"
   ]
  },
  {
   "cell_type": "code",
   "execution_count": null,
   "metadata": {},
   "outputs": [],
   "source": [
    "user = supabase_client.get_user(os.environ[\"JAMIES_ATHLETE_ID\"])\n",
    "auth_manager.authenticate_athlete(user.athlete_id)\n",
    "update_training_week(user, ExeType.MID_WEEK, dt=datetime_now_est())"
   ]
  },
  {
   "cell_type": "code",
   "execution_count": null,
   "metadata": {},
   "outputs": [],
   "source": []
  },
  {
   "cell_type": "code",
   "execution_count": null,
   "metadata": {},
   "outputs": [],
   "source": []
  },
  {
   "cell_type": "markdown",
   "metadata": {},
   "source": [
    "# gen_training_plan"
   ]
  },
  {
   "cell_type": "code",
   "execution_count": 7,
   "metadata": {},
   "outputs": [],
   "source": [
    "import os\n",
    "from pprint import pprint\n",
    "\n",
    "from src.utils import datetime_now_est\n",
    "from src import supabase_client, activities, training_plan, auth_manager"
   ]
  },
  {
   "cell_type": "code",
   "execution_count": 9,
   "metadata": {},
   "outputs": [
    {
     "name": "stderr",
     "output_type": "stream",
     "text": [
      "No rates present in response headers\n"
     ]
    },
    {
     "name": "stdout",
     "output_type": "stream",
     "text": [
      "[TrainingPlanWeek(week_start_date=datetime.date(2025, 2, 3), week_number=1, n_weeks_until_race=9, week_type=<WeekType.BUILD: 'build'>, total_distance=32.0, long_run_distance=14.0, notes=\"This week marks the beginning of your training block as you prepare for the Ultra Marathon on April 13th. With a target volume of 32 miles and a 14-mile long run, this week will lay the foundation to gradually increase your mileage while maintaining a balance between intensity and recovery. By building a strong base, you'll progressively enhance your endurance and stamina, crucial for tackling the demanding distances of an ultra marathon.\"),\n",
      " TrainingPlanWeek(week_start_date=datetime.date(2025, 2, 10), week_number=2, n_weeks_until_race=8, week_type=<WeekType.BUILD: 'build'>, total_distance=35.0, long_run_distance=16.0, notes='This week is designed to gradually increase your running volume, preparing your body for the upcoming demands of ultra-marathon training. By building up to 35 miles and including a 16-mile long run, you will enhance your endurance and stamina. These incremental mileage gains are essential for improving your aerobic capacity and getting you ready to tackle the greater challenges ahead as the race approaches.'),\n",
      " TrainingPlanWeek(week_start_date=datetime.date(2025, 2, 17), week_number=3, n_weeks_until_race=7, week_type=<WeekType.BUILD: 'build'>, total_distance=38.0, long_run_distance=18.0, notes=\"This week will bolster your endurance as we continue to gradually increase your mileage, with a target volume of 38 miles and an 18-mile long run. Building up your mileage steadily at this stage is key to strengthening your aerobic base, which will prepare you for the more demanding phases of training. By focusing on consistent mileage now, you'll set yourself up for successful peak and taper phases leading up to the ultra marathon.\"),\n",
      " TrainingPlanWeek(week_start_date=datetime.date(2025, 2, 24), week_number=4, n_weeks_until_race=6, week_type=<WeekType.PEAK: 'peak'>, total_distance=44.0, long_run_distance=20.0, notes=\"This peak week aims to boost your endurance by stabilizing at a high volume of 44 miles, preparing your body for the demands of the Ultra Marathon. The 20-mile long run will enhance your stamina and mental toughness, ensuring you're comfortable with extended distances. This training aligns with your historic peak capabilities, ensuring you are primed for the race.\"),\n",
      " TrainingPlanWeek(week_start_date=datetime.date(2025, 3, 3), week_number=5, n_weeks_until_race=5, week_type=<WeekType.PEAK: 'peak'>, total_distance=50.0, long_run_distance=22.0, notes=\"This peak week is designed to push your endurance capacity by maintaining a higher mileage volume than previous weeks. With a total of 50 miles, including a 22-mile long run, you'll be building the stamina needed for the ultra marathon. This week of increased intensity plays a crucial role in ensuring you're well-prepared for the demands of the race, allowing your body to adapt to longer distances and higher stress, ultimately contributing to your goal of peak performance by race day on April 13th.\"),\n",
      " TrainingPlanWeek(week_start_date=datetime.date(2025, 3, 10), week_number=6, n_weeks_until_race=4, week_type=<WeekType.PEAK: 'peak'>, total_distance=52.0, long_run_distance=24.0, notes=\"This week marks a crucial part of your ultra marathon preparation as you push towards peak performance. With a total weekly volume of 52 miles and a long run of 24 miles, you're getting closer to race-distance endurance, helping your body adapt to the demands of an ultra. These longer distances will build the stamina you need while simulating race conditions. Stay focused and listen to your body to ensure you're optimizing your training without overextending.\"),\n",
      " TrainingPlanWeek(week_start_date=datetime.date(2025, 3, 17), week_number=7, n_weeks_until_race=3, week_type=<WeekType.TAPER: 'taper'>, total_distance=45.0, long_run_distance=20.0, notes=\"This week marks the beginning of your tapering phase, where you will gradually reduce your mileage to allow your body to recover and peak just in time for the ultra marathon. The focus will be on maintaining your fitness level while ensuring adequate rest. It's important to use this period to recharge physically and mentally, so you arrive at the start line feeling fresh and ready to achieve your race day goals.\"),\n",
      " TrainingPlanWeek(week_start_date=datetime.date(2025, 3, 24), week_number=8, n_weeks_until_race=2, week_type=<WeekType.TAPER: 'taper'>, total_distance=40.0, long_run_distance=16.0, notes='This taper week allows your body to recover from previous intense sessions while maintaining a reasonable volume to keep your fitness level sharp. With your goal of running an Ultra Marathon by April 13, this period of reduced mileage is crucial to start fresh and energized for the upcoming peak weeks. Focus on proper nutrition and rest to maximize the benefits of this phase.'),\n",
      " TrainingPlanWeek(week_start_date=datetime.date(2025, 3, 31), week_number=9, n_weeks_until_race=1, week_type=<WeekType.TAPER: 'taper'>, total_distance=35.0, long_run_distance=12.0, notes=\"As we enter week 9 of your training, we initiate a taper phase to allow your body to recover and prepare for the demands of the ultra marathon. This week features a decreased volume of 35 miles with a more manageable long run of 12 miles. Tapering helps reduce fatigue built up from previous high-volume weeks while maintaining fitness levels, ensuring that you're fresh and ready for race day.\"),\n",
      " TrainingPlanWeek(week_start_date=datetime.date(2025, 4, 7), week_number=10, n_weeks_until_race=0, week_type=<WeekType.RACE: 'race'>, total_distance=32.0, long_run_distance=50.0, notes='This is the week of your Ultra Marathon, so our focus is primarily on ensuring you are well-rested and ready to tackle the distance. The total volume is kept low at 32 miles, allowing you to conserve energy for race day. Remember, the goal is to utilize your training effectively and focus on pacing yourself for the long run. Best of luck, and enjoy the race!')]\n"
     ]
    }
   ],
   "source": [
    "user = supabase_client.get_user(os.environ[\"JAMIES_ATHLETE_ID\"])\n",
    "strava_client = auth_manager.get_strava_client(user.athlete_id)\n",
    "daily_activity = activities.get_daily_activity(strava_client, dt=datetime_now_est(), num_weeks=52)\n",
    "weekly_summaries = activities.get_weekly_summaries(daily_activity=daily_activity)\n",
    "resp = await training_plan.gen_training_plan(user, weekly_summaries, dt=datetime_now_est())\n",
    "\n",
    "pprint(resp.training_plan_weeks)"
   ]
  },
  {
   "cell_type": "code",
   "execution_count": null,
   "metadata": {},
   "outputs": [],
   "source": []
  },
  {
   "cell_type": "code",
   "execution_count": null,
   "metadata": {},
   "outputs": [],
   "source": []
  },
  {
   "cell_type": "markdown",
   "metadata": {},
   "source": [
    "# Observability"
   ]
  },
  {
   "cell_type": "code",
   "execution_count": 14,
   "metadata": {},
   "outputs": [
    {
     "data": {
      "text/html": [
       "<div><style>\n",
       ".dataframe > thead > tr,\n",
       ".dataframe > tbody > tr {\n",
       "  text-align: right;\n",
       "  white-space: pre-wrap;\n",
       "}\n",
       "</style>\n",
       "<small>shape: (16, 7)</small><table border=\"1\" class=\"dataframe\"><thead><tr><th>generation_name</th><th>response_id</th><th>model</th><th>completion_tokens</th><th>prompt_tokens</th><th>total_tokens</th><th>duration</th></tr><tr><td>str</td><td>str</td><td>str</td><td>i64</td><td>i64</td><td>i64</td><td>f64</td></tr></thead><tbody><tr><td>&quot;gen_training_plan&quot;</td><td>&quot;chatcmpl-AvrEKW37NeViX59mgcut0…</td><td>&quot;gpt-4o-2024-08-06&quot;</td><td>702</td><td>2144</td><td>2846</td><td>11.671468</td></tr><tr><td>&quot;gen_coaches_notes&quot;</td><td>&quot;chatcmpl-AvrEdWZf0CaQkYsEEEtY8…</td><td>&quot;gpt-4o-2024-08-06&quot;</td><td>38</td><td>842</td><td>880</td><td>1.387268</td></tr><tr><td>&quot;gen_coaches_notes&quot;</td><td>&quot;chatcmpl-AvrEdndqvE8lRTjCX0Si5…</td><td>&quot;gpt-4o-2024-08-06&quot;</td><td>63</td><td>842</td><td>905</td><td>4.322935</td></tr><tr><td>&quot;gen_coaches_notes&quot;</td><td>&quot;chatcmpl-AvrEd7yuPuzGjinWJDl4p…</td><td>&quot;gpt-4o-2024-08-06&quot;</td><td>66</td><td>834</td><td>900</td><td>1.382767</td></tr><tr><td>&quot;gen_coaches_notes&quot;</td><td>&quot;chatcmpl-AvrEdHuxZRTJzfyq4lynn…</td><td>&quot;gpt-4o-2024-08-06&quot;</td><td>69</td><td>842</td><td>911</td><td>4.054727</td></tr><tr><td>&hellip;</td><td>&hellip;</td><td>&hellip;</td><td>&hellip;</td><td>&hellip;</td><td>&hellip;</td><td>&hellip;</td></tr><tr><td>&quot;gen_coaches_notes&quot;</td><td>&quot;chatcmpl-AvrIbtNW1eMiVroZgP7w5…</td><td>&quot;gpt-4o-2024-08-06&quot;</td><td>56</td><td>834</td><td>890</td><td>1.109765</td></tr><tr><td>&quot;gen_coaches_notes&quot;</td><td>&quot;chatcmpl-AvrIbHwjDmeaPt6JL6hWw…</td><td>&quot;gpt-4o-2024-08-06&quot;</td><td>60</td><td>842</td><td>902</td><td>4.5356</td></tr><tr><td>&quot;gen_coaches_notes&quot;</td><td>&quot;chatcmpl-AvrIbb8eL8H8LrHbPZGEZ…</td><td>&quot;gpt-4o-2024-08-06&quot;</td><td>79</td><td>1235</td><td>1314</td><td>2.680341</td></tr><tr><td>&quot;gen_pseudo_training_week&quot;</td><td>&quot;chatcmpl-AvrIdHf68CGMmSfg667Lk…</td><td>&quot;gpt-4o-2024-08-06&quot;</td><td>30</td><td>2017</td><td>2047</td><td>1.185775</td></tr><tr><td>&quot;gen_training_week&quot;</td><td>&quot;chatcmpl-AvrIek8DbWSRAXlfoW0JB…</td><td>&quot;gpt-4o-2024-08-06&quot;</td><td>83</td><td>616</td><td>699</td><td>2.247692</td></tr></tbody></table></div>"
      ],
      "text/plain": [
       "shape: (16, 7)\n",
       "┌──────────────┬──────────────┬──────────────┬─────────────┬─────────────┬─────────────┬───────────┐\n",
       "│ generation_n ┆ response_id  ┆ model        ┆ completion_ ┆ prompt_toke ┆ total_token ┆ duration  │\n",
       "│ ame          ┆ ---          ┆ ---          ┆ tokens      ┆ ns          ┆ s           ┆ ---       │\n",
       "│ ---          ┆ str          ┆ str          ┆ ---         ┆ ---         ┆ ---         ┆ f64       │\n",
       "│ str          ┆              ┆              ┆ i64         ┆ i64         ┆ i64         ┆           │\n",
       "╞══════════════╪══════════════╪══════════════╪═════════════╪═════════════╪═════════════╪═══════════╡\n",
       "│ gen_training ┆ chatcmpl-Avr ┆ gpt-4o-2024- ┆ 702         ┆ 2144        ┆ 2846        ┆ 11.671468 │\n",
       "│ _plan        ┆ EKW37NeViX59 ┆ 08-06        ┆             ┆             ┆             ┆           │\n",
       "│              ┆ mgcut0…      ┆              ┆             ┆             ┆             ┆           │\n",
       "│ gen_coaches_ ┆ chatcmpl-Avr ┆ gpt-4o-2024- ┆ 38          ┆ 842         ┆ 880         ┆ 1.387268  │\n",
       "│ notes        ┆ EdWZf0CaQkYs ┆ 08-06        ┆             ┆             ┆             ┆           │\n",
       "│              ┆ EEEtY8…      ┆              ┆             ┆             ┆             ┆           │\n",
       "│ gen_coaches_ ┆ chatcmpl-Avr ┆ gpt-4o-2024- ┆ 63          ┆ 842         ┆ 905         ┆ 4.322935  │\n",
       "│ notes        ┆ EdndqvE8lRTj ┆ 08-06        ┆             ┆             ┆             ┆           │\n",
       "│              ┆ CX0Si5…      ┆              ┆             ┆             ┆             ┆           │\n",
       "│ gen_coaches_ ┆ chatcmpl-Avr ┆ gpt-4o-2024- ┆ 66          ┆ 834         ┆ 900         ┆ 1.382767  │\n",
       "│ notes        ┆ Ed7yuPuzGjin ┆ 08-06        ┆             ┆             ┆             ┆           │\n",
       "│              ┆ WJDl4p…      ┆              ┆             ┆             ┆             ┆           │\n",
       "│ gen_coaches_ ┆ chatcmpl-Avr ┆ gpt-4o-2024- ┆ 69          ┆ 842         ┆ 911         ┆ 4.054727  │\n",
       "│ notes        ┆ EdHuxZRTJzfy ┆ 08-06        ┆             ┆             ┆             ┆           │\n",
       "│              ┆ q4lynn…      ┆              ┆             ┆             ┆             ┆           │\n",
       "│ …            ┆ …            ┆ …            ┆ …           ┆ …           ┆ …           ┆ …         │\n",
       "│ gen_coaches_ ┆ chatcmpl-Avr ┆ gpt-4o-2024- ┆ 56          ┆ 834         ┆ 890         ┆ 1.109765  │\n",
       "│ notes        ┆ IbtNW1eMiVro ┆ 08-06        ┆             ┆             ┆             ┆           │\n",
       "│              ┆ ZgP7w5…      ┆              ┆             ┆             ┆             ┆           │\n",
       "│ gen_coaches_ ┆ chatcmpl-Avr ┆ gpt-4o-2024- ┆ 60          ┆ 842         ┆ 902         ┆ 4.5356    │\n",
       "│ notes        ┆ IbHwjDmeaPt6 ┆ 08-06        ┆             ┆             ┆             ┆           │\n",
       "│              ┆ JL6hWw…      ┆              ┆             ┆             ┆             ┆           │\n",
       "│ gen_coaches_ ┆ chatcmpl-Avr ┆ gpt-4o-2024- ┆ 79          ┆ 1235        ┆ 1314        ┆ 2.680341  │\n",
       "│ notes        ┆ Ibb8eL8H8LrH ┆ 08-06        ┆             ┆             ┆             ┆           │\n",
       "│              ┆ bPZGEZ…      ┆              ┆             ┆             ┆             ┆           │\n",
       "│ gen_pseudo_t ┆ chatcmpl-Avr ┆ gpt-4o-2024- ┆ 30          ┆ 2017        ┆ 2047        ┆ 1.185775  │\n",
       "│ raining_week ┆ IdHf68CGMmSf ┆ 08-06        ┆             ┆             ┆             ┆           │\n",
       "│              ┆ g667Lk…      ┆              ┆             ┆             ┆             ┆           │\n",
       "│ gen_training ┆ chatcmpl-Avr ┆ gpt-4o-2024- ┆ 83          ┆ 616         ┆ 699         ┆ 2.247692  │\n",
       "│ _week        ┆ Iek8DbWSRAXl ┆ 08-06        ┆             ┆             ┆             ┆           │\n",
       "│              ┆ foW0JB…      ┆              ┆             ┆             ┆             ┆           │\n",
       "└──────────────┴──────────────┴──────────────┴─────────────┴─────────────┴─────────────┴───────────┘"
      ]
     },
     "execution_count": 14,
     "metadata": {},
     "output_type": "execute_result"
    }
   ],
   "source": [
    "import json\n",
    "import polars as pl\n",
    "\n",
    "with open(\"observe.jsonl\", \"r\") as file:\n",
    "    data = [json.loads(line) for line in file]\n",
    "\n",
    "df = pl.DataFrame(data).drop([pl.col(\"messages\"), pl.col(\"content\")])\n",
    "\n",
    "df"
   ]
  },
  {
   "cell_type": "code",
   "execution_count": 15,
   "metadata": {},
   "outputs": [
    {
     "data": {
      "text/html": [
       "<div><style>\n",
       ".dataframe > thead > tr,\n",
       ".dataframe > tbody > tr {\n",
       "  text-align: right;\n",
       "  white-space: pre-wrap;\n",
       "}\n",
       "</style>\n",
       "<small>shape: (4, 2)</small><table border=\"1\" class=\"dataframe\"><thead><tr><th>generation_name</th><th>duration</th></tr><tr><td>str</td><td>f64</td></tr></thead><tbody><tr><td>&quot;gen_pseudo_training_week&quot;</td><td>1.77377</td></tr><tr><td>&quot;gen_training_plan&quot;</td><td>11.659811</td></tr><tr><td>&quot;gen_coaches_notes&quot;</td><td>2.847257</td></tr><tr><td>&quot;gen_training_week&quot;</td><td>3.088549</td></tr></tbody></table></div>"
      ],
      "text/plain": [
       "shape: (4, 2)\n",
       "┌──────────────────────────┬───────────┐\n",
       "│ generation_name          ┆ duration  │\n",
       "│ ---                      ┆ ---       │\n",
       "│ str                      ┆ f64       │\n",
       "╞══════════════════════════╪═══════════╡\n",
       "│ gen_pseudo_training_week ┆ 1.77377   │\n",
       "│ gen_training_plan        ┆ 11.659811 │\n",
       "│ gen_coaches_notes        ┆ 2.847257  │\n",
       "│ gen_training_week        ┆ 3.088549  │\n",
       "└──────────────────────────┴───────────┘"
      ]
     },
     "execution_count": 15,
     "metadata": {},
     "output_type": "execute_result"
    }
   ],
   "source": [
    "df.group_by(pl.col(\"generation_name\")).agg(pl.col('duration').mean())"
   ]
  },
  {
   "cell_type": "code",
   "execution_count": 13,
   "metadata": {},
   "outputs": [
    {
     "data": {
      "text/html": [
       "<div><style>\n",
       ".dataframe > thead > tr,\n",
       ".dataframe > tbody > tr {\n",
       "  text-align: right;\n",
       "  white-space: pre-wrap;\n",
       "}\n",
       "</style>\n",
       "<small>shape: (1, 1)</small><table border=\"1\" class=\"dataframe\"><thead><tr><th>duration</th></tr><tr><td>f64</td></tr></thead><tbody><tr><td>32.532163</td></tr></tbody></table></div>"
      ],
      "text/plain": [
       "shape: (1, 1)\n",
       "┌───────────┐\n",
       "│ duration  │\n",
       "│ ---       │\n",
       "│ f64       │\n",
       "╞═══════════╡\n",
       "│ 32.532163 │\n",
       "└───────────┘"
      ]
     },
     "execution_count": 13,
     "metadata": {},
     "output_type": "execute_result"
    }
   ],
   "source": [
    "df.sum().select(pl.col(\"duration\"))"
   ]
  },
  {
   "cell_type": "code",
   "execution_count": null,
   "metadata": {},
   "outputs": [],
   "source": []
  }
 ],
 "metadata": {
  "kernelspec": {
   "display_name": ".venv",
   "language": "python",
   "name": "python3"
  },
  "language_info": {
   "codemirror_mode": {
    "name": "ipython",
    "version": 3
   },
   "file_extension": ".py",
   "mimetype": "text/x-python",
   "name": "python",
   "nbconvert_exporter": "python",
   "pygments_lexer": "ipython3",
   "version": "3.11.9"
  }
 },
 "nbformat": 4,
 "nbformat_minor": 2
}
