{
 "cells": [
  {
   "cell_type": "code",
   "execution_count": 2,
   "metadata": {},
   "outputs": [],
   "source": [
    "%load_ext autoreload\n",
    "%autoreload 2"
   ]
  },
  {
   "cell_type": "code",
   "execution_count": 3,
   "metadata": {},
   "outputs": [],
   "source": [
    "from src import supabase_client\n",
    "from src.update_pipeline import update_training_week\n",
    "from src.types.update_pipeline import ExeType\n",
    "from src import auth_manager\n",
    "from src.utils import datetime_now_est, get_last_sunday\n",
    "\n",
    "import os"
   ]
  },
  {
   "cell_type": "markdown",
   "metadata": {},
   "source": [
    "# New Week Update"
   ]
  },
  {
   "cell_type": "code",
   "execution_count": null,
   "metadata": {},
   "outputs": [],
   "source": [
    "user = supabase_client.get_user(os.environ[\"JAMIES_ATHLETE_ID\"])\n",
    "auth_manager.authenticate_athlete(user.athlete_id)\n",
    "update_training_week(user, ExeType.NEW_WEEK, dt=get_last_sunday())"
   ]
  },
  {
   "cell_type": "markdown",
   "metadata": {},
   "source": [
    "# Mid Week Update"
   ]
  },
  {
   "cell_type": "code",
   "execution_count": null,
   "metadata": {},
   "outputs": [],
   "source": [
    "user = supabase_client.get_user(os.environ[\"JAMIES_ATHLETE_ID\"])\n",
    "auth_manager.authenticate_athlete(user.athlete_id)\n",
    "update_training_week(user, ExeType.MID_WEEK, dt=datetime_now_est())"
   ]
  },
  {
   "cell_type": "code",
   "execution_count": null,
   "metadata": {},
   "outputs": [],
   "source": []
  },
  {
   "cell_type": "code",
   "execution_count": null,
   "metadata": {},
   "outputs": [],
   "source": []
  },
  {
   "cell_type": "markdown",
   "metadata": {},
   "source": [
    "# Observability"
   ]
  },
  {
   "cell_type": "code",
   "execution_count": 46,
   "metadata": {},
   "outputs": [
    {
     "data": {
      "text/html": [
       "<div><style>\n",
       ".dataframe > thead > tr,\n",
       ".dataframe > tbody > tr {\n",
       "  text-align: right;\n",
       "  white-space: pre-wrap;\n",
       "}\n",
       "</style>\n",
       "<small>shape: (10, 7)</small><table border=\"1\" class=\"dataframe\"><thead><tr><th>generation_name</th><th>response_id</th><th>model</th><th>completion_tokens</th><th>prompt_tokens</th><th>total_tokens</th><th>duration</th></tr><tr><td>str</td><td>str</td><td>str</td><td>i64</td><td>i64</td><td>i64</td><td>f64</td></tr></thead><tbody><tr><td>&quot;gen_training_plan&quot;</td><td>&quot;chatcmpl-AvlCubPhBitv7XlKFYcBy…</td><td>&quot;gpt-4o-2024-08-06&quot;</td><td>406</td><td>1873</td><td>2279</td><td>6.468169</td></tr><tr><td>&quot;gen_pseudo_training_week&quot;</td><td>&quot;chatcmpl-AvlD1KHJLVUwRoJHfBJrY…</td><td>&quot;gpt-4o-2024-08-06&quot;</td><td>173</td><td>1511</td><td>1684</td><td>2.699094</td></tr><tr><td>&quot;gen_training_week&quot;</td><td>&quot;chatcmpl-AvlD4KdK1DhUFrQ2xEuj3…</td><td>&quot;gpt-4o-2024-08-06&quot;</td><td>469</td><td>646</td><td>1115</td><td>9.93137</td></tr><tr><td>&quot;gen_coaches_notes&quot;</td><td>&quot;chatcmpl-AvlDGYa0R46ZWc2i1uJiQ…</td><td>&quot;gpt-4o-2024-08-06&quot;</td><td>62</td><td>746</td><td>808</td><td>1.481853</td></tr><tr><td>&quot;gen_coaches_notes&quot;</td><td>&quot;chatcmpl-AvlDKckpToNmWYH2RgO2Y…</td><td>&quot;gpt-4o-2024-08-06&quot;</td><td>75</td><td>746</td><td>821</td><td>4.355371</td></tr><tr><td>&quot;gen_coaches_notes&quot;</td><td>&quot;chatcmpl-AvlDQGWr6QcqnIpB5Mapf…</td><td>&quot;gpt-4o-2024-08-06&quot;</td><td>95</td><td>749</td><td>844</td><td>2.149302</td></tr><tr><td>&quot;gen_coaches_notes&quot;</td><td>&quot;chatcmpl-AvlDSouxCZWCeIPj0e2zR…</td><td>&quot;gpt-4o-2024-08-06&quot;</td><td>53</td><td>754</td><td>807</td><td>1.328598</td></tr><tr><td>&quot;gen_coaches_notes&quot;</td><td>&quot;chatcmpl-AvlDUkBtFZ3hxQOZvRCfk…</td><td>&quot;gpt-4o-2024-08-06&quot;</td><td>68</td><td>754</td><td>822</td><td>2.195456</td></tr><tr><td>&quot;gen_pseudo_training_week&quot;</td><td>&quot;chatcmpl-AvlDWlBYa052zxVav3fpA…</td><td>&quot;gpt-4o-2024-08-06&quot;</td><td>56</td><td>1524</td><td>1580</td><td>1.228327</td></tr><tr><td>&quot;gen_training_week&quot;</td><td>&quot;chatcmpl-AvlDYj6prEz9gAvwhYuWY…</td><td>&quot;gpt-4o-2024-08-06&quot;</td><td>144</td><td>542</td><td>686</td><td>2.967887</td></tr></tbody></table></div>"
      ],
      "text/plain": [
       "shape: (10, 7)\n",
       "┌──────────────┬──────────────┬──────────────┬──────────────┬─────────────┬─────────────┬──────────┐\n",
       "│ generation_n ┆ response_id  ┆ model        ┆ completion_t ┆ prompt_toke ┆ total_token ┆ duration │\n",
       "│ ame          ┆ ---          ┆ ---          ┆ okens        ┆ ns          ┆ s           ┆ ---      │\n",
       "│ ---          ┆ str          ┆ str          ┆ ---          ┆ ---         ┆ ---         ┆ f64      │\n",
       "│ str          ┆              ┆              ┆ i64          ┆ i64         ┆ i64         ┆          │\n",
       "╞══════════════╪══════════════╪══════════════╪══════════════╪═════════════╪═════════════╪══════════╡\n",
       "│ gen_training ┆ chatcmpl-Avl ┆ gpt-4o-2024- ┆ 406          ┆ 1873        ┆ 2279        ┆ 6.468169 │\n",
       "│ _plan        ┆ CubPhBitv7Xl ┆ 08-06        ┆              ┆             ┆             ┆          │\n",
       "│              ┆ KFYcBy…      ┆              ┆              ┆             ┆             ┆          │\n",
       "│ gen_pseudo_t ┆ chatcmpl-Avl ┆ gpt-4o-2024- ┆ 173          ┆ 1511        ┆ 1684        ┆ 2.699094 │\n",
       "│ raining_week ┆ D1KHJLVUwRoJ ┆ 08-06        ┆              ┆             ┆             ┆          │\n",
       "│              ┆ HfBJrY…      ┆              ┆              ┆             ┆             ┆          │\n",
       "│ gen_training ┆ chatcmpl-Avl ┆ gpt-4o-2024- ┆ 469          ┆ 646         ┆ 1115        ┆ 9.93137  │\n",
       "│ _week        ┆ D4KdK1DhUFrQ ┆ 08-06        ┆              ┆             ┆             ┆          │\n",
       "│              ┆ 2xEuj3…      ┆              ┆              ┆             ┆             ┆          │\n",
       "│ gen_coaches_ ┆ chatcmpl-Avl ┆ gpt-4o-2024- ┆ 62           ┆ 746         ┆ 808         ┆ 1.481853 │\n",
       "│ notes        ┆ DGYa0R46ZWc2 ┆ 08-06        ┆              ┆             ┆             ┆          │\n",
       "│              ┆ i1uJiQ…      ┆              ┆              ┆             ┆             ┆          │\n",
       "│ gen_coaches_ ┆ chatcmpl-Avl ┆ gpt-4o-2024- ┆ 75           ┆ 746         ┆ 821         ┆ 4.355371 │\n",
       "│ notes        ┆ DKckpToNmWYH ┆ 08-06        ┆              ┆             ┆             ┆          │\n",
       "│              ┆ 2RgO2Y…      ┆              ┆              ┆             ┆             ┆          │\n",
       "│ gen_coaches_ ┆ chatcmpl-Avl ┆ gpt-4o-2024- ┆ 95           ┆ 749         ┆ 844         ┆ 2.149302 │\n",
       "│ notes        ┆ DQGWr6QcqnIp ┆ 08-06        ┆              ┆             ┆             ┆          │\n",
       "│              ┆ B5Mapf…      ┆              ┆              ┆             ┆             ┆          │\n",
       "│ gen_coaches_ ┆ chatcmpl-Avl ┆ gpt-4o-2024- ┆ 53           ┆ 754         ┆ 807         ┆ 1.328598 │\n",
       "│ notes        ┆ DSouxCZWCeIP ┆ 08-06        ┆              ┆             ┆             ┆          │\n",
       "│              ┆ j0e2zR…      ┆              ┆              ┆             ┆             ┆          │\n",
       "│ gen_coaches_ ┆ chatcmpl-Avl ┆ gpt-4o-2024- ┆ 68           ┆ 754         ┆ 822         ┆ 2.195456 │\n",
       "│ notes        ┆ DUkBtFZ3hxQO ┆ 08-06        ┆              ┆             ┆             ┆          │\n",
       "│              ┆ ZvRCfk…      ┆              ┆              ┆             ┆             ┆          │\n",
       "│ gen_pseudo_t ┆ chatcmpl-Avl ┆ gpt-4o-2024- ┆ 56           ┆ 1524        ┆ 1580        ┆ 1.228327 │\n",
       "│ raining_week ┆ DWlBYa052zxV ┆ 08-06        ┆              ┆             ┆             ┆          │\n",
       "│              ┆ av3fpA…      ┆              ┆              ┆             ┆             ┆          │\n",
       "│ gen_training ┆ chatcmpl-Avl ┆ gpt-4o-2024- ┆ 144          ┆ 542         ┆ 686         ┆ 2.967887 │\n",
       "│ _week        ┆ DYj6prEz9gAv ┆ 08-06        ┆              ┆             ┆             ┆          │\n",
       "│              ┆ whYuWY…      ┆              ┆              ┆             ┆             ┆          │\n",
       "└──────────────┴──────────────┴──────────────┴──────────────┴─────────────┴─────────────┴──────────┘"
      ]
     },
     "execution_count": 46,
     "metadata": {},
     "output_type": "execute_result"
    }
   ],
   "source": [
    "import json\n",
    "import polars as pl\n",
    "\n",
    "with open(\"observe.jsonl\", \"r\") as file:\n",
    "    data = [json.loads(line) for line in file]\n",
    "\n",
    "df = pl.DataFrame(data).drop([pl.col(\"messages\"), pl.col(\"content\")])\n",
    "\n",
    "df"
   ]
  },
  {
   "cell_type": "code",
   "execution_count": 47,
   "metadata": {},
   "outputs": [
    {
     "data": {
      "text/html": [
       "<div><style>\n",
       ".dataframe > thead > tr,\n",
       ".dataframe > tbody > tr {\n",
       "  text-align: right;\n",
       "  white-space: pre-wrap;\n",
       "}\n",
       "</style>\n",
       "<small>shape: (4, 2)</small><table border=\"1\" class=\"dataframe\"><thead><tr><th>generation_name</th><th>duration</th></tr><tr><td>str</td><td>f64</td></tr></thead><tbody><tr><td>&quot;gen_pseudo_training_week&quot;</td><td>3.927421</td></tr><tr><td>&quot;gen_training_plan&quot;</td><td>6.468169</td></tr><tr><td>&quot;gen_coaches_notes&quot;</td><td>11.51058</td></tr><tr><td>&quot;gen_training_week&quot;</td><td>12.899257</td></tr></tbody></table></div>"
      ],
      "text/plain": [
       "shape: (4, 2)\n",
       "┌──────────────────────────┬───────────┐\n",
       "│ generation_name          ┆ duration  │\n",
       "│ ---                      ┆ ---       │\n",
       "│ str                      ┆ f64       │\n",
       "╞══════════════════════════╪═══════════╡\n",
       "│ gen_pseudo_training_week ┆ 3.927421  │\n",
       "│ gen_training_plan        ┆ 6.468169  │\n",
       "│ gen_coaches_notes        ┆ 11.51058  │\n",
       "│ gen_training_week        ┆ 12.899257 │\n",
       "└──────────────────────────┴───────────┘"
      ]
     },
     "execution_count": 47,
     "metadata": {},
     "output_type": "execute_result"
    }
   ],
   "source": [
    "df.group_by(pl.col(\"generation_name\")).agg(pl.col('duration').sum())"
   ]
  },
  {
   "cell_type": "code",
   "execution_count": 48,
   "metadata": {},
   "outputs": [
    {
     "data": {
      "text/html": [
       "<div><style>\n",
       ".dataframe > thead > tr,\n",
       ".dataframe > tbody > tr {\n",
       "  text-align: right;\n",
       "  white-space: pre-wrap;\n",
       "}\n",
       "</style>\n",
       "<small>shape: (1, 1)</small><table border=\"1\" class=\"dataframe\"><thead><tr><th>duration</th></tr><tr><td>f64</td></tr></thead><tbody><tr><td>34.805427</td></tr></tbody></table></div>"
      ],
      "text/plain": [
       "shape: (1, 1)\n",
       "┌───────────┐\n",
       "│ duration  │\n",
       "│ ---       │\n",
       "│ f64       │\n",
       "╞═══════════╡\n",
       "│ 34.805427 │\n",
       "└───────────┘"
      ]
     },
     "execution_count": 48,
     "metadata": {},
     "output_type": "execute_result"
    }
   ],
   "source": [
    "df.sum().select(pl.col(\"duration\"))"
   ]
  },
  {
   "cell_type": "code",
   "execution_count": null,
   "metadata": {},
   "outputs": [],
   "source": []
  }
 ],
 "metadata": {
  "kernelspec": {
   "display_name": ".venv",
   "language": "python",
   "name": "python3"
  },
  "language_info": {
   "codemirror_mode": {
    "name": "ipython",
    "version": 3
   },
   "file_extension": ".py",
   "mimetype": "text/x-python",
   "name": "python",
   "nbconvert_exporter": "python",
   "pygments_lexer": "ipython3",
   "version": "3.11.9"
  }
 },
 "nbformat": 4,
 "nbformat_minor": 2
}
