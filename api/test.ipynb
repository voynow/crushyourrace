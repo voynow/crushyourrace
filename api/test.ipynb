{
 "cells": [
  {
   "cell_type": "code",
   "execution_count": 1,
   "metadata": {},
   "outputs": [],
   "source": [
    "%load_ext autoreload\n",
    "%autoreload 2"
   ]
  },
  {
   "cell_type": "code",
   "execution_count": 2,
   "metadata": {},
   "outputs": [],
   "source": [
    "from src import supabase_client\n",
    "from src.update_pipeline import update_training_week, _update_training_week\n",
    "from src.types.update_pipeline import ExeType\n",
    "from src.utils import get_last_sunday\n",
    "from src import auth_manager\n",
    "from src.activities import get_weekly_summaries, get_daily_activity\n",
    "from src.auth_manager import get_strava_client\n",
    "from src.llm import get_completion_json\n",
    "from src.constants import COACH_ROLE\n",
    "from src.utils import datetime_now_est\n",
    "\n",
    "from enum import StrEnum\n",
    "from freezegun import freeze_time\n",
    "import os\n",
    "import numpy as np\n",
    "from pydantic import BaseModel, Field\n",
    "from datetime import timedelta\n",
    "import matplotlib.pyplot as plt\n",
    "\n",
    "plt.style.use(\"seaborn-v0_8\")"
   ]
  },
  {
   "cell_type": "markdown",
   "metadata": {},
   "source": [
    "# Update Jamie's Training Plan"
   ]
  },
  {
   "cell_type": "code",
   "execution_count": null,
   "metadata": {},
   "outputs": [],
   "source": [
    "user = supabase_client.get_user(os.environ[\"JAMIES_ATHLETE_ID\"])\n",
    "assert user.preferences.race_date is not None\n",
    "assert user.preferences.race_distance is not None\n",
    "\n",
    "@freeze_time(f\"{get_last_sunday()} 18:00:00\")\n",
    "def frozen_update_training_week_new_week():\n",
    "    return _update_training_week(user, ExeType.NEW_WEEK)\n",
    "\n",
    "response = frozen_update_training_week_new_week()"
   ]
  },
  {
   "cell_type": "markdown",
   "metadata": {},
   "source": [
    "# New Week Update Training Week with Side Effects"
   ]
  },
  {
   "cell_type": "code",
   "execution_count": null,
   "metadata": {},
   "outputs": [],
   "source": [
    "@freeze_time(f\"{get_last_sunday()} 18:00:00\")\n",
    "def frozen_update_training_week_new_week(user):\n",
    "    return update_training_week(user, ExeType.NEW_WEEK)\n",
    "\n",
    "for user in supabase_client.list_users(debug=True):\n",
    "    auth_manager.authenticate_athlete(user.athlete_id)\n",
    "    try:\n",
    "        response = frozen_update_training_week_new_week(user)\n",
    "        print(response)\n",
    "    except Exception as e:\n",
    "        print(e)"
   ]
  },
  {
   "cell_type": "markdown",
   "metadata": {},
   "source": [
    "# Mid Week Update Training Week with Side Effects"
   ]
  },
  {
   "cell_type": "code",
   "execution_count": null,
   "metadata": {},
   "outputs": [],
   "source": [
    "user = supabase_client.get_user(os.environ[\"JAMIES_ATHLETE_ID\"])\n",
    "auth_manager.authenticate_athlete(user.athlete_id)\n",
    "response = update_training_week(user, ExeType.MID_WEEK)\n",
    "print(response)"
   ]
  },
  {
   "cell_type": "code",
   "execution_count": null,
   "metadata": {},
   "outputs": [],
   "source": []
  }
 ],
 "metadata": {
  "kernelspec": {
   "display_name": ".venv",
   "language": "python",
   "name": "python3"
  },
  "language_info": {
   "codemirror_mode": {
    "name": "ipython",
    "version": 3
   },
   "file_extension": ".py",
   "mimetype": "text/x-python",
   "name": "python",
   "nbconvert_exporter": "python",
   "pygments_lexer": "ipython3",
   "version": "3.11.9"
  }
 },
 "nbformat": 4,
 "nbformat_minor": 2
}
