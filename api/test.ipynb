{
 "cells": [
  {
   "cell_type": "code",
   "execution_count": 1,
   "metadata": {},
   "outputs": [],
   "source": [
    "%load_ext autoreload\n",
    "%autoreload 2"
   ]
  },
  {
   "cell_type": "code",
   "execution_count": 2,
   "metadata": {},
   "outputs": [],
   "source": [
    "from src import supabase_client\n",
    "from src.update_pipeline import update_training_week\n",
    "from src.types.update_pipeline import ExeType\n",
    "from src.utils import get_last_sunday\n",
    "from src import auth_manager\n",
    "\n",
    "from freezegun import freeze_time\n",
    "import os\n",
    "from datetime import timedelta"
   ]
  },
  {
   "cell_type": "code",
   "execution_count": null,
   "metadata": {},
   "outputs": [],
   "source": [
    "@freeze_time(f\"{get_last_sunday()} 18:00:00\")\n",
    "def frozen_update_training_week_new_week(user):\n",
    "    return update_training_week(user, ExeType.NEW_WEEK)\n",
    "\n",
    "for user in supabase_client.list_users(debug=True):\n",
    "    auth_manager.authenticate_athlete(user.athlete_id)\n",
    "    try:\n",
    "        response = frozen_update_training_week_new_week(user)\n",
    "        print(response)\n",
    "    except Exception as e:\n",
    "        print(e)"
   ]
  },
  {
   "cell_type": "code",
   "execution_count": null,
   "metadata": {},
   "outputs": [],
   "source": [
    "user = supabase_client.get_user(os.environ[\"JAMIES_ATHLETE_ID\"])\n",
    "auth_manager.authenticate_athlete(user.athlete_id)\n",
    "response = update_training_week(user, ExeType.MID_WEEK)\n",
    "print(response)"
   ]
  },
  {
   "cell_type": "code",
   "execution_count": null,
   "metadata": {},
   "outputs": [],
   "source": []
  }
 ],
 "metadata": {
  "kernelspec": {
   "display_name": ".venv",
   "language": "python",
   "name": "python3"
  },
  "language_info": {
   "codemirror_mode": {
    "name": "ipython",
    "version": 3
   },
   "file_extension": ".py",
   "mimetype": "text/x-python",
   "name": "python",
   "nbconvert_exporter": "python",
   "pygments_lexer": "ipython3",
   "version": "3.11.9"
  }
 },
 "nbformat": 4,
 "nbformat_minor": 2
}
