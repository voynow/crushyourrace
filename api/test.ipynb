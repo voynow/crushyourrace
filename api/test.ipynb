{
 "cells": [
  {
   "cell_type": "code",
   "execution_count": 1,
   "metadata": {},
   "outputs": [],
   "source": [
    "%load_ext autoreload\n",
    "%autoreload 2"
   ]
  },
  {
   "cell_type": "code",
   "execution_count": 2,
   "metadata": {},
   "outputs": [],
   "source": [
    "from src import supabase_client\n",
    "from src.update_pipeline import update_training_week, _update_training_week\n",
    "from src.types.update_pipeline import ExeType\n",
    "from src import auth_manager\n",
    "from src.utils import datetime_now_est, get_last_sunday\n",
    "\n",
    "import os\n",
    "import matplotlib.pyplot as plt\n",
    "\n",
    "plt.style.use(\"seaborn-v0_8\")"
   ]
  },
  {
   "cell_type": "markdown",
   "metadata": {},
   "source": [
    "# New Week Update"
   ]
  },
  {
   "cell_type": "code",
   "execution_count": null,
   "metadata": {},
   "outputs": [],
   "source": [
    "user = supabase_client.get_user(os.environ[\"JAMIES_ATHLETE_ID\"])\n",
    "assert user.preferences.race_date is not None\n",
    "assert user.preferences.race_distance is not None\n",
    "\n",
    "_update_training_week(user, ExeType.NEW_WEEK, dt=get_last_sunday())"
   ]
  },
  {
   "cell_type": "markdown",
   "metadata": {},
   "source": [
    "# Mid Week Update"
   ]
  },
  {
   "cell_type": "code",
   "execution_count": null,
   "metadata": {},
   "outputs": [],
   "source": [
    "user = supabase_client.get_user(os.environ[\"JAMIES_ATHLETE_ID\"])\n",
    "auth_manager.authenticate_athlete(user.athlete_id)\n",
    "response = update_training_week(user, ExeType.MID_WEEK, dt=datetime_now_est())"
   ]
  }
 ],
 "metadata": {
  "kernelspec": {
   "display_name": ".venv",
   "language": "python",
   "name": "python3"
  },
  "language_info": {
   "codemirror_mode": {
    "name": "ipython",
    "version": 3
   },
   "file_extension": ".py",
   "mimetype": "text/x-python",
   "name": "python",
   "nbconvert_exporter": "python",
   "pygments_lexer": "ipython3",
   "version": "3.11.9"
  }
 },
 "nbformat": 4,
 "nbformat_minor": 2
}
